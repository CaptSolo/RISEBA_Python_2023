{
 "cells": [
  {
   "cell_type": "markdown",
   "metadata": {
    "id": "oXukXEtEyk6m"
   },
   "source": [
    "# <center>Python Introduction with some detours (2)</center>\n",
    "![Python](https://www.python.org/static/community_logos/python-logo-generic.svg)"
   ]
  },
  {
   "cell_type": "code",
   "execution_count": null,
   "metadata": {},
   "outputs": [],
   "source": [
    "v = 42.3"
   ]
  },
  {
   "cell_type": "code",
   "execution_count": null,
   "metadata": {},
   "outputs": [],
   "source": [
    "str(v)"
   ]
  },
  {
   "cell_type": "code",
   "execution_count": null,
   "metadata": {},
   "outputs": [],
   "source": [
    "'I have eaten ' + str(99) + ' burritos.'"
   ]
  },
  {
   "cell_type": "code",
   "execution_count": null,
   "metadata": {},
   "outputs": [],
   "source": [
    "x = 99"
   ]
  },
  {
   "cell_type": "code",
   "execution_count": null,
   "metadata": {},
   "outputs": [],
   "source": [
    "f'I have eaten {x} burritos.'"
   ]
  },
  {
   "cell_type": "code",
   "execution_count": null,
   "metadata": {},
   "outputs": [],
   "source": [
    "f'I have eaten {x+1} burritos.'"
   ]
  },
  {
   "cell_type": "code",
   "execution_count": null,
   "metadata": {},
   "outputs": [],
   "source": [
    "spam = 10\n",
    "\n",
    "if spam <= 10:\n",
    "    \n",
    "    print('eggs')\n",
    "    \n",
    "    if spam > 5:\n",
    "        print('bacon')\n",
    "    else:\n",
    "        print('ham')\n",
    "    \n",
    "    print('spam')\n",
    "    \n",
    "print('more spam')"
   ]
  },
  {
   "cell_type": "markdown",
   "metadata": {
    "id": "zMrBVe2FBeuB"
   },
   "source": [
    "## String Methods <a class=\"anchor\" id=\"string-methods\">\n"
   ]
  },
  {
   "cell_type": "code",
   "execution_count": null,
   "metadata": {},
   "outputs": [],
   "source": [
    "name = \"uldis\"\n",
    "last_name = \"bojārs\"\n",
    "full_name = name + \" \" + last_name"
   ]
  },
  {
   "cell_type": "code",
   "execution_count": null,
   "metadata": {},
   "outputs": [],
   "source": [
    "print(full_name)"
   ]
  },
  {
   "cell_type": "code",
   "execution_count": null,
   "metadata": {},
   "outputs": [],
   "source": [
    "help(str)"
   ]
  },
  {
   "cell_type": "code",
   "execution_count": null,
   "metadata": {
    "colab": {
     "base_uri": "https://localhost:8080/",
     "height": 35
    },
    "id": "jBgJH-wjBjkE",
    "outputId": "fb11b4f5-bf3f-4700-a038-1fb41e91079b"
   },
   "outputs": [],
   "source": [
    "name"
   ]
  },
  {
   "cell_type": "code",
   "execution_count": null,
   "metadata": {
    "colab": {
     "base_uri": "https://localhost:8080/",
     "height": 35
    },
    "id": "lsmV20tGB7eq",
    "outputId": "0e6b014e-3341-442a-87fc-b1c85136f6c7"
   },
   "outputs": [],
   "source": [
    "name.capitalize()"
   ]
  },
  {
   "cell_type": "code",
   "execution_count": null,
   "metadata": {
    "colab": {
     "base_uri": "https://localhost:8080/",
     "height": 35
    },
    "id": "dXdFK-7MCGvq",
    "outputId": "45f1eb55-2a7a-406a-9275-46d806270350"
   },
   "outputs": [],
   "source": [
    "some_string = \"aBBa\"\n",
    "some_string"
   ]
  },
  {
   "cell_type": "code",
   "execution_count": null,
   "metadata": {
    "colab": {
     "base_uri": "https://localhost:8080/",
     "height": 35
    },
    "id": "WgluZQdZCLse",
    "outputId": "bc28719e-2943-440d-a2e7-88cfaf17c098"
   },
   "outputs": [],
   "source": [
    "some_string.capitalize()"
   ]
  },
  {
   "cell_type": "code",
   "execution_count": null,
   "metadata": {
    "colab": {
     "base_uri": "https://localhost:8080/"
    },
    "id": "E1D7PZtRCWEW",
    "outputId": "b472bbd9-035e-4947-9494-c60fb30e33d3"
   },
   "outputs": [],
   "source": [
    "some_string.count(\"B\")"
   ]
  },
  {
   "cell_type": "code",
   "execution_count": null,
   "metadata": {
    "colab": {
     "base_uri": "https://localhost:8080/"
    },
    "id": "9ONwV1ESCpoM",
    "outputId": "3323d8c4-f080-450d-b323-afca04cc39ca"
   },
   "outputs": [],
   "source": [
    "help(str.count)"
   ]
  },
  {
   "cell_type": "code",
   "execution_count": null,
   "metadata": {
    "colab": {
     "base_uri": "https://localhost:8080/"
    },
    "id": "exvpiGcyCx-G",
    "outputId": "af8f3cfd-610a-4b0f-d77d-d2337443c7f1"
   },
   "outputs": [],
   "source": [
    "\"BBBB\".count(\"BB\") # so count method will not consider overlaps - "
   ]
  },
  {
   "cell_type": "code",
   "execution_count": null,
   "metadata": {
    "colab": {
     "base_uri": "https://localhost:8080/"
    },
    "id": "GhiSjX6BCdrE",
    "outputId": "e847e4d1-0c36-4c89-90b6-5bc5b9d39ff2"
   },
   "outputs": [],
   "source": [
    "some_string.endswith(\"Ba\")"
   ]
  },
  {
   "cell_type": "code",
   "execution_count": null,
   "metadata": {},
   "outputs": [],
   "source": [
    "if some_string.endswith(\"Ba\"):\n",
    "    print(\"This string ends with 'Ba'\")"
   ]
  },
  {
   "cell_type": "code",
   "execution_count": null,
   "metadata": {},
   "outputs": [],
   "source": [
    "if some_string.startswith(\"aB\"):\n",
    "    print(\"This string starts with 'aB'\")"
   ]
  },
  {
   "cell_type": "code",
   "execution_count": null,
   "metadata": {
    "colab": {
     "base_uri": "https://localhost:8080/"
    },
    "id": "llQhTEw0DGLn",
    "outputId": "2bd1855b-c69b-45da-fc0a-204babf452b3"
   },
   "outputs": [],
   "source": [
    "some_string.find(\"B\") # returns index of first occurence"
   ]
  },
  {
   "cell_type": "code",
   "execution_count": null,
   "metadata": {
    "colab": {
     "base_uri": "https://localhost:8080/"
    },
    "id": "oUz4FHnlDNFv",
    "outputId": "37ac3613-b27c-4781-c560-bb3bcd7d4dab"
   },
   "outputs": [],
   "source": [
    "name.find(\"dis\")"
   ]
  },
  {
   "cell_type": "code",
   "execution_count": null,
   "metadata": {
    "colab": {
     "base_uri": "https://localhost:8080/",
     "height": 35
    },
    "id": "79IKuewEDT9D",
    "outputId": "e0e65a69-6289-4ae2-d220-fa3cdc12e746"
   },
   "outputs": [],
   "source": [
    "name[2:]"
   ]
  },
  {
   "cell_type": "code",
   "execution_count": null,
   "metadata": {
    "colab": {
     "base_uri": "https://localhost:8080/"
    },
    "id": "36tDkgu3DW4t",
    "outputId": "eb0d9b16-462e-40cc-8b88-ff68d8e8133a"
   },
   "outputs": [],
   "source": [
    "name.isascii()"
   ]
  },
  {
   "cell_type": "code",
   "execution_count": null,
   "metadata": {
    "colab": {
     "base_uri": "https://localhost:8080/",
     "height": 35
    },
    "id": "RsxGCGa9DfQx",
    "outputId": "3cc5d003-fa17-4dd0-a8f5-e660c6bfbe3c"
   },
   "outputs": [],
   "source": [
    "last_name"
   ]
  },
  {
   "cell_type": "code",
   "execution_count": null,
   "metadata": {
    "colab": {
     "base_uri": "https://localhost:8080/"
    },
    "id": "TU-wyDVCDiFI",
    "outputId": "bfdb8b35-15fa-4429-df5e-2a9ba0473f90"
   },
   "outputs": [],
   "source": [
    "last_name.isascii()"
   ]
  },
  {
   "cell_type": "code",
   "execution_count": null,
   "metadata": {
    "colab": {
     "base_uri": "https://localhost:8080/",
     "height": 35
    },
    "id": "nv-moFmMDlGM",
    "outputId": "513cf88c-4886-4cf9-ba02-1baccfff69d1"
   },
   "outputs": [],
   "source": [
    "name.lower() # everything to lowercase"
   ]
  },
  {
   "cell_type": "code",
   "execution_count": null,
   "metadata": {
    "colab": {
     "base_uri": "https://localhost:8080/",
     "height": 35
    },
    "id": "eFcwSZkkD_ID",
    "outputId": "147c4bac-94f0-4e0f-995a-c512579001de"
   },
   "outputs": [],
   "source": [
    "name.upper()"
   ]
  },
  {
   "cell_type": "code",
   "execution_count": null,
   "metadata": {
    "colab": {
     "base_uri": "https://localhost:8080/",
     "height": 35
    },
    "id": "abBhVGSIEDu6",
    "outputId": "9261e094-1ab5-4b03-9ea1-21ab466195a0"
   },
   "outputs": [],
   "source": [
    "name.replace(\"u\", \"Va\")"
   ]
  },
  {
   "cell_type": "code",
   "execution_count": null,
   "metadata": {},
   "outputs": [],
   "source": [
    "name2 = \"Uldis Uldis\"\n",
    "name2.replace(\"U\", \"Va\")"
   ]
  },
  {
   "cell_type": "code",
   "execution_count": null,
   "metadata": {},
   "outputs": [],
   "source": [
    "name2"
   ]
  },
  {
   "cell_type": "code",
   "execution_count": null,
   "metadata": {
    "colab": {
     "base_uri": "https://localhost:8080/",
     "height": 35
    },
    "id": "Yyw-W36uENgW",
    "outputId": "fa6e2543-47a7-4df0-b919-5601c16257b3"
   },
   "outputs": [],
   "source": [
    "name # strings are not Mutable! so what to do?"
   ]
  },
  {
   "cell_type": "code",
   "execution_count": null,
   "metadata": {
    "colab": {
     "base_uri": "https://localhost:8080/",
     "height": 35
    },
    "id": "M4u7um2VFFuz",
    "outputId": "f23a0630-760d-4258-8c61-61cbf678f15a"
   },
   "outputs": [],
   "source": [
    "# we can assign the value to a variable\n",
    "new_name = name.replace(\"u\", \"Va\")\n",
    "new_name"
   ]
  },
  {
   "cell_type": "code",
   "execution_count": null,
   "metadata": {
    "colab": {
     "base_uri": "https://localhost:8080/",
     "height": 35
    },
    "id": "46zM2BHBFJv7",
    "outputId": "bea00c62-7973-4afd-9d76-7cb5d5f8807a"
   },
   "outputs": [],
   "source": [
    "name"
   ]
  },
  {
   "cell_type": "code",
   "execution_count": null,
   "metadata": {
    "colab": {
     "base_uri": "https://localhost:8080/",
     "height": 35
    },
    "id": "uHnbDmgGFMio",
    "outputId": "8ae8f65d-d0ad-4c9d-f95a-e605bf7e8209"
   },
   "outputs": [],
   "source": [
    "# i could have overwritten the old name, too\n",
    "name = name.replace(\"u\", \"Va\")\n",
    "name"
   ]
  },
  {
   "cell_type": "code",
   "execution_count": null,
   "metadata": {
    "colab": {
     "base_uri": "https://localhost:8080/",
     "height": 35
    },
    "id": "5X9nhb5XEZrT",
    "outputId": "fb5a11ff-5f03-4875-aeb3-0bb1f64b449b"
   },
   "outputs": [],
   "source": [
    "full_name"
   ]
  },
  {
   "cell_type": "code",
   "execution_count": null,
   "metadata": {
    "colab": {
     "base_uri": "https://localhost:8080/",
     "height": 35
    },
    "id": "0uQUdM90E1wH",
    "outputId": "0d0845cb-d1d0-4e63-e159-90ef2a250bc5"
   },
   "outputs": [],
   "source": [
    "full_name.capitalize()"
   ]
  },
  {
   "cell_type": "code",
   "execution_count": null,
   "metadata": {
    "colab": {
     "base_uri": "https://localhost:8080/",
     "height": 35
    },
    "id": "qvDBUivJE608",
    "outputId": "48c0c195-7f41-4910-e2cd-3046357bb559"
   },
   "outputs": [],
   "source": [
    "\"quick brown fox\".title()"
   ]
  },
  {
   "cell_type": "code",
   "execution_count": null,
   "metadata": {
    "colab": {
     "base_uri": "https://localhost:8080/",
     "height": 35
    },
    "id": "CeRFDraZFD5U",
    "outputId": "4add547d-f857-4a0e-c811-f7f67d30abdf"
   },
   "outputs": [],
   "source": [
    "sentence = \"A quick brown fox jumped over       a sleeping dog\"\n",
    "sentence"
   ]
  },
  {
   "cell_type": "code",
   "execution_count": null,
   "metadata": {
    "colab": {
     "base_uri": "https://localhost:8080/"
    },
    "id": "YaUm8vXdFp3S",
    "outputId": "db05e4ba-def4-4a40-a5d6-f82480bbe8ce"
   },
   "outputs": [],
   "source": [
    "words = sentence.split() # we get a list of words split by any amount of whitespace including newlines , tabs etc\n",
    "words"
   ]
  },
  {
   "cell_type": "code",
   "execution_count": null,
   "metadata": {
    "colab": {
     "base_uri": "https://localhost:8080/",
     "height": 35
    },
    "id": "Sa_nm2JLGHDn",
    "outputId": "57af6d70-c8af-4b8f-8cf8-082316addc4d"
   },
   "outputs": [],
   "source": [
    "joined_string = \" \".join(words) # so join list of words using a single whitespace as the joining element\n",
    "joined_string"
   ]
  },
  {
   "cell_type": "code",
   "execution_count": null,
   "metadata": {
    "colab": {
     "base_uri": "https://localhost:8080/",
     "height": 35
    },
    "id": "lb8Whe35Ggji",
    "outputId": "a378054d-97c4-42fe-d027-2238ef909960"
   },
   "outputs": [],
   "source": [
    "smiley_string = \" 😀 \".join(words) # you can join by multiple characters \n",
    "smiley_string"
   ]
  },
  {
   "cell_type": "code",
   "execution_count": null,
   "metadata": {
    "colab": {
     "base_uri": "https://localhost:8080/"
    },
    "id": "YAeunaKDF61P",
    "outputId": "37a93aab-fa16-4297-f1b3-c9b919fdcd4a",
    "scrolled": true
   },
   "outputs": [],
   "source": [
    "\"Uldis\".split(\"d\")"
   ]
  },
  {
   "cell_type": "code",
   "execution_count": null,
   "metadata": {},
   "outputs": [],
   "source": [
    "name"
   ]
  },
  {
   "cell_type": "code",
   "execution_count": null,
   "metadata": {
    "colab": {
     "base_uri": "https://localhost:8080/"
    },
    "id": "V9tvNzyTzlhY",
    "outputId": "7ee2a482-7116-4480-a246-7a1de2add738"
   },
   "outputs": [],
   "source": [
    "\"dis\" in name"
   ]
  },
  {
   "cell_type": "code",
   "execution_count": null,
   "metadata": {
    "colab": {
     "base_uri": "https://localhost:8080/"
    },
    "id": "rNORT9z4zrSx",
    "outputId": "0934496a-8b67-4c6d-8eed-e2ca9200958a"
   },
   "outputs": [],
   "source": [
    "\"ul\" in name # \"Valdis\" does not have \"ul\" substring"
   ]
  },
  {
   "cell_type": "code",
   "execution_count": null,
   "metadata": {
    "colab": {
     "base_uri": "https://localhost:8080/"
    },
    "id": "05uwzExvzwUK",
    "outputId": "1b18fa1a-88f4-4e0d-8102-466eaa45abc9"
   },
   "outputs": [],
   "source": [
    "\"al\" in \"Valdis\""
   ]
  },
  {
   "cell_type": "code",
   "execution_count": null,
   "metadata": {},
   "outputs": [],
   "source": []
  },
  {
   "cell_type": "markdown",
   "metadata": {},
   "source": [
    "## List data type\n",
    "\n",
    "List = an ordered, mutable collection of items\n",
    "\n",
    "`example_list = [1, 2, 63, \"aha\", \"youcanmixtypeinsidelist\"])`\n"
   ]
  },
  {
   "cell_type": "code",
   "execution_count": null,
   "metadata": {},
   "outputs": [],
   "source": [
    "shopping_list = [\"Chocolate\", \"Milk\", \"Cookies\"] # a list of 3 strings - can be changed later on as needed\n",
    "shopping_list"
   ]
  },
  {
   "cell_type": "code",
   "execution_count": null,
   "metadata": {
    "colab": {
     "base_uri": "https://localhost:8080/"
    },
    "id": "JO5st21XyVhY",
    "outputId": "a1d2807d-e336-4c6f-972c-9c1f9c404e81"
   },
   "outputs": [],
   "source": [
    "shopping_list.append(\"fork\")\n",
    "shopping_list"
   ]
  },
  {
   "cell_type": "code",
   "execution_count": null,
   "metadata": {},
   "outputs": [],
   "source": [
    "# we can access list items by index (e.g. 2)\n",
    "#  - similar to how we access letters in a string\n",
    "\n",
    "print(shopping_list[2])"
   ]
  },
  {
   "cell_type": "code",
   "execution_count": null,
   "metadata": {
    "colab": {
     "base_uri": "https://localhost:8080/"
    },
    "id": "rwChOk8GyvbG",
    "outputId": "869715bf-d676-4779-9a76-8fcef59153ba"
   },
   "outputs": [],
   "source": [
    "new_shopping_list = shopping_list[:-3] # remove the last 3 items\n",
    "new_shopping_list"
   ]
  },
  {
   "cell_type": "code",
   "execution_count": null,
   "metadata": {},
   "outputs": [],
   "source": []
  },
  {
   "cell_type": "code",
   "execution_count": null,
   "metadata": {
    "colab": {
     "base_uri": "https://localhost:8080/"
    },
    "id": "g5FqcG8eyeKH",
    "outputId": "5c5d2ba6-216e-49f3-a4dc-cae3efd28407"
   },
   "outputs": [],
   "source": [
    "shopping_list.sort()\n",
    "shopping_list"
   ]
  },
  {
   "cell_type": "code",
   "execution_count": null,
   "metadata": {},
   "outputs": [],
   "source": [
    "# show character code\n",
    "ord(\"C\")"
   ]
  },
  {
   "cell_type": "code",
   "execution_count": null,
   "metadata": {},
   "outputs": [],
   "source": [
    "ord(\"M\")"
   ]
  },
  {
   "cell_type": "code",
   "execution_count": null,
   "metadata": {},
   "outputs": [],
   "source": [
    "ord(\"f\")"
   ]
  },
  {
   "cell_type": "code",
   "execution_count": null,
   "metadata": {
    "colab": {
     "base_uri": "https://localhost:8080/"
    },
    "id": "lDug1ZoazASu",
    "outputId": "71593163-de2a-444e-99b5-425c784b309f"
   },
   "outputs": [],
   "source": [
    "shopping_list.remove(\"Milk\")\n",
    "shopping_list"
   ]
  },
  {
   "cell_type": "code",
   "execution_count": null,
   "metadata": {},
   "outputs": [],
   "source": [
    "shopping_list.append(\"Potatoes\")\n",
    "shopping_list"
   ]
  },
  {
   "cell_type": "code",
   "execution_count": null,
   "metadata": {
    "colab": {
     "base_uri": "https://localhost:8080/"
    },
    "id": "FkHGu6fazRCF",
    "outputId": "257007c1-bcf6-4f20-b0f8-021e6edc8d6d"
   },
   "outputs": [],
   "source": [
    "\"Potatoes\" in shopping_list  # this needs to be exact match"
   ]
  },
  {
   "cell_type": "code",
   "execution_count": null,
   "metadata": {
    "colab": {
     "base_uri": "https://localhost:8080/"
    },
    "id": "LBm6xnhAzb9Y",
    "outputId": "ff613497-b96f-4c1b-cf76-c855a14ab87c"
   },
   "outputs": [],
   "source": [
    "\"potatoes\" in shopping_list # case sensitive so it should be false"
   ]
  },
  {
   "cell_type": "code",
   "execution_count": null,
   "metadata": {
    "colab": {
     "base_uri": "https://localhost:8080/"
    },
    "id": "b-aF5slHzYG5",
    "outputId": "6746dd62-94a5-4b75-dcc9-cd47723c4495"
   },
   "outputs": [],
   "source": [
    "\"Milk\" in shopping_list"
   ]
  },
  {
   "cell_type": "markdown",
   "metadata": {
    "id": "94m41ooSyk67"
   },
   "source": [
    "## Flow Control <a class=\"anchor\" id=\"flow-control\">\n",
    "    \n",
    "[Back to Table of Contents](#toc)\n",
    "    \n",
    "With Flow Control we can tell our program to choose different paths or to repeat certain parts of the program."
   ]
  },
  {
   "cell_type": "markdown",
   "metadata": {
    "id": "QtrFl0dByk6-"
   },
   "source": [
    "## Loops"
   ]
  },
  {
   "cell_type": "code",
   "execution_count": null,
   "metadata": {
    "id": "nMuqut4Fyk6-"
   },
   "outputs": [],
   "source": [
    "# How would we perform the same/similar action multiple times?"
   ]
  },
  {
   "cell_type": "code",
   "execution_count": null,
   "metadata": {
    "colab": {
     "base_uri": "https://localhost:8080/"
    },
    "id": "4lBUdvm7yk6-",
    "outputId": "11f44c44-096d-4e5d-ac0b-638b7215300e"
   },
   "outputs": [],
   "source": [
    "i = 0\n",
    "print(\"Alice did \")\n",
    "\n",
    "while i < 5:\n",
    "    print(\"talk\")\n",
    "    print(\"i is \", i)\n",
    "    i += 1 # same as i = i + 1"
   ]
  },
  {
   "cell_type": "code",
   "execution_count": null,
   "metadata": {
    "colab": {
     "base_uri": "https://localhost:8080/"
    },
    "id": "gVUkUAQFQQlo",
    "outputId": "2cf7aa42-c29f-4bd0-dda3-2b22f157e4aa"
   },
   "outputs": [],
   "source": [
    "i"
   ]
  },
  {
   "cell_type": "code",
   "execution_count": null,
   "metadata": {
    "id": "O8Rk73-4yk6-"
   },
   "outputs": [],
   "source": [
    "# What would happen if we did not have i+=1 in our above program ?"
   ]
  },
  {
   "cell_type": "code",
   "execution_count": null,
   "metadata": {
    "colab": {
     "base_uri": "https://localhost:8080/"
    },
    "id": "9iQlG4C5yk6-",
    "outputId": "06c379dd-2746-4b3c-f4db-b4514c097628"
   },
   "outputs": [],
   "source": [
    "for x in range(10): # range is a number \"factory\" (iterator technically)\n",
    "    print(x)"
   ]
  },
  {
   "cell_type": "code",
   "execution_count": null,
   "metadata": {
    "colab": {
     "base_uri": "https://localhost:8080/"
    },
    "id": "o7QcqVXDyk6-",
    "outputId": "073e7be1-8764-427c-9748-1bcc64a88939"
   },
   "outputs": [],
   "source": [
    "# we can loop / iterate through strings\n",
    "for c in \"Uldis\":\n",
    "    print(c)"
   ]
  },
  {
   "cell_type": "code",
   "execution_count": null,
   "metadata": {},
   "outputs": [],
   "source": [
    "myList = [\"one\", \"two\", \"three\"]\n",
    "\n",
    "# we can loop / iterate through lists\n",
    "for c in myList:\n",
    "    print(c)"
   ]
  },
  {
   "cell_type": "code",
   "execution_count": null,
   "metadata": {
    "colab": {
     "base_uri": "https://localhost:8080/"
    },
    "id": "Agmjsv_bQ9ja",
    "outputId": "3a78bd7a-13d2-48c1-889c-8ec33d23955d"
   },
   "outputs": [],
   "source": [
    "# we can use enumerate when we need an index for whatever we are looping through\n",
    "for i, c in enumerate(name):\n",
    "    print(i, c)"
   ]
  },
  {
   "cell_type": "code",
   "execution_count": null,
   "metadata": {
    "colab": {
     "base_uri": "https://localhost:8080/"
    },
    "id": "Ul9aqgSkRSC0",
    "outputId": "904a10e1-9352-4d96-e1a6-2c44a544b86b"
   },
   "outputs": [],
   "source": [
    "i"
   ]
  },
  {
   "cell_type": "code",
   "execution_count": null,
   "metadata": {
    "colab": {
     "base_uri": "https://localhost:8080/",
     "height": 35
    },
    "id": "LillgUSSRTMr",
    "outputId": "33335f31-0f48-4dcc-880b-0f7ea1f6e22c"
   },
   "outputs": [],
   "source": [
    "c"
   ]
  },
  {
   "cell_type": "code",
   "execution_count": null,
   "metadata": {},
   "outputs": [],
   "source": [
    "last_name"
   ]
  },
  {
   "cell_type": "code",
   "execution_count": null,
   "metadata": {
    "colab": {
     "base_uri": "https://localhost:8080/"
    },
    "id": "jjbRaZW_RY-_",
    "outputId": "ed3fa438-af10-4c19-9f16-e5288afbeacf"
   },
   "outputs": [],
   "source": [
    "new_string = \"\"\n",
    "new_list = []\n",
    "\n",
    "for i, c in enumerate(last_name):\n",
    "    \n",
    "    if i % 2 == 0:\n",
    "        print(c.lower())\n",
    "        new_string += c.lower() # this is same as saying new_string = new_string + c\n",
    "        new_list.append(c.lower())\n",
    "    else:\n",
    "        print(c.upper())\n",
    "        new_string += c.upper()  # this += is fine for smaller strings\n",
    "        new_list.append(c.upper())\n",
    "        \n",
    "print(new_string)"
   ]
  },
  {
   "cell_type": "code",
   "execution_count": null,
   "metadata": {
    "colab": {
     "base_uri": "https://localhost:8080/"
    },
    "id": "YoxSa-uqSX4n",
    "outputId": "fd765f19-9e75-4dd1-f678-41d56e06d53d"
   },
   "outputs": [],
   "source": [
    "new_list"
   ]
  },
  {
   "cell_type": "code",
   "execution_count": null,
   "metadata": {
    "colab": {
     "base_uri": "https://localhost:8080/",
     "height": 35
    },
    "id": "gVz-46KeSatC",
    "outputId": "ce23b014-7346-4606-da98-0f06dc897049"
   },
   "outputs": [],
   "source": [
    "str(new_list)"
   ]
  },
  {
   "cell_type": "code",
   "execution_count": null,
   "metadata": {
    "colab": {
     "base_uri": "https://localhost:8080/",
     "height": 35
    },
    "id": "DXDEj4P5SdWm",
    "outputId": "1f4477af-c7ee-4ddc-b253-58f4c561b489"
   },
   "outputs": [],
   "source": [
    "my_new_string = \"\".join(new_list) # so our separator (for joining values) is an empty string\n",
    "my_new_string"
   ]
  },
  {
   "cell_type": "code",
   "execution_count": null,
   "metadata": {
    "colab": {
     "base_uri": "https://localhost:8080/"
    },
    "id": "AXrGVP8xSzD4",
    "outputId": "341afd6a-a329-449e-da91-e06e01257fa6"
   },
   "outputs": [],
   "source": [
    "mylist = range(11,21)"
   ]
  },
  {
   "cell_type": "code",
   "execution_count": null,
   "metadata": {
    "colab": {
     "base_uri": "https://localhost:8080/"
    },
    "id": "b90_H3Vtzb40",
    "outputId": "9bbe0c60-e9a5-4e6d-d76f-3179c28cdbf7"
   },
   "outputs": [],
   "source": [
    "for item in mylist:\n",
    "    print(\"Item\", item)"
   ]
  },
  {
   "cell_type": "code",
   "execution_count": null,
   "metadata": {
    "colab": {
     "base_uri": "https://localhost:8080/"
    },
    "id": "1ykMR6anS1wS",
    "outputId": "e2a86d7f-acd9-4a48-f980-3265ca9e2eb9"
   },
   "outputs": [],
   "source": [
    "for need_to_buy in shopping_list:\n",
    "    print(\"Need to buy\", need_to_buy)\n",
    "    # here we could actually do the actual buying operation"
   ]
  },
  {
   "cell_type": "code",
   "execution_count": null,
   "metadata": {
    "id": "RhVAv5xjyk6_"
   },
   "outputs": [],
   "source": [
    "## Splitting a line of text into words\n",
    "mytext = \"A quick brown fox jumped over a sleeping dog\"\n",
    "words = mytext.split()\n"
   ]
  },
  {
   "cell_type": "code",
   "execution_count": null,
   "metadata": {
    "id": "zFuwBnH0yk6_"
   },
   "outputs": [],
   "source": [
    "print(words)"
   ]
  },
  {
   "cell_type": "code",
   "execution_count": null,
   "metadata": {
    "id": "NGODLi24yk6_"
   },
   "outputs": [],
   "source": [
    "## Print first letter of each word\n",
    "for w in words:\n",
    "    print(w[0], w[0].isupper(), w.istitle()) ## istitle() checks every word in a string so not good for unsplit strings"
   ]
  },
  {
   "cell_type": "code",
   "execution_count": null,
   "metadata": {
    "id": "hwjDVnwpyk6_"
   },
   "outputs": [],
   "source": [
    "myline=\"Mr. Sherlock Holmes, who was usually very late in the mornings\""
   ]
  },
  {
   "cell_type": "code",
   "execution_count": null,
   "metadata": {
    "id": "n5wwnnSHyk7A"
   },
   "outputs": [],
   "source": [
    "words=myline.split()"
   ]
  },
  {
   "cell_type": "code",
   "execution_count": null,
   "metadata": {
    "id": "tBGR77iWyk7B"
   },
   "outputs": [],
   "source": [
    "words"
   ]
  },
  {
   "cell_type": "code",
   "execution_count": null,
   "metadata": {
    "id": "2ljnfqi1yk7B"
   },
   "outputs": [],
   "source": [
    "words[1][0].isupper()"
   ]
  },
  {
   "cell_type": "code",
   "execution_count": null,
   "metadata": {
    "id": "lZhC-cpoyk7B"
   },
   "outputs": [],
   "source": [
    "for i, c in enumerate(full_name):\n",
    "    print(i, c)"
   ]
  },
  {
   "cell_type": "markdown",
   "metadata": {},
   "source": [
    "### More about flow control\n",
    "\n",
    "- [Python tutorial - Flow control](https://docs.python.org/3/tutorial/controlflow.html)\n",
    "- [Flow control](https://automatetheboringstuff.com/2e/chapter2/) - \"Automate the Boring Stuff\" book"
   ]
  },
  {
   "cell_type": "markdown",
   "metadata": {
    "id": "Ab46RX_Ayk63"
   },
   "source": [
    "## Python Lists (continued)\n",
    "\n",
    "* Ordered\n",
    "* Mutable(can change individual members!)\n",
    "* Comma separated between brackets [1,3,2,5,6,2]\n",
    "* Can have duplicates\n",
    "* Can be nested\n"
   ]
  },
  {
   "cell_type": "code",
   "execution_count": null,
   "metadata": {
    "colab": {
     "base_uri": "https://localhost:8080/"
    },
    "id": "Pj1LtSiiyk63",
    "outputId": "30883ca8-54b2-415a-a5b6-25e29cf8e2a9"
   },
   "outputs": [],
   "source": [
    "mylist = list(range(11,21,1)) \n",
    "# mylist = [11, 12, 13, 14, 15, 16, 17, 18, 19, 20] would work too but not practical for longer ranges...\n",
    "print(mylist)"
   ]
  },
  {
   "cell_type": "code",
   "execution_count": null,
   "metadata": {
    "colab": {
     "base_uri": "https://localhost:8080/"
    },
    "id": "ov8VuKAEw4oZ",
    "outputId": "0b7ba00a-8970-476b-e492-7ae7166e3f21"
   },
   "outputs": [],
   "source": [
    "shopping_list = [\"Chocolate\", \"Milk\", \"Cookies\"] # so i created a list of 3 strings - can be changed later on as needed\n",
    "shopping_list"
   ]
  },
  {
   "cell_type": "code",
   "execution_count": null,
   "metadata": {},
   "outputs": [],
   "source": [
    "shopping_list.append([\"Salt\", \"Pepper\"])"
   ]
  },
  {
   "cell_type": "code",
   "execution_count": null,
   "metadata": {},
   "outputs": [],
   "source": [
    "shopping_list"
   ]
  },
  {
   "cell_type": "code",
   "execution_count": null,
   "metadata": {},
   "outputs": [],
   "source": [
    "shopping_list.remove([\"Salt\", \"Pepper\"])"
   ]
  },
  {
   "cell_type": "code",
   "execution_count": null,
   "metadata": {},
   "outputs": [],
   "source": [
    "shopping_list"
   ]
  },
  {
   "cell_type": "markdown",
   "metadata": {
    "id": "lS62R1xHyk63"
   },
   "source": [
    "### Slice notation\n",
    "\n",
    "somestring[start:end:step]\n",
    "\n",
    "somelist[start:end:step]\n",
    "\n",
    "start is at index 0(first element), end is -1 the actual index\n",
    "#### Examples below"
   ]
  },
  {
   "cell_type": "code",
   "execution_count": null,
   "metadata": {
    "colab": {
     "base_uri": "https://localhost:8080/"
    },
    "id": "tKZeoEl-yk64",
    "outputId": "9b4ba575-ea8d-4cd7-b578-cfff8ffe8c3a"
   },
   "outputs": [],
   "source": [
    "mylist[0]"
   ]
  },
  {
   "cell_type": "code",
   "execution_count": null,
   "metadata": {
    "colab": {
     "base_uri": "https://localhost:8080/",
     "height": 35
    },
    "id": "zyZZ9KXGxQog",
    "outputId": "758948ca-56fb-49ab-a9b6-d2a6cf8787e1"
   },
   "outputs": [],
   "source": [
    "shopping_list[-1]"
   ]
  },
  {
   "cell_type": "code",
   "execution_count": null,
   "metadata": {
    "colab": {
     "base_uri": "https://localhost:8080/"
    },
    "id": "Xd3DkIPgxYmL",
    "outputId": "5ed2c01a-c6e1-49dc-a44d-6144266ce1d3"
   },
   "outputs": [],
   "source": [
    "shopping_list[-1] = \"Potatoes\"\n",
    "shopping_list"
   ]
  },
  {
   "cell_type": "code",
   "execution_count": null,
   "metadata": {},
   "outputs": [],
   "source": [
    "mylist = list(mylist)"
   ]
  },
  {
   "cell_type": "code",
   "execution_count": null,
   "metadata": {
    "colab": {
     "base_uri": "https://localhost:8080/"
    },
    "id": "cg8Nn8Xlyk64",
    "outputId": "65fbf700-9692-409e-d0ec-f59e492fe137"
   },
   "outputs": [],
   "source": [
    "mylist[3:] # so starting from the 4th element(with index 3)"
   ]
  },
  {
   "cell_type": "code",
   "execution_count": null,
   "metadata": {
    "colab": {
     "base_uri": "https://localhost:8080/"
    },
    "id": "PF9Pqnyeyk64",
    "outputId": "a1043717-e3ea-465c-fa66-7ba751d57e5a"
   },
   "outputs": [],
   "source": [
    "mylist[:-2] # so everything BUT the last two items"
   ]
  },
  {
   "cell_type": "code",
   "execution_count": null,
   "metadata": {
    "colab": {
     "base_uri": "https://localhost:8080/"
    },
    "id": "xmKJGEc0yk64",
    "outputId": "217193c9-ec5a-49d7-cad0-82bbbde1077d"
   },
   "outputs": [],
   "source": [
    "mylist[::2]"
   ]
  },
  {
   "cell_type": "code",
   "execution_count": null,
   "metadata": {
    "colab": {
     "base_uri": "https://localhost:8080/",
     "height": 35
    },
    "id": "XBQVRvFCyk64",
    "outputId": "a1ea3900-d7f5-4818-f60f-379f751255a6"
   },
   "outputs": [],
   "source": [
    "\"Valdis\"[2:5]"
   ]
  },
  {
   "cell_type": "code",
   "execution_count": null,
   "metadata": {
    "id": "32NEQe4vyk64"
   },
   "outputs": [],
   "source": [
    "myname[-1]"
   ]
  },
  {
   "cell_type": "code",
   "execution_count": null,
   "metadata": {
    "id": "XsTGTVo0yk65"
   },
   "outputs": [],
   "source": [
    "mylist[::-1]"
   ]
  },
  {
   "cell_type": "markdown",
   "metadata": {
    "id": "LFGg71Z6yk65"
   },
   "source": [
    "\n",
    "### Common list methods.\n",
    "* list.append(elem) -- adds a single element to the end of the list. Common error: does not return the new list, just modifies the original.\n",
    "* list.insert(index, elem) -- inserts the element at the given index, shifting elements to the right.\n",
    "* list.extend(list2) adds the elements in list2 to the end of the list. Using + or += on a list is similar to using extend().\n",
    "* list.index(elem) -- searches for the given element from the start of the list and returns its index. Throws a ValueError if the element does not appear (use \"in\" to check without a ValueError).\n",
    "* list.remove(elem) -- searches for the first instance of the given element and removes it (throws ValueError if not present)\n",
    "* list.sort() -- sorts the list in place (does not return it). (The sorted() function shown later is preferred.)\n",
    "* list.reverse() -- reverses the list in place (does not return it)\n",
    "* list.pop(index)-- removes and returns the element at the given index. Returns the rightmost element if index is omitted (roughly the opposite of append())."
   ]
  },
  {
   "cell_type": "code",
   "execution_count": null,
   "metadata": {},
   "outputs": [],
   "source": [
    "help(list)"
   ]
  },
  {
   "cell_type": "code",
   "execution_count": null,
   "metadata": {},
   "outputs": [],
   "source": [
    "help(list.index)"
   ]
  },
  {
   "cell_type": "code",
   "execution_count": null,
   "metadata": {
    "colab": {
     "base_uri": "https://localhost:8080/"
    },
    "id": "pbsx7duKx5ha",
    "outputId": "9d38e52e-d13f-4184-ee34-5388b275b855"
   },
   "outputs": [],
   "source": [
    "shopping_list"
   ]
  },
  {
   "cell_type": "code",
   "execution_count": null,
   "metadata": {
    "colab": {
     "base_uri": "https://localhost:8080/"
    },
    "id": "Kbu66bEgx9-s",
    "outputId": "057cf978-3cc9-4538-d61a-f644b51860d6"
   },
   "outputs": [],
   "source": [
    "shopping_list.append(\"Cola\")\n",
    "shopping_list"
   ]
  },
  {
   "cell_type": "code",
   "execution_count": null,
   "metadata": {},
   "outputs": [],
   "source": [
    "shopping_list.insert(0, \"Pineapple\")"
   ]
  },
  {
   "cell_type": "code",
   "execution_count": null,
   "metadata": {},
   "outputs": [],
   "source": [
    "shopping_list"
   ]
  },
  {
   "cell_type": "code",
   "execution_count": null,
   "metadata": {
    "colab": {
     "base_uri": "https://localhost:8080/"
    },
    "id": "U3febKV1yMUI",
    "outputId": "691623b1-2a67-4e80-d2df-af8ee0d792f5",
    "scrolled": true
   },
   "outputs": [],
   "source": [
    "shopping_list.sort() # this will sort a list\n",
    "shopping_list"
   ]
  },
  {
   "cell_type": "code",
   "execution_count": null,
   "metadata": {},
   "outputs": [],
   "source": [
    "# Tuples are unmutable lists (their content can not be changed)\n",
    "shopping_list_t = (\"Chocolate\", \"Milk\", \"Cookies\")\n",
    "\n",
    "shopping_list_t.remove(\"Milk\")"
   ]
  },
  {
   "cell_type": "code",
   "execution_count": null,
   "metadata": {},
   "outputs": [],
   "source": [
    "# list and tuple values can be joined into a string\n",
    "# (in this case using space \" \" as a separator)\n",
    "\n",
    "\" \".join(shopping_list_t)"
   ]
  },
  {
   "cell_type": "markdown",
   "metadata": {},
   "source": [
    "### More about Lists and Tuples\n",
    "\n",
    "- [Lists and Tuples in Python](https://realpython.com/python-lists-tuples/)"
   ]
  },
  {
   "cell_type": "markdown",
   "metadata": {},
   "source": [
    "## Python Dictionaries (introduction)\n",
    "\n",
    "* Collection of Key - Value pairs\n",
    "  * `key: value`\n",
    "* also known as associative array\n",
    "* unordered\n",
    "* keys unique in one dictionary\n",
    "* useful for storing, extracting information\n"
   ]
  },
  {
   "cell_type": "code",
   "execution_count": null,
   "metadata": {},
   "outputs": [],
   "source": [
    "empty_dict = {}\n",
    "len(empty_dict)\n",
    "\n",
    "# Note: can also use dict() instead of {}"
   ]
  },
  {
   "cell_type": "code",
   "execution_count": null,
   "metadata": {},
   "outputs": [],
   "source": [
    "type(empty_dict)"
   ]
  },
  {
   "cell_type": "code",
   "execution_count": null,
   "metadata": {},
   "outputs": [],
   "source": [
    "empty_dict"
   ]
  },
  {
   "cell_type": "code",
   "execution_count": null,
   "metadata": {},
   "outputs": [],
   "source": [
    "tel = {'jack': 4098, 'dave': 4139}\n",
    "print(tel)"
   ]
  },
  {
   "cell_type": "code",
   "execution_count": null,
   "metadata": {},
   "outputs": [],
   "source": [
    "tel['jack']"
   ]
  },
  {
   "cell_type": "code",
   "execution_count": null,
   "metadata": {},
   "outputs": [],
   "source": [
    "# add a new key-value pair\n",
    "tel['guido'] = 4127\n",
    "print(tel)"
   ]
  },
  {
   "cell_type": "code",
   "execution_count": null,
   "metadata": {},
   "outputs": [],
   "source": [
    "print(tel.keys())\n",
    "print(tel.values())"
   ]
  },
  {
   "cell_type": "code",
   "execution_count": null,
   "metadata": {},
   "outputs": [],
   "source": [
    "print(tel.items())"
   ]
  },
  {
   "cell_type": "code",
   "execution_count": null,
   "metadata": {},
   "outputs": [],
   "source": [
    "# set a value\n",
    "tel['dave'] = 54545"
   ]
  },
  {
   "cell_type": "code",
   "execution_count": null,
   "metadata": {},
   "outputs": [],
   "source": [
    "tel['dave']"
   ]
  },
  {
   "cell_type": "code",
   "execution_count": null,
   "metadata": {},
   "outputs": [],
   "source": [
    "# getting value for non-existing key will fail:\n",
    "tel['peter']"
   ]
  },
  {
   "cell_type": "code",
   "execution_count": null,
   "metadata": {},
   "outputs": [],
   "source": [
    "# check for key in our dictionary\n",
    "'uldis' in tel"
   ]
  },
  {
   "cell_type": "code",
   "execution_count": null,
   "metadata": {},
   "outputs": [],
   "source": [
    "'guido' in tel"
   ]
  },
  {
   "cell_type": "code",
   "execution_count": null,
   "metadata": {},
   "outputs": [],
   "source": [
    "# remove key value pair\n",
    "del tel['dave']"
   ]
  },
  {
   "cell_type": "code",
   "execution_count": null,
   "metadata": {},
   "outputs": [],
   "source": [
    "tel"
   ]
  },
  {
   "cell_type": "code",
   "execution_count": null,
   "metadata": {},
   "outputs": [],
   "source": [
    "# iterating through a dictionary\n",
    "\n",
    "for key in tel:\n",
    "    print(f\"{key} : {tel[key]}\")"
   ]
  },
  {
   "cell_type": "code",
   "execution_count": null,
   "metadata": {},
   "outputs": [],
   "source": [
    "help(dict)"
   ]
  },
  {
   "cell_type": "code",
   "execution_count": null,
   "metadata": {},
   "outputs": [],
   "source": [
    "help(dict.get)"
   ]
  },
  {
   "cell_type": "code",
   "execution_count": null,
   "metadata": {},
   "outputs": [],
   "source": [
    "# it is tedious to check if the key is in a dictionary\n",
    "# to avoid an error message when key is not in a dictionry\n",
    "\n",
    "# .get() method to the rescue\n",
    "\n",
    "tel.get(\"guido\", \"\")"
   ]
  },
  {
   "cell_type": "code",
   "execution_count": null,
   "metadata": {},
   "outputs": [],
   "source": [
    "tel.get(\"uldis\", \"\")"
   ]
  },
  {
   "cell_type": "markdown",
   "metadata": {},
   "source": [
    "### More about Python dictionaries\n",
    "\n",
    "- [Python dictionaries](https://realpython.com/python-dicts/) \n",
    "- [Dictionaries and Structuring Data](https://automatetheboringstuff.com/2e/chapter5/) - \"Automate the Boring Stuff\" book"
   ]
  },
  {
   "cell_type": "markdown",
   "metadata": {},
   "source": [
    "## Practical assignments\n",
    "\n",
    "* Learn how to count things using a Python dictionary.\n",
    "* See the course summary document."
   ]
  },
  {
   "cell_type": "code",
   "execution_count": null,
   "metadata": {},
   "outputs": [],
   "source": []
  },
  {
   "cell_type": "code",
   "execution_count": null,
   "metadata": {},
   "outputs": [],
   "source": []
  },
  {
   "cell_type": "code",
   "execution_count": null,
   "metadata": {},
   "outputs": [],
   "source": []
  },
  {
   "cell_type": "markdown",
   "metadata": {
    "id": "IuOw1wXiyk7F"
   },
   "source": [
    "## Questions? \n",
    "\n",
    "e-mail **uldis.bojars at gmail.com**\n",
    "\n",
    "---\n",
    "\n",
    "This notebook is partially based on the Python introduction notebook by Valdis Saulespurēns:\n",
    "* https://github.com/ValRCS/BSSDH_22/blob/main/notebooks/Python%20Introduction.ipynb\n"
   ]
  }
 ],
 "metadata": {
  "colab": {
   "name": "Python Introduction.ipynb",
   "provenance": []
  },
  "kernelspec": {
   "display_name": "Python 3 (ipykernel)",
   "language": "python",
   "name": "python3"
  },
  "language_info": {
   "codemirror_mode": {
    "name": "ipython",
    "version": 3
   },
   "file_extension": ".py",
   "mimetype": "text/x-python",
   "name": "python",
   "nbconvert_exporter": "python",
   "pygments_lexer": "ipython3",
   "version": "3.9.16"
  }
 },
 "nbformat": 4,
 "nbformat_minor": 1
}
