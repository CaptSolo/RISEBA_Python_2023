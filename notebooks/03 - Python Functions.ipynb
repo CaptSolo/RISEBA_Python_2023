{
 "cells": [
  {
   "cell_type": "markdown",
   "id": "215dc109",
   "metadata": {},
   "source": [
    "# Lists (recap)"
   ]
  },
  {
   "cell_type": "markdown",
   "id": "316cefbf",
   "metadata": {},
   "source": [
    "* List methods\n",
    "* `len()` function\n",
    "* Adding, multiplying lists\n",
    "* \"`in`\" and \"`not in`\" = checking if some element is part of the list\n",
    "* Looping over a list\n",
    " * `for item in list:`\n",
    " * `for i in range(len(list):`\n",
    " * using `enumerate` to get list element numbers"
   ]
  },
  {
   "cell_type": "code",
   "execution_count": 3,
   "id": "bd7b3039",
   "metadata": {},
   "outputs": [],
   "source": [
    "sar1 = [\"ābols\", \"bumbieris\", \"citrons\"]"
   ]
  },
  {
   "cell_type": "code",
   "execution_count": 4,
   "id": "255b312e",
   "metadata": {},
   "outputs": [
    {
     "data": {
      "text/plain": [
       "3"
      ]
     },
     "execution_count": 4,
     "metadata": {},
     "output_type": "execute_result"
    }
   ],
   "source": [
    "len(sar1)"
   ]
  },
  {
   "cell_type": "code",
   "execution_count": 5,
   "id": "db48d490",
   "metadata": {},
   "outputs": [
    {
     "name": "stdout",
     "output_type": "stream",
     "text": [
      "citrons\n"
     ]
    }
   ],
   "source": [
    "print(sar1[2])"
   ]
  },
  {
   "cell_type": "code",
   "execution_count": 6,
   "id": "9d6c15de",
   "metadata": {},
   "outputs": [],
   "source": [
    "sar2 = [\"piens\", \"kefīrs\"]"
   ]
  },
  {
   "cell_type": "code",
   "execution_count": 7,
   "id": "3f60ed9b",
   "metadata": {},
   "outputs": [
    {
     "name": "stdout",
     "output_type": "stream",
     "text": [
      "['ābols', 'bumbieris', 'citrons', 'piens', 'kefīrs']\n"
     ]
    }
   ],
   "source": [
    "print(sar1 + sar2)"
   ]
  },
  {
   "cell_type": "code",
   "execution_count": 8,
   "id": "7e5aab7f",
   "metadata": {},
   "outputs": [
    {
     "name": "stdout",
     "output_type": "stream",
     "text": [
      "['piens', 'kefīrs', 'piens', 'kefīrs', 'piens', 'kefīrs']\n"
     ]
    }
   ],
   "source": [
    "print(sar2 * 3)"
   ]
  },
  {
   "cell_type": "code",
   "execution_count": 9,
   "id": "aaa8d988",
   "metadata": {},
   "outputs": [],
   "source": [
    "sar1.append(\"persiks\")"
   ]
  },
  {
   "cell_type": "code",
   "execution_count": 10,
   "id": "b500a4a2",
   "metadata": {},
   "outputs": [
    {
     "data": {
      "text/plain": [
       "['ābols', 'bumbieris', 'citrons', 'persiks']"
      ]
     },
     "execution_count": 10,
     "metadata": {},
     "output_type": "execute_result"
    }
   ],
   "source": [
    "sar1"
   ]
  },
  {
   "cell_type": "code",
   "execution_count": 11,
   "id": "65b4256b",
   "metadata": {},
   "outputs": [
    {
     "name": "stdout",
     "output_type": "stream",
     "text": [
      "Help on class list in module builtins:\n",
      "\n",
      "class list(object)\n",
      " |  list(iterable=(), /)\n",
      " |  \n",
      " |  Built-in mutable sequence.\n",
      " |  \n",
      " |  If no argument is given, the constructor creates a new empty list.\n",
      " |  The argument must be an iterable if specified.\n",
      " |  \n",
      " |  Methods defined here:\n",
      " |  \n",
      " |  __add__(self, value, /)\n",
      " |      Return self+value.\n",
      " |  \n",
      " |  __contains__(self, key, /)\n",
      " |      Return key in self.\n",
      " |  \n",
      " |  __delitem__(self, key, /)\n",
      " |      Delete self[key].\n",
      " |  \n",
      " |  __eq__(self, value, /)\n",
      " |      Return self==value.\n",
      " |  \n",
      " |  __ge__(self, value, /)\n",
      " |      Return self>=value.\n",
      " |  \n",
      " |  __getattribute__(self, name, /)\n",
      " |      Return getattr(self, name).\n",
      " |  \n",
      " |  __getitem__(...)\n",
      " |      x.__getitem__(y) <==> x[y]\n",
      " |  \n",
      " |  __gt__(self, value, /)\n",
      " |      Return self>value.\n",
      " |  \n",
      " |  __iadd__(self, value, /)\n",
      " |      Implement self+=value.\n",
      " |  \n",
      " |  __imul__(self, value, /)\n",
      " |      Implement self*=value.\n",
      " |  \n",
      " |  __init__(self, /, *args, **kwargs)\n",
      " |      Initialize self.  See help(type(self)) for accurate signature.\n",
      " |  \n",
      " |  __iter__(self, /)\n",
      " |      Implement iter(self).\n",
      " |  \n",
      " |  __le__(self, value, /)\n",
      " |      Return self<=value.\n",
      " |  \n",
      " |  __len__(self, /)\n",
      " |      Return len(self).\n",
      " |  \n",
      " |  __lt__(self, value, /)\n",
      " |      Return self<value.\n",
      " |  \n",
      " |  __mul__(self, value, /)\n",
      " |      Return self*value.\n",
      " |  \n",
      " |  __ne__(self, value, /)\n",
      " |      Return self!=value.\n",
      " |  \n",
      " |  __repr__(self, /)\n",
      " |      Return repr(self).\n",
      " |  \n",
      " |  __reversed__(self, /)\n",
      " |      Return a reverse iterator over the list.\n",
      " |  \n",
      " |  __rmul__(self, value, /)\n",
      " |      Return value*self.\n",
      " |  \n",
      " |  __setitem__(self, key, value, /)\n",
      " |      Set self[key] to value.\n",
      " |  \n",
      " |  __sizeof__(self, /)\n",
      " |      Return the size of the list in memory, in bytes.\n",
      " |  \n",
      " |  append(self, object, /)\n",
      " |      Append object to the end of the list.\n",
      " |  \n",
      " |  clear(self, /)\n",
      " |      Remove all items from list.\n",
      " |  \n",
      " |  copy(self, /)\n",
      " |      Return a shallow copy of the list.\n",
      " |  \n",
      " |  count(self, value, /)\n",
      " |      Return number of occurrences of value.\n",
      " |  \n",
      " |  extend(self, iterable, /)\n",
      " |      Extend list by appending elements from the iterable.\n",
      " |  \n",
      " |  index(self, value, start=0, stop=9223372036854775807, /)\n",
      " |      Return first index of value.\n",
      " |      \n",
      " |      Raises ValueError if the value is not present.\n",
      " |  \n",
      " |  insert(self, index, object, /)\n",
      " |      Insert object before index.\n",
      " |  \n",
      " |  pop(self, index=-1, /)\n",
      " |      Remove and return item at index (default last).\n",
      " |      \n",
      " |      Raises IndexError if list is empty or index is out of range.\n",
      " |  \n",
      " |  remove(self, value, /)\n",
      " |      Remove first occurrence of value.\n",
      " |      \n",
      " |      Raises ValueError if the value is not present.\n",
      " |  \n",
      " |  reverse(self, /)\n",
      " |      Reverse *IN PLACE*.\n",
      " |  \n",
      " |  sort(self, /, *, key=None, reverse=False)\n",
      " |      Stable sort *IN PLACE*.\n",
      " |  \n",
      " |  ----------------------------------------------------------------------\n",
      " |  Static methods defined here:\n",
      " |  \n",
      " |  __new__(*args, **kwargs) from builtins.type\n",
      " |      Create and return a new object.  See help(type) for accurate signature.\n",
      " |  \n",
      " |  ----------------------------------------------------------------------\n",
      " |  Data and other attributes defined here:\n",
      " |  \n",
      " |  __hash__ = None\n",
      "\n"
     ]
    }
   ],
   "source": [
    "help(list)"
   ]
  },
  {
   "cell_type": "code",
   "execution_count": 12,
   "id": "edfee02c",
   "metadata": {},
   "outputs": [],
   "source": [
    "sar1.sort()"
   ]
  },
  {
   "cell_type": "code",
   "execution_count": 13,
   "id": "8144c7b6",
   "metadata": {},
   "outputs": [
    {
     "data": {
      "text/plain": [
       "['bumbieris', 'citrons', 'persiks', 'ābols']"
      ]
     },
     "execution_count": 13,
     "metadata": {},
     "output_type": "execute_result"
    }
   ],
   "source": [
    "sar1"
   ]
  },
  {
   "cell_type": "code",
   "execution_count": 14,
   "id": "fb2cb440",
   "metadata": {},
   "outputs": [
    {
     "data": {
      "text/plain": [
       "True"
      ]
     },
     "execution_count": 14,
     "metadata": {},
     "output_type": "execute_result"
    }
   ],
   "source": [
    "\"citrons\" in sar1"
   ]
  },
  {
   "cell_type": "code",
   "execution_count": 15,
   "id": "9c26d1a8",
   "metadata": {},
   "outputs": [
    {
     "name": "stdout",
     "output_type": "stream",
     "text": [
      "Jā, 'citrons' ir sarakstā sar1!\n"
     ]
    }
   ],
   "source": [
    "if \"citrons\" in sar1:\n",
    "    print(\"Jā, 'citrons' ir sarakstā sar1!\")"
   ]
  },
  {
   "cell_type": "code",
   "execution_count": 17,
   "id": "bdb5081d",
   "metadata": {},
   "outputs": [
    {
     "data": {
      "text/plain": [
       "True"
      ]
     },
     "execution_count": 17,
     "metadata": {},
     "output_type": "execute_result"
    }
   ],
   "source": [
    "\"citrons\" not in sar2"
   ]
  },
  {
   "cell_type": "code",
   "execution_count": 18,
   "id": "3c3e4484",
   "metadata": {},
   "outputs": [
    {
     "name": "stdout",
     "output_type": "stream",
     "text": [
      "bumbieris\n",
      "citrons\n",
      "persiks\n",
      "ābols\n"
     ]
    }
   ],
   "source": [
    "for elements in sar1:\n",
    "    print(elements)"
   ]
  },
  {
   "cell_type": "code",
   "execution_count": 19,
   "id": "f5ce1373",
   "metadata": {},
   "outputs": [
    {
     "data": {
      "text/plain": [
       "range(0, 4)"
      ]
     },
     "execution_count": 19,
     "metadata": {},
     "output_type": "execute_result"
    }
   ],
   "source": [
    "range(len(sar1))"
   ]
  },
  {
   "cell_type": "code",
   "execution_count": 21,
   "id": "9c3caf42",
   "metadata": {},
   "outputs": [
    {
     "data": {
      "text/plain": [
       "[0, 1, 2, 3]"
      ]
     },
     "execution_count": 21,
     "metadata": {},
     "output_type": "execute_result"
    }
   ],
   "source": [
    "list(range(len(sar1)))"
   ]
  },
  {
   "cell_type": "code",
   "execution_count": 23,
   "id": "74285d23",
   "metadata": {},
   "outputs": [
    {
     "name": "stdout",
     "output_type": "stream",
     "text": [
      "bumbieris\n",
      "citrons\n",
      "persiks\n",
      "ābols\n"
     ]
    }
   ],
   "source": [
    "for index in range(len(sar1)):\n",
    "    print(sar1[index])"
   ]
  },
  {
   "cell_type": "code",
   "execution_count": 25,
   "id": "dc7a6233",
   "metadata": {},
   "outputs": [
    {
     "name": "stdout",
     "output_type": "stream",
     "text": [
      "0\n",
      "bumbieris\n",
      "1\n",
      "citrons\n",
      "2\n",
      "persiks\n",
      "3\n",
      "ābols\n"
     ]
    }
   ],
   "source": [
    "for numurs, elements in enumerate(sar1):\n",
    "    print(numurs)\n",
    "    print(elements)"
   ]
  },
  {
   "cell_type": "code",
   "execution_count": 26,
   "id": "46d3cc81",
   "metadata": {},
   "outputs": [],
   "source": [
    "sar3 = [1, 2, 3]"
   ]
  },
  {
   "cell_type": "code",
   "execution_count": 27,
   "id": "8243d7f9",
   "metadata": {},
   "outputs": [
    {
     "data": {
      "text/plain": [
       "list"
      ]
     },
     "execution_count": 27,
     "metadata": {},
     "output_type": "execute_result"
    }
   ],
   "source": [
    "type(sar3)"
   ]
  },
  {
   "cell_type": "code",
   "execution_count": 28,
   "id": "aedaf846",
   "metadata": {},
   "outputs": [],
   "source": [
    "t1 = (1, 2, 3)"
   ]
  },
  {
   "cell_type": "code",
   "execution_count": 29,
   "id": "16828f01",
   "metadata": {},
   "outputs": [
    {
     "data": {
      "text/plain": [
       "tuple"
      ]
     },
     "execution_count": 29,
     "metadata": {},
     "output_type": "execute_result"
    }
   ],
   "source": [
    "type(t1)"
   ]
  },
  {
   "cell_type": "markdown",
   "id": "5ffa8d6c",
   "metadata": {},
   "source": [
    "# Introduction to libraries"
   ]
  },
  {
   "cell_type": "markdown",
   "id": "c5e143b4",
   "metadata": {},
   "source": [
    "### Python standard library (\"Batteries included\")\n",
    "\n",
    "https://docs.python.org/3/library/\n",
    "\n",
    "Random module:\n",
    "https://docs.python.org/3/library/random.html\n"
   ]
  },
  {
   "cell_type": "code",
   "execution_count": 30,
   "id": "723aaa9a",
   "metadata": {},
   "outputs": [],
   "source": [
    "import random"
   ]
  },
  {
   "cell_type": "code",
   "execution_count": 31,
   "id": "206c6d32",
   "metadata": {},
   "outputs": [
    {
     "name": "stdout",
     "output_type": "stream",
     "text": [
      "Help on module random:\n",
      "\n",
      "NAME\n",
      "    random - Random variable generators.\n",
      "\n",
      "MODULE REFERENCE\n",
      "    https://docs.python.org/3.7/library/random\n",
      "    \n",
      "    The following documentation is automatically generated from the Python\n",
      "    source files.  It may be incomplete, incorrect or include features that\n",
      "    are considered implementation detail and may vary between Python\n",
      "    implementations.  When in doubt, consult the module reference at the\n",
      "    location listed above.\n",
      "\n",
      "DESCRIPTION\n",
      "        integers\n",
      "        --------\n",
      "               uniform within range\n",
      "    \n",
      "        sequences\n",
      "        ---------\n",
      "               pick random element\n",
      "               pick random sample\n",
      "               pick weighted random sample\n",
      "               generate random permutation\n",
      "    \n",
      "        distributions on the real line:\n",
      "        ------------------------------\n",
      "               uniform\n",
      "               triangular\n",
      "               normal (Gaussian)\n",
      "               lognormal\n",
      "               negative exponential\n",
      "               gamma\n",
      "               beta\n",
      "               pareto\n",
      "               Weibull\n",
      "    \n",
      "        distributions on the circle (angles 0 to 2pi)\n",
      "        ---------------------------------------------\n",
      "               circular uniform\n",
      "               von Mises\n",
      "    \n",
      "    General notes on the underlying Mersenne Twister core generator:\n",
      "    \n",
      "    * The period is 2**19937-1.\n",
      "    * It is one of the most extensively tested generators in existence.\n",
      "    * The random() method is implemented in C, executes in a single Python step,\n",
      "      and is, therefore, threadsafe.\n",
      "\n",
      "CLASSES\n",
      "    _random.Random(builtins.object)\n",
      "        Random\n",
      "            SystemRandom\n",
      "    \n",
      "    class Random(_random.Random)\n",
      "     |  Random(x=None)\n",
      "     |  \n",
      "     |  Random number generator base class used by bound module functions.\n",
      "     |  \n",
      "     |  Used to instantiate instances of Random to get generators that don't\n",
      "     |  share state.\n",
      "     |  \n",
      "     |  Class Random can also be subclassed if you want to use a different basic\n",
      "     |  generator of your own devising: in that case, override the following\n",
      "     |  methods:  random(), seed(), getstate(), and setstate().\n",
      "     |  Optionally, implement a getrandbits() method so that randrange()\n",
      "     |  can cover arbitrarily large ranges.\n",
      "     |  \n",
      "     |  Method resolution order:\n",
      "     |      Random\n",
      "     |      _random.Random\n",
      "     |      builtins.object\n",
      "     |  \n",
      "     |  Methods defined here:\n",
      "     |  \n",
      "     |  __getstate__(self)\n",
      "     |      # Issue 17489: Since __reduce__ was defined to fix #759889 this is no\n",
      "     |      # longer called; we leave it here because it has been here since random was\n",
      "     |      # rewritten back in 2001 and why risk breaking something.\n",
      "     |  \n",
      "     |  __init__(self, x=None)\n",
      "     |      Initialize an instance.\n",
      "     |      \n",
      "     |      Optional argument x controls seeding, as for Random.seed().\n",
      "     |  \n",
      "     |  __reduce__(self)\n",
      "     |      Helper for pickle.\n",
      "     |  \n",
      "     |  __setstate__(self, state)\n",
      "     |  \n",
      "     |  betavariate(self, alpha, beta)\n",
      "     |      Beta distribution.\n",
      "     |      \n",
      "     |      Conditions on the parameters are alpha > 0 and beta > 0.\n",
      "     |      Returned values range between 0 and 1.\n",
      "     |  \n",
      "     |  choice(self, seq)\n",
      "     |      Choose a random element from a non-empty sequence.\n",
      "     |  \n",
      "     |  choices(self, population, weights=None, *, cum_weights=None, k=1)\n",
      "     |      Return a k sized list of population elements chosen with replacement.\n",
      "     |      \n",
      "     |      If the relative weights or cumulative weights are not specified,\n",
      "     |      the selections are made with equal probability.\n",
      "     |  \n",
      "     |  expovariate(self, lambd)\n",
      "     |      Exponential distribution.\n",
      "     |      \n",
      "     |      lambd is 1.0 divided by the desired mean.  It should be\n",
      "     |      nonzero.  (The parameter would be called \"lambda\", but that is\n",
      "     |      a reserved word in Python.)  Returned values range from 0 to\n",
      "     |      positive infinity if lambd is positive, and from negative\n",
      "     |      infinity to 0 if lambd is negative.\n",
      "     |  \n",
      "     |  gammavariate(self, alpha, beta)\n",
      "     |      Gamma distribution.  Not the gamma function!\n",
      "     |      \n",
      "     |      Conditions on the parameters are alpha > 0 and beta > 0.\n",
      "     |      \n",
      "     |      The probability distribution function is:\n",
      "     |      \n",
      "     |                  x ** (alpha - 1) * math.exp(-x / beta)\n",
      "     |        pdf(x) =  --------------------------------------\n",
      "     |                    math.gamma(alpha) * beta ** alpha\n",
      "     |  \n",
      "     |  gauss(self, mu, sigma)\n",
      "     |      Gaussian distribution.\n",
      "     |      \n",
      "     |      mu is the mean, and sigma is the standard deviation.  This is\n",
      "     |      slightly faster than the normalvariate() function.\n",
      "     |      \n",
      "     |      Not thread-safe without a lock around calls.\n",
      "     |  \n",
      "     |  getstate(self)\n",
      "     |      Return internal state; can be passed to setstate() later.\n",
      "     |  \n",
      "     |  lognormvariate(self, mu, sigma)\n",
      "     |      Log normal distribution.\n",
      "     |      \n",
      "     |      If you take the natural logarithm of this distribution, you'll get a\n",
      "     |      normal distribution with mean mu and standard deviation sigma.\n",
      "     |      mu can have any value, and sigma must be greater than zero.\n",
      "     |  \n",
      "     |  normalvariate(self, mu, sigma)\n",
      "     |      Normal distribution.\n",
      "     |      \n",
      "     |      mu is the mean, and sigma is the standard deviation.\n",
      "     |  \n",
      "     |  paretovariate(self, alpha)\n",
      "     |      Pareto distribution.  alpha is the shape parameter.\n",
      "     |  \n",
      "     |  randint(self, a, b)\n",
      "     |      Return random integer in range [a, b], including both end points.\n",
      "     |  \n",
      "     |  randrange(self, start, stop=None, step=1, _int=<class 'int'>)\n",
      "     |      Choose a random item from range(start, stop[, step]).\n",
      "     |      \n",
      "     |      This fixes the problem with randint() which includes the\n",
      "     |      endpoint; in Python this is usually not what you want.\n",
      "     |  \n",
      "     |  sample(self, population, k)\n",
      "     |      Chooses k unique random elements from a population sequence or set.\n",
      "     |      \n",
      "     |      Returns a new list containing elements from the population while\n",
      "     |      leaving the original population unchanged.  The resulting list is\n",
      "     |      in selection order so that all sub-slices will also be valid random\n",
      "     |      samples.  This allows raffle winners (the sample) to be partitioned\n",
      "     |      into grand prize and second place winners (the subslices).\n",
      "     |      \n",
      "     |      Members of the population need not be hashable or unique.  If the\n",
      "     |      population contains repeats, then each occurrence is a possible\n",
      "     |      selection in the sample.\n",
      "     |      \n",
      "     |      To choose a sample in a range of integers, use range as an argument.\n",
      "     |      This is especially fast and space efficient for sampling from a\n",
      "     |      large population:   sample(range(10000000), 60)\n",
      "     |  \n",
      "     |  seed(self, a=None, version=2)\n",
      "     |      Initialize internal state from hashable object.\n",
      "     |      \n",
      "     |      None or no argument seeds from current time or from an operating\n",
      "     |      system specific randomness source if available.\n",
      "     |      \n",
      "     |      If *a* is an int, all bits are used.\n",
      "     |      \n",
      "     |      For version 2 (the default), all of the bits are used if *a* is a str,\n",
      "     |      bytes, or bytearray.  For version 1 (provided for reproducing random\n",
      "     |      sequences from older versions of Python), the algorithm for str and\n",
      "     |      bytes generates a narrower range of seeds.\n",
      "     |  \n",
      "     |  setstate(self, state)\n",
      "     |      Restore internal state from object returned by getstate().\n",
      "     |  \n",
      "     |  shuffle(self, x, random=None)\n",
      "     |      Shuffle list x in place, and return None.\n",
      "     |      \n",
      "     |      Optional argument random is a 0-argument function returning a\n",
      "     |      random float in [0.0, 1.0); if it is the default None, the\n",
      "     |      standard random.random will be used.\n",
      "     |  \n",
      "     |  triangular(self, low=0.0, high=1.0, mode=None)\n",
      "     |      Triangular distribution.\n",
      "     |      \n",
      "     |      Continuous distribution bounded by given lower and upper limits,\n",
      "     |      and having a given mode value in-between.\n",
      "     |      \n",
      "     |      http://en.wikipedia.org/wiki/Triangular_distribution\n",
      "     |  \n",
      "     |  uniform(self, a, b)\n",
      "     |      Get a random number in the range [a, b) or [a, b] depending on rounding.\n",
      "     |  \n",
      "     |  vonmisesvariate(self, mu, kappa)\n",
      "     |      Circular data distribution.\n",
      "     |      \n",
      "     |      mu is the mean angle, expressed in radians between 0 and 2*pi, and\n",
      "     |      kappa is the concentration parameter, which must be greater than or\n",
      "     |      equal to zero.  If kappa is equal to zero, this distribution reduces\n",
      "     |      to a uniform random angle over the range 0 to 2*pi.\n",
      "     |  \n",
      "     |  weibullvariate(self, alpha, beta)\n",
      "     |      Weibull distribution.\n",
      "     |      \n",
      "     |      alpha is the scale parameter and beta is the shape parameter.\n",
      "     |  \n",
      "     |  ----------------------------------------------------------------------\n",
      "     |  Data descriptors defined here:\n",
      "     |  \n",
      "     |  __dict__\n",
      "     |      dictionary for instance variables (if defined)\n",
      "     |  \n",
      "     |  __weakref__\n",
      "     |      list of weak references to the object (if defined)\n",
      "     |  \n",
      "     |  ----------------------------------------------------------------------\n",
      "     |  Data and other attributes defined here:\n",
      "     |  \n",
      "     |  VERSION = 3\n",
      "     |  \n",
      "     |  ----------------------------------------------------------------------\n",
      "     |  Methods inherited from _random.Random:\n",
      "     |  \n",
      "     |  __getattribute__(self, name, /)\n",
      "     |      Return getattr(self, name).\n",
      "     |  \n",
      "     |  getrandbits(...)\n",
      "     |      getrandbits(k) -> x.  Generates an int with k random bits.\n",
      "     |  \n",
      "     |  random(...)\n",
      "     |      random() -> x in the interval [0, 1).\n",
      "     |  \n",
      "     |  ----------------------------------------------------------------------\n",
      "     |  Static methods inherited from _random.Random:\n",
      "     |  \n",
      "     |  __new__(*args, **kwargs) from builtins.type\n",
      "     |      Create and return a new object.  See help(type) for accurate signature.\n",
      "    \n",
      "    class SystemRandom(Random)\n",
      "     |  SystemRandom(x=None)\n",
      "     |  \n",
      "     |  Alternate random number generator using sources provided\n",
      "     |  by the operating system (such as /dev/urandom on Unix or\n",
      "     |  CryptGenRandom on Windows).\n",
      "     |  \n",
      "     |   Not available on all systems (see os.urandom() for details).\n",
      "     |  \n",
      "     |  Method resolution order:\n",
      "     |      SystemRandom\n",
      "     |      Random\n",
      "     |      _random.Random\n",
      "     |      builtins.object\n",
      "     |  \n",
      "     |  Methods defined here:\n",
      "     |  \n",
      "     |  getrandbits(self, k)\n",
      "     |      getrandbits(k) -> x.  Generates an int with k random bits.\n",
      "     |  \n",
      "     |  getstate = _notimplemented(self, *args, **kwds)\n",
      "     |  \n",
      "     |  random(self)\n",
      "     |      Get the next random number in the range [0.0, 1.0).\n",
      "     |  \n",
      "     |  seed(self, *args, **kwds)\n",
      "     |      Stub method.  Not used for a system random number generator.\n",
      "     |  \n",
      "     |  setstate = _notimplemented(self, *args, **kwds)\n",
      "     |  \n",
      "     |  ----------------------------------------------------------------------\n",
      "     |  Methods inherited from Random:\n",
      "     |  \n",
      "     |  __getstate__(self)\n",
      "     |      # Issue 17489: Since __reduce__ was defined to fix #759889 this is no\n",
      "     |      # longer called; we leave it here because it has been here since random was\n",
      "     |      # rewritten back in 2001 and why risk breaking something.\n",
      "     |  \n",
      "     |  __init__(self, x=None)\n",
      "     |      Initialize an instance.\n",
      "     |      \n",
      "     |      Optional argument x controls seeding, as for Random.seed().\n",
      "     |  \n",
      "     |  __reduce__(self)\n",
      "     |      Helper for pickle.\n",
      "     |  \n",
      "     |  __setstate__(self, state)\n",
      "     |  \n",
      "     |  betavariate(self, alpha, beta)\n",
      "     |      Beta distribution.\n",
      "     |      \n",
      "     |      Conditions on the parameters are alpha > 0 and beta > 0.\n",
      "     |      Returned values range between 0 and 1.\n",
      "     |  \n",
      "     |  choice(self, seq)\n",
      "     |      Choose a random element from a non-empty sequence.\n",
      "     |  \n",
      "     |  choices(self, population, weights=None, *, cum_weights=None, k=1)\n",
      "     |      Return a k sized list of population elements chosen with replacement.\n",
      "     |      \n",
      "     |      If the relative weights or cumulative weights are not specified,\n",
      "     |      the selections are made with equal probability.\n",
      "     |  \n",
      "     |  expovariate(self, lambd)\n",
      "     |      Exponential distribution.\n",
      "     |      \n",
      "     |      lambd is 1.0 divided by the desired mean.  It should be\n",
      "     |      nonzero.  (The parameter would be called \"lambda\", but that is\n",
      "     |      a reserved word in Python.)  Returned values range from 0 to\n",
      "     |      positive infinity if lambd is positive, and from negative\n",
      "     |      infinity to 0 if lambd is negative.\n",
      "     |  \n",
      "     |  gammavariate(self, alpha, beta)\n",
      "     |      Gamma distribution.  Not the gamma function!\n",
      "     |      \n",
      "     |      Conditions on the parameters are alpha > 0 and beta > 0.\n",
      "     |      \n",
      "     |      The probability distribution function is:\n",
      "     |      \n",
      "     |                  x ** (alpha - 1) * math.exp(-x / beta)\n",
      "     |        pdf(x) =  --------------------------------------\n",
      "     |                    math.gamma(alpha) * beta ** alpha\n",
      "     |  \n",
      "     |  gauss(self, mu, sigma)\n",
      "     |      Gaussian distribution.\n",
      "     |      \n",
      "     |      mu is the mean, and sigma is the standard deviation.  This is\n",
      "     |      slightly faster than the normalvariate() function.\n",
      "     |      \n",
      "     |      Not thread-safe without a lock around calls.\n",
      "     |  \n",
      "     |  lognormvariate(self, mu, sigma)\n",
      "     |      Log normal distribution.\n",
      "     |      \n",
      "     |      If you take the natural logarithm of this distribution, you'll get a\n",
      "     |      normal distribution with mean mu and standard deviation sigma.\n",
      "     |      mu can have any value, and sigma must be greater than zero.\n",
      "     |  \n",
      "     |  normalvariate(self, mu, sigma)\n",
      "     |      Normal distribution.\n",
      "     |      \n",
      "     |      mu is the mean, and sigma is the standard deviation.\n",
      "     |  \n",
      "     |  paretovariate(self, alpha)\n",
      "     |      Pareto distribution.  alpha is the shape parameter.\n",
      "     |  \n",
      "     |  randint(self, a, b)\n",
      "     |      Return random integer in range [a, b], including both end points.\n",
      "     |  \n",
      "     |  randrange(self, start, stop=None, step=1, _int=<class 'int'>)\n",
      "     |      Choose a random item from range(start, stop[, step]).\n",
      "     |      \n",
      "     |      This fixes the problem with randint() which includes the\n",
      "     |      endpoint; in Python this is usually not what you want.\n",
      "     |  \n",
      "     |  sample(self, population, k)\n",
      "     |      Chooses k unique random elements from a population sequence or set.\n",
      "     |      \n",
      "     |      Returns a new list containing elements from the population while\n",
      "     |      leaving the original population unchanged.  The resulting list is\n",
      "     |      in selection order so that all sub-slices will also be valid random\n",
      "     |      samples.  This allows raffle winners (the sample) to be partitioned\n",
      "     |      into grand prize and second place winners (the subslices).\n",
      "     |      \n",
      "     |      Members of the population need not be hashable or unique.  If the\n",
      "     |      population contains repeats, then each occurrence is a possible\n",
      "     |      selection in the sample.\n",
      "     |      \n",
      "     |      To choose a sample in a range of integers, use range as an argument.\n",
      "     |      This is especially fast and space efficient for sampling from a\n",
      "     |      large population:   sample(range(10000000), 60)\n",
      "     |  \n",
      "     |  shuffle(self, x, random=None)\n",
      "     |      Shuffle list x in place, and return None.\n",
      "     |      \n",
      "     |      Optional argument random is a 0-argument function returning a\n",
      "     |      random float in [0.0, 1.0); if it is the default None, the\n",
      "     |      standard random.random will be used.\n",
      "     |  \n",
      "     |  triangular(self, low=0.0, high=1.0, mode=None)\n",
      "     |      Triangular distribution.\n",
      "     |      \n",
      "     |      Continuous distribution bounded by given lower and upper limits,\n",
      "     |      and having a given mode value in-between.\n",
      "     |      \n",
      "     |      http://en.wikipedia.org/wiki/Triangular_distribution\n",
      "     |  \n",
      "     |  uniform(self, a, b)\n",
      "     |      Get a random number in the range [a, b) or [a, b] depending on rounding.\n",
      "     |  \n",
      "     |  vonmisesvariate(self, mu, kappa)\n",
      "     |      Circular data distribution.\n",
      "     |      \n",
      "     |      mu is the mean angle, expressed in radians between 0 and 2*pi, and\n",
      "     |      kappa is the concentration parameter, which must be greater than or\n",
      "     |      equal to zero.  If kappa is equal to zero, this distribution reduces\n",
      "     |      to a uniform random angle over the range 0 to 2*pi.\n",
      "     |  \n",
      "     |  weibullvariate(self, alpha, beta)\n",
      "     |      Weibull distribution.\n",
      "     |      \n",
      "     |      alpha is the scale parameter and beta is the shape parameter.\n",
      "     |  \n",
      "     |  ----------------------------------------------------------------------\n",
      "     |  Data descriptors inherited from Random:\n",
      "     |  \n",
      "     |  __dict__\n",
      "     |      dictionary for instance variables (if defined)\n",
      "     |  \n",
      "     |  __weakref__\n",
      "     |      list of weak references to the object (if defined)\n",
      "     |  \n",
      "     |  ----------------------------------------------------------------------\n",
      "     |  Data and other attributes inherited from Random:\n",
      "     |  \n",
      "     |  VERSION = 3\n",
      "     |  \n",
      "     |  ----------------------------------------------------------------------\n",
      "     |  Methods inherited from _random.Random:\n",
      "     |  \n",
      "     |  __getattribute__(self, name, /)\n",
      "     |      Return getattr(self, name).\n",
      "     |  \n",
      "     |  ----------------------------------------------------------------------\n",
      "     |  Static methods inherited from _random.Random:\n",
      "     |  \n",
      "     |  __new__(*args, **kwargs) from builtins.type\n",
      "     |      Create and return a new object.  See help(type) for accurate signature.\n",
      "\n",
      "FUNCTIONS\n",
      "    betavariate(alpha, beta) method of Random instance\n",
      "        Beta distribution.\n",
      "        \n",
      "        Conditions on the parameters are alpha > 0 and beta > 0.\n",
      "        Returned values range between 0 and 1.\n",
      "    \n",
      "    choice(seq) method of Random instance\n",
      "        Choose a random element from a non-empty sequence.\n",
      "    \n",
      "    choices(population, weights=None, *, cum_weights=None, k=1) method of Random instance\n",
      "        Return a k sized list of population elements chosen with replacement.\n",
      "        \n",
      "        If the relative weights or cumulative weights are not specified,\n",
      "        the selections are made with equal probability.\n",
      "    \n",
      "    expovariate(lambd) method of Random instance\n",
      "        Exponential distribution.\n",
      "        \n",
      "        lambd is 1.0 divided by the desired mean.  It should be\n",
      "        nonzero.  (The parameter would be called \"lambda\", but that is\n",
      "        a reserved word in Python.)  Returned values range from 0 to\n",
      "        positive infinity if lambd is positive, and from negative\n",
      "        infinity to 0 if lambd is negative.\n",
      "    \n",
      "    gammavariate(alpha, beta) method of Random instance\n",
      "        Gamma distribution.  Not the gamma function!\n",
      "        \n",
      "        Conditions on the parameters are alpha > 0 and beta > 0.\n",
      "        \n",
      "        The probability distribution function is:\n",
      "        \n",
      "                    x ** (alpha - 1) * math.exp(-x / beta)\n",
      "          pdf(x) =  --------------------------------------\n",
      "                      math.gamma(alpha) * beta ** alpha\n",
      "    \n",
      "    gauss(mu, sigma) method of Random instance\n",
      "        Gaussian distribution.\n",
      "        \n",
      "        mu is the mean, and sigma is the standard deviation.  This is\n",
      "        slightly faster than the normalvariate() function.\n",
      "        \n",
      "        Not thread-safe without a lock around calls.\n",
      "    \n",
      "    getrandbits(...) method of Random instance\n",
      "        getrandbits(k) -> x.  Generates an int with k random bits.\n",
      "    \n",
      "    getstate() method of Random instance\n",
      "        Return internal state; can be passed to setstate() later.\n",
      "    \n",
      "    lognormvariate(mu, sigma) method of Random instance\n",
      "        Log normal distribution.\n",
      "        \n",
      "        If you take the natural logarithm of this distribution, you'll get a\n",
      "        normal distribution with mean mu and standard deviation sigma.\n",
      "        mu can have any value, and sigma must be greater than zero.\n",
      "    \n",
      "    normalvariate(mu, sigma) method of Random instance\n",
      "        Normal distribution.\n",
      "        \n",
      "        mu is the mean, and sigma is the standard deviation.\n",
      "    \n",
      "    paretovariate(alpha) method of Random instance\n",
      "        Pareto distribution.  alpha is the shape parameter.\n",
      "    \n",
      "    randint(a, b) method of Random instance\n",
      "        Return random integer in range [a, b], including both end points.\n",
      "    \n",
      "    random(...) method of Random instance\n",
      "        random() -> x in the interval [0, 1).\n",
      "    \n",
      "    randrange(start, stop=None, step=1, _int=<class 'int'>) method of Random instance\n",
      "        Choose a random item from range(start, stop[, step]).\n",
      "        \n",
      "        This fixes the problem with randint() which includes the\n",
      "        endpoint; in Python this is usually not what you want.\n",
      "    \n",
      "    sample(population, k) method of Random instance\n",
      "        Chooses k unique random elements from a population sequence or set.\n",
      "        \n",
      "        Returns a new list containing elements from the population while\n",
      "        leaving the original population unchanged.  The resulting list is\n",
      "        in selection order so that all sub-slices will also be valid random\n",
      "        samples.  This allows raffle winners (the sample) to be partitioned\n",
      "        into grand prize and second place winners (the subslices).\n",
      "        \n",
      "        Members of the population need not be hashable or unique.  If the\n",
      "        population contains repeats, then each occurrence is a possible\n",
      "        selection in the sample.\n",
      "        \n",
      "        To choose a sample in a range of integers, use range as an argument.\n",
      "        This is especially fast and space efficient for sampling from a\n",
      "        large population:   sample(range(10000000), 60)\n",
      "    \n",
      "    seed(a=None, version=2) method of Random instance\n",
      "        Initialize internal state from hashable object.\n",
      "        \n",
      "        None or no argument seeds from current time or from an operating\n",
      "        system specific randomness source if available.\n",
      "        \n",
      "        If *a* is an int, all bits are used.\n",
      "        \n",
      "        For version 2 (the default), all of the bits are used if *a* is a str,\n",
      "        bytes, or bytearray.  For version 1 (provided for reproducing random\n",
      "        sequences from older versions of Python), the algorithm for str and\n",
      "        bytes generates a narrower range of seeds.\n",
      "    \n",
      "    setstate(state) method of Random instance\n",
      "        Restore internal state from object returned by getstate().\n",
      "    \n",
      "    shuffle(x, random=None) method of Random instance\n",
      "        Shuffle list x in place, and return None.\n",
      "        \n",
      "        Optional argument random is a 0-argument function returning a\n",
      "        random float in [0.0, 1.0); if it is the default None, the\n",
      "        standard random.random will be used.\n",
      "    \n",
      "    triangular(low=0.0, high=1.0, mode=None) method of Random instance\n",
      "        Triangular distribution.\n",
      "        \n",
      "        Continuous distribution bounded by given lower and upper limits,\n",
      "        and having a given mode value in-between.\n",
      "        \n",
      "        http://en.wikipedia.org/wiki/Triangular_distribution\n",
      "    \n",
      "    uniform(a, b) method of Random instance\n",
      "        Get a random number in the range [a, b) or [a, b] depending on rounding.\n",
      "    \n",
      "    vonmisesvariate(mu, kappa) method of Random instance\n",
      "        Circular data distribution.\n",
      "        \n",
      "        mu is the mean angle, expressed in radians between 0 and 2*pi, and\n",
      "        kappa is the concentration parameter, which must be greater than or\n",
      "        equal to zero.  If kappa is equal to zero, this distribution reduces\n",
      "        to a uniform random angle over the range 0 to 2*pi.\n",
      "    \n",
      "    weibullvariate(alpha, beta) method of Random instance\n",
      "        Weibull distribution.\n",
      "        \n",
      "        alpha is the scale parameter and beta is the shape parameter.\n",
      "\n",
      "DATA\n",
      "    __all__ = ['Random', 'seed', 'random', 'uniform', 'randint', 'choice',...\n",
      "\n",
      "FILE\n",
      "    /opt/local/Library/Frameworks/Python.framework/Versions/3.7/lib/python3.7/random.py\n",
      "\n",
      "\n"
     ]
    }
   ],
   "source": [
    "help(random)"
   ]
  },
  {
   "cell_type": "code",
   "execution_count": 32,
   "id": "37f11513",
   "metadata": {},
   "outputs": [
    {
     "name": "stdout",
     "output_type": "stream",
     "text": [
      "Help on method shuffle in module random:\n",
      "\n",
      "shuffle(x, random=None) method of random.Random instance\n",
      "    Shuffle list x in place, and return None.\n",
      "    \n",
      "    Optional argument random is a 0-argument function returning a\n",
      "    random float in [0.0, 1.0); if it is the default None, the\n",
      "    standard random.random will be used.\n",
      "\n"
     ]
    }
   ],
   "source": [
    "help(random.shuffle)"
   ]
  },
  {
   "cell_type": "code",
   "execution_count": 33,
   "id": "e025fd01",
   "metadata": {},
   "outputs": [
    {
     "name": "stdout",
     "output_type": "stream",
     "text": [
      "Help on method choice in module random:\n",
      "\n",
      "choice(seq) method of random.Random instance\n",
      "    Choose a random element from a non-empty sequence.\n",
      "\n"
     ]
    }
   ],
   "source": [
    "help(random.choice)"
   ]
  },
  {
   "cell_type": "code",
   "execution_count": 34,
   "id": "d8152d69",
   "metadata": {},
   "outputs": [],
   "source": [
    "my_list = [\"pear\", \"apple\", \"rose\", \"tulip\", \"mango\"]"
   ]
  },
  {
   "cell_type": "code",
   "execution_count": 38,
   "id": "8072ae93",
   "metadata": {},
   "outputs": [
    {
     "name": "stdout",
     "output_type": "stream",
     "text": [
      "rose\n",
      "pear\n",
      "rose\n",
      "apple\n"
     ]
    }
   ],
   "source": [
    "print(random.choice(my_list))\n",
    "print(random.choice(my_list))\n",
    "print(random.choice(my_list))\n",
    "print(random.choice(my_list))"
   ]
  },
  {
   "cell_type": "markdown",
   "id": "51ff5c32",
   "metadata": {},
   "source": [
    "---\n",
    "\n",
    "## Practical Exercises\n",
    "\n",
    "* Print elements of a list\n",
    " * Just print all the elements\n",
    " * Print a line with element numbers and values: \"Element #1 = pear\", ...\n",
    "* Shuffle the list\n",
    "* Print list elements again\n",
    " "
   ]
  },
  {
   "cell_type": "code",
   "execution_count": 41,
   "id": "e01808f1",
   "metadata": {},
   "outputs": [
    {
     "name": "stdout",
     "output_type": "stream",
     "text": [
      "Elements #0 = bumbieris\n",
      "Elements #1 = citrons\n",
      "Elements #2 = persiks\n",
      "Elements #3 = ābols\n"
     ]
    }
   ],
   "source": [
    "for num, item in enumerate(sar1):\n",
    "    print(\"Elements #\" + str(num) + \" = \" + item)"
   ]
  },
  {
   "cell_type": "code",
   "execution_count": 42,
   "id": "2695d9e1",
   "metadata": {},
   "outputs": [
    {
     "name": "stdout",
     "output_type": "stream",
     "text": [
      "Elements #0 = bumbieris\n",
      "Elements #1 = citrons\n",
      "Elements #2 = persiks\n",
      "Elements #3 = ābols\n"
     ]
    }
   ],
   "source": [
    "for num, item in enumerate(sar1):\n",
    "    print(f\"Elements #{num} = {item}\")"
   ]
  },
  {
   "cell_type": "code",
   "execution_count": 43,
   "id": "5f3c399b",
   "metadata": {},
   "outputs": [],
   "source": [
    "random.shuffle(sar1)"
   ]
  },
  {
   "cell_type": "code",
   "execution_count": 44,
   "id": "cdaf8bbb",
   "metadata": {},
   "outputs": [
    {
     "name": "stdout",
     "output_type": "stream",
     "text": [
      "Elements #0 = citrons\n",
      "Elements #1 = ābols\n",
      "Elements #2 = bumbieris\n",
      "Elements #3 = persiks\n"
     ]
    }
   ],
   "source": [
    "for num, item in enumerate(sar1):\n",
    "    print(f\"Elements #{num} = {item}\")"
   ]
  },
  {
   "cell_type": "code",
   "execution_count": 57,
   "id": "7f818700",
   "metadata": {},
   "outputs": [],
   "source": [
    "def mana_funkcija(saraksts):\n",
    "    for num, item in enumerate(saraksts):\n",
    "        print(f\"Elements #{num} = {item}\")"
   ]
  },
  {
   "cell_type": "code",
   "execution_count": 58,
   "id": "f3046677",
   "metadata": {},
   "outputs": [
    {
     "name": "stdout",
     "output_type": "stream",
     "text": [
      "Elements #0 = citrons\n",
      "Elements #1 = ābols\n",
      "Elements #2 = bumbieris\n",
      "Elements #3 = persiks\n"
     ]
    }
   ],
   "source": [
    "mana_funkcija(sar1)"
   ]
  },
  {
   "cell_type": "code",
   "execution_count": 59,
   "id": "5f6a9f82",
   "metadata": {},
   "outputs": [
    {
     "name": "stdout",
     "output_type": "stream",
     "text": [
      "Elements #0 = piens\n",
      "Elements #1 = kefīrs\n"
     ]
    }
   ],
   "source": [
    "mana_funkcija(sar2)"
   ]
  },
  {
   "cell_type": "code",
   "execution_count": 60,
   "id": "89567b35",
   "metadata": {},
   "outputs": [],
   "source": [
    "random.shuffle(sar1)"
   ]
  },
  {
   "cell_type": "code",
   "execution_count": 61,
   "id": "fa06472c",
   "metadata": {},
   "outputs": [
    {
     "name": "stdout",
     "output_type": "stream",
     "text": [
      "Elements #0 = persiks\n",
      "Elements #1 = ābols\n",
      "Elements #2 = bumbieris\n",
      "Elements #3 = citrons\n"
     ]
    }
   ],
   "source": [
    "mana_funkcija(sar1)"
   ]
  },
  {
   "cell_type": "markdown",
   "id": "48c03df3",
   "metadata": {},
   "source": [
    "---\n",
    "\n",
    "# Python Functions"
   ]
  },
  {
   "cell_type": "markdown",
   "id": "db92351c",
   "metadata": {},
   "source": [
    "## What is a function?\n",
    "\n",
    "* A function is a block of organized, reusable code that is used to perform a single, related action.\n",
    "* Functions:\n",
    " * [usually] have a name (by which they can be called)\n",
    "   * `fun_nosaukums(argumenti)`\n",
    " * may have arguments (values passed into the function)\n",
    " * may perform some operations / calculations / ...\n",
    "   * for example: print something\n",
    " * may have a return value (that we can get back from the function)\n",
    "\n",
    "### DRY - Do not Repeat Yourself principle\n",
    "\n",
    "* *Every piece of knowledge must have a single, unambiguous, authoritative representation within a system.*\n",
    "http://wiki.c2.com/?DontRepeatYourself\n",
    "* Do not write something multiple times if it can be written just once.\n",
    "\n",
    "![Python function declaration](img/function.png)\n",
    "\n",
    "* Functions are like mini-programs = they can do something and you can call them again and again\n",
    "* Code in the function \"body\" starts with an indentation (similar how we used indentation in `if` statements)\n"
   ]
  },
  {
   "cell_type": "code",
   "execution_count": 45,
   "id": "ac385f0b",
   "metadata": {},
   "outputs": [
    {
     "name": "stdout",
     "output_type": "stream",
     "text": [
      "Daudz teksta\n",
      "Daudz teksta\n",
      "Daudz teksta\n"
     ]
    }
   ],
   "source": [
    "text = \"Daudz teksta\"\n",
    "print(text)\n",
    "print(text)\n",
    "print(text)"
   ]
  },
  {
   "cell_type": "code",
   "execution_count": 46,
   "id": "8d4649b1",
   "metadata": {},
   "outputs": [],
   "source": [
    "def print_3x(argument):\n",
    "    print(argument)\n",
    "    print(argument)\n",
    "    print(argument)\n",
    "    \n",
    "# This function prints its argument 3 times. It does not return any value."
   ]
  },
  {
   "cell_type": "code",
   "execution_count": 47,
   "id": "ef93dc61",
   "metadata": {},
   "outputs": [
    {
     "name": "stdout",
     "output_type": "stream",
     "text": [
      "Daudz teksta\n",
      "Daudz teksta\n",
      "Daudz teksta\n"
     ]
    }
   ],
   "source": [
    "# After a function is defined, we can use it:\n",
    "\n",
    "print_3x(text)"
   ]
  },
  {
   "cell_type": "code",
   "execution_count": 49,
   "id": "39e96b0a",
   "metadata": {},
   "outputs": [
    {
     "name": "stdout",
     "output_type": "stream",
     "text": [
      "Daudz teksta\n",
      "Daudz teksta\n",
      "Daudz teksta\n",
      "\n",
      "Daudz teksta #2\n",
      "Daudz teksta #2\n",
      "Daudz teksta #2\n"
     ]
    }
   ],
   "source": [
    "print_3x(text)\n",
    "print()   # print is also a function (just it is a built-in Python function) \n",
    "print_3x(text + \" #2\")"
   ]
  },
  {
   "cell_type": "code",
   "execution_count": 53,
   "id": "0700d4c2",
   "metadata": {},
   "outputs": [],
   "source": [
    "# It is good to write down what a function does. We will use \"\"\"docstrings\"\"\" for that.\n",
    "# Let's re-define our function (this time with a docstring):\n",
    "\n",
    "def print_3x(argument):\n",
    "    \"\"\"\n",
    "    Print the argument 3 times.\n",
    "    \n",
    "    It's good to have documentation :)\n",
    "    \"\"\"\n",
    "    \n",
    "    print(argument)\n",
    "    print(argument)\n",
    "    print(argument)\n"
   ]
  },
  {
   "cell_type": "code",
   "execution_count": 54,
   "id": "ad8bf5db",
   "metadata": {},
   "outputs": [
    {
     "name": "stdout",
     "output_type": "stream",
     "text": [
      "Help on function print_3x in module __main__:\n",
      "\n",
      "print_3x(argument)\n",
      "    Print the argument 3 times.\n",
      "    \n",
      "    It's good to have documentation :)\n",
      "\n"
     ]
    }
   ],
   "source": [
    "help(print_3x)"
   ]
  },
  {
   "cell_type": "code",
   "execution_count": 56,
   "id": "a0bc8f02",
   "metadata": {},
   "outputs": [
    {
     "name": "stdout",
     "output_type": "stream",
     "text": [
      "42\n"
     ]
    }
   ],
   "source": [
    "# We can use the \"return\" statement to return a value from a function.\n",
    "# The return statement stops (finishes) function execution.\n",
    "\n",
    "# This function does not have arguments and it does not do much \n",
    "# but it returns a value (= it has a return value)\n",
    "\n",
    "def get_the_answer():\n",
    "    \"\"\"\n",
    "    Return the Answer to the Ultimate Question of Life, the Universe, and Everything.    \n",
    "    \n",
    "    https://en.wikipedia.org/wiki/42_(number)#The_Hitchhiker's_Guide_to_the_Galaxy\n",
    "    \"\"\"\n",
    "\n",
    "    return 42\n",
    "    \n",
    "res = get_the_answer()\n",
    "\n",
    "print(res)"
   ]
  },
  {
   "cell_type": "markdown",
   "id": "2934f766",
   "metadata": {},
   "source": [
    "---\n",
    "\n",
    "## Practical Exercises\n",
    "\n",
    "* Define a function that converts its argument from degrees Celsuis to degrees Fahrenheit\n",
    "* Call this function 2-3 times with different argument values and print the result values\n"
   ]
  },
  {
   "cell_type": "code",
   "execution_count": 70,
   "id": "adc70bae",
   "metadata": {},
   "outputs": [],
   "source": [
    "def celsius_to_fahr(argument):\n",
    "    \n",
    "    return (argument * 9 / 5) + 32"
   ]
  },
  {
   "cell_type": "code",
   "execution_count": 71,
   "id": "84ad5e31",
   "metadata": {},
   "outputs": [
    {
     "name": "stdout",
     "output_type": "stream",
     "text": [
      "100.4\n"
     ]
    }
   ],
   "source": [
    "print(celsius_to_fahr(38))"
   ]
  },
  {
   "cell_type": "code",
   "execution_count": 72,
   "id": "dcf96a6a",
   "metadata": {},
   "outputs": [
    {
     "name": "stdout",
     "output_type": "stream",
     "text": [
      "32.0\n"
     ]
    }
   ],
   "source": [
    "print(celsius_to_fahr(0))"
   ]
  },
  {
   "cell_type": "code",
   "execution_count": 73,
   "id": "4830190c",
   "metadata": {},
   "outputs": [
    {
     "name": "stdout",
     "output_type": "stream",
     "text": [
      "212.0\n"
     ]
    }
   ],
   "source": [
    "print(celsius_to_fahr(100))"
   ]
  },
  {
   "cell_type": "code",
   "execution_count": 75,
   "id": "92e62e6a",
   "metadata": {},
   "outputs": [],
   "source": [
    "temp_c = 38\n",
    "temp_t = celsius_to_fahr(temp_c)"
   ]
  },
  {
   "cell_type": "code",
   "execution_count": 77,
   "id": "882d7c9d",
   "metadata": {},
   "outputs": [
    {
     "name": "stdout",
     "output_type": "stream",
     "text": [
      "Temperature is 100.4\n"
     ]
    }
   ],
   "source": [
    "print(f\"Temperature is {temp_t}\")"
   ]
  },
  {
   "cell_type": "markdown",
   "id": "76998804",
   "metadata": {},
   "source": [
    "---\n",
    "\n",
    "## Functions (continued)\n",
    "\n",
    "Functions can call other functions:"
   ]
  },
  {
   "cell_type": "code",
   "execution_count": 78,
   "id": "50b45b12",
   "metadata": {},
   "outputs": [],
   "source": [
    "def eat():\n",
    "    print(\"  Cooking food.\")\n",
    "    print(\"  Eating food.\")"
   ]
  },
  {
   "cell_type": "code",
   "execution_count": 79,
   "id": "efc94295",
   "metadata": {},
   "outputs": [
    {
     "name": "stdout",
     "output_type": "stream",
     "text": [
      "  Cooking food.\n",
      "  Eating food.\n"
     ]
    }
   ],
   "source": [
    "eat()"
   ]
  },
  {
   "cell_type": "code",
   "execution_count": 80,
   "id": "5146c5e5",
   "metadata": {},
   "outputs": [],
   "source": [
    "def eating_time():\n",
    "    print(\"Breakfast:\")\n",
    "    eat()\n",
    "    \n",
    "    print(\"\")\n",
    "    print(\"Lunch:\")\n",
    "    eat()\n",
    "    \n",
    "    print(\"\")\n",
    "    print(\"Dinner:\")\n",
    "    eat()"
   ]
  },
  {
   "cell_type": "code",
   "execution_count": 81,
   "id": "1006b245",
   "metadata": {},
   "outputs": [
    {
     "name": "stdout",
     "output_type": "stream",
     "text": [
      "Breakfast:\n",
      "  Cooking food.\n",
      "  Eating food.\n",
      "\n",
      "Lunch:\n",
      "  Cooking food.\n",
      "  Eating food.\n",
      "\n",
      "Dinner:\n",
      "  Cooking food.\n",
      "  Eating food.\n"
     ]
    }
   ],
   "source": [
    "eating_time()"
   ]
  },
  {
   "cell_type": "code",
   "execution_count": 82,
   "id": "3f2f1a86",
   "metadata": {},
   "outputs": [
    {
     "name": "stdout",
     "output_type": "stream",
     "text": [
      "Breakfast:\n",
      "  Cooking food.\n",
      "  Eating food.\n",
      "\n",
      "Lunch:\n",
      "  Cooking food.\n",
      "  Eating food.\n",
      "\n",
      "Dinner::\n",
      "  Cooking food.\n",
      "  Eating food.\n"
     ]
    }
   ],
   "source": [
    "# We can move printing to the function eat():\n",
    "\n",
    "def eat(meal_name):\n",
    "    \n",
    "    print(meal_name + \":\")\n",
    "    print(\"  Cooking food.\")\n",
    "    print(\"  Eating food.\")\n",
    "    \n",
    "def eating_time():\n",
    "    \n",
    "    eat(\"Breakfast\")\n",
    "    print()\n",
    "    \n",
    "    eat(\"Lunch\")\n",
    "    print()\n",
    "    \n",
    "    eat(\"Dinner:\")\n",
    "\n",
    "# call our function:\n",
    "\n",
    "eating_time()"
   ]
  },
  {
   "cell_type": "markdown",
   "id": "b76c9d44",
   "metadata": {},
   "source": [
    "Functions can even call themselves (that's called [recursion](https://en.wikipedia.org/wiki/Recursion_(computer_science))):\n",
    "* but be careful with it (or you may end up with an infinite loop)"
   ]
  },
  {
   "cell_type": "code",
   "execution_count": 87,
   "id": "9f155b90",
   "metadata": {},
   "outputs": [],
   "source": [
    "def count_to_zero(number):\n",
    "\n",
    "    if number < 0:\n",
    "        print(\"Negative values are not allowed!\")\n",
    "        return\n",
    "\n",
    "    if number == 0:\n",
    "        print(\"That's it!\")\n",
    "        return    # we use return here to end function execution\n",
    "        \n",
    "    print(number)\n",
    "    \n",
    "    # recursive function call\n",
    "    count_to_zero(number-1)"
   ]
  },
  {
   "cell_type": "code",
   "execution_count": 84,
   "id": "e697dcc6",
   "metadata": {
    "scrolled": true
   },
   "outputs": [
    {
     "name": "stdout",
     "output_type": "stream",
     "text": [
      "5\n",
      "4\n",
      "3\n",
      "2\n",
      "1\n",
      "That's it!\n"
     ]
    }
   ],
   "source": [
    "count_to_zero(5)"
   ]
  },
  {
   "cell_type": "code",
   "execution_count": 88,
   "id": "2cc90751",
   "metadata": {},
   "outputs": [
    {
     "name": "stdout",
     "output_type": "stream",
     "text": [
      "Negative values are not allowed!\n"
     ]
    }
   ],
   "source": [
    "count_to_zero(-5)"
   ]
  },
  {
   "cell_type": "code",
   "execution_count": 91,
   "id": "47843d48",
   "metadata": {},
   "outputs": [],
   "source": [
    "# We can re-write this function not to use recursion:\n",
    "\n",
    "def count_to_zero_2(number):\n",
    "\n",
    "    if number < 0:\n",
    "        print(\"Negative values are not allowed!\")\n",
    "        return\n",
    "\n",
    "    while number > 0:\n",
    "        print(number)\n",
    "        number = number - 1\n",
    "\n",
    "    print(\"That's it!\")"
   ]
  },
  {
   "cell_type": "code",
   "execution_count": 94,
   "id": "994833af",
   "metadata": {},
   "outputs": [
    {
     "name": "stdout",
     "output_type": "stream",
     "text": [
      "5\n",
      "4\n",
      "3\n",
      "2\n",
      "1\n",
      "That's it!\n"
     ]
    }
   ],
   "source": [
    "count_to_zero_2(5)"
   ]
  },
  {
   "cell_type": "code",
   "execution_count": 95,
   "id": "900aa55e",
   "metadata": {},
   "outputs": [
    {
     "name": "stdout",
     "output_type": "stream",
     "text": [
      "Negative values are not allowed!\n"
     ]
    }
   ],
   "source": [
    "count_to_zero_2(-5)"
   ]
  },
  {
   "cell_type": "code",
   "execution_count": 96,
   "id": "a8edfb23",
   "metadata": {},
   "outputs": [
    {
     "name": "stdout",
     "output_type": "stream",
     "text": [
      "That's it!\n"
     ]
    }
   ],
   "source": [
    "count_to_zero_2(0)"
   ]
  },
  {
   "cell_type": "markdown",
   "id": "a991b9d4",
   "metadata": {},
   "source": [
    "---"
   ]
  },
  {
   "cell_type": "code",
   "execution_count": 97,
   "id": "d8cb241c",
   "metadata": {},
   "outputs": [
    {
     "name": "stdout",
     "output_type": "stream",
     "text": [
      "Help on built-in function print in module builtins:\n",
      "\n",
      "print(...)\n",
      "    print(value, ..., sep=' ', end='\\n', file=sys.stdout, flush=False)\n",
      "    \n",
      "    Prints the values to a stream, or to sys.stdout by default.\n",
      "    Optional keyword arguments:\n",
      "    file:  a file-like object (stream); defaults to the current sys.stdout.\n",
      "    sep:   string inserted between values, default a space.\n",
      "    end:   string appended after the last value, default a newline.\n",
      "    flush: whether to forcibly flush the stream.\n",
      "\n"
     ]
    }
   ],
   "source": [
    "# Functions may also have keyword arguments:\n",
    "#  - print function has a \"sep\" keyword argument (also: \"end\", ...)\n",
    "\n",
    "help(print)"
   ]
  },
  {
   "cell_type": "code",
   "execution_count": 98,
   "id": "3a6d0011",
   "metadata": {},
   "outputs": [
    {
     "name": "stdout",
     "output_type": "stream",
     "text": [
      "1 2 3\n",
      "4 5 6\n"
     ]
    }
   ],
   "source": [
    "print(1, 2, 3)\n",
    "print(4, 5, 6)"
   ]
  },
  {
   "cell_type": "code",
   "execution_count": 99,
   "id": "f870a86b",
   "metadata": {},
   "outputs": [
    {
     "name": "stdout",
     "output_type": "stream",
     "text": [
      "1 2 3; 4 5 6\n"
     ]
    }
   ],
   "source": [
    "print(1, 2, 3, end=\"; \")   # not jumping to a new line here\n",
    "print(4, 5, 6)"
   ]
  },
  {
   "cell_type": "code",
   "execution_count": 100,
   "id": "7b70b072",
   "metadata": {},
   "outputs": [
    {
     "name": "stdout",
     "output_type": "stream",
     "text": [
      "1 2 3\n",
      "\n",
      "1, 2, 3\n"
     ]
    }
   ],
   "source": [
    "print(1, 2, 3)\n",
    "print()\n",
    "print(1, 2, 3, sep=\", \")   # using a different separator string here"
   ]
  },
  {
   "cell_type": "markdown",
   "id": "f091c2d2",
   "metadata": {},
   "source": [
    "---\n",
    "\n",
    "### Local and global variables (scope)"
   ]
  },
  {
   "cell_type": "code",
   "execution_count": 101,
   "id": "3bfbe7d0",
   "metadata": {},
   "outputs": [
    {
     "name": "stdout",
     "output_type": "stream",
     "text": [
      "Variable: Local variable\n",
      "Argument: 111\n",
      "\n",
      "Global var: Global variable\n"
     ]
    }
   ],
   "source": [
    "global_var = \"Global variable\"\n",
    "\n",
    "# the variables defined in the function are local to the function\n",
    "#  - function arguments are also local (and not \"visible\" globally)\n",
    "\n",
    "def some_function(argument_1):\n",
    "    \n",
    "    local_var = \"Local variable\"\n",
    "    \n",
    "    print(f\"Variable: {local_var}\")\n",
    "    print(f\"Argument: {argument_1}\")\n",
    "    \n",
    "    # we can also use global variable inside a function\n",
    "    #  - but better don't - pass it as an argument instead\n",
    "    print()\n",
    "    print(f\"Global var: {global_var}\")\n",
    "\n",
    "some_function(111)\n"
   ]
  },
  {
   "cell_type": "code",
   "execution_count": 102,
   "id": "35f4a4e4",
   "metadata": {},
   "outputs": [
    {
     "name": "stdout",
     "output_type": "stream",
     "text": [
      "Global var: Global variable\n"
     ]
    },
    {
     "ename": "NameError",
     "evalue": "name 'local_var' is not defined",
     "output_type": "error",
     "traceback": [
      "\u001b[0;31m---------------------------------------------------------------------------\u001b[0m",
      "\u001b[0;31mNameError\u001b[0m                                 Traceback (most recent call last)",
      "\u001b[0;32m/var/folders/cy/880bvxy90j33f79df17qysyr0000gn/T/ipykernel_51306/4165873863.py\u001b[0m in \u001b[0;36m<module>\u001b[0;34m\u001b[0m\n\u001b[1;32m      5\u001b[0m \u001b[0mprint\u001b[0m\u001b[0;34m(\u001b[0m\u001b[0;34mf\"Global var: {global_var}\"\u001b[0m\u001b[0;34m)\u001b[0m\u001b[0;34m\u001b[0m\u001b[0;34m\u001b[0m\u001b[0m\n\u001b[1;32m      6\u001b[0m \u001b[0;34m\u001b[0m\u001b[0m\n\u001b[0;32m----> 7\u001b[0;31m \u001b[0mprint\u001b[0m\u001b[0;34m(\u001b[0m\u001b[0;34mf\"Variable: {local_var}\"\u001b[0m\u001b[0;34m)\u001b[0m\u001b[0;34m\u001b[0m\u001b[0;34m\u001b[0m\u001b[0m\n\u001b[0m",
      "\u001b[0;31mNameError\u001b[0m: name 'local_var' is not defined"
     ]
    }
   ],
   "source": [
    "# Outside of the function (in the global scope or \n",
    "# in the scope of another function) we can not \n",
    "# access local variables and arguments:\n",
    "\n",
    "print(f\"Global var: {global_var}\")\n",
    "\n",
    "print(f\"Variable: {local_var}\")"
   ]
  },
  {
   "cell_type": "code",
   "execution_count": 103,
   "id": "74cf8ec4",
   "metadata": {},
   "outputs": [
    {
     "ename": "NameError",
     "evalue": "name 'argument_1' is not defined",
     "output_type": "error",
     "traceback": [
      "\u001b[0;31m---------------------------------------------------------------------------\u001b[0m",
      "\u001b[0;31mNameError\u001b[0m                                 Traceback (most recent call last)",
      "\u001b[0;32m/var/folders/cy/880bvxy90j33f79df17qysyr0000gn/T/ipykernel_51306/2865253217.py\u001b[0m in \u001b[0;36m<module>\u001b[0;34m\u001b[0m\n\u001b[0;32m----> 1\u001b[0;31m \u001b[0mprint\u001b[0m\u001b[0;34m(\u001b[0m\u001b[0;34mf\"Argument: {argument_1}\"\u001b[0m\u001b[0;34m)\u001b[0m\u001b[0;34m\u001b[0m\u001b[0;34m\u001b[0m\u001b[0m\n\u001b[0m",
      "\u001b[0;31mNameError\u001b[0m: name 'argument_1' is not defined"
     ]
    }
   ],
   "source": [
    "print(f\"Argument: {argument_1}\")"
   ]
  },
  {
   "cell_type": "code",
   "execution_count": 106,
   "id": "e9eb5b8f",
   "metadata": {},
   "outputs": [
    {
     "name": "stdout",
     "output_type": "stream",
     "text": [
      "Global variable\n",
      "... 111\n",
      "Global variable\n"
     ]
    }
   ],
   "source": [
    "# Changing a global variable in a function is not that simple\n",
    "# (and you should avoid doing it)\n",
    "\n",
    "def change_global():\n",
    "    \n",
    "    global_var = 111\n",
    "    print(\"...\", global_var)\n",
    "    \n",
    "print(global_var)\n",
    "change_global()\n",
    "print(global_var)"
   ]
  },
  {
   "cell_type": "code",
   "execution_count": 107,
   "id": "86e7ea67",
   "metadata": {},
   "outputs": [
    {
     "name": "stdout",
     "output_type": "stream",
     "text": [
      "Global variable\n",
      "111\n"
     ]
    }
   ],
   "source": [
    "def change_global_2():\n",
    "    global global_var\n",
    "    \n",
    "    global_var =  111\n",
    "    \n",
    "print(global_var)\n",
    "change_global_2()\n",
    "print(global_var)"
   ]
  },
  {
   "cell_type": "markdown",
   "id": "7a9d5306",
   "metadata": {},
   "source": [
    "---"
   ]
  },
  {
   "cell_type": "code",
   "execution_count": 108,
   "id": "c7d14c84",
   "metadata": {},
   "outputs": [],
   "source": [
    "# A function may have multiple arguments.\n",
    "# The arguments may be of different types.\n",
    "\n",
    "def add(a, b):\n",
    "    return a + b    # returns the sum of arguments"
   ]
  },
  {
   "cell_type": "code",
   "execution_count": 109,
   "id": "a31a67d4",
   "metadata": {},
   "outputs": [
    {
     "name": "stdout",
     "output_type": "stream",
     "text": [
      "3\n",
      "5.24\n",
      "text here\n",
      "[1, 2, 3, 4, 5]\n"
     ]
    }
   ],
   "source": [
    "print(add(1, 2))\n",
    "\n",
    "print(add(3.14, 2.1))\n",
    "\n",
    "print(add(\"text\", \" here\"))\n",
    "\n",
    "print(add([1, 2, 3], [4, 5]))\n"
   ]
  },
  {
   "cell_type": "code",
   "execution_count": 110,
   "id": "5e5b82d0",
   "metadata": {},
   "outputs": [
    {
     "data": {
      "text/plain": [
       "53"
      ]
     },
     "execution_count": 110,
     "metadata": {},
     "output_type": "execute_result"
    }
   ],
   "source": [
    "add(add(1, 2), add(45, 5))"
   ]
  },
  {
   "cell_type": "code",
   "execution_count": 111,
   "id": "fbc8ea29",
   "metadata": {},
   "outputs": [
    {
     "name": "stdout",
     "output_type": "stream",
     "text": [
      "3\n",
      "None\n"
     ]
    }
   ],
   "source": [
    "# What if we do not return a value but just print the result?\n",
    "\n",
    "def another_add(a, b):\n",
    "    c = a + b    # c is local to the function\n",
    "    print(c)\n",
    "    \n",
    "print(another_add(1, 2))    # the function returns a special value None"
   ]
  },
  {
   "cell_type": "code",
   "execution_count": 112,
   "id": "7ba9c275",
   "metadata": {},
   "outputs": [
    {
     "name": "stdout",
     "output_type": "stream",
     "text": [
      "3\n",
      "50\n"
     ]
    },
    {
     "ename": "TypeError",
     "evalue": "unsupported operand type(s) for +: 'NoneType' and 'NoneType'",
     "output_type": "error",
     "traceback": [
      "\u001b[0;31m---------------------------------------------------------------------------\u001b[0m",
      "\u001b[0;31mTypeError\u001b[0m                                 Traceback (most recent call last)",
      "\u001b[0;32m/var/folders/cy/880bvxy90j33f79df17qysyr0000gn/T/ipykernel_51306/1624551028.py\u001b[0m in \u001b[0;36m<module>\u001b[0;34m\u001b[0m\n\u001b[1;32m      2\u001b[0m \u001b[0;31m# (because the function does not return a value)\u001b[0m\u001b[0;34m\u001b[0m\u001b[0;34m\u001b[0m\u001b[0;34m\u001b[0m\u001b[0m\n\u001b[1;32m      3\u001b[0m \u001b[0;34m\u001b[0m\u001b[0m\n\u001b[0;32m----> 4\u001b[0;31m \u001b[0manother_add\u001b[0m\u001b[0;34m(\u001b[0m\u001b[0manother_add\u001b[0m\u001b[0;34m(\u001b[0m\u001b[0;36m1\u001b[0m\u001b[0;34m,\u001b[0m \u001b[0;36m2\u001b[0m\u001b[0;34m)\u001b[0m\u001b[0;34m,\u001b[0m \u001b[0manother_add\u001b[0m\u001b[0;34m(\u001b[0m\u001b[0;36m45\u001b[0m\u001b[0;34m,\u001b[0m \u001b[0;36m5\u001b[0m\u001b[0;34m)\u001b[0m\u001b[0;34m)\u001b[0m\u001b[0;34m\u001b[0m\u001b[0;34m\u001b[0m\u001b[0m\n\u001b[0m",
      "\u001b[0;32m/var/folders/cy/880bvxy90j33f79df17qysyr0000gn/T/ipykernel_51306/2405236458.py\u001b[0m in \u001b[0;36manother_add\u001b[0;34m(a, b)\u001b[0m\n\u001b[1;32m      2\u001b[0m \u001b[0;34m\u001b[0m\u001b[0m\n\u001b[1;32m      3\u001b[0m \u001b[0;32mdef\u001b[0m \u001b[0manother_add\u001b[0m\u001b[0;34m(\u001b[0m\u001b[0ma\u001b[0m\u001b[0;34m,\u001b[0m \u001b[0mb\u001b[0m\u001b[0;34m)\u001b[0m\u001b[0;34m:\u001b[0m\u001b[0;34m\u001b[0m\u001b[0;34m\u001b[0m\u001b[0m\n\u001b[0;32m----> 4\u001b[0;31m     \u001b[0mc\u001b[0m \u001b[0;34m=\u001b[0m \u001b[0ma\u001b[0m \u001b[0;34m+\u001b[0m \u001b[0mb\u001b[0m    \u001b[0;31m# c is local to the function\u001b[0m\u001b[0;34m\u001b[0m\u001b[0;34m\u001b[0m\u001b[0m\n\u001b[0m\u001b[1;32m      5\u001b[0m     \u001b[0mprint\u001b[0m\u001b[0;34m(\u001b[0m\u001b[0mc\u001b[0m\u001b[0;34m)\u001b[0m\u001b[0;34m\u001b[0m\u001b[0;34m\u001b[0m\u001b[0m\n\u001b[1;32m      6\u001b[0m \u001b[0;34m\u001b[0m\u001b[0m\n",
      "\u001b[0;31mTypeError\u001b[0m: unsupported operand type(s) for +: 'NoneType' and 'NoneType'"
     ]
    }
   ],
   "source": [
    "# this will not work like it did for the \"add\" function:\n",
    "# (because the function does not return a value)\n",
    "\n",
    "another_add(another_add(1, 2), another_add(45, 5))"
   ]
  },
  {
   "cell_type": "markdown",
   "id": "b973a90c",
   "metadata": {},
   "source": [
    "---"
   ]
  },
  {
   "cell_type": "code",
   "execution_count": 114,
   "id": "705fdcf9",
   "metadata": {},
   "outputs": [
    {
     "name": "stdout",
     "output_type": "stream",
     "text": [
      "['Meat', 'Potatoes', 'Cake']\n"
     ]
    }
   ],
   "source": [
    "# Functions may modify values of mutable \"things\" passed to it\n",
    "# (for example, lists)\n",
    "\n",
    "my_list = [\"Meat\", \"Potatoes\", \"Cake\"]\n",
    "\n",
    "def add_element(some_list, element):\n",
    "    some_list.append(element)\n",
    "    \n",
    "print(my_list)"
   ]
  },
  {
   "cell_type": "code",
   "execution_count": 115,
   "id": "569c2e46",
   "metadata": {},
   "outputs": [
    {
     "name": "stdout",
     "output_type": "stream",
     "text": [
      "['Meat', 'Potatoes', 'Cake', 'Water']\n"
     ]
    }
   ],
   "source": [
    "add_element(my_list, \"Water\")\n",
    "\n",
    "print(my_list)"
   ]
  },
  {
   "cell_type": "code",
   "execution_count": 122,
   "id": "b9a2e924",
   "metadata": {},
   "outputs": [
    {
     "name": "stdout",
     "output_type": "stream",
     "text": [
      "Found [cake] in [Tasty cake]\n"
     ]
    },
    {
     "data": {
      "text/plain": [
       "'Tasty cake'"
      ]
     },
     "execution_count": 122,
     "metadata": {},
     "output_type": "execute_result"
    }
   ],
   "source": [
    "# Let's make a function to search for sub-elements in a list:\n",
    "\n",
    "my_list = [\"Mashed potatoes\", \"Crispy chicken\", \"Tasty cake\"]\n",
    "\n",
    "def search_for(some_list, sub_element):\n",
    "        \n",
    "    for list_element in some_list:\n",
    "        \n",
    "        if sub_element.lower() in list_element.lower():\n",
    "            print(f\"Found [{sub_element}] in [{list_element}]\")\n",
    "            return list_element\n",
    "            \n",
    "    print(f\"Sorry, [{sub_element}] not found in the list {some_list}.\")\n",
    "\n",
    "search_for(my_list, \"cake\")"
   ]
  },
  {
   "cell_type": "code",
   "execution_count": 120,
   "id": "e0fa5f17",
   "metadata": {},
   "outputs": [
    {
     "name": "stdout",
     "output_type": "stream",
     "text": [
      "Sorry, [vegetables] not found in the list ['Mashed potatoes', 'Crispy chicken', 'Tasty cake'].\n"
     ]
    }
   ],
   "source": [
    "search_for(my_list, \"vegetables\")"
   ]
  },
  {
   "cell_type": "code",
   "execution_count": 123,
   "id": "7b10fb78",
   "metadata": {},
   "outputs": [
    {
     "name": "stdout",
     "output_type": "stream",
     "text": [
      "Found [Cake] in [Tasty cake]\n"
     ]
    },
    {
     "data": {
      "text/plain": [
       "'Tasty cake'"
      ]
     },
     "execution_count": 123,
     "metadata": {},
     "output_type": "execute_result"
    }
   ],
   "source": [
    "search_for(my_list, \"Cake\")   # comparison is \"case sensitive\"!"
   ]
  },
  {
   "cell_type": "markdown",
   "id": "d311187d",
   "metadata": {},
   "source": [
    "Question:\n",
    "* how would you modify this function to find elements independent of lowercase / uppercase?\n",
    "\n",
    "---"
   ]
  },
  {
   "cell_type": "code",
   "execution_count": 125,
   "id": "896b79ce",
   "metadata": {},
   "outputs": [],
   "source": [
    "# Function arguments may have default values:\n",
    "\n",
    "def mix_drinks(juice=\"Apple juice\", alcohol=\"rum\"):\n",
    "    \"\"\"\n",
    "    Mixes drinks for you.\n",
    "    \n",
    "    Specify the components to mix using the \"juice\" and \"alcohol\" parameters.\n",
    "    \"\"\"\n",
    "    \n",
    "    print(f\"Have a drink: {juice} with {alcohol}\")"
   ]
  },
  {
   "cell_type": "code",
   "execution_count": 126,
   "id": "4fbab134",
   "metadata": {},
   "outputs": [
    {
     "name": "stdout",
     "output_type": "stream",
     "text": [
      "Have a drink: Tomatoe juice with vodka\n"
     ]
    }
   ],
   "source": [
    "mix_drinks(\"Tomatoe juice\", \"vodka\")"
   ]
  },
  {
   "cell_type": "code",
   "execution_count": 127,
   "id": "f8ae3318",
   "metadata": {},
   "outputs": [
    {
     "name": "stdout",
     "output_type": "stream",
     "text": [
      "Have a drink: Cola with rum\n"
     ]
    }
   ],
   "source": [
    "mix_drinks(\"Cola\")"
   ]
  },
  {
   "cell_type": "code",
   "execution_count": 128,
   "id": "9ec3d86d",
   "metadata": {},
   "outputs": [
    {
     "name": "stdout",
     "output_type": "stream",
     "text": [
      "Have a drink: Apple juice with rum\n"
     ]
    }
   ],
   "source": [
    "mix_drinks()"
   ]
  },
  {
   "cell_type": "markdown",
   "id": "1bb10749",
   "metadata": {},
   "source": [
    "Question:\n",
    "* can you specify just the second argument?\n",
    "* how can you get help about this function (in Jupyter and in \"plain\" Python)?\n",
    "---"
   ]
  },
  {
   "cell_type": "code",
   "execution_count": 130,
   "id": "81549142",
   "metadata": {},
   "outputs": [
    {
     "name": "stdout",
     "output_type": "stream",
     "text": [
      "Have a drink: Apple juice with vodka\n"
     ]
    }
   ],
   "source": [
    "mix_drinks(alcohol=\"vodka\")"
   ]
  },
  {
   "cell_type": "markdown",
   "id": "507a3244",
   "metadata": {},
   "source": [
    "### Returning multiple values\n",
    "\n",
    "* multiple values may be returned as a tuple"
   ]
  },
  {
   "cell_type": "code",
   "execution_count": 132,
   "id": "a6491c0f",
   "metadata": {},
   "outputs": [
    {
     "name": "stdout",
     "output_type": "stream",
     "text": [
      "(16, 8)\n"
     ]
    }
   ],
   "source": [
    "def return_multiple(a, b):\n",
    "    \n",
    "    return (a+b, a-b)\n",
    "\n",
    "print(return_multiple(12, 4))"
   ]
  },
  {
   "cell_type": "code",
   "execution_count": 133,
   "id": "a8209001",
   "metadata": {},
   "outputs": [],
   "source": [
    "result = return_multiple(12, 4)"
   ]
  },
  {
   "cell_type": "code",
   "execution_count": 134,
   "id": "d30e5a66",
   "metadata": {},
   "outputs": [
    {
     "name": "stdout",
     "output_type": "stream",
     "text": [
      "(16, 8)\n",
      "<class 'tuple'>\n"
     ]
    }
   ],
   "source": [
    "print(result)\n",
    "print(type(result))"
   ]
  },
  {
   "cell_type": "code",
   "execution_count": 135,
   "id": "03ebcdf0",
   "metadata": {},
   "outputs": [
    {
     "name": "stdout",
     "output_type": "stream",
     "text": [
      "16\n"
     ]
    }
   ],
   "source": [
    "first_val = result[0]\n",
    "print(first_val)"
   ]
  },
  {
   "cell_type": "markdown",
   "id": "500fdb7c",
   "metadata": {},
   "source": [
    "---\n",
    "\n",
    "### Practical exercises\n",
    "\n",
    "* Write a function that checks if its argument is a prime number\n",
    "* Write a function that checks if a string argument is a palindrome:\n",
    " * A palindrome is a word, number, phrase, or other sequence of characters which reads the same backward as forward.\n",
    " * Examples: \"madam\", \"racecar\"."
   ]
  },
  {
   "cell_type": "code",
   "execution_count": null,
   "id": "a4474812",
   "metadata": {},
   "outputs": [],
   "source": []
  },
  {
   "cell_type": "code",
   "execution_count": null,
   "id": "4e3d0fc7",
   "metadata": {},
   "outputs": [],
   "source": []
  },
  {
   "cell_type": "code",
   "execution_count": null,
   "id": "ebd743f5",
   "metadata": {},
   "outputs": [],
   "source": []
  },
  {
   "cell_type": "code",
   "execution_count": null,
   "id": "769ca7b6",
   "metadata": {},
   "outputs": [],
   "source": []
  },
  {
   "cell_type": "markdown",
   "id": "460bd8c5",
   "metadata": {},
   "source": [
    "---\n",
    "\n",
    "### More information:\n",
    "\n",
    "* [\"Automate the boring stuff\" chapter about functions](https://automatetheboringstuff.com/2e/chapter3/)\n",
    "* [Python functions exercises](https://www.w3resource.com/python-exercises/python-functions-exercises.php)\n",
    "* [Python built-in functions](https://docs.python.org/3/library/functions.html)\n"
   ]
  }
 ],
 "metadata": {
  "kernelspec": {
   "display_name": "Python 3 (ipykernel)",
   "language": "python",
   "name": "python3"
  },
  "language_info": {
   "codemirror_mode": {
    "name": "ipython",
    "version": 3
   },
   "file_extension": ".py",
   "mimetype": "text/x-python",
   "name": "python",
   "nbconvert_exporter": "python",
   "pygments_lexer": "ipython3",
   "version": "3.7.12"
  }
 },
 "nbformat": 4,
 "nbformat_minor": 5
}
