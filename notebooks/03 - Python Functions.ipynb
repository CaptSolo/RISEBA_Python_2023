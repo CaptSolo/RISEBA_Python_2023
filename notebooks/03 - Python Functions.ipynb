{
 "cells": [
  {
   "cell_type": "markdown",
   "id": "215dc109",
   "metadata": {},
   "source": [
    "# Lists (recap)"
   ]
  },
  {
   "cell_type": "markdown",
   "id": "316cefbf",
   "metadata": {},
   "source": [
    "* `len()` function (for strings, lists, ...)\n",
    "* List methods\n",
    "* Slice notation `[start:end]`\n",
    "* Adding lists\n",
    "* Checking if some element is part of the list\n",
    "  * \"`in`\" and \"`not in`\"\n",
    "* Looping over a list\n",
    "  * `for item in list:`\n",
    "  * `for i in range(len(list):`\n",
    "  * using `enumerate` to get list element numbers"
   ]
  },
  {
   "cell_type": "code",
   "execution_count": 33,
   "id": "bff93a2f",
   "metadata": {},
   "outputs": [],
   "source": [
    "list0 = []"
   ]
  },
  {
   "cell_type": "code",
   "execution_count": 34,
   "id": "ca35d6b7",
   "metadata": {},
   "outputs": [
    {
     "name": "stdout",
     "output_type": "stream",
     "text": [
      "['first']\n"
     ]
    }
   ],
   "source": [
    "list0.append(\"first\")\n",
    "print(list0)"
   ]
  },
  {
   "cell_type": "code",
   "execution_count": 4,
   "id": "bd7b3039",
   "metadata": {},
   "outputs": [],
   "source": [
    "list1 = [\"pear\", \"carrot\", \"apple\", \"cucumber\"]"
   ]
  },
  {
   "cell_type": "code",
   "execution_count": 5,
   "id": "255b312e",
   "metadata": {},
   "outputs": [
    {
     "data": {
      "text/plain": [
       "4"
      ]
     },
     "execution_count": 5,
     "metadata": {},
     "output_type": "execute_result"
    }
   ],
   "source": [
    "len(list1)"
   ]
  },
  {
   "cell_type": "code",
   "execution_count": 6,
   "id": "db48d490",
   "metadata": {},
   "outputs": [
    {
     "name": "stdout",
     "output_type": "stream",
     "text": [
      "apple\n"
     ]
    }
   ],
   "source": [
    "print(list1[2])"
   ]
  },
  {
   "cell_type": "code",
   "execution_count": 7,
   "id": "9d6c15de",
   "metadata": {},
   "outputs": [],
   "source": [
    "list2 = [\"juice\", \"milk\"]"
   ]
  },
  {
   "cell_type": "code",
   "execution_count": 8,
   "id": "3f60ed9b",
   "metadata": {},
   "outputs": [
    {
     "name": "stdout",
     "output_type": "stream",
     "text": [
      "['pear', 'carrot', 'apple', 'cucumber', 'juice', 'milk']\n"
     ]
    }
   ],
   "source": [
    "print(list1 + list2)"
   ]
  },
  {
   "cell_type": "code",
   "execution_count": 9,
   "id": "aaa8d988",
   "metadata": {},
   "outputs": [],
   "source": [
    "list1.append(\"pineapple\")"
   ]
  },
  {
   "cell_type": "code",
   "execution_count": 10,
   "id": "b500a4a2",
   "metadata": {},
   "outputs": [
    {
     "data": {
      "text/plain": [
       "['pear', 'carrot', 'apple', 'cucumber', 'pineapple']"
      ]
     },
     "execution_count": 10,
     "metadata": {},
     "output_type": "execute_result"
    }
   ],
   "source": [
    "list1"
   ]
  },
  {
   "cell_type": "code",
   "execution_count": 11,
   "id": "65b4256b",
   "metadata": {},
   "outputs": [
    {
     "name": "stdout",
     "output_type": "stream",
     "text": [
      "Help on class list in module builtins:\n",
      "\n",
      "class list(object)\n",
      " |  list(iterable=(), /)\n",
      " |  \n",
      " |  Built-in mutable sequence.\n",
      " |  \n",
      " |  If no argument is given, the constructor creates a new empty list.\n",
      " |  The argument must be an iterable if specified.\n",
      " |  \n",
      " |  Methods defined here:\n",
      " |  \n",
      " |  __add__(self, value, /)\n",
      " |      Return self+value.\n",
      " |  \n",
      " |  __contains__(self, key, /)\n",
      " |      Return key in self.\n",
      " |  \n",
      " |  __delitem__(self, key, /)\n",
      " |      Delete self[key].\n",
      " |  \n",
      " |  __eq__(self, value, /)\n",
      " |      Return self==value.\n",
      " |  \n",
      " |  __ge__(self, value, /)\n",
      " |      Return self>=value.\n",
      " |  \n",
      " |  __getattribute__(self, name, /)\n",
      " |      Return getattr(self, name).\n",
      " |  \n",
      " |  __getitem__(...)\n",
      " |      x.__getitem__(y) <==> x[y]\n",
      " |  \n",
      " |  __gt__(self, value, /)\n",
      " |      Return self>value.\n",
      " |  \n",
      " |  __iadd__(self, value, /)\n",
      " |      Implement self+=value.\n",
      " |  \n",
      " |  __imul__(self, value, /)\n",
      " |      Implement self*=value.\n",
      " |  \n",
      " |  __init__(self, /, *args, **kwargs)\n",
      " |      Initialize self.  See help(type(self)) for accurate signature.\n",
      " |  \n",
      " |  __iter__(self, /)\n",
      " |      Implement iter(self).\n",
      " |  \n",
      " |  __le__(self, value, /)\n",
      " |      Return self<=value.\n",
      " |  \n",
      " |  __len__(self, /)\n",
      " |      Return len(self).\n",
      " |  \n",
      " |  __lt__(self, value, /)\n",
      " |      Return self<value.\n",
      " |  \n",
      " |  __mul__(self, value, /)\n",
      " |      Return self*value.\n",
      " |  \n",
      " |  __ne__(self, value, /)\n",
      " |      Return self!=value.\n",
      " |  \n",
      " |  __repr__(self, /)\n",
      " |      Return repr(self).\n",
      " |  \n",
      " |  __reversed__(self, /)\n",
      " |      Return a reverse iterator over the list.\n",
      " |  \n",
      " |  __rmul__(self, value, /)\n",
      " |      Return value*self.\n",
      " |  \n",
      " |  __setitem__(self, key, value, /)\n",
      " |      Set self[key] to value.\n",
      " |  \n",
      " |  __sizeof__(self, /)\n",
      " |      Return the size of the list in memory, in bytes.\n",
      " |  \n",
      " |  append(self, object, /)\n",
      " |      Append object to the end of the list.\n",
      " |  \n",
      " |  clear(self, /)\n",
      " |      Remove all items from list.\n",
      " |  \n",
      " |  copy(self, /)\n",
      " |      Return a shallow copy of the list.\n",
      " |  \n",
      " |  count(self, value, /)\n",
      " |      Return number of occurrences of value.\n",
      " |  \n",
      " |  extend(self, iterable, /)\n",
      " |      Extend list by appending elements from the iterable.\n",
      " |  \n",
      " |  index(self, value, start=0, stop=9223372036854775807, /)\n",
      " |      Return first index of value.\n",
      " |      \n",
      " |      Raises ValueError if the value is not present.\n",
      " |  \n",
      " |  insert(self, index, object, /)\n",
      " |      Insert object before index.\n",
      " |  \n",
      " |  pop(self, index=-1, /)\n",
      " |      Remove and return item at index (default last).\n",
      " |      \n",
      " |      Raises IndexError if list is empty or index is out of range.\n",
      " |  \n",
      " |  remove(self, value, /)\n",
      " |      Remove first occurrence of value.\n",
      " |      \n",
      " |      Raises ValueError if the value is not present.\n",
      " |  \n",
      " |  reverse(self, /)\n",
      " |      Reverse *IN PLACE*.\n",
      " |  \n",
      " |  sort(self, /, *, key=None, reverse=False)\n",
      " |      Sort the list in ascending order and return None.\n",
      " |      \n",
      " |      The sort is in-place (i.e. the list itself is modified) and stable (i.e. the\n",
      " |      order of two equal elements is maintained).\n",
      " |      \n",
      " |      If a key function is given, apply it once to each list item and sort them,\n",
      " |      ascending or descending, according to their function values.\n",
      " |      \n",
      " |      The reverse flag can be set to sort in descending order.\n",
      " |  \n",
      " |  ----------------------------------------------------------------------\n",
      " |  Class methods defined here:\n",
      " |  \n",
      " |  __class_getitem__(...) from builtins.type\n",
      " |      See PEP 585\n",
      " |  \n",
      " |  ----------------------------------------------------------------------\n",
      " |  Static methods defined here:\n",
      " |  \n",
      " |  __new__(*args, **kwargs) from builtins.type\n",
      " |      Create and return a new object.  See help(type) for accurate signature.\n",
      " |  \n",
      " |  ----------------------------------------------------------------------\n",
      " |  Data and other attributes defined here:\n",
      " |  \n",
      " |  __hash__ = None\n",
      "\n"
     ]
    }
   ],
   "source": [
    "help(list)"
   ]
  },
  {
   "cell_type": "code",
   "execution_count": 12,
   "id": "edfee02c",
   "metadata": {},
   "outputs": [
    {
     "data": {
      "text/plain": [
       "['apple', 'carrot', 'cucumber', 'pear', 'pineapple']"
      ]
     },
     "execution_count": 12,
     "metadata": {},
     "output_type": "execute_result"
    }
   ],
   "source": [
    "sorted(list1)"
   ]
  },
  {
   "cell_type": "code",
   "execution_count": 13,
   "id": "8144c7b6",
   "metadata": {},
   "outputs": [
    {
     "data": {
      "text/plain": [
       "['pear', 'carrot', 'apple', 'cucumber', 'pineapple']"
      ]
     },
     "execution_count": 13,
     "metadata": {},
     "output_type": "execute_result"
    }
   ],
   "source": [
    "list1"
   ]
  },
  {
   "cell_type": "code",
   "execution_count": 15,
   "id": "fb2cb440",
   "metadata": {},
   "outputs": [
    {
     "data": {
      "text/plain": [
       "True"
      ]
     },
     "execution_count": 15,
     "metadata": {},
     "output_type": "execute_result"
    }
   ],
   "source": [
    "\"pear\" in list1"
   ]
  },
  {
   "cell_type": "code",
   "execution_count": 16,
   "id": "9c26d1a8",
   "metadata": {},
   "outputs": [
    {
     "name": "stdout",
     "output_type": "stream",
     "text": [
      "Hey, 'pear' is in list1!\n"
     ]
    }
   ],
   "source": [
    "if \"pear\" in list1:\n",
    "    print(\"Hey, 'pear' is in list1!\")"
   ]
  },
  {
   "cell_type": "code",
   "execution_count": 17,
   "id": "bdb5081d",
   "metadata": {},
   "outputs": [
    {
     "data": {
      "text/plain": [
       "True"
      ]
     },
     "execution_count": 17,
     "metadata": {},
     "output_type": "execute_result"
    }
   ],
   "source": [
    "\"pear\" not in list2"
   ]
  },
  {
   "cell_type": "code",
   "execution_count": 18,
   "id": "7f119a4f",
   "metadata": {},
   "outputs": [
    {
     "name": "stdout",
     "output_type": "stream",
     "text": [
      "No, 'pear' is not in list2.\n"
     ]
    }
   ],
   "source": [
    "if \"pear\" not in list2:\n",
    "    print(\"No, 'pear' is not in list2.\")"
   ]
  },
  {
   "cell_type": "code",
   "execution_count": 23,
   "id": "3c3e4484",
   "metadata": {},
   "outputs": [
    {
     "name": "stdout",
     "output_type": "stream",
     "text": [
      "pear\n",
      "carrot\n",
      "apple\n",
      "cucumber\n",
      "pineapple\n"
     ]
    }
   ],
   "source": [
    "for element in list1:\n",
    "    print(element)"
   ]
  },
  {
   "cell_type": "code",
   "execution_count": 24,
   "id": "f5ce1373",
   "metadata": {},
   "outputs": [
    {
     "data": {
      "text/plain": [
       "range(0, 5)"
      ]
     },
     "execution_count": 24,
     "metadata": {},
     "output_type": "execute_result"
    }
   ],
   "source": [
    "range(len(list1))"
   ]
  },
  {
   "cell_type": "code",
   "execution_count": 25,
   "id": "9c3caf42",
   "metadata": {},
   "outputs": [
    {
     "data": {
      "text/plain": [
       "[0, 1, 2, 3, 4]"
      ]
     },
     "execution_count": 25,
     "metadata": {},
     "output_type": "execute_result"
    }
   ],
   "source": [
    "list(range(len(list1)))"
   ]
  },
  {
   "cell_type": "code",
   "execution_count": 26,
   "id": "74285d23",
   "metadata": {},
   "outputs": [
    {
     "name": "stdout",
     "output_type": "stream",
     "text": [
      "pear\n",
      "carrot\n",
      "apple\n",
      "cucumber\n",
      "pineapple\n"
     ]
    }
   ],
   "source": [
    "# another option - loop through the list by index numbers\n",
    "for index in range(len(list1)):\n",
    "    print(list1[index])"
   ]
  },
  {
   "cell_type": "code",
   "execution_count": 27,
   "id": "dc7a6233",
   "metadata": {},
   "outputs": [
    {
     "name": "stdout",
     "output_type": "stream",
     "text": [
      "0\n",
      "pear\n",
      "1\n",
      "carrot\n",
      "2\n",
      "apple\n",
      "3\n",
      "cucumber\n",
      "4\n",
      "pineapple\n"
     ]
    }
   ],
   "source": [
    "for num, element in enumerate(list1):\n",
    "    print(num)\n",
    "    print(element)"
   ]
  },
  {
   "cell_type": "code",
   "execution_count": null,
   "id": "86a67809",
   "metadata": {},
   "outputs": [],
   "source": []
  },
  {
   "cell_type": "markdown",
   "id": "87e9b709",
   "metadata": {},
   "source": [
    "# Dictionaries (recap)"
   ]
  },
  {
   "cell_type": "markdown",
   "id": "5eaf8c99",
   "metadata": {},
   "source": [
    "* Collections of key – value pairs\n",
    "  * can access corresponding value if you know the key\n",
    "  * `key: value`\n",
    "* Keys unique in one dictionary\n",
    "* Useful for storing information, counting things, ...\n",
    "\n",
    "---\n",
    "\n",
    "* Adding key – value pairs\n",
    "* Getting information from a dictionary\n",
    "  * keys\n",
    "  * values\n",
    "* Checking if `key` is in a dictionary\n",
    "  * `in` and `not in`\n",
    "* Looping over a dictionary\n",
    "  * `for key in dictionary:`\n",
    "  * `for key, value in dictionary.items():`"
   ]
  },
  {
   "cell_type": "code",
   "execution_count": 35,
   "id": "fa1c2180",
   "metadata": {},
   "outputs": [],
   "source": [
    "dict1 = {}"
   ]
  },
  {
   "cell_type": "code",
   "execution_count": 36,
   "id": "985b00f3",
   "metadata": {},
   "outputs": [],
   "source": [
    "dict1[\"key1\"] = \"value1\""
   ]
  },
  {
   "cell_type": "code",
   "execution_count": 37,
   "id": "5ff54510",
   "metadata": {},
   "outputs": [
    {
     "name": "stdout",
     "output_type": "stream",
     "text": [
      "{'key1': 'value1'}\n"
     ]
    }
   ],
   "source": [
    "print(dict1)"
   ]
  },
  {
   "cell_type": "code",
   "execution_count": 38,
   "id": "cf84c217",
   "metadata": {},
   "outputs": [],
   "source": [
    "dict2 = {17: \"some text\", \"key2\": 12, \"key3\": [\"a list\", \"of values\"]}"
   ]
  },
  {
   "cell_type": "code",
   "execution_count": 39,
   "id": "f10b5c6c",
   "metadata": {},
   "outputs": [
    {
     "name": "stdout",
     "output_type": "stream",
     "text": [
      "{17: 'some text', 'key2': 12, 'key3': ['a list', 'of values']}\n"
     ]
    }
   ],
   "source": [
    "print(dict2)"
   ]
  },
  {
   "cell_type": "code",
   "execution_count": 40,
   "id": "10568e4e",
   "metadata": {},
   "outputs": [
    {
     "data": {
      "text/plain": [
       "dict_keys([17, 'key2', 'key3'])"
      ]
     },
     "execution_count": 40,
     "metadata": {},
     "output_type": "execute_result"
    }
   ],
   "source": [
    "dict2.keys()"
   ]
  },
  {
   "cell_type": "code",
   "execution_count": 42,
   "id": "7b364b79",
   "metadata": {},
   "outputs": [
    {
     "data": {
      "text/plain": [
       "12"
      ]
     },
     "execution_count": 42,
     "metadata": {},
     "output_type": "execute_result"
    }
   ],
   "source": [
    "# getting a value from a dict\n",
    "dict2[\"key2\"]"
   ]
  },
  {
   "cell_type": "code",
   "execution_count": 43,
   "id": "899917ce",
   "metadata": {},
   "outputs": [
    {
     "ename": "KeyError",
     "evalue": "'not a key'",
     "output_type": "error",
     "traceback": [
      "\u001b[0;31m---------------------------------------------------------------------------\u001b[0m",
      "\u001b[0;31mKeyError\u001b[0m                                  Traceback (most recent call last)",
      "Cell \u001b[0;32mIn[43], line 1\u001b[0m\n\u001b[0;32m----> 1\u001b[0m \u001b[43mdict2\u001b[49m\u001b[43m[\u001b[49m\u001b[38;5;124;43m\"\u001b[39;49m\u001b[38;5;124;43mnot a key\u001b[39;49m\u001b[38;5;124;43m\"\u001b[39;49m\u001b[43m]\u001b[49m\n",
      "\u001b[0;31mKeyError\u001b[0m: 'not a key'"
     ]
    }
   ],
   "source": [
    "dict2[\"not a key\"]"
   ]
  },
  {
   "cell_type": "code",
   "execution_count": 45,
   "id": "3f673fa5",
   "metadata": {},
   "outputs": [
    {
     "data": {
      "text/plain": [
       "'default return value'"
      ]
     },
     "execution_count": 45,
     "metadata": {},
     "output_type": "execute_result"
    }
   ],
   "source": [
    "dict2.get(\"not a key\", \"default return value\")"
   ]
  },
  {
   "cell_type": "code",
   "execution_count": 41,
   "id": "9458486f",
   "metadata": {},
   "outputs": [
    {
     "name": "stdout",
     "output_type": "stream",
     "text": [
      "17\n",
      "key2\n",
      "key3\n"
     ]
    }
   ],
   "source": [
    "for key in dict2:\n",
    "    print(key)"
   ]
  },
  {
   "cell_type": "code",
   "execution_count": 47,
   "id": "c1fcf329",
   "metadata": {},
   "outputs": [
    {
     "name": "stdout",
     "output_type": "stream",
     "text": [
      "17\n",
      "some text\n",
      "\n",
      "key2\n",
      "12\n",
      "\n",
      "key3\n",
      "['a list', 'of values']\n",
      "\n"
     ]
    }
   ],
   "source": [
    "for key in dict2:\n",
    "    print(key)\n",
    "    print(dict2[key])\n",
    "    print()"
   ]
  },
  {
   "cell_type": "code",
   "execution_count": 49,
   "id": "23928e8e",
   "metadata": {},
   "outputs": [
    {
     "name": "stdout",
     "output_type": "stream",
     "text": [
      "17: some text\n",
      "key2: 12\n",
      "key3: ['a list', 'of values']\n"
     ]
    }
   ],
   "source": [
    "for key, val in dict2.items():\n",
    "    print(f\"{key}: {val}\")"
   ]
  },
  {
   "cell_type": "code",
   "execution_count": 50,
   "id": "36691844",
   "metadata": {},
   "outputs": [
    {
     "name": "stdout",
     "output_type": "stream",
     "text": [
      "Help on class dict in module builtins:\n",
      "\n",
      "class dict(object)\n",
      " |  dict() -> new empty dictionary\n",
      " |  dict(mapping) -> new dictionary initialized from a mapping object's\n",
      " |      (key, value) pairs\n",
      " |  dict(iterable) -> new dictionary initialized as if via:\n",
      " |      d = {}\n",
      " |      for k, v in iterable:\n",
      " |          d[k] = v\n",
      " |  dict(**kwargs) -> new dictionary initialized with the name=value pairs\n",
      " |      in the keyword argument list.  For example:  dict(one=1, two=2)\n",
      " |  \n",
      " |  Built-in subclasses:\n",
      " |      StgDict\n",
      " |  \n",
      " |  Methods defined here:\n",
      " |  \n",
      " |  __contains__(self, key, /)\n",
      " |      True if the dictionary has the specified key, else False.\n",
      " |  \n",
      " |  __delitem__(self, key, /)\n",
      " |      Delete self[key].\n",
      " |  \n",
      " |  __eq__(self, value, /)\n",
      " |      Return self==value.\n",
      " |  \n",
      " |  __ge__(self, value, /)\n",
      " |      Return self>=value.\n",
      " |  \n",
      " |  __getattribute__(self, name, /)\n",
      " |      Return getattr(self, name).\n",
      " |  \n",
      " |  __getitem__(...)\n",
      " |      x.__getitem__(y) <==> x[y]\n",
      " |  \n",
      " |  __gt__(self, value, /)\n",
      " |      Return self>value.\n",
      " |  \n",
      " |  __init__(self, /, *args, **kwargs)\n",
      " |      Initialize self.  See help(type(self)) for accurate signature.\n",
      " |  \n",
      " |  __ior__(self, value, /)\n",
      " |      Return self|=value.\n",
      " |  \n",
      " |  __iter__(self, /)\n",
      " |      Implement iter(self).\n",
      " |  \n",
      " |  __le__(self, value, /)\n",
      " |      Return self<=value.\n",
      " |  \n",
      " |  __len__(self, /)\n",
      " |      Return len(self).\n",
      " |  \n",
      " |  __lt__(self, value, /)\n",
      " |      Return self<value.\n",
      " |  \n",
      " |  __ne__(self, value, /)\n",
      " |      Return self!=value.\n",
      " |  \n",
      " |  __or__(self, value, /)\n",
      " |      Return self|value.\n",
      " |  \n",
      " |  __repr__(self, /)\n",
      " |      Return repr(self).\n",
      " |  \n",
      " |  __reversed__(self, /)\n",
      " |      Return a reverse iterator over the dict keys.\n",
      " |  \n",
      " |  __ror__(self, value, /)\n",
      " |      Return value|self.\n",
      " |  \n",
      " |  __setitem__(self, key, value, /)\n",
      " |      Set self[key] to value.\n",
      " |  \n",
      " |  __sizeof__(...)\n",
      " |      D.__sizeof__() -> size of D in memory, in bytes\n",
      " |  \n",
      " |  clear(...)\n",
      " |      D.clear() -> None.  Remove all items from D.\n",
      " |  \n",
      " |  copy(...)\n",
      " |      D.copy() -> a shallow copy of D\n",
      " |  \n",
      " |  get(self, key, default=None, /)\n",
      " |      Return the value for key if key is in the dictionary, else default.\n",
      " |  \n",
      " |  items(...)\n",
      " |      D.items() -> a set-like object providing a view on D's items\n",
      " |  \n",
      " |  keys(...)\n",
      " |      D.keys() -> a set-like object providing a view on D's keys\n",
      " |  \n",
      " |  pop(...)\n",
      " |      D.pop(k[,d]) -> v, remove specified key and return the corresponding value.\n",
      " |      \n",
      " |      If key is not found, default is returned if given, otherwise KeyError is raised\n",
      " |  \n",
      " |  popitem(self, /)\n",
      " |      Remove and return a (key, value) pair as a 2-tuple.\n",
      " |      \n",
      " |      Pairs are returned in LIFO (last-in, first-out) order.\n",
      " |      Raises KeyError if the dict is empty.\n",
      " |  \n",
      " |  setdefault(self, key, default=None, /)\n",
      " |      Insert key with a value of default if key is not in the dictionary.\n",
      " |      \n",
      " |      Return the value for key if key is in the dictionary, else default.\n",
      " |  \n",
      " |  update(...)\n",
      " |      D.update([E, ]**F) -> None.  Update D from dict/iterable E and F.\n",
      " |      If E is present and has a .keys() method, then does:  for k in E: D[k] = E[k]\n",
      " |      If E is present and lacks a .keys() method, then does:  for k, v in E: D[k] = v\n",
      " |      In either case, this is followed by: for k in F:  D[k] = F[k]\n",
      " |  \n",
      " |  values(...)\n",
      " |      D.values() -> an object providing a view on D's values\n",
      " |  \n",
      " |  ----------------------------------------------------------------------\n",
      " |  Class methods defined here:\n",
      " |  \n",
      " |  __class_getitem__(...) from builtins.type\n",
      " |      See PEP 585\n",
      " |  \n",
      " |  fromkeys(iterable, value=None, /) from builtins.type\n",
      " |      Create a new dictionary with keys from iterable and values set to value.\n",
      " |  \n",
      " |  ----------------------------------------------------------------------\n",
      " |  Static methods defined here:\n",
      " |  \n",
      " |  __new__(*args, **kwargs) from builtins.type\n",
      " |      Create and return a new object.  See help(type) for accurate signature.\n",
      " |  \n",
      " |  ----------------------------------------------------------------------\n",
      " |  Data and other attributes defined here:\n",
      " |  \n",
      " |  __hash__ = None\n",
      "\n"
     ]
    }
   ],
   "source": [
    "help(dict)"
   ]
  },
  {
   "cell_type": "markdown",
   "id": "5ffa8d6c",
   "metadata": {},
   "source": [
    "# Introduction to libraries"
   ]
  },
  {
   "cell_type": "markdown",
   "id": "c5e143b4",
   "metadata": {},
   "source": [
    "## Python standard library (\"Batteries included\")\n",
    "\n",
    "https://docs.python.org/3/library/\n",
    "\n",
    "Counter in the Collections module:\n",
    "https://docs.python.org/3/library/collections.html#collections.Counter\n",
    "- `from collections import Counter`\n",
    "\n",
    "Random module:\n",
    "https://docs.python.org/3/library/random.html\n",
    "- `import random` "
   ]
  },
  {
   "cell_type": "markdown",
   "id": "ff99ffef",
   "metadata": {},
   "source": [
    "### Counting things\n",
    "\n",
    "One option:\n",
    "- write the counter code yourself\n",
    "\n",
    "Better option:\n",
    "- use `Counter` from the `collections` module (library)"
   ]
  },
  {
   "cell_type": "code",
   "execution_count": 51,
   "id": "4e9008a6",
   "metadata": {},
   "outputs": [],
   "source": [
    "from collections import Counter"
   ]
  },
  {
   "cell_type": "code",
   "execution_count": 52,
   "id": "4a19a810",
   "metadata": {},
   "outputs": [
    {
     "name": "stdout",
     "output_type": "stream",
     "text": [
      "Help on class Counter in module collections:\n",
      "\n",
      "class Counter(builtins.dict)\n",
      " |  Counter(iterable=None, /, **kwds)\n",
      " |  \n",
      " |  Dict subclass for counting hashable items.  Sometimes called a bag\n",
      " |  or multiset.  Elements are stored as dictionary keys and their counts\n",
      " |  are stored as dictionary values.\n",
      " |  \n",
      " |  >>> c = Counter('abcdeabcdabcaba')  # count elements from a string\n",
      " |  \n",
      " |  >>> c.most_common(3)                # three most common elements\n",
      " |  [('a', 5), ('b', 4), ('c', 3)]\n",
      " |  >>> sorted(c)                       # list all unique elements\n",
      " |  ['a', 'b', 'c', 'd', 'e']\n",
      " |  >>> ''.join(sorted(c.elements()))   # list elements with repetitions\n",
      " |  'aaaaabbbbcccdde'\n",
      " |  >>> sum(c.values())                 # total of all counts\n",
      " |  15\n",
      " |  \n",
      " |  >>> c['a']                          # count of letter 'a'\n",
      " |  5\n",
      " |  >>> for elem in 'shazam':           # update counts from an iterable\n",
      " |  ...     c[elem] += 1                # by adding 1 to each element's count\n",
      " |  >>> c['a']                          # now there are seven 'a'\n",
      " |  7\n",
      " |  >>> del c['b']                      # remove all 'b'\n",
      " |  >>> c['b']                          # now there are zero 'b'\n",
      " |  0\n",
      " |  \n",
      " |  >>> d = Counter('simsalabim')       # make another counter\n",
      " |  >>> c.update(d)                     # add in the second counter\n",
      " |  >>> c['a']                          # now there are nine 'a'\n",
      " |  9\n",
      " |  \n",
      " |  >>> c.clear()                       # empty the counter\n",
      " |  >>> c\n",
      " |  Counter()\n",
      " |  \n",
      " |  Note:  If a count is set to zero or reduced to zero, it will remain\n",
      " |  in the counter until the entry is deleted or the counter is cleared:\n",
      " |  \n",
      " |  >>> c = Counter('aaabbc')\n",
      " |  >>> c['b'] -= 2                     # reduce the count of 'b' by two\n",
      " |  >>> c.most_common()                 # 'b' is still in, but its count is zero\n",
      " |  [('a', 3), ('c', 1), ('b', 0)]\n",
      " |  \n",
      " |  Method resolution order:\n",
      " |      Counter\n",
      " |      builtins.dict\n",
      " |      builtins.object\n",
      " |  \n",
      " |  Methods defined here:\n",
      " |  \n",
      " |  __add__(self, other)\n",
      " |      Add counts from two counters.\n",
      " |      \n",
      " |      >>> Counter('abbb') + Counter('bcc')\n",
      " |      Counter({'b': 4, 'c': 2, 'a': 1})\n",
      " |  \n",
      " |  __and__(self, other)\n",
      " |      Intersection is the minimum of corresponding counts.\n",
      " |      \n",
      " |      >>> Counter('abbb') & Counter('bcc')\n",
      " |      Counter({'b': 1})\n",
      " |  \n",
      " |  __delitem__(self, elem)\n",
      " |      Like dict.__delitem__() but does not raise KeyError for missing values.\n",
      " |  \n",
      " |  __iadd__(self, other)\n",
      " |      Inplace add from another counter, keeping only positive counts.\n",
      " |      \n",
      " |      >>> c = Counter('abbb')\n",
      " |      >>> c += Counter('bcc')\n",
      " |      >>> c\n",
      " |      Counter({'b': 4, 'c': 2, 'a': 1})\n",
      " |  \n",
      " |  __iand__(self, other)\n",
      " |      Inplace intersection is the minimum of corresponding counts.\n",
      " |      \n",
      " |      >>> c = Counter('abbb')\n",
      " |      >>> c &= Counter('bcc')\n",
      " |      >>> c\n",
      " |      Counter({'b': 1})\n",
      " |  \n",
      " |  __init__(self, iterable=None, /, **kwds)\n",
      " |      Create a new, empty Counter object.  And if given, count elements\n",
      " |      from an input iterable.  Or, initialize the count from another mapping\n",
      " |      of elements to their counts.\n",
      " |      \n",
      " |      >>> c = Counter()                           # a new, empty counter\n",
      " |      >>> c = Counter('gallahad')                 # a new counter from an iterable\n",
      " |      >>> c = Counter({'a': 4, 'b': 2})           # a new counter from a mapping\n",
      " |      >>> c = Counter(a=4, b=2)                   # a new counter from keyword args\n",
      " |  \n",
      " |  __ior__(self, other)\n",
      " |      Inplace union is the maximum of value from either counter.\n",
      " |      \n",
      " |      >>> c = Counter('abbb')\n",
      " |      >>> c |= Counter('bcc')\n",
      " |      >>> c\n",
      " |      Counter({'b': 3, 'c': 2, 'a': 1})\n",
      " |  \n",
      " |  __isub__(self, other)\n",
      " |      Inplace subtract counter, but keep only results with positive counts.\n",
      " |      \n",
      " |      >>> c = Counter('abbbc')\n",
      " |      >>> c -= Counter('bccd')\n",
      " |      >>> c\n",
      " |      Counter({'b': 2, 'a': 1})\n",
      " |  \n",
      " |  __missing__(self, key)\n",
      " |      The count of elements not in the Counter is zero.\n",
      " |  \n",
      " |  __neg__(self)\n",
      " |      Subtracts from an empty counter.  Strips positive and zero counts,\n",
      " |      and flips the sign on negative counts.\n",
      " |  \n",
      " |  __or__(self, other)\n",
      " |      Union is the maximum of value in either of the input counters.\n",
      " |      \n",
      " |      >>> Counter('abbb') | Counter('bcc')\n",
      " |      Counter({'b': 3, 'c': 2, 'a': 1})\n",
      " |  \n",
      " |  __pos__(self)\n",
      " |      Adds an empty counter, effectively stripping negative and zero counts\n",
      " |  \n",
      " |  __reduce__(self)\n",
      " |      Helper for pickle.\n",
      " |  \n",
      " |  __repr__(self)\n",
      " |      Return repr(self).\n",
      " |  \n",
      " |  __sub__(self, other)\n",
      " |      Subtract count, but keep only results with positive counts.\n",
      " |      \n",
      " |      >>> Counter('abbbc') - Counter('bccd')\n",
      " |      Counter({'b': 2, 'a': 1})\n",
      " |  \n",
      " |  copy(self)\n",
      " |      Return a shallow copy.\n",
      " |  \n",
      " |  elements(self)\n",
      " |      Iterator over elements repeating each as many times as its count.\n",
      " |      \n",
      " |      >>> c = Counter('ABCABC')\n",
      " |      >>> sorted(c.elements())\n",
      " |      ['A', 'A', 'B', 'B', 'C', 'C']\n",
      " |      \n",
      " |      # Knuth's example for prime factors of 1836:  2**2 * 3**3 * 17**1\n",
      " |      >>> prime_factors = Counter({2: 2, 3: 3, 17: 1})\n",
      " |      >>> product = 1\n",
      " |      >>> for factor in prime_factors.elements():     # loop over factors\n",
      " |      ...     product *= factor                       # and multiply them\n",
      " |      >>> product\n",
      " |      1836\n",
      " |      \n",
      " |      Note, if an element's count has been set to zero or is a negative\n",
      " |      number, elements() will ignore it.\n",
      " |  \n",
      " |  most_common(self, n=None)\n",
      " |      List the n most common elements and their counts from the most\n",
      " |      common to the least.  If n is None, then list all element counts.\n",
      " |      \n",
      " |      >>> Counter('abracadabra').most_common(3)\n",
      " |      [('a', 5), ('b', 2), ('r', 2)]\n",
      " |  \n",
      " |  subtract(self, iterable=None, /, **kwds)\n",
      " |      Like dict.update() but subtracts counts instead of replacing them.\n",
      " |      Counts can be reduced below zero.  Both the inputs and outputs are\n",
      " |      allowed to contain zero and negative counts.\n",
      " |      \n",
      " |      Source can be an iterable, a dictionary, or another Counter instance.\n",
      " |      \n",
      " |      >>> c = Counter('which')\n",
      " |      >>> c.subtract('witch')             # subtract elements from another iterable\n",
      " |      >>> c.subtract(Counter('watch'))    # subtract elements from another counter\n",
      " |      >>> c['h']                          # 2 in which, minus 1 in witch, minus 1 in watch\n",
      " |      0\n",
      " |      >>> c['w']                          # 1 in which, minus 1 in witch, minus 1 in watch\n",
      " |      -1\n",
      " |  \n",
      " |  update(self, iterable=None, /, **kwds)\n",
      " |      Like dict.update() but add counts instead of replacing them.\n",
      " |      \n",
      " |      Source can be an iterable, a dictionary, or another Counter instance.\n",
      " |      \n",
      " |      >>> c = Counter('which')\n",
      " |      >>> c.update('witch')           # add elements from another iterable\n",
      " |      >>> d = Counter('watch')\n",
      " |      >>> c.update(d)                 # add elements from another counter\n",
      " |      >>> c['h']                      # four 'h' in which, witch, and watch\n",
      " |      4\n",
      " |  \n",
      " |  ----------------------------------------------------------------------\n",
      " |  Class methods defined here:\n",
      " |  \n",
      " |  fromkeys(iterable, v=None) from builtins.type\n",
      " |      Create a new dictionary with keys from iterable and values set to value.\n",
      " |  \n",
      " |  ----------------------------------------------------------------------\n",
      " |  Data descriptors defined here:\n",
      " |  \n",
      " |  __dict__\n",
      " |      dictionary for instance variables (if defined)\n",
      " |  \n",
      " |  __weakref__\n",
      " |      list of weak references to the object (if defined)\n",
      " |  \n",
      " |  ----------------------------------------------------------------------\n",
      " |  Methods inherited from builtins.dict:\n",
      " |  \n",
      " |  __contains__(self, key, /)\n",
      " |      True if the dictionary has the specified key, else False.\n",
      " |  \n",
      " |  __eq__(self, value, /)\n",
      " |      Return self==value.\n",
      " |  \n",
      " |  __ge__(self, value, /)\n",
      " |      Return self>=value.\n",
      " |  \n",
      " |  __getattribute__(self, name, /)\n",
      " |      Return getattr(self, name).\n",
      " |  \n",
      " |  __getitem__(...)\n",
      " |      x.__getitem__(y) <==> x[y]\n",
      " |  \n",
      " |  __gt__(self, value, /)\n",
      " |      Return self>value.\n",
      " |  \n",
      " |  __iter__(self, /)\n",
      " |      Implement iter(self).\n",
      " |  \n",
      " |  __le__(self, value, /)\n",
      " |      Return self<=value.\n",
      " |  \n",
      " |  __len__(self, /)\n",
      " |      Return len(self).\n",
      " |  \n",
      " |  __lt__(self, value, /)\n",
      " |      Return self<value.\n",
      " |  \n",
      " |  __ne__(self, value, /)\n",
      " |      Return self!=value.\n",
      " |  \n",
      " |  __reversed__(self, /)\n",
      " |      Return a reverse iterator over the dict keys.\n",
      " |  \n",
      " |  __ror__(self, value, /)\n",
      " |      Return value|self.\n",
      " |  \n",
      " |  __setitem__(self, key, value, /)\n",
      " |      Set self[key] to value.\n",
      " |  \n",
      " |  __sizeof__(...)\n",
      " |      D.__sizeof__() -> size of D in memory, in bytes\n",
      " |  \n",
      " |  clear(...)\n",
      " |      D.clear() -> None.  Remove all items from D.\n",
      " |  \n",
      " |  get(self, key, default=None, /)\n",
      " |      Return the value for key if key is in the dictionary, else default.\n",
      " |  \n",
      " |  items(...)\n",
      " |      D.items() -> a set-like object providing a view on D's items\n",
      " |  \n",
      " |  keys(...)\n",
      " |      D.keys() -> a set-like object providing a view on D's keys\n",
      " |  \n",
      " |  pop(...)\n",
      " |      D.pop(k[,d]) -> v, remove specified key and return the corresponding value.\n",
      " |      \n",
      " |      If key is not found, default is returned if given, otherwise KeyError is raised\n",
      " |  \n",
      " |  popitem(self, /)\n",
      " |      Remove and return a (key, value) pair as a 2-tuple.\n",
      " |      \n",
      " |      Pairs are returned in LIFO (last-in, first-out) order.\n",
      " |      Raises KeyError if the dict is empty.\n",
      " |  \n",
      " |  setdefault(self, key, default=None, /)\n",
      " |      Insert key with a value of default if key is not in the dictionary.\n",
      " |      \n",
      " |      Return the value for key if key is in the dictionary, else default.\n",
      " |  \n",
      " |  values(...)\n",
      " |      D.values() -> an object providing a view on D's values\n",
      " |  \n",
      " |  ----------------------------------------------------------------------\n",
      " |  Class methods inherited from builtins.dict:\n",
      " |  \n",
      " |  __class_getitem__(...) from builtins.type\n",
      " |      See PEP 585\n",
      " |  \n",
      " |  ----------------------------------------------------------------------\n",
      " |  Static methods inherited from builtins.dict:\n",
      " |  \n",
      " |  __new__(*args, **kwargs) from builtins.type\n",
      " |      Create and return a new object.  See help(type) for accurate signature.\n",
      " |  \n",
      " |  ----------------------------------------------------------------------\n",
      " |  Data and other attributes inherited from builtins.dict:\n",
      " |  \n",
      " |  __hash__ = None\n",
      "\n"
     ]
    }
   ],
   "source": [
    "help(Counter)"
   ]
  },
  {
   "cell_type": "code",
   "execution_count": 53,
   "id": "a7cd3055",
   "metadata": {},
   "outputs": [],
   "source": [
    "words = \"This is just an example text with a few words repeated over and over and over again again gain\""
   ]
  },
  {
   "cell_type": "code",
   "execution_count": 55,
   "id": "8d24d606",
   "metadata": {},
   "outputs": [
    {
     "data": {
      "text/plain": [
       "['This', 'is', 'just', 'an', 'example']"
      ]
     },
     "execution_count": 55,
     "metadata": {},
     "output_type": "execute_result"
    }
   ],
   "source": [
    "word_list = words.split()\n",
    "word_list[:5]"
   ]
  },
  {
   "cell_type": "code",
   "execution_count": 56,
   "id": "9674544b",
   "metadata": {},
   "outputs": [],
   "source": [
    "c = Counter(word_list)"
   ]
  },
  {
   "cell_type": "code",
   "execution_count": 57,
   "id": "9661382f",
   "metadata": {},
   "outputs": [
    {
     "data": {
      "text/plain": [
       "[('over', 3), ('and', 2), ('again', 2), ('This', 1)]"
      ]
     },
     "execution_count": 57,
     "metadata": {},
     "output_type": "execute_result"
    }
   ],
   "source": [
    "c.most_common(4)"
   ]
  },
  {
   "cell_type": "code",
   "execution_count": 58,
   "id": "9a489a2e",
   "metadata": {},
   "outputs": [
    {
     "name": "stdout",
     "output_type": "stream",
     "text": [
      "over: 3\n",
      "and: 2\n",
      "again: 2\n",
      "This: 1\n"
     ]
    }
   ],
   "source": [
    "for key, val in c.most_common(4):\n",
    "    print(f\"{key}: {val}\")"
   ]
  },
  {
   "cell_type": "markdown",
   "id": "4e9162c8",
   "metadata": {},
   "source": [
    "### Generating pseudo-random values\n",
    "\n",
    "https://docs.python.org/3/library/random.html"
   ]
  },
  {
   "cell_type": "code",
   "execution_count": 60,
   "id": "723aaa9a",
   "metadata": {},
   "outputs": [],
   "source": [
    "import random"
   ]
  },
  {
   "cell_type": "code",
   "execution_count": 61,
   "id": "206c6d32",
   "metadata": {},
   "outputs": [
    {
     "name": "stdout",
     "output_type": "stream",
     "text": [
      "Help on module random:\n",
      "\n",
      "NAME\n",
      "    random - Random variable generators.\n",
      "\n",
      "MODULE REFERENCE\n",
      "    https://docs.python.org/3.9/library/random\n",
      "    \n",
      "    The following documentation is automatically generated from the Python\n",
      "    source files.  It may be incomplete, incorrect or include features that\n",
      "    are considered implementation detail and may vary between Python\n",
      "    implementations.  When in doubt, consult the module reference at the\n",
      "    location listed above.\n",
      "\n",
      "DESCRIPTION\n",
      "        bytes\n",
      "        -----\n",
      "               uniform bytes (values between 0 and 255)\n",
      "    \n",
      "        integers\n",
      "        --------\n",
      "               uniform within range\n",
      "    \n",
      "        sequences\n",
      "        ---------\n",
      "               pick random element\n",
      "               pick random sample\n",
      "               pick weighted random sample\n",
      "               generate random permutation\n",
      "    \n",
      "        distributions on the real line:\n",
      "        ------------------------------\n",
      "               uniform\n",
      "               triangular\n",
      "               normal (Gaussian)\n",
      "               lognormal\n",
      "               negative exponential\n",
      "               gamma\n",
      "               beta\n",
      "               pareto\n",
      "               Weibull\n",
      "    \n",
      "        distributions on the circle (angles 0 to 2pi)\n",
      "        ---------------------------------------------\n",
      "               circular uniform\n",
      "               von Mises\n",
      "    \n",
      "    General notes on the underlying Mersenne Twister core generator:\n",
      "    \n",
      "    * The period is 2**19937-1.\n",
      "    * It is one of the most extensively tested generators in existence.\n",
      "    * The random() method is implemented in C, executes in a single Python step,\n",
      "      and is, therefore, threadsafe.\n",
      "\n",
      "CLASSES\n",
      "    _random.Random(builtins.object)\n",
      "        Random\n",
      "            SystemRandom\n",
      "    \n",
      "    class Random(_random.Random)\n",
      "     |  Random(x=None)\n",
      "     |  \n",
      "     |  Random number generator base class used by bound module functions.\n",
      "     |  \n",
      "     |  Used to instantiate instances of Random to get generators that don't\n",
      "     |  share state.\n",
      "     |  \n",
      "     |  Class Random can also be subclassed if you want to use a different basic\n",
      "     |  generator of your own devising: in that case, override the following\n",
      "     |  methods:  random(), seed(), getstate(), and setstate().\n",
      "     |  Optionally, implement a getrandbits() method so that randrange()\n",
      "     |  can cover arbitrarily large ranges.\n",
      "     |  \n",
      "     |  Method resolution order:\n",
      "     |      Random\n",
      "     |      _random.Random\n",
      "     |      builtins.object\n",
      "     |  \n",
      "     |  Methods defined here:\n",
      "     |  \n",
      "     |  __getstate__(self)\n",
      "     |      # Issue 17489: Since __reduce__ was defined to fix #759889 this is no\n",
      "     |      # longer called; we leave it here because it has been here since random was\n",
      "     |      # rewritten back in 2001 and why risk breaking something.\n",
      "     |  \n",
      "     |  __init__(self, x=None)\n",
      "     |      Initialize an instance.\n",
      "     |      \n",
      "     |      Optional argument x controls seeding, as for Random.seed().\n",
      "     |  \n",
      "     |  __reduce__(self)\n",
      "     |      Helper for pickle.\n",
      "     |  \n",
      "     |  __setstate__(self, state)\n",
      "     |  \n",
      "     |  betavariate(self, alpha, beta)\n",
      "     |      Beta distribution.\n",
      "     |      \n",
      "     |      Conditions on the parameters are alpha > 0 and beta > 0.\n",
      "     |      Returned values range between 0 and 1.\n",
      "     |  \n",
      "     |  choice(self, seq)\n",
      "     |      Choose a random element from a non-empty sequence.\n",
      "     |  \n",
      "     |  choices(self, population, weights=None, *, cum_weights=None, k=1)\n",
      "     |      Return a k sized list of population elements chosen with replacement.\n",
      "     |      \n",
      "     |      If the relative weights or cumulative weights are not specified,\n",
      "     |      the selections are made with equal probability.\n",
      "     |  \n",
      "     |  expovariate(self, lambd)\n",
      "     |      Exponential distribution.\n",
      "     |      \n",
      "     |      lambd is 1.0 divided by the desired mean.  It should be\n",
      "     |      nonzero.  (The parameter would be called \"lambda\", but that is\n",
      "     |      a reserved word in Python.)  Returned values range from 0 to\n",
      "     |      positive infinity if lambd is positive, and from negative\n",
      "     |      infinity to 0 if lambd is negative.\n",
      "     |  \n",
      "     |  gammavariate(self, alpha, beta)\n",
      "     |      Gamma distribution.  Not the gamma function!\n",
      "     |      \n",
      "     |      Conditions on the parameters are alpha > 0 and beta > 0.\n",
      "     |      \n",
      "     |      The probability distribution function is:\n",
      "     |      \n",
      "     |                  x ** (alpha - 1) * math.exp(-x / beta)\n",
      "     |        pdf(x) =  --------------------------------------\n",
      "     |                    math.gamma(alpha) * beta ** alpha\n",
      "     |  \n",
      "     |  gauss(self, mu, sigma)\n",
      "     |      Gaussian distribution.\n",
      "     |      \n",
      "     |      mu is the mean, and sigma is the standard deviation.  This is\n",
      "     |      slightly faster than the normalvariate() function.\n",
      "     |      \n",
      "     |      Not thread-safe without a lock around calls.\n",
      "     |  \n",
      "     |  getstate(self)\n",
      "     |      Return internal state; can be passed to setstate() later.\n",
      "     |  \n",
      "     |  lognormvariate(self, mu, sigma)\n",
      "     |      Log normal distribution.\n",
      "     |      \n",
      "     |      If you take the natural logarithm of this distribution, you'll get a\n",
      "     |      normal distribution with mean mu and standard deviation sigma.\n",
      "     |      mu can have any value, and sigma must be greater than zero.\n",
      "     |  \n",
      "     |  normalvariate(self, mu, sigma)\n",
      "     |      Normal distribution.\n",
      "     |      \n",
      "     |      mu is the mean, and sigma is the standard deviation.\n",
      "     |  \n",
      "     |  paretovariate(self, alpha)\n",
      "     |      Pareto distribution.  alpha is the shape parameter.\n",
      "     |  \n",
      "     |  randbytes(self, n)\n",
      "     |      Generate n random bytes.\n",
      "     |  \n",
      "     |  randint(self, a, b)\n",
      "     |      Return random integer in range [a, b], including both end points.\n",
      "     |  \n",
      "     |  randrange(self, start, stop=None, step=1)\n",
      "     |      Choose a random item from range(start, stop[, step]).\n",
      "     |      \n",
      "     |      This fixes the problem with randint() which includes the\n",
      "     |      endpoint; in Python this is usually not what you want.\n",
      "     |  \n",
      "     |  sample(self, population, k, *, counts=None)\n",
      "     |      Chooses k unique random elements from a population sequence or set.\n",
      "     |      \n",
      "     |      Returns a new list containing elements from the population while\n",
      "     |      leaving the original population unchanged.  The resulting list is\n",
      "     |      in selection order so that all sub-slices will also be valid random\n",
      "     |      samples.  This allows raffle winners (the sample) to be partitioned\n",
      "     |      into grand prize and second place winners (the subslices).\n",
      "     |      \n",
      "     |      Members of the population need not be hashable or unique.  If the\n",
      "     |      population contains repeats, then each occurrence is a possible\n",
      "     |      selection in the sample.\n",
      "     |      \n",
      "     |      Repeated elements can be specified one at a time or with the optional\n",
      "     |      counts parameter.  For example:\n",
      "     |      \n",
      "     |          sample(['red', 'blue'], counts=[4, 2], k=5)\n",
      "     |      \n",
      "     |      is equivalent to:\n",
      "     |      \n",
      "     |          sample(['red', 'red', 'red', 'red', 'blue', 'blue'], k=5)\n",
      "     |      \n",
      "     |      To choose a sample from a range of integers, use range() for the\n",
      "     |      population argument.  This is especially fast and space efficient\n",
      "     |      for sampling from a large population:\n",
      "     |      \n",
      "     |          sample(range(10000000), 60)\n",
      "     |  \n",
      "     |  seed(self, a=None, version=2)\n",
      "     |      Initialize internal state from a seed.\n",
      "     |      \n",
      "     |      The only supported seed types are None, int, float,\n",
      "     |      str, bytes, and bytearray.\n",
      "     |      \n",
      "     |      None or no argument seeds from current time or from an operating\n",
      "     |      system specific randomness source if available.\n",
      "     |      \n",
      "     |      If *a* is an int, all bits are used.\n",
      "     |      \n",
      "     |      For version 2 (the default), all of the bits are used if *a* is a str,\n",
      "     |      bytes, or bytearray.  For version 1 (provided for reproducing random\n",
      "     |      sequences from older versions of Python), the algorithm for str and\n",
      "     |      bytes generates a narrower range of seeds.\n",
      "     |  \n",
      "     |  setstate(self, state)\n",
      "     |      Restore internal state from object returned by getstate().\n",
      "     |  \n",
      "     |  shuffle(self, x, random=None)\n",
      "     |      Shuffle list x in place, and return None.\n",
      "     |      \n",
      "     |      Optional argument random is a 0-argument function returning a\n",
      "     |      random float in [0.0, 1.0); if it is the default None, the\n",
      "     |      standard random.random will be used.\n",
      "     |  \n",
      "     |  triangular(self, low=0.0, high=1.0, mode=None)\n",
      "     |      Triangular distribution.\n",
      "     |      \n",
      "     |      Continuous distribution bounded by given lower and upper limits,\n",
      "     |      and having a given mode value in-between.\n",
      "     |      \n",
      "     |      http://en.wikipedia.org/wiki/Triangular_distribution\n",
      "     |  \n",
      "     |  uniform(self, a, b)\n",
      "     |      Get a random number in the range [a, b) or [a, b] depending on rounding.\n",
      "     |  \n",
      "     |  vonmisesvariate(self, mu, kappa)\n",
      "     |      Circular data distribution.\n",
      "     |      \n",
      "     |      mu is the mean angle, expressed in radians between 0 and 2*pi, and\n",
      "     |      kappa is the concentration parameter, which must be greater than or\n",
      "     |      equal to zero.  If kappa is equal to zero, this distribution reduces\n",
      "     |      to a uniform random angle over the range 0 to 2*pi.\n",
      "     |  \n",
      "     |  weibullvariate(self, alpha, beta)\n",
      "     |      Weibull distribution.\n",
      "     |      \n",
      "     |      alpha is the scale parameter and beta is the shape parameter.\n",
      "     |  \n",
      "     |  ----------------------------------------------------------------------\n",
      "     |  Class methods defined here:\n",
      "     |  \n",
      "     |  __init_subclass__(**kwargs) from builtins.type\n",
      "     |      Control how subclasses generate random integers.\n",
      "     |      \n",
      "     |      The algorithm a subclass can use depends on the random() and/or\n",
      "     |      getrandbits() implementation available to it and determines\n",
      "     |      whether it can generate random integers from arbitrarily large\n",
      "     |      ranges.\n",
      "     |  \n",
      "     |  ----------------------------------------------------------------------\n",
      "     |  Data descriptors defined here:\n",
      "     |  \n",
      "     |  __dict__\n",
      "     |      dictionary for instance variables (if defined)\n",
      "     |  \n",
      "     |  __weakref__\n",
      "     |      list of weak references to the object (if defined)\n",
      "     |  \n",
      "     |  ----------------------------------------------------------------------\n",
      "     |  Data and other attributes defined here:\n",
      "     |  \n",
      "     |  VERSION = 3\n",
      "     |  \n",
      "     |  ----------------------------------------------------------------------\n",
      "     |  Methods inherited from _random.Random:\n",
      "     |  \n",
      "     |  getrandbits(self, k, /)\n",
      "     |      getrandbits(k) -> x.  Generates an int with k random bits.\n",
      "     |  \n",
      "     |  random(self, /)\n",
      "     |      random() -> x in the interval [0, 1).\n",
      "     |  \n",
      "     |  ----------------------------------------------------------------------\n",
      "     |  Static methods inherited from _random.Random:\n",
      "     |  \n",
      "     |  __new__(*args, **kwargs) from builtins.type\n",
      "     |      Create and return a new object.  See help(type) for accurate signature.\n",
      "    \n",
      "    class SystemRandom(Random)\n",
      "     |  SystemRandom(x=None)\n",
      "     |  \n",
      "     |  Alternate random number generator using sources provided\n",
      "     |  by the operating system (such as /dev/urandom on Unix or\n",
      "     |  CryptGenRandom on Windows).\n",
      "     |  \n",
      "     |   Not available on all systems (see os.urandom() for details).\n",
      "     |  \n",
      "     |  Method resolution order:\n",
      "     |      SystemRandom\n",
      "     |      Random\n",
      "     |      _random.Random\n",
      "     |      builtins.object\n",
      "     |  \n",
      "     |  Methods defined here:\n",
      "     |  \n",
      "     |  getrandbits(self, k)\n",
      "     |      getrandbits(k) -> x.  Generates an int with k random bits.\n",
      "     |  \n",
      "     |  getstate = _notimplemented(self, *args, **kwds)\n",
      "     |  \n",
      "     |  randbytes(self, n)\n",
      "     |      Generate n random bytes.\n",
      "     |  \n",
      "     |  random(self)\n",
      "     |      Get the next random number in the range [0.0, 1.0).\n",
      "     |  \n",
      "     |  seed(self, *args, **kwds)\n",
      "     |      Stub method.  Not used for a system random number generator.\n",
      "     |  \n",
      "     |  setstate = _notimplemented(self, *args, **kwds)\n",
      "     |  \n",
      "     |  ----------------------------------------------------------------------\n",
      "     |  Methods inherited from Random:\n",
      "     |  \n",
      "     |  __getstate__(self)\n",
      "     |      # Issue 17489: Since __reduce__ was defined to fix #759889 this is no\n",
      "     |      # longer called; we leave it here because it has been here since random was\n",
      "     |      # rewritten back in 2001 and why risk breaking something.\n",
      "     |  \n",
      "     |  __init__(self, x=None)\n",
      "     |      Initialize an instance.\n",
      "     |      \n",
      "     |      Optional argument x controls seeding, as for Random.seed().\n",
      "     |  \n",
      "     |  __reduce__(self)\n",
      "     |      Helper for pickle.\n",
      "     |  \n",
      "     |  __setstate__(self, state)\n",
      "     |  \n",
      "     |  betavariate(self, alpha, beta)\n",
      "     |      Beta distribution.\n",
      "     |      \n",
      "     |      Conditions on the parameters are alpha > 0 and beta > 0.\n",
      "     |      Returned values range between 0 and 1.\n",
      "     |  \n",
      "     |  choice(self, seq)\n",
      "     |      Choose a random element from a non-empty sequence.\n",
      "     |  \n",
      "     |  choices(self, population, weights=None, *, cum_weights=None, k=1)\n",
      "     |      Return a k sized list of population elements chosen with replacement.\n",
      "     |      \n",
      "     |      If the relative weights or cumulative weights are not specified,\n",
      "     |      the selections are made with equal probability.\n",
      "     |  \n",
      "     |  expovariate(self, lambd)\n",
      "     |      Exponential distribution.\n",
      "     |      \n",
      "     |      lambd is 1.0 divided by the desired mean.  It should be\n",
      "     |      nonzero.  (The parameter would be called \"lambda\", but that is\n",
      "     |      a reserved word in Python.)  Returned values range from 0 to\n",
      "     |      positive infinity if lambd is positive, and from negative\n",
      "     |      infinity to 0 if lambd is negative.\n",
      "     |  \n",
      "     |  gammavariate(self, alpha, beta)\n",
      "     |      Gamma distribution.  Not the gamma function!\n",
      "     |      \n",
      "     |      Conditions on the parameters are alpha > 0 and beta > 0.\n",
      "     |      \n",
      "     |      The probability distribution function is:\n",
      "     |      \n",
      "     |                  x ** (alpha - 1) * math.exp(-x / beta)\n",
      "     |        pdf(x) =  --------------------------------------\n",
      "     |                    math.gamma(alpha) * beta ** alpha\n",
      "     |  \n",
      "     |  gauss(self, mu, sigma)\n",
      "     |      Gaussian distribution.\n",
      "     |      \n",
      "     |      mu is the mean, and sigma is the standard deviation.  This is\n",
      "     |      slightly faster than the normalvariate() function.\n",
      "     |      \n",
      "     |      Not thread-safe without a lock around calls.\n",
      "     |  \n",
      "     |  lognormvariate(self, mu, sigma)\n",
      "     |      Log normal distribution.\n",
      "     |      \n",
      "     |      If you take the natural logarithm of this distribution, you'll get a\n",
      "     |      normal distribution with mean mu and standard deviation sigma.\n",
      "     |      mu can have any value, and sigma must be greater than zero.\n",
      "     |  \n",
      "     |  normalvariate(self, mu, sigma)\n",
      "     |      Normal distribution.\n",
      "     |      \n",
      "     |      mu is the mean, and sigma is the standard deviation.\n",
      "     |  \n",
      "     |  paretovariate(self, alpha)\n",
      "     |      Pareto distribution.  alpha is the shape parameter.\n",
      "     |  \n",
      "     |  randint(self, a, b)\n",
      "     |      Return random integer in range [a, b], including both end points.\n",
      "     |  \n",
      "     |  randrange(self, start, stop=None, step=1)\n",
      "     |      Choose a random item from range(start, stop[, step]).\n",
      "     |      \n",
      "     |      This fixes the problem with randint() which includes the\n",
      "     |      endpoint; in Python this is usually not what you want.\n",
      "     |  \n",
      "     |  sample(self, population, k, *, counts=None)\n",
      "     |      Chooses k unique random elements from a population sequence or set.\n",
      "     |      \n",
      "     |      Returns a new list containing elements from the population while\n",
      "     |      leaving the original population unchanged.  The resulting list is\n",
      "     |      in selection order so that all sub-slices will also be valid random\n",
      "     |      samples.  This allows raffle winners (the sample) to be partitioned\n",
      "     |      into grand prize and second place winners (the subslices).\n",
      "     |      \n",
      "     |      Members of the population need not be hashable or unique.  If the\n",
      "     |      population contains repeats, then each occurrence is a possible\n",
      "     |      selection in the sample.\n",
      "     |      \n",
      "     |      Repeated elements can be specified one at a time or with the optional\n",
      "     |      counts parameter.  For example:\n",
      "     |      \n",
      "     |          sample(['red', 'blue'], counts=[4, 2], k=5)\n",
      "     |      \n",
      "     |      is equivalent to:\n",
      "     |      \n",
      "     |          sample(['red', 'red', 'red', 'red', 'blue', 'blue'], k=5)\n",
      "     |      \n",
      "     |      To choose a sample from a range of integers, use range() for the\n",
      "     |      population argument.  This is especially fast and space efficient\n",
      "     |      for sampling from a large population:\n",
      "     |      \n",
      "     |          sample(range(10000000), 60)\n",
      "     |  \n",
      "     |  shuffle(self, x, random=None)\n",
      "     |      Shuffle list x in place, and return None.\n",
      "     |      \n",
      "     |      Optional argument random is a 0-argument function returning a\n",
      "     |      random float in [0.0, 1.0); if it is the default None, the\n",
      "     |      standard random.random will be used.\n",
      "     |  \n",
      "     |  triangular(self, low=0.0, high=1.0, mode=None)\n",
      "     |      Triangular distribution.\n",
      "     |      \n",
      "     |      Continuous distribution bounded by given lower and upper limits,\n",
      "     |      and having a given mode value in-between.\n",
      "     |      \n",
      "     |      http://en.wikipedia.org/wiki/Triangular_distribution\n",
      "     |  \n",
      "     |  uniform(self, a, b)\n",
      "     |      Get a random number in the range [a, b) or [a, b] depending on rounding.\n",
      "     |  \n",
      "     |  vonmisesvariate(self, mu, kappa)\n",
      "     |      Circular data distribution.\n",
      "     |      \n",
      "     |      mu is the mean angle, expressed in radians between 0 and 2*pi, and\n",
      "     |      kappa is the concentration parameter, which must be greater than or\n",
      "     |      equal to zero.  If kappa is equal to zero, this distribution reduces\n",
      "     |      to a uniform random angle over the range 0 to 2*pi.\n",
      "     |  \n",
      "     |  weibullvariate(self, alpha, beta)\n",
      "     |      Weibull distribution.\n",
      "     |      \n",
      "     |      alpha is the scale parameter and beta is the shape parameter.\n",
      "     |  \n",
      "     |  ----------------------------------------------------------------------\n",
      "     |  Class methods inherited from Random:\n",
      "     |  \n",
      "     |  __init_subclass__(**kwargs) from builtins.type\n",
      "     |      Control how subclasses generate random integers.\n",
      "     |      \n",
      "     |      The algorithm a subclass can use depends on the random() and/or\n",
      "     |      getrandbits() implementation available to it and determines\n",
      "     |      whether it can generate random integers from arbitrarily large\n",
      "     |      ranges.\n",
      "     |  \n",
      "     |  ----------------------------------------------------------------------\n",
      "     |  Data descriptors inherited from Random:\n",
      "     |  \n",
      "     |  __dict__\n",
      "     |      dictionary for instance variables (if defined)\n",
      "     |  \n",
      "     |  __weakref__\n",
      "     |      list of weak references to the object (if defined)\n",
      "     |  \n",
      "     |  ----------------------------------------------------------------------\n",
      "     |  Data and other attributes inherited from Random:\n",
      "     |  \n",
      "     |  VERSION = 3\n",
      "     |  \n",
      "     |  ----------------------------------------------------------------------\n",
      "     |  Static methods inherited from _random.Random:\n",
      "     |  \n",
      "     |  __new__(*args, **kwargs) from builtins.type\n",
      "     |      Create and return a new object.  See help(type) for accurate signature.\n",
      "\n",
      "FUNCTIONS\n",
      "    betavariate(alpha, beta) method of Random instance\n",
      "        Beta distribution.\n",
      "        \n",
      "        Conditions on the parameters are alpha > 0 and beta > 0.\n",
      "        Returned values range between 0 and 1.\n",
      "    \n",
      "    choice(seq) method of Random instance\n",
      "        Choose a random element from a non-empty sequence.\n",
      "    \n",
      "    choices(population, weights=None, *, cum_weights=None, k=1) method of Random instance\n",
      "        Return a k sized list of population elements chosen with replacement.\n",
      "        \n",
      "        If the relative weights or cumulative weights are not specified,\n",
      "        the selections are made with equal probability.\n",
      "    \n",
      "    expovariate(lambd) method of Random instance\n",
      "        Exponential distribution.\n",
      "        \n",
      "        lambd is 1.0 divided by the desired mean.  It should be\n",
      "        nonzero.  (The parameter would be called \"lambda\", but that is\n",
      "        a reserved word in Python.)  Returned values range from 0 to\n",
      "        positive infinity if lambd is positive, and from negative\n",
      "        infinity to 0 if lambd is negative.\n",
      "    \n",
      "    gammavariate(alpha, beta) method of Random instance\n",
      "        Gamma distribution.  Not the gamma function!\n",
      "        \n",
      "        Conditions on the parameters are alpha > 0 and beta > 0.\n",
      "        \n",
      "        The probability distribution function is:\n",
      "        \n",
      "                    x ** (alpha - 1) * math.exp(-x / beta)\n",
      "          pdf(x) =  --------------------------------------\n",
      "                      math.gamma(alpha) * beta ** alpha\n",
      "    \n",
      "    gauss(mu, sigma) method of Random instance\n",
      "        Gaussian distribution.\n",
      "        \n",
      "        mu is the mean, and sigma is the standard deviation.  This is\n",
      "        slightly faster than the normalvariate() function.\n",
      "        \n",
      "        Not thread-safe without a lock around calls.\n",
      "    \n",
      "    getrandbits(k, /) method of Random instance\n",
      "        getrandbits(k) -> x.  Generates an int with k random bits.\n",
      "    \n",
      "    getstate() method of Random instance\n",
      "        Return internal state; can be passed to setstate() later.\n",
      "    \n",
      "    lognormvariate(mu, sigma) method of Random instance\n",
      "        Log normal distribution.\n",
      "        \n",
      "        If you take the natural logarithm of this distribution, you'll get a\n",
      "        normal distribution with mean mu and standard deviation sigma.\n",
      "        mu can have any value, and sigma must be greater than zero.\n",
      "    \n",
      "    normalvariate(mu, sigma) method of Random instance\n",
      "        Normal distribution.\n",
      "        \n",
      "        mu is the mean, and sigma is the standard deviation.\n",
      "    \n",
      "    paretovariate(alpha) method of Random instance\n",
      "        Pareto distribution.  alpha is the shape parameter.\n",
      "    \n",
      "    randbytes(n) method of Random instance\n",
      "        Generate n random bytes.\n",
      "    \n",
      "    randint(a, b) method of Random instance\n",
      "        Return random integer in range [a, b], including both end points.\n",
      "    \n",
      "    random() method of Random instance\n",
      "        random() -> x in the interval [0, 1).\n",
      "    \n",
      "    randrange(start, stop=None, step=1) method of Random instance\n",
      "        Choose a random item from range(start, stop[, step]).\n",
      "        \n",
      "        This fixes the problem with randint() which includes the\n",
      "        endpoint; in Python this is usually not what you want.\n",
      "    \n",
      "    sample(population, k, *, counts=None) method of Random instance\n",
      "        Chooses k unique random elements from a population sequence or set.\n",
      "        \n",
      "        Returns a new list containing elements from the population while\n",
      "        leaving the original population unchanged.  The resulting list is\n",
      "        in selection order so that all sub-slices will also be valid random\n",
      "        samples.  This allows raffle winners (the sample) to be partitioned\n",
      "        into grand prize and second place winners (the subslices).\n",
      "        \n",
      "        Members of the population need not be hashable or unique.  If the\n",
      "        population contains repeats, then each occurrence is a possible\n",
      "        selection in the sample.\n",
      "        \n",
      "        Repeated elements can be specified one at a time or with the optional\n",
      "        counts parameter.  For example:\n",
      "        \n",
      "            sample(['red', 'blue'], counts=[4, 2], k=5)\n",
      "        \n",
      "        is equivalent to:\n",
      "        \n",
      "            sample(['red', 'red', 'red', 'red', 'blue', 'blue'], k=5)\n",
      "        \n",
      "        To choose a sample from a range of integers, use range() for the\n",
      "        population argument.  This is especially fast and space efficient\n",
      "        for sampling from a large population:\n",
      "        \n",
      "            sample(range(10000000), 60)\n",
      "    \n",
      "    seed(a=None, version=2) method of Random instance\n",
      "        Initialize internal state from a seed.\n",
      "        \n",
      "        The only supported seed types are None, int, float,\n",
      "        str, bytes, and bytearray.\n",
      "        \n",
      "        None or no argument seeds from current time or from an operating\n",
      "        system specific randomness source if available.\n",
      "        \n",
      "        If *a* is an int, all bits are used.\n",
      "        \n",
      "        For version 2 (the default), all of the bits are used if *a* is a str,\n",
      "        bytes, or bytearray.  For version 1 (provided for reproducing random\n",
      "        sequences from older versions of Python), the algorithm for str and\n",
      "        bytes generates a narrower range of seeds.\n",
      "    \n",
      "    setstate(state) method of Random instance\n",
      "        Restore internal state from object returned by getstate().\n",
      "    \n",
      "    shuffle(x, random=None) method of Random instance\n",
      "        Shuffle list x in place, and return None.\n",
      "        \n",
      "        Optional argument random is a 0-argument function returning a\n",
      "        random float in [0.0, 1.0); if it is the default None, the\n",
      "        standard random.random will be used.\n",
      "    \n",
      "    triangular(low=0.0, high=1.0, mode=None) method of Random instance\n",
      "        Triangular distribution.\n",
      "        \n",
      "        Continuous distribution bounded by given lower and upper limits,\n",
      "        and having a given mode value in-between.\n",
      "        \n",
      "        http://en.wikipedia.org/wiki/Triangular_distribution\n",
      "    \n",
      "    uniform(a, b) method of Random instance\n",
      "        Get a random number in the range [a, b) or [a, b] depending on rounding.\n",
      "    \n",
      "    vonmisesvariate(mu, kappa) method of Random instance\n",
      "        Circular data distribution.\n",
      "        \n",
      "        mu is the mean angle, expressed in radians between 0 and 2*pi, and\n",
      "        kappa is the concentration parameter, which must be greater than or\n",
      "        equal to zero.  If kappa is equal to zero, this distribution reduces\n",
      "        to a uniform random angle over the range 0 to 2*pi.\n",
      "    \n",
      "    weibullvariate(alpha, beta) method of Random instance\n",
      "        Weibull distribution.\n",
      "        \n",
      "        alpha is the scale parameter and beta is the shape parameter.\n",
      "\n",
      "DATA\n",
      "    __all__ = ['Random', 'SystemRandom', 'betavariate', 'choice', 'choices...\n",
      "\n",
      "FILE\n",
      "    /opt/local/Library/Frameworks/Python.framework/Versions/3.9/lib/python3.9/random.py\n",
      "\n",
      "\n"
     ]
    }
   ],
   "source": [
    "help(random)"
   ]
  },
  {
   "cell_type": "code",
   "execution_count": 62,
   "id": "37f11513",
   "metadata": {},
   "outputs": [
    {
     "name": "stdout",
     "output_type": "stream",
     "text": [
      "Help on method shuffle in module random:\n",
      "\n",
      "shuffle(x, random=None) method of random.Random instance\n",
      "    Shuffle list x in place, and return None.\n",
      "    \n",
      "    Optional argument random is a 0-argument function returning a\n",
      "    random float in [0.0, 1.0); if it is the default None, the\n",
      "    standard random.random will be used.\n",
      "\n"
     ]
    }
   ],
   "source": [
    "help(random.shuffle)"
   ]
  },
  {
   "cell_type": "code",
   "execution_count": 63,
   "id": "e025fd01",
   "metadata": {},
   "outputs": [
    {
     "name": "stdout",
     "output_type": "stream",
     "text": [
      "Help on method choice in module random:\n",
      "\n",
      "choice(seq) method of random.Random instance\n",
      "    Choose a random element from a non-empty sequence.\n",
      "\n"
     ]
    }
   ],
   "source": [
    "help(random.choice)"
   ]
  },
  {
   "cell_type": "code",
   "execution_count": 65,
   "id": "d8152d69",
   "metadata": {},
   "outputs": [],
   "source": [
    "my_list = ['apple', 'carrot', 'cucumber', 'pear', 'pineapple']"
   ]
  },
  {
   "cell_type": "code",
   "execution_count": 67,
   "id": "8072ae93",
   "metadata": {},
   "outputs": [
    {
     "name": "stdout",
     "output_type": "stream",
     "text": [
      "pineapple\n",
      "pineapple\n",
      "apple\n",
      "cucumber\n",
      "apple\n"
     ]
    }
   ],
   "source": [
    "print(random.choice(my_list))\n",
    "print(random.choice(my_list))\n",
    "print(random.choice(my_list))\n",
    "print(random.choice(my_list))\n",
    "print(random.choice(my_list))"
   ]
  },
  {
   "cell_type": "code",
   "execution_count": 73,
   "id": "73f7e8b9",
   "metadata": {},
   "outputs": [
    {
     "name": "stdout",
     "output_type": "stream",
     "text": [
      "5\n",
      "1\n",
      "2\n",
      "4\n"
     ]
    }
   ],
   "source": [
    "# random numbers (throwing dice)\n",
    "print(random.randint(1, 6))\n",
    "print(random.randint(1, 6))\n",
    "print(random.randint(1, 6))\n",
    "print(random.randint(1, 6))"
   ]
  },
  {
   "cell_type": "markdown",
   "id": "51ff5c32",
   "metadata": {},
   "source": [
    "---\n",
    "\n",
    "### Practical Exercises\n",
    "\n",
    "* Print elements of a list\n",
    "  * Just print all the elements\n",
    "  * Print a line per element with its number and value: \"Element #1 = apple\", ...\n",
    "* Shuffle the list\n",
    "* Print the list of elements again\n",
    "\n",
    "---\n",
    "\n",
    "* Defining a function to avoid duplicate work\n",
    " "
   ]
  },
  {
   "cell_type": "code",
   "execution_count": 74,
   "id": "e01808f1",
   "metadata": {},
   "outputs": [],
   "source": [
    "# just print the list\n"
   ]
  },
  {
   "cell_type": "code",
   "execution_count": 75,
   "id": "c2023831",
   "metadata": {},
   "outputs": [],
   "source": [
    "# print a line per element with its number and value: \"Element #1 = apple\", ...\n"
   ]
  },
  {
   "cell_type": "code",
   "execution_count": 76,
   "id": "cd99c844",
   "metadata": {},
   "outputs": [],
   "source": [
    "# shuffle the list\n"
   ]
  },
  {
   "cell_type": "code",
   "execution_count": 77,
   "id": "780ff58c",
   "metadata": {},
   "outputs": [],
   "source": [
    "# print the list of elements again\n"
   ]
  },
  {
   "cell_type": "code",
   "execution_count": null,
   "id": "559739f3",
   "metadata": {},
   "outputs": [],
   "source": [
    "# now let's print the elements of another list\n"
   ]
  },
  {
   "cell_type": "code",
   "execution_count": 78,
   "id": "2695d9e1",
   "metadata": {},
   "outputs": [],
   "source": [
    "# demo: defining a function to avoid duplicate work\n",
    "\n",
    "def my_function(input_list):\n",
    "    # a function that prints a given list (called \"input_list\" inside the function)\n",
    "    ...\n",
    "    "
   ]
  },
  {
   "cell_type": "code",
   "execution_count": 79,
   "id": "886a5da1",
   "metadata": {},
   "outputs": [],
   "source": [
    "# demo: using the defined function\n",
    "\n",
    "my_function(my_list)"
   ]
  },
  {
   "cell_type": "markdown",
   "id": "48c03df3",
   "metadata": {},
   "source": [
    "---\n",
    "\n",
    "# Python Functions"
   ]
  },
  {
   "cell_type": "markdown",
   "id": "db92351c",
   "metadata": {},
   "source": [
    "## What is a function?\n",
    "\n",
    "* A function is a block of organized, reusable code\n",
    "  * used to perform a single, related action\n",
    "  \n",
    "---\n",
    "\n",
    "* Functions:\n",
    "  * [usually] have a name (by which they can be called)\n",
    "    * `func_name(arguments)`\n",
    "  * may have arguments (values passed into the function)\n",
    "  * may perform some operations / calculations / ...\n",
    "    * for example: print something\n",
    "  * may have a return value (that we can get back from the function)\n",
    "    * for example: a dictionary with word frequency\n",
    "\n",
    "---\n",
    "\n",
    "```\n",
    "def func_name(arguments):\n",
    "    # function's code\n",
    "    # do something here\n",
    "    \n",
    "    # returning a value (1 in this case)\n",
    "    return 1\n",
    "```\n",
    "\n",
    "---\n",
    "\n",
    "### DRY - Do not Repeat Yourself principle\n",
    "\n",
    "* *Every piece of knowledge must have a single, unambiguous, authoritative representation within a system.*\n",
    "http://wiki.c2.com/?DontRepeatYourself\n",
    "* Do not write something multiple times if it can be written just once.\n",
    "\n",
    "![Python function declaration](img/function.png)\n",
    "\n",
    "* Functions are like mini-programs = they can do something and you can call them again and again\n",
    "* Code in the function \"body\" starts with an indentation (similar how we used indentation in `if` statements)\n"
   ]
  },
  {
   "cell_type": "code",
   "execution_count": 80,
   "id": "ac385f0b",
   "metadata": {},
   "outputs": [
    {
     "name": "stdout",
     "output_type": "stream",
     "text": [
      "Some text here\n",
      "Some text here\n",
      "Some text here\n"
     ]
    }
   ],
   "source": [
    "text = \"Some text here\"\n",
    "print(text)\n",
    "print(text)\n",
    "print(text)"
   ]
  },
  {
   "cell_type": "code",
   "execution_count": 81,
   "id": "8d4649b1",
   "metadata": {},
   "outputs": [],
   "source": [
    "def print_3x(argument):\n",
    "    print(argument)\n",
    "    print(argument)\n",
    "    print(argument)\n",
    "    \n",
    "# This function prints its argument 3 times. It does not return any value."
   ]
  },
  {
   "cell_type": "code",
   "execution_count": 82,
   "id": "ef93dc61",
   "metadata": {},
   "outputs": [
    {
     "name": "stdout",
     "output_type": "stream",
     "text": [
      "Some text here\n",
      "Some text here\n",
      "Some text here\n"
     ]
    }
   ],
   "source": [
    "# After a function is defined, we can use (call) it:\n",
    "\n",
    "print_3x(text)"
   ]
  },
  {
   "cell_type": "code",
   "execution_count": 83,
   "id": "39e96b0a",
   "metadata": {},
   "outputs": [
    {
     "name": "stdout",
     "output_type": "stream",
     "text": [
      "Some text here\n",
      "Some text here\n",
      "Some text here\n",
      "\n",
      "Some text here #2\n",
      "Some text here #2\n",
      "Some text here #2\n"
     ]
    }
   ],
   "source": [
    "print_3x(text)\n",
    "print()   # print is also a function (just it is a built-in Python function) \n",
    "print_3x(text + \" #2\")"
   ]
  },
  {
   "cell_type": "code",
   "execution_count": 86,
   "id": "0700d4c2",
   "metadata": {},
   "outputs": [],
   "source": [
    "# It is a good idea to write down what a function does. We will use \"\"\"docstrings\"\"\" for that.\n",
    "# Let's re-define our function (this time with a docstring):\n",
    "\n",
    "def print_3x(argument):\n",
    "    \"\"\"\n",
    "    Print the argument 3 times.\n",
    "    \n",
    "    It's good to have documentation.\n",
    "    \"\"\"\n",
    "    \n",
    "    print(argument)\n",
    "    print(argument)\n",
    "    print(argument)\n"
   ]
  },
  {
   "cell_type": "code",
   "execution_count": 87,
   "id": "ad8bf5db",
   "metadata": {},
   "outputs": [
    {
     "name": "stdout",
     "output_type": "stream",
     "text": [
      "Help on function print_3x in module __main__:\n",
      "\n",
      "print_3x(argument)\n",
      "    Print the argument 3 times.\n",
      "    \n",
      "    It's good to have documentation.\n",
      "\n"
     ]
    }
   ],
   "source": [
    "help(print_3x)"
   ]
  },
  {
   "cell_type": "code",
   "execution_count": 88,
   "id": "104dd193",
   "metadata": {},
   "outputs": [],
   "source": [
    "# Functions may have many arguments\n",
    "#  - let's define a function that prints its 1st argument a given number of times:\n",
    "\n",
    "def print_n_times(argument1, n_times):\n",
    "    for i in range(n_times):\n",
    "        print(argument1)\n",
    "        "
   ]
  },
  {
   "cell_type": "code",
   "execution_count": 89,
   "id": "b67702df",
   "metadata": {},
   "outputs": [
    {
     "name": "stdout",
     "output_type": "stream",
     "text": [
      "Some text here\n",
      "Some text here\n",
      "Some text here\n",
      "Some text here\n",
      "Some text here\n"
     ]
    }
   ],
   "source": [
    "print_n_times(text, 5)"
   ]
  },
  {
   "cell_type": "code",
   "execution_count": 90,
   "id": "c464c123",
   "metadata": {},
   "outputs": [
    {
     "name": "stdout",
     "output_type": "stream",
     "text": [
      "Ping pong\n",
      "Ping pong\n"
     ]
    }
   ],
   "source": [
    "print_n_times(\"Ping pong\", 2)"
   ]
  },
  {
   "cell_type": "code",
   "execution_count": 91,
   "id": "a0bc8f02",
   "metadata": {},
   "outputs": [],
   "source": [
    "# We can use the \"return\" statement to return a value from a function.\n",
    "# The return statement stops (finishes) function execution.\n",
    "\n",
    "# This function does not have arguments and it does not do much \n",
    "# but it returns a value (= it has a return value)\n",
    "\n",
    "def get_the_answer():\n",
    "    \"\"\"\n",
    "    Return the Answer to the Ultimate Question of Life, the Universe, and Everything.    \n",
    "    \n",
    "    https://en.wikipedia.org/wiki/42_(number)#The_Hitchhiker's_Guide_to_the_Galaxy\n",
    "    \"\"\"\n",
    "\n",
    "    return 42"
   ]
  },
  {
   "cell_type": "code",
   "execution_count": 92,
   "id": "c85e4f77",
   "metadata": {},
   "outputs": [
    {
     "name": "stdout",
     "output_type": "stream",
     "text": [
      "42\n"
     ]
    }
   ],
   "source": [
    "res = get_the_answer()\n",
    "\n",
    "print(res)"
   ]
  },
  {
   "cell_type": "markdown",
   "id": "2934f766",
   "metadata": {},
   "source": [
    "---\n",
    "\n",
    "## Practical Exercises\n",
    "\n",
    "* Define a function that converts its argument from degrees Fahrenheit to degrees Celsuis \n",
    "  * ... and returns the calculated value\n",
    "* Call this function 2-3 times with different argument values and print the result values\n"
   ]
  },
  {
   "cell_type": "code",
   "execution_count": 93,
   "id": "adc70bae",
   "metadata": {},
   "outputs": [],
   "source": [
    "def fahr_to_celsius(argument):\n",
    "    \n",
    "    return # write your calculations here"
   ]
  },
  {
   "cell_type": "code",
   "execution_count": null,
   "id": "84ad5e31",
   "metadata": {},
   "outputs": [],
   "source": []
  },
  {
   "cell_type": "code",
   "execution_count": null,
   "id": "dcf96a6a",
   "metadata": {},
   "outputs": [],
   "source": []
  },
  {
   "cell_type": "code",
   "execution_count": null,
   "id": "4830190c",
   "metadata": {},
   "outputs": [],
   "source": []
  },
  {
   "cell_type": "markdown",
   "id": "76998804",
   "metadata": {},
   "source": [
    "---\n",
    "\n",
    "## Functions (continued)\n",
    "\n",
    "Functions can call other functions:"
   ]
  },
  {
   "cell_type": "code",
   "execution_count": 98,
   "id": "50b45b12",
   "metadata": {},
   "outputs": [],
   "source": [
    "def eat():\n",
    "    print(\"  Cooking food.\")\n",
    "    print(\"  Eating food.\")"
   ]
  },
  {
   "cell_type": "code",
   "execution_count": 99,
   "id": "efc94295",
   "metadata": {},
   "outputs": [
    {
     "name": "stdout",
     "output_type": "stream",
     "text": [
      "  Cooking food.\n",
      "  Eating food.\n"
     ]
    }
   ],
   "source": [
    "eat()"
   ]
  },
  {
   "cell_type": "code",
   "execution_count": 100,
   "id": "5146c5e5",
   "metadata": {},
   "outputs": [],
   "source": [
    "def eating_time():\n",
    "    print(\"Breakfast:\")\n",
    "    eat()\n",
    "    \n",
    "    print(\"\")\n",
    "    print(\"Lunch:\")\n",
    "    eat()\n",
    "    \n",
    "    print(\"\")\n",
    "    print(\"Dinner:\")\n",
    "    eat()"
   ]
  },
  {
   "cell_type": "code",
   "execution_count": 101,
   "id": "1006b245",
   "metadata": {},
   "outputs": [
    {
     "name": "stdout",
     "output_type": "stream",
     "text": [
      "Breakfast:\n",
      "  Cooking food.\n",
      "  Eating food.\n",
      "\n",
      "Lunch:\n",
      "  Cooking food.\n",
      "  Eating food.\n",
      "\n",
      "Dinner:\n",
      "  Cooking food.\n",
      "  Eating food.\n"
     ]
    }
   ],
   "source": [
    "eating_time()"
   ]
  },
  {
   "cell_type": "code",
   "execution_count": 102,
   "id": "3f2f1a86",
   "metadata": {},
   "outputs": [
    {
     "name": "stdout",
     "output_type": "stream",
     "text": [
      "Breakfast:\n",
      "  Cooking food.\n",
      "  Eating food.\n",
      "\n",
      "Lunch:\n",
      "  Cooking food.\n",
      "  Eating food.\n",
      "\n",
      "Dinner::\n",
      "  Cooking food.\n",
      "  Eating food.\n"
     ]
    }
   ],
   "source": [
    "# We can move printing to the function eat():\n",
    "\n",
    "def eat(meal_name):\n",
    "    \n",
    "    print(meal_name + \":\")\n",
    "    print(\"  Cooking food.\")\n",
    "    print(\"  Eating food.\")\n",
    "    \n",
    "def eating_time():\n",
    "    \n",
    "    eat(\"Breakfast\")\n",
    "    print()\n",
    "    \n",
    "    eat(\"Lunch\")\n",
    "    print()\n",
    "    \n",
    "    eat(\"Dinner:\")\n",
    "\n",
    "# call our function:\n",
    "\n",
    "eating_time()"
   ]
  },
  {
   "cell_type": "markdown",
   "id": "b76c9d44",
   "metadata": {},
   "source": [
    "Functions can even call themselves (that's called [recursion](https://en.wikipedia.org/wiki/Recursion_(computer_science))):\n",
    "* but be careful with it (or you may end up with an infinite loop)"
   ]
  },
  {
   "cell_type": "code",
   "execution_count": 103,
   "id": "9f155b90",
   "metadata": {},
   "outputs": [],
   "source": [
    "def count_to_zero(number):\n",
    "\n",
    "    if number < 0:\n",
    "        print(\"Negative values are not allowed!\")\n",
    "        return\n",
    "\n",
    "    if number == 0:\n",
    "        print(\"That's it!\")\n",
    "        return    # we use return here to end function execution\n",
    "        \n",
    "    print(number)\n",
    "    \n",
    "    # recursive function call\n",
    "    count_to_zero(number-1)"
   ]
  },
  {
   "cell_type": "code",
   "execution_count": 104,
   "id": "e697dcc6",
   "metadata": {
    "scrolled": true
   },
   "outputs": [
    {
     "name": "stdout",
     "output_type": "stream",
     "text": [
      "5\n",
      "4\n",
      "3\n",
      "2\n",
      "1\n",
      "That's it!\n"
     ]
    }
   ],
   "source": [
    "count_to_zero(5)"
   ]
  },
  {
   "cell_type": "code",
   "execution_count": 105,
   "id": "2cc90751",
   "metadata": {},
   "outputs": [
    {
     "name": "stdout",
     "output_type": "stream",
     "text": [
      "Negative values are not allowed!\n"
     ]
    }
   ],
   "source": [
    "count_to_zero(-5)"
   ]
  },
  {
   "cell_type": "markdown",
   "id": "a991b9d4",
   "metadata": {},
   "source": [
    "---"
   ]
  },
  {
   "cell_type": "code",
   "execution_count": 108,
   "id": "728925fa",
   "metadata": {},
   "outputs": [],
   "source": [
    "# Functions may have an arbitraty number of arguments\n",
    "\n",
    "def my_function2(a, b, c, d, e, f):    \n",
    "    # Let's print some of the arguments\n",
    "    print(a)\n",
    "    print(f)"
   ]
  },
  {
   "cell_type": "code",
   "execution_count": 110,
   "id": "163c4126",
   "metadata": {},
   "outputs": [
    {
     "name": "stdout",
     "output_type": "stream",
     "text": [
      "5\n",
      "times\n"
     ]
    }
   ],
   "source": [
    "my_function2(5, 1, 8, 3, 6, \"times\")"
   ]
  },
  {
   "cell_type": "markdown",
   "id": "3fe75ec2",
   "metadata": {},
   "source": [
    "---"
   ]
  },
  {
   "cell_type": "code",
   "execution_count": 111,
   "id": "d8cb241c",
   "metadata": {},
   "outputs": [
    {
     "name": "stdout",
     "output_type": "stream",
     "text": [
      "Help on built-in function print in module builtins:\n",
      "\n",
      "print(...)\n",
      "    print(value, ..., sep=' ', end='\\n', file=sys.stdout, flush=False)\n",
      "    \n",
      "    Prints the values to a stream, or to sys.stdout by default.\n",
      "    Optional keyword arguments:\n",
      "    file:  a file-like object (stream); defaults to the current sys.stdout.\n",
      "    sep:   string inserted between values, default a space.\n",
      "    end:   string appended after the last value, default a newline.\n",
      "    flush: whether to forcibly flush the stream.\n",
      "\n"
     ]
    }
   ],
   "source": [
    "# Functions may also have keyword arguments:\n",
    "#  - print function has a \"sep\" keyword argument (also: \"end\", ...)\n",
    "\n",
    "help(print)"
   ]
  },
  {
   "cell_type": "code",
   "execution_count": 112,
   "id": "3a6d0011",
   "metadata": {},
   "outputs": [
    {
     "name": "stdout",
     "output_type": "stream",
     "text": [
      "1 2 3\n",
      "4 5 6\n"
     ]
    }
   ],
   "source": [
    "print(1, 2, 3)\n",
    "print(4, 5, 6)"
   ]
  },
  {
   "cell_type": "code",
   "execution_count": 113,
   "id": "f870a86b",
   "metadata": {},
   "outputs": [
    {
     "name": "stdout",
     "output_type": "stream",
     "text": [
      "1 2 3; 4 5 6\n"
     ]
    }
   ],
   "source": [
    "print(1, 2, 3, end=\"; \")   # not jumping to a new line here\n",
    "print(4, 5, 6)"
   ]
  },
  {
   "cell_type": "code",
   "execution_count": 115,
   "id": "7b70b072",
   "metadata": {},
   "outputs": [
    {
     "name": "stdout",
     "output_type": "stream",
     "text": [
      "1 2 3\n",
      "\n",
      "4, 5, 6\n"
     ]
    }
   ],
   "source": [
    "print(1, 2, 3)\n",
    "print()\n",
    "print(4, 5, 6, sep=\", \")   # using a different separator string here"
   ]
  },
  {
   "cell_type": "markdown",
   "id": "42431189",
   "metadata": {},
   "source": [
    "### Calling return multiple times"
   ]
  },
  {
   "cell_type": "code",
   "execution_count": 116,
   "id": "3885b8c0",
   "metadata": {},
   "outputs": [],
   "source": [
    "def multi_return():\n",
    "    return \"One\"\n",
    "\n",
    "    return \"Two\"\n",
    "\n",
    "    return \"Three\""
   ]
  },
  {
   "cell_type": "code",
   "execution_count": 118,
   "id": "6c7f25dd",
   "metadata": {},
   "outputs": [],
   "source": [
    "# what will the function return?"
   ]
  },
  {
   "cell_type": "code",
   "execution_count": null,
   "id": "d9b398f3",
   "metadata": {},
   "outputs": [],
   "source": []
  },
  {
   "cell_type": "markdown",
   "id": "507a3244",
   "metadata": {},
   "source": [
    "### Returning multiple values\n",
    "\n",
    "* multiple values may be returned as a tuple"
   ]
  },
  {
   "cell_type": "code",
   "execution_count": 119,
   "id": "a6491c0f",
   "metadata": {},
   "outputs": [
    {
     "name": "stdout",
     "output_type": "stream",
     "text": [
      "(16, 8)\n"
     ]
    }
   ],
   "source": [
    "def return_multiple(a, b):\n",
    "    \n",
    "    return (a+b, a-b)\n",
    "\n",
    "print(return_multiple(12, 4))"
   ]
  },
  {
   "cell_type": "code",
   "execution_count": 123,
   "id": "a8209001",
   "metadata": {},
   "outputs": [],
   "source": [
    "result = return_multiple(12, 4)"
   ]
  },
  {
   "cell_type": "code",
   "execution_count": 124,
   "id": "d30e5a66",
   "metadata": {},
   "outputs": [
    {
     "name": "stdout",
     "output_type": "stream",
     "text": [
      "(16, 8)\n",
      "<class 'tuple'>\n"
     ]
    }
   ],
   "source": [
    "print(result)\n",
    "print(type(result))"
   ]
  },
  {
   "cell_type": "code",
   "execution_count": 125,
   "id": "03ebcdf0",
   "metadata": {},
   "outputs": [
    {
     "name": "stdout",
     "output_type": "stream",
     "text": [
      "16\n",
      "8\n"
     ]
    }
   ],
   "source": [
    "first_val = result[0]\n",
    "print(first_val)\n",
    "\n",
    "second_val = result[1]\n",
    "print(second_val)\n"
   ]
  },
  {
   "cell_type": "markdown",
   "id": "f091c2d2",
   "metadata": {},
   "source": [
    "---\n",
    "\n",
    "### Local and global variables (scope)"
   ]
  },
  {
   "cell_type": "code",
   "execution_count": 128,
   "id": "3bfbe7d0",
   "metadata": {},
   "outputs": [
    {
     "name": "stdout",
     "output_type": "stream",
     "text": [
      "Variable: Local variable\n",
      "Argument: 111\n",
      "\n",
      "Global var (inside a function): Global variable\n"
     ]
    }
   ],
   "source": [
    "global_var = \"Global variable\"\n",
    "\n",
    "# the variables defined in the function are local to the function (and not \"visible\" globally)\n",
    "#  - function arguments are also local \n",
    "\n",
    "def some_function(argument_1):\n",
    "    \n",
    "    local_var = \"Local variable\"\n",
    "    \n",
    "    print(f\"Variable: {local_var}\")\n",
    "    print(f\"Argument: {argument_1}\")\n",
    "    \n",
    "    # we can also use global variable inside a function\n",
    "    #  - but better don't - pass it as an argument instead\n",
    "    print()\n",
    "    print(f\"Global var (inside a function): {global_var}\")\n",
    "\n",
    "some_function(111)\n"
   ]
  },
  {
   "cell_type": "code",
   "execution_count": 129,
   "id": "35f4a4e4",
   "metadata": {},
   "outputs": [
    {
     "name": "stdout",
     "output_type": "stream",
     "text": [
      "Global var: Global variable\n"
     ]
    },
    {
     "ename": "NameError",
     "evalue": "name 'local_var' is not defined",
     "output_type": "error",
     "traceback": [
      "\u001b[0;31m---------------------------------------------------------------------------\u001b[0m",
      "\u001b[0;31mNameError\u001b[0m                                 Traceback (most recent call last)",
      "Cell \u001b[0;32mIn[129], line 7\u001b[0m\n\u001b[1;32m      1\u001b[0m \u001b[38;5;66;03m# Outside of the function (in the global scope or \u001b[39;00m\n\u001b[1;32m      2\u001b[0m \u001b[38;5;66;03m# in the scope of another function) we can not \u001b[39;00m\n\u001b[1;32m      3\u001b[0m \u001b[38;5;66;03m# access local variables and arguments:\u001b[39;00m\n\u001b[1;32m      5\u001b[0m \u001b[38;5;28mprint\u001b[39m(\u001b[38;5;124mf\u001b[39m\u001b[38;5;124m\"\u001b[39m\u001b[38;5;124mGlobal var: \u001b[39m\u001b[38;5;132;01m{\u001b[39;00mglobal_var\u001b[38;5;132;01m}\u001b[39;00m\u001b[38;5;124m\"\u001b[39m)\n\u001b[0;32m----> 7\u001b[0m \u001b[38;5;28mprint\u001b[39m(\u001b[38;5;124mf\u001b[39m\u001b[38;5;124m\"\u001b[39m\u001b[38;5;124mVariable: \u001b[39m\u001b[38;5;132;01m{\u001b[39;00m\u001b[43mlocal_var\u001b[49m\u001b[38;5;132;01m}\u001b[39;00m\u001b[38;5;124m\"\u001b[39m)\n",
      "\u001b[0;31mNameError\u001b[0m: name 'local_var' is not defined"
     ]
    }
   ],
   "source": [
    "# Outside of the function (in the global scope or \n",
    "# in the scope of another function) we can not \n",
    "# access local variables and arguments:\n",
    "\n",
    "print(f\"Global var: {global_var}\")\n",
    "\n",
    "print(f\"Variable: {local_var}\")"
   ]
  },
  {
   "cell_type": "code",
   "execution_count": 130,
   "id": "74cf8ec4",
   "metadata": {},
   "outputs": [
    {
     "ename": "NameError",
     "evalue": "name 'argument_1' is not defined",
     "output_type": "error",
     "traceback": [
      "\u001b[0;31m---------------------------------------------------------------------------\u001b[0m",
      "\u001b[0;31mNameError\u001b[0m                                 Traceback (most recent call last)",
      "Cell \u001b[0;32mIn[130], line 1\u001b[0m\n\u001b[0;32m----> 1\u001b[0m \u001b[38;5;28mprint\u001b[39m(\u001b[38;5;124mf\u001b[39m\u001b[38;5;124m\"\u001b[39m\u001b[38;5;124mArgument: \u001b[39m\u001b[38;5;132;01m{\u001b[39;00m\u001b[43margument_1\u001b[49m\u001b[38;5;132;01m}\u001b[39;00m\u001b[38;5;124m\"\u001b[39m)\n",
      "\u001b[0;31mNameError\u001b[0m: name 'argument_1' is not defined"
     ]
    }
   ],
   "source": [
    "print(f\"Argument: {argument_1}\")"
   ]
  },
  {
   "cell_type": "code",
   "execution_count": 134,
   "id": "e9eb5b8f",
   "metadata": {},
   "outputs": [
    {
     "name": "stdout",
     "output_type": "stream",
     "text": [
      "Global variable\n",
      "... 111\n",
      "Global variable\n"
     ]
    }
   ],
   "source": [
    "# Changing a global variable in a function is not that simple\n",
    "# (and you should avoid doing it)\n",
    "\n",
    "global_var = \"Global variable\"\n",
    "\n",
    "def change_global():\n",
    "    \n",
    "    global_var = 111\n",
    "    print(\"...\", global_var)\n",
    "    \n",
    "print(global_var)\n",
    "change_global()\n",
    "print(global_var)"
   ]
  },
  {
   "cell_type": "code",
   "execution_count": 135,
   "id": "86e7ea67",
   "metadata": {},
   "outputs": [
    {
     "name": "stdout",
     "output_type": "stream",
     "text": [
      "Global variable\n",
      "... 111\n",
      "111\n"
     ]
    }
   ],
   "source": [
    "global_var = \"Global variable\"\n",
    "\n",
    "def change_global_2():\n",
    "    global global_var\n",
    "    \n",
    "    global_var =  111\n",
    "    print(\"...\", global_var)\n",
    "    \n",
    "print(global_var)\n",
    "change_global_2()\n",
    "print(global_var)"
   ]
  },
  {
   "cell_type": "markdown",
   "id": "7a9d5306",
   "metadata": {},
   "source": [
    "---\n",
    "\n",
    "### Functions (cont.)"
   ]
  },
  {
   "cell_type": "code",
   "execution_count": 139,
   "id": "c7d14c84",
   "metadata": {},
   "outputs": [],
   "source": [
    "# A function may have multiple arguments.\n",
    "\n",
    "def add(a, b):\n",
    "    return a + b    # returns the sum of arguments"
   ]
  },
  {
   "cell_type": "code",
   "execution_count": 140,
   "id": "a31a67d4",
   "metadata": {},
   "outputs": [
    {
     "name": "stdout",
     "output_type": "stream",
     "text": [
      "3\n",
      "5.24\n",
      "text here\n",
      "[1, 2, 3, 4, 5]\n"
     ]
    }
   ],
   "source": [
    "# The arguments passed to the function may be of different types.\n",
    "\n",
    "print(add(1, 2))\n",
    "\n",
    "print(add(3.14, 2.1))\n",
    "\n",
    "print(add(\"text\", \" here\"))\n",
    "\n",
    "print(add([1, 2, 3], [4, 5]))\n"
   ]
  },
  {
   "cell_type": "code",
   "execution_count": 141,
   "id": "5e5b82d0",
   "metadata": {},
   "outputs": [
    {
     "data": {
      "text/plain": [
       "53"
      ]
     },
     "execution_count": 141,
     "metadata": {},
     "output_type": "execute_result"
    }
   ],
   "source": [
    "add(add(1, 2), add(45, 5))"
   ]
  },
  {
   "cell_type": "code",
   "execution_count": 142,
   "id": "fbc8ea29",
   "metadata": {},
   "outputs": [
    {
     "name": "stdout",
     "output_type": "stream",
     "text": [
      "3\n",
      "None\n"
     ]
    }
   ],
   "source": [
    "# What if we do not return a value but just print the result?\n",
    "\n",
    "def another_add(a, b):\n",
    "    c = a + b    # c is local to the function\n",
    "    print(c)\n",
    "    \n",
    "print(another_add(1, 2))    # the function returns a special value None"
   ]
  },
  {
   "cell_type": "code",
   "execution_count": 143,
   "id": "7ba9c275",
   "metadata": {},
   "outputs": [
    {
     "name": "stdout",
     "output_type": "stream",
     "text": [
      "3\n",
      "50\n"
     ]
    },
    {
     "ename": "TypeError",
     "evalue": "unsupported operand type(s) for +: 'NoneType' and 'NoneType'",
     "output_type": "error",
     "traceback": [
      "\u001b[0;31m---------------------------------------------------------------------------\u001b[0m",
      "\u001b[0;31mTypeError\u001b[0m                                 Traceback (most recent call last)",
      "Cell \u001b[0;32mIn[143], line 4\u001b[0m\n\u001b[1;32m      1\u001b[0m \u001b[38;5;66;03m# this will not work like it did for the \"add\" function:\u001b[39;00m\n\u001b[1;32m      2\u001b[0m \u001b[38;5;66;03m# (because the function does not return a value)\u001b[39;00m\n\u001b[0;32m----> 4\u001b[0m \u001b[43manother_add\u001b[49m\u001b[43m(\u001b[49m\u001b[43manother_add\u001b[49m\u001b[43m(\u001b[49m\u001b[38;5;241;43m1\u001b[39;49m\u001b[43m,\u001b[49m\u001b[43m \u001b[49m\u001b[38;5;241;43m2\u001b[39;49m\u001b[43m)\u001b[49m\u001b[43m,\u001b[49m\u001b[43m \u001b[49m\u001b[43manother_add\u001b[49m\u001b[43m(\u001b[49m\u001b[38;5;241;43m45\u001b[39;49m\u001b[43m,\u001b[49m\u001b[43m \u001b[49m\u001b[38;5;241;43m5\u001b[39;49m\u001b[43m)\u001b[49m\u001b[43m)\u001b[49m\n",
      "Cell \u001b[0;32mIn[142], line 4\u001b[0m, in \u001b[0;36manother_add\u001b[0;34m(a, b)\u001b[0m\n\u001b[1;32m      3\u001b[0m \u001b[38;5;28;01mdef\u001b[39;00m \u001b[38;5;21manother_add\u001b[39m(a, b):\n\u001b[0;32m----> 4\u001b[0m     c \u001b[38;5;241m=\u001b[39m \u001b[43ma\u001b[49m\u001b[43m \u001b[49m\u001b[38;5;241;43m+\u001b[39;49m\u001b[43m \u001b[49m\u001b[43mb\u001b[49m    \u001b[38;5;66;03m# c is local to the function\u001b[39;00m\n\u001b[1;32m      5\u001b[0m     \u001b[38;5;28mprint\u001b[39m(c)\n",
      "\u001b[0;31mTypeError\u001b[0m: unsupported operand type(s) for +: 'NoneType' and 'NoneType'"
     ]
    }
   ],
   "source": [
    "# this will not work like it did for the \"add\" function:\n",
    "# (because the function does not return a value)\n",
    "\n",
    "another_add(another_add(1, 2), another_add(45, 5))"
   ]
  },
  {
   "cell_type": "markdown",
   "id": "b973a90c",
   "metadata": {},
   "source": [
    "---\n",
    "\n",
    "### Modifying function argument values"
   ]
  },
  {
   "cell_type": "code",
   "execution_count": 145,
   "id": "705fdcf9",
   "metadata": {},
   "outputs": [
    {
     "name": "stdout",
     "output_type": "stream",
     "text": [
      "['Meat', 'Potatoes', 'Cake']\n"
     ]
    }
   ],
   "source": [
    "# Functions may modify values of mutable \"things\" passed to it\n",
    "# (for example, lists)\n",
    "\n",
    "my_list = [\"Meat\", \"Potatoes\", \"Cake\"]\n",
    "\n",
    "def add_element(some_list, element):\n",
    "    some_list.append(element)\n",
    "    \n",
    "print(my_list)"
   ]
  },
  {
   "cell_type": "code",
   "execution_count": 146,
   "id": "569c2e46",
   "metadata": {},
   "outputs": [
    {
     "name": "stdout",
     "output_type": "stream",
     "text": [
      "['Meat', 'Potatoes', 'Cake', 'Milk']\n"
     ]
    }
   ],
   "source": [
    "add_element(my_list, \"Milk\")\n",
    "\n",
    "print(my_list)"
   ]
  },
  {
   "cell_type": "markdown",
   "id": "c4305688",
   "metadata": {},
   "source": [
    "---"
   ]
  },
  {
   "cell_type": "code",
   "execution_count": 150,
   "id": "b9a2e924",
   "metadata": {},
   "outputs": [
    {
     "name": "stdout",
     "output_type": "stream",
     "text": [
      "Found [cake] in [Tasty cake]\n"
     ]
    },
    {
     "data": {
      "text/plain": [
       "'Tasty cake'"
      ]
     },
     "execution_count": 150,
     "metadata": {},
     "output_type": "execute_result"
    }
   ],
   "source": [
    "# Let's make a function to search for sub-elements in a list:\n",
    "\n",
    "my_list = [\"Mashed potatoes\", \"Crispy chicken\", \"Tasty cake\"]\n",
    "\n",
    "def search_for(some_list, sub_element):\n",
    "        \n",
    "    for list_element in some_list:\n",
    "        \n",
    "        if sub_element in list_element:\n",
    "            print(f\"Found [{sub_element}] in [{list_element}]\")\n",
    "            return list_element\n",
    "            \n",
    "    print(f\"Sorry, [{sub_element}] not found in the list {some_list}.\")\n",
    "\n",
    "search_for(my_list, \"cake\")"
   ]
  },
  {
   "cell_type": "code",
   "execution_count": 151,
   "id": "e0fa5f17",
   "metadata": {},
   "outputs": [
    {
     "name": "stdout",
     "output_type": "stream",
     "text": [
      "Sorry, [vegetables] not found in the list ['Mashed potatoes', 'Crispy chicken', 'Tasty cake'].\n"
     ]
    }
   ],
   "source": [
    "search_for(my_list, \"vegetables\")"
   ]
  },
  {
   "cell_type": "code",
   "execution_count": 152,
   "id": "7b10fb78",
   "metadata": {},
   "outputs": [
    {
     "name": "stdout",
     "output_type": "stream",
     "text": [
      "Sorry, [Cake] not found in the list ['Mashed potatoes', 'Crispy chicken', 'Tasty cake'].\n"
     ]
    }
   ],
   "source": [
    "search_for(my_list, \"Cake\")   # comparison is \"case sensitive\"!"
   ]
  },
  {
   "cell_type": "markdown",
   "id": "d311187d",
   "metadata": {},
   "source": [
    "Question:\n",
    "* how would you modify this function to find elements independent of lowercase / uppercase?\n",
    "\n",
    "---\n",
    "\n",
    "### Default values\n"
   ]
  },
  {
   "cell_type": "code",
   "execution_count": 153,
   "id": "896b79ce",
   "metadata": {},
   "outputs": [],
   "source": [
    "# Function arguments may have default values:\n",
    "\n",
    "def mix_drinks(juice=\"Apple juice\", alcohol=\"rum\"):\n",
    "    \"\"\"\n",
    "    Mixes drinks for you.\n",
    "    \n",
    "    Specify the components to mix using the \"juice\" and \"alcohol\" parameters.\n",
    "    \"\"\"\n",
    "    \n",
    "    print(f\"Have a drink: {juice} with {alcohol}\")"
   ]
  },
  {
   "cell_type": "code",
   "execution_count": 154,
   "id": "4fbab134",
   "metadata": {},
   "outputs": [
    {
     "name": "stdout",
     "output_type": "stream",
     "text": [
      "Have a drink: Tomato juice with vodka\n"
     ]
    }
   ],
   "source": [
    "mix_drinks(\"Tomato juice\", \"vodka\")"
   ]
  },
  {
   "cell_type": "code",
   "execution_count": 155,
   "id": "f8ae3318",
   "metadata": {},
   "outputs": [
    {
     "name": "stdout",
     "output_type": "stream",
     "text": [
      "Have a drink: Cola with rum\n"
     ]
    }
   ],
   "source": [
    "mix_drinks(\"Cola\")"
   ]
  },
  {
   "cell_type": "code",
   "execution_count": 156,
   "id": "9ec3d86d",
   "metadata": {},
   "outputs": [
    {
     "name": "stdout",
     "output_type": "stream",
     "text": [
      "Have a drink: Apple juice with rum\n"
     ]
    }
   ],
   "source": [
    "mix_drinks()"
   ]
  },
  {
   "cell_type": "markdown",
   "id": "1bb10749",
   "metadata": {},
   "source": [
    "Question:\n",
    "* can you specify just the second argument?\n",
    "* how can you get help about this function (in Jupyter and in \"plain\" Python)?\n",
    "---"
   ]
  },
  {
   "cell_type": "code",
   "execution_count": null,
   "id": "81549142",
   "metadata": {},
   "outputs": [],
   "source": []
  },
  {
   "cell_type": "markdown",
   "id": "500fdb7c",
   "metadata": {},
   "source": [
    "---\n",
    "\n",
    "### Practical exercises\n",
    "\n",
    "* Write a function that checks if its argument is a prime number\n",
    "* Write a function that checks if a string argument is a palindrome:\n",
    " * A palindrome is a word, number, phrase, or other sequence of characters which reads the same backward as forward.\n",
    " * Examples: \"madam\", \"racecar\"."
   ]
  },
  {
   "cell_type": "code",
   "execution_count": null,
   "id": "a4474812",
   "metadata": {},
   "outputs": [],
   "source": []
  },
  {
   "cell_type": "code",
   "execution_count": null,
   "id": "4e3d0fc7",
   "metadata": {},
   "outputs": [],
   "source": []
  },
  {
   "cell_type": "code",
   "execution_count": null,
   "id": "ebd743f5",
   "metadata": {},
   "outputs": [],
   "source": []
  },
  {
   "cell_type": "code",
   "execution_count": null,
   "id": "769ca7b6",
   "metadata": {},
   "outputs": [],
   "source": []
  },
  {
   "cell_type": "markdown",
   "id": "460bd8c5",
   "metadata": {},
   "source": [
    "---\n",
    "\n",
    "### More information:\n",
    "\n",
    "* [\"Automate the boring stuff\" chapter about functions](https://automatetheboringstuff.com/2e/chapter3/)\n",
    "* [Python functions exercises](https://www.w3resource.com/python-exercises/python-functions-exercises.php)\n",
    "* [Python built-in functions](https://docs.python.org/3/library/functions.html)\n"
   ]
  }
 ],
 "metadata": {
  "kernelspec": {
   "display_name": "Python 3 (ipykernel)",
   "language": "python",
   "name": "python3"
  },
  "language_info": {
   "codemirror_mode": {
    "name": "ipython",
    "version": 3
   },
   "file_extension": ".py",
   "mimetype": "text/x-python",
   "name": "python",
   "nbconvert_exporter": "python",
   "pygments_lexer": "ipython3",
   "version": "3.9.16"
  }
 },
 "nbformat": 4,
 "nbformat_minor": 5
}
