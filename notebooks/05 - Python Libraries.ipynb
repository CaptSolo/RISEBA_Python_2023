{
 "cells": [
  {
   "cell_type": "markdown",
   "id": "03d574cd",
   "metadata": {},
   "source": [
    "# Python Libraries"
   ]
  },
  {
   "cell_type": "markdown",
   "id": "ffd8fe9a",
   "metadata": {},
   "source": [
    "Python library is a \"bundle\" of code that can be used repeatedly to perform some related functionality.\n",
    "\n",
    "### Python standard library (\"Batteries included\") contains many built-in libraries\n",
    "\n",
    "https://docs.python.org/3/library/\n",
    "\n",
    "### External libraries\n",
    "\n",
    "[PyPI = Python package index](https://pypi.org/)\n",
    "- contains > 400 thousand projects\n",
    "\n",
    "[Awesome Python](https://github.com/vinta/awesome-python)\n",
    "- A curated list of awesome Python frameworks, libraries, software and resources.\n",
    "\n",
    "### Examples\n",
    "\n",
    "- [Random library](https://docs.python.org/3/library/random.html) = built-in\n",
    "- [Requests library](https://requests.readthedocs.io/en/latest/) = external"
   ]
  },
  {
   "cell_type": "markdown",
   "id": "5f93d220",
   "metadata": {},
   "source": [
    "---\n",
    "\n",
    "## Importing libraries, `import` command\n",
    "\n",
    "In order to use Python libraries you must `import` them.\n",
    "- `import library_name`\n",
    "\n",
    "External libraries need to be installed first (unless they are already included with your distribution of Python (such as Anaconda)).\n",
    "\n",
    "The way how to install external libraries depends on what Python distribution you are using.\n",
    "- for example, using `pip install library_name` "
   ]
  },
  {
   "cell_type": "code",
   "execution_count": 1,
   "id": "81fad913",
   "metadata": {},
   "outputs": [],
   "source": [
    "import antigravity"
   ]
  },
  {
   "cell_type": "code",
   "execution_count": 2,
   "id": "ef0d9577",
   "metadata": {},
   "outputs": [],
   "source": [
    "import random"
   ]
  },
  {
   "cell_type": "code",
   "execution_count": 7,
   "id": "fe8655dd",
   "metadata": {},
   "outputs": [
    {
     "data": {
      "text/plain": [
       "5"
      ]
     },
     "execution_count": 7,
     "metadata": {},
     "output_type": "execute_result"
    }
   ],
   "source": [
    "random.randint(1, 6)"
   ]
  },
  {
   "cell_type": "markdown",
   "id": "8ad18a4f",
   "metadata": {},
   "source": [
    "### `import` library `as` new_name\n",
    "\n",
    "You may prefer to call a library in another, usually shorter, name. In order to do that you need to specify the new name using the `as` keyword:\n",
    "- `import pandas as pd`\n"
   ]
  },
  {
   "cell_type": "markdown",
   "id": "3bbd0fb9",
   "metadata": {},
   "source": [
    "### Example : random"
   ]
  },
  {
   "cell_type": "code",
   "execution_count": 8,
   "id": "f8a00871",
   "metadata": {},
   "outputs": [],
   "source": [
    "import random as rnd"
   ]
  },
  {
   "cell_type": "code",
   "execution_count": 11,
   "id": "e7dd65c7",
   "metadata": {},
   "outputs": [
    {
     "data": {
      "text/plain": [
       "'strawberry'"
      ]
     },
     "execution_count": 11,
     "metadata": {},
     "output_type": "execute_result"
    }
   ],
   "source": [
    "rnd.choice([\"apple\", \"strawberry\", \"mango\"])"
   ]
  },
  {
   "cell_type": "code",
   "execution_count": 12,
   "id": "7af9fb91",
   "metadata": {},
   "outputs": [],
   "source": [
    "list_of_values = range(10)"
   ]
  },
  {
   "cell_type": "code",
   "execution_count": 18,
   "id": "8e4b0eda",
   "metadata": {},
   "outputs": [
    {
     "name": "stdout",
     "output_type": "stream",
     "text": [
      "1\n"
     ]
    }
   ],
   "source": [
    "value = rnd.choice(list_of_values)\n",
    "\n",
    "print(value)"
   ]
  },
  {
   "cell_type": "code",
   "execution_count": 19,
   "id": "b25170df",
   "metadata": {},
   "outputs": [
    {
     "name": "stdout",
     "output_type": "stream",
     "text": [
      "Help on method choice in module random:\n",
      "\n",
      "choice(seq) method of random.Random instance\n",
      "    Choose a random element from a non-empty sequence.\n",
      "\n"
     ]
    }
   ],
   "source": [
    "# libraries usually have help text:\n",
    "\n",
    "help(rnd.choice)"
   ]
  },
  {
   "cell_type": "markdown",
   "id": "7efb5b26",
   "metadata": {},
   "source": [
    "### `from` library `import` name\n",
    "\n",
    "If you only need some of the functionality of a library you can list the names of things you want to import:\n",
    "\n",
    "- `from name_of_library import list, of, names`\n",
    "\n",
    "Example:\n",
    "- `from random import choice`\n",
    "\n",
    "You may list many names to import:\n",
    "- `from random import choice, randint`\n"
   ]
  },
  {
   "cell_type": "code",
   "execution_count": 21,
   "id": "daa6f67b",
   "metadata": {},
   "outputs": [
    {
     "name": "stdout",
     "output_type": "stream",
     "text": [
      "5\n"
     ]
    }
   ],
   "source": [
    "from random import choice\n",
    "\n",
    "value = choice(list_of_values)\n",
    "print(value)"
   ]
  },
  {
   "cell_type": "code",
   "execution_count": null,
   "id": "723c5051",
   "metadata": {},
   "outputs": [],
   "source": []
  },
  {
   "cell_type": "markdown",
   "id": "d091b9e1",
   "metadata": {},
   "source": [
    "### Example : collections, Counter\n",
    "\n",
    "`Counter()` object lets us count things.\n",
    "\n",
    "https://docs.python.org/3/library/collections.html#collections.Counter\n",
    "\n",
    "https://realpython.com/python-counter/"
   ]
  },
  {
   "cell_type": "code",
   "execution_count": 22,
   "id": "dcf3db92",
   "metadata": {},
   "outputs": [],
   "source": [
    "from collections import Counter"
   ]
  },
  {
   "cell_type": "code",
   "execution_count": 23,
   "id": "a866aadc",
   "metadata": {},
   "outputs": [
    {
     "name": "stdout",
     "output_type": "stream",
     "text": [
      "Counter({2: 3, 1: 2, 11: 1, 15: 1, 18: 1})\n"
     ]
    }
   ],
   "source": [
    "things_to_count = [1, 2, 11, 15, 2, 2, 18, 1]\n",
    "\n",
    "cnt = Counter(things_to_count)\n",
    "\n",
    "print(cnt)"
   ]
  },
  {
   "cell_type": "code",
   "execution_count": 25,
   "id": "721dffd3",
   "metadata": {},
   "outputs": [
    {
     "name": "stdout",
     "output_type": "stream",
     "text": [
      "clear\n",
      "copy\n",
      "elements\n",
      "fromkeys\n",
      "get\n",
      "items\n",
      "keys\n",
      "most_common\n",
      "pop\n",
      "popitem\n",
      "setdefault\n",
      "subtract\n",
      "update\n",
      "values\n"
     ]
    }
   ],
   "source": [
    "# let's see what methods we can use with the Counter object\n",
    "\n",
    "names = dir(cnt)\n",
    "\n",
    "for name in names:\n",
    "    if not name.startswith(\"_\"):\n",
    "        print(name)"
   ]
  },
  {
   "cell_type": "code",
   "execution_count": 26,
   "id": "422a928b",
   "metadata": {},
   "outputs": [
    {
     "name": "stdout",
     "output_type": "stream",
     "text": [
      "Help on method most_common in module collections:\n",
      "\n",
      "most_common(n=None) method of collections.Counter instance\n",
      "    List the n most common elements and their counts from the most\n",
      "    common to the least.  If n is None, then list all element counts.\n",
      "    \n",
      "    >>> Counter('abracadabra').most_common(3)\n",
      "    [('a', 5), ('b', 2), ('r', 2)]\n",
      "\n"
     ]
    }
   ],
   "source": [
    "help(cnt.most_common)"
   ]
  },
  {
   "cell_type": "code",
   "execution_count": 27,
   "id": "a581cb29",
   "metadata": {},
   "outputs": [
    {
     "data": {
      "text/plain": [
       "[(2, 3), (1, 2)]"
      ]
     },
     "execution_count": 27,
     "metadata": {},
     "output_type": "execute_result"
    }
   ],
   "source": [
    "# print most common items\n",
    "cnt.most_common(2)"
   ]
  },
  {
   "cell_type": "code",
   "execution_count": 28,
   "id": "dd79719e",
   "metadata": {},
   "outputs": [
    {
     "name": "stdout",
     "output_type": "stream",
     "text": [
      "Item 2 appeared 3 time(s).\n",
      "Item 1 appeared 2 time(s).\n"
     ]
    }
   ],
   "source": [
    "# a prettier way to display most common items:\n",
    "\n",
    "for thing, count in cnt.most_common(2):\n",
    "    print(f\"Item {thing} appeared {count} time(s).\")"
   ]
  },
  {
   "cell_type": "code",
   "execution_count": 29,
   "id": "4915bcd9",
   "metadata": {},
   "outputs": [],
   "source": [
    "cnt2 = Counter(\"my text\")"
   ]
  },
  {
   "cell_type": "code",
   "execution_count": 30,
   "id": "95b58781",
   "metadata": {},
   "outputs": [
    {
     "data": {
      "text/plain": [
       "Counter({'m': 1, 'y': 1, ' ': 1, 't': 2, 'e': 1, 'x': 1})"
      ]
     },
     "execution_count": 30,
     "metadata": {},
     "output_type": "execute_result"
    }
   ],
   "source": [
    "cnt2"
   ]
  },
  {
   "cell_type": "code",
   "execution_count": 31,
   "id": "353750f5",
   "metadata": {},
   "outputs": [
    {
     "data": {
      "text/plain": [
       "['my', 'text', 'and', 'some', 'more', 'text', 'here', 'and', \"that's\", 'it']"
      ]
     },
     "execution_count": 31,
     "metadata": {},
     "output_type": "execute_result"
    }
   ],
   "source": [
    "words = \"my text and some more text here and that's it\".split()\n",
    "words"
   ]
  },
  {
   "cell_type": "code",
   "execution_count": 32,
   "id": "c524be18",
   "metadata": {},
   "outputs": [],
   "source": [
    "cnt3 = Counter(words)"
   ]
  },
  {
   "cell_type": "code",
   "execution_count": 33,
   "id": "9e0e09f7",
   "metadata": {},
   "outputs": [
    {
     "data": {
      "text/plain": [
       "Counter({'my': 1,\n",
       "         'text': 2,\n",
       "         'and': 2,\n",
       "         'some': 1,\n",
       "         'more': 1,\n",
       "         'here': 1,\n",
       "         \"that's\": 1,\n",
       "         'it': 1})"
      ]
     },
     "execution_count": 33,
     "metadata": {},
     "output_type": "execute_result"
    }
   ],
   "source": [
    "cnt3"
   ]
  },
  {
   "cell_type": "markdown",
   "id": "1741697f",
   "metadata": {},
   "source": [
    "---\n",
    "\n",
    "## External libraries\n",
    "\n",
    "[Awesome Python](https://github.com/vinta/awesome-python) resources list\n",
    "\n",
    "External libraries need to be installed before use.\n"
   ]
  },
  {
   "cell_type": "markdown",
   "id": "11bcfead",
   "metadata": {},
   "source": [
    "### Example : requests\n",
    "\n",
    "\"Requests is an elegant and simple HTTP library for Python, built for human beings.\"\n",
    "\n",
    "https://requests.readthedocs.io/en/latest/"
   ]
  },
  {
   "cell_type": "code",
   "execution_count": 38,
   "id": "0a4b5ae1",
   "metadata": {},
   "outputs": [],
   "source": [
    "## Installation of the library depends on what Python distribution you use\n",
    "## Example of installing requests using the pip command:\n",
    "\n",
    "#!pip install requests"
   ]
  },
  {
   "cell_type": "code",
   "execution_count": 36,
   "id": "d62864ef",
   "metadata": {},
   "outputs": [],
   "source": [
    "import requests"
   ]
  },
  {
   "cell_type": "code",
   "execution_count": 40,
   "id": "0626dc29",
   "metadata": {},
   "outputs": [],
   "source": [
    "# raw text of Wikipedia article about Semantic Web\n",
    "url = \"https://en.wikipedia.org/wiki/Semantic_Web?action=raw\""
   ]
  },
  {
   "cell_type": "code",
   "execution_count": 41,
   "id": "2227512a",
   "metadata": {
    "scrolled": true
   },
   "outputs": [
    {
     "name": "stdout",
     "output_type": "stream",
     "text": [
      "200\n",
      "\n",
      "{{Short description|Extension of the Web to facilitate data exchange}}\n",
      "{{About|the concept of an Internet based around machine-readability and interoperability standards|the concept of a World Wide Web based on public blockchains|Web3}}\n",
      "{{Use American English|date=December 2021}}\n",
      "\n",
      "{{Semantics}}\n",
      "The '''Semantic Web''', sometimes known as '''Web 3.0''' (not to be confused with [[Web3]]), is an extension of the [[World Wide Web]] through standards<ref>Semantic Web at W3C: https://www.w3.org/standards/semanticweb/</ref> set by the [[World Wide Web Consortium]] (W3C).<!--ref>{{cite web|url=http://www.dblab.ntua.gr/~bikakis/XML%20and%20Semantic%20Web%20W3C%20Standards%20Timeline-History.pdf|title=XML and Semantic Web W3C Standards Timeline|date=2012-02-04}}</ref--> The goal of the Semantic Web is to make [[Internet]] data machine-readable.\n",
      "\n",
      "To enable the encoding of [[semantics]] with the data, technologies such as [[Resource Description Framework]] (RDF)<ref>{{cite web|url=http://www.w3.org/TR/rdf-syntax-grammar/ | title=World Wide Web Consortium (W3C), \"RDF/XML Syntax Specification (Revised)\", 25 Feb. 2014.}}</ref> and [[Web Ontology Language]] (OWL)<ref>{{cite web|url=http://www.w3.org/TR/owl-features/ | title=World Wide Web Consortium (W3C), \"OWL Web Ontology Language Overview\", W3C Recommendation, 10 Feb. 2004.}}</ref> are used. These technologies are used to formally represent [[metadata]]. For example, [[Ontology (information science)|ontology]] can describe [[concept]]s, relationships between [[Entity–relationship model|entities]], and categories of things. These embedded semantics offer significant advantages such as reasoning over data and operating with heterogeneous data sources.<ref>{{cite journal|url=https://purkh.com/index.php/tocomp/article/view/33|last=Chung|first=Seung-Hwa|title=The MOUSE approach: Mapping Ontologies using UML for System Engineers|date=2018|journal=Computer Reviews Journal|issn=2581-6640|pages=8–29}}</ref>\n",
      "\n",
      "These standards promote common data formats and exchange protocols on the Web, fundamentally the RDF. According to the W3C, \"The Semantic Web provides a common framework that allows data to be shared and reused across application, enterprise, and community boundaries.\"<ref name=\"W3C-SWA\" /> The Semantic Web is therefore regarded as an integrator across different content and information applications and systems.\n",
      "\n",
      "The term was coined by [[Tim Berners-Lee]] for a web of data (or '''data web''')<ref>{{cite web|url=https://www.bloomberg.com/news/articles/2007-04-09/q-and-a-with-tim-berners-leebusinessweek-business-news-stock-market-and-financial-advice|title=Q&A with Tim Berners-Lee, Special Report |website=businessweek.com|access-date=14 April 2018}}</ref> that can be processed by machines<ref name=\"Berners-Lee\"/>—that is, one in which much of the [[meaning (linguistics)|meaning]] is [[machine-readable data|machine-readable]]. While its critics have questioned its feasibility, proponents argue that applications in [[Li\n"
     ]
    }
   ],
   "source": [
    "# let's get the contents of this webpage\n",
    "\n",
    "result = requests.get(url)\n",
    "\n",
    "# result code \"200\" means the page was retrieved OK\n",
    "print(result.status_code)\n",
    "print()\n",
    "\n",
    "# this is the \"text\" of the webpage\n",
    "print(result.text[:3000])"
   ]
  },
  {
   "cell_type": "markdown",
   "id": "f446b5be",
   "metadata": {},
   "source": [
    "### Exercise\n",
    "\n",
    "Count the number of words in the text of the webpage retrieved above and display a list of Top 10 words on this webpage.\n"
   ]
  },
  {
   "cell_type": "code",
   "execution_count": 45,
   "id": "821a5a2f",
   "metadata": {},
   "outputs": [],
   "source": [
    "text = result.text\n",
    "\n",
    "text = text.replace(\"*\", \"\")\n",
    "text = text.replace(\"|\", \"\")\n",
    "text = text.replace(\"the\", \"\")"
   ]
  },
  {
   "cell_type": "code",
   "execution_count": 46,
   "id": "1bf41500",
   "metadata": {},
   "outputs": [],
   "source": [
    "words = text.split()"
   ]
  },
  {
   "cell_type": "code",
   "execution_count": 47,
   "id": "013a5dd9",
   "metadata": {},
   "outputs": [],
   "source": [
    "cnt = Counter(words)"
   ]
  },
  {
   "cell_type": "code",
   "execution_count": 48,
   "id": "9c51d79c",
   "metadata": {},
   "outputs": [
    {
     "data": {
      "text/plain": [
       "[('of', 182),\n",
       " ('and', 153),\n",
       " ('to', 104),\n",
       " ('a', 102),\n",
       " ('Web', 95),\n",
       " ('in', 77),\n",
       " ('Semantic', 63),\n",
       " ('for', 58),\n",
       " ('that', 57),\n",
       " ('is', 56)]"
      ]
     },
     "execution_count": 48,
     "metadata": {},
     "output_type": "execute_result"
    }
   ],
   "source": [
    "cnt.most_common(10)"
   ]
  },
  {
   "cell_type": "code",
   "execution_count": null,
   "id": "d17ab901",
   "metadata": {},
   "outputs": [],
   "source": []
  },
  {
   "cell_type": "markdown",
   "id": "fc89a1dd",
   "metadata": {},
   "source": [
    "## Other libraries\n",
    "\n",
    "- [Datasets](https://pypi.org/project/datasets/) - for getting data from the [HuggingFace Datasets Hub](https://huggingface.co/datasets)\n",
    "  - `dataset = load_dataset(\"wikipedia\", language=\"lv\", date=\"20230220\", beam_runner=\"DirectRunner\")`\n",
    "- [math](https://docs.python.org/3/library/math.html) - Mathematical functions and constants\n",
    "- [Matplotlib](https://matplotlib.org/) - a data visualization library\n",
    "- [NumPy](https://numpy.org/) - numerical computing\n",
    "- [openpyxl](https://openpyxl.readthedocs.io/en/stable/) for working with Excel files\n",
    "- [Pandas](https://pandas.pydata.org/docs/getting_started/index.html#getting-started) - for working with tabular data (DataFrames)\n",
    "- [Pillow](https://pillow.readthedocs.io/en/stable/handbook/tutorial.html) - for working with images\n",
    "- [pyperclip](https://pyperclip.readthedocs.io/en/latest/) - for working with clipboard (copy, paste)\n",
    "- [statistics](https://docs.python.org/3/library/statistics.html) - Mathematical statistics functions\n",
    "\n",
    "What other Python libraries do you need / are interested in?"
   ]
  },
  {
   "cell_type": "code",
   "execution_count": null,
   "id": "40a13db7",
   "metadata": {},
   "outputs": [],
   "source": []
  },
  {
   "cell_type": "code",
   "execution_count": null,
   "id": "cf4b3f22",
   "metadata": {},
   "outputs": [],
   "source": []
  },
  {
   "cell_type": "code",
   "execution_count": 50,
   "id": "a6b9dadc",
   "metadata": {},
   "outputs": [],
   "source": [
    "# Latvia open data porta: data.gov.lv\n",
    "\n",
    "covid_url = \"https://data.gov.lv/dati/dataset/cbd91f16-0d67-465b-b89b-d315c9358c77/resource/b5530ed7-fdd2-475f-a953-e267d0c10755/download/covidpatients.csv\""
   ]
  },
  {
   "cell_type": "code",
   "execution_count": 49,
   "id": "5f239827",
   "metadata": {},
   "outputs": [],
   "source": [
    "# let's use Pandas\n",
    "\n",
    "import pandas as pd"
   ]
  },
  {
   "cell_type": "code",
   "execution_count": 51,
   "id": "f6ecd193",
   "metadata": {},
   "outputs": [],
   "source": [
    "data = pd.read_csv(covid_url, delimiter=\";\")"
   ]
  },
  {
   "cell_type": "code",
   "execution_count": 52,
   "id": "b1753eed",
   "metadata": {},
   "outputs": [
    {
     "data": {
      "text/html": [
       "<div>\n",
       "<style scoped>\n",
       "    .dataframe tbody tr th:only-of-type {\n",
       "        vertical-align: middle;\n",
       "    }\n",
       "\n",
       "    .dataframe tbody tr th {\n",
       "        vertical-align: top;\n",
       "    }\n",
       "\n",
       "    .dataframe thead th {\n",
       "        text-align: right;\n",
       "    }\n",
       "</style>\n",
       "<table border=\"1\" class=\"dataframe\">\n",
       "  <thead>\n",
       "    <tr style=\"text-align: right;\">\n",
       "      <th></th>\n",
       "      <th>Datums</th>\n",
       "      <th>ĀI kods</th>\n",
       "      <th>ĀI nosaukums</th>\n",
       "      <th>Kopā</th>\n",
       "      <th>Jauni</th>\n",
       "      <th>Pamata diagnoze</th>\n",
       "      <th>Blakus diagnoze</th>\n",
       "      <th>Smaga slimības gaita</th>\n",
       "      <th>t.sk. Invazīva MPV</th>\n",
       "      <th>Vidēja slimības gaita</th>\n",
       "      <th>Miruši</th>\n",
       "      <th>Izrakstīti</th>\n",
       "      <th>Pārvesti</th>\n",
       "      <th>t.sk. uz augstāka līmeņa</th>\n",
       "      <th>t.sk. uz zemāka līmeņa</th>\n",
       "      <th>t.sk. uz tāda paša līmeņa</th>\n",
       "    </tr>\n",
       "  </thead>\n",
       "  <tbody>\n",
       "    <tr>\n",
       "      <th>10644</th>\n",
       "      <td>2023-03-01T00:00:00</td>\n",
       "      <td>210020301-01</td>\n",
       "      <td>Rēzeknes slimnīca</td>\n",
       "      <td>1.0</td>\n",
       "      <td>0.0</td>\n",
       "      <td>1.0</td>\n",
       "      <td>0.0</td>\n",
       "      <td>0.0</td>\n",
       "      <td>0.0</td>\n",
       "      <td>1.0</td>\n",
       "      <td>0.0</td>\n",
       "      <td>1.0</td>\n",
       "      <td>0.0</td>\n",
       "      <td>0.0</td>\n",
       "      <td>0.0</td>\n",
       "      <td>0.0</td>\n",
       "    </tr>\n",
       "    <tr>\n",
       "      <th>10645</th>\n",
       "      <td>2023-03-01T00:00:00</td>\n",
       "      <td>010021301-01</td>\n",
       "      <td>Rīgas Dzemdību nams</td>\n",
       "      <td>1.0</td>\n",
       "      <td>0.0</td>\n",
       "      <td>NaN</td>\n",
       "      <td>1.0</td>\n",
       "      <td>NaN</td>\n",
       "      <td>NaN</td>\n",
       "      <td>NaN</td>\n",
       "      <td>NaN</td>\n",
       "      <td>0.0</td>\n",
       "      <td>NaN</td>\n",
       "      <td>NaN</td>\n",
       "      <td>NaN</td>\n",
       "      <td>NaN</td>\n",
       "    </tr>\n",
       "    <tr>\n",
       "      <th>10646</th>\n",
       "      <td>2023-03-01T00:00:00</td>\n",
       "      <td>010012202-01</td>\n",
       "      <td>Rīgas psihiatrijas un narkoloģijas centrs</td>\n",
       "      <td>3.0</td>\n",
       "      <td>0.0</td>\n",
       "      <td>2.0</td>\n",
       "      <td>1.0</td>\n",
       "      <td>0.0</td>\n",
       "      <td>0.0</td>\n",
       "      <td>2.0</td>\n",
       "      <td>0.0</td>\n",
       "      <td>0.0</td>\n",
       "      <td>0.0</td>\n",
       "      <td>0.0</td>\n",
       "      <td>0.0</td>\n",
       "      <td>0.0</td>\n",
       "    </tr>\n",
       "    <tr>\n",
       "      <th>10647</th>\n",
       "      <td>2023-03-01T00:00:00</td>\n",
       "      <td>801400002-01</td>\n",
       "      <td>Saulkrastu veselības un sociālās aprūpes centrs</td>\n",
       "      <td>0.0</td>\n",
       "      <td>0.0</td>\n",
       "      <td>0.0</td>\n",
       "      <td>0.0</td>\n",
       "      <td>0.0</td>\n",
       "      <td>0.0</td>\n",
       "      <td>0.0</td>\n",
       "      <td>0.0</td>\n",
       "      <td>0.0</td>\n",
       "      <td>0.0</td>\n",
       "      <td>0.0</td>\n",
       "      <td>0.0</td>\n",
       "      <td>0.0</td>\n",
       "    </tr>\n",
       "    <tr>\n",
       "      <th>10648</th>\n",
       "      <td>2023-03-01T00:00:00</td>\n",
       "      <td>090012101-01</td>\n",
       "      <td>Slimnīca \"Ģintermuiža\"</td>\n",
       "      <td>7.0</td>\n",
       "      <td>NaN</td>\n",
       "      <td>NaN</td>\n",
       "      <td>7.0</td>\n",
       "      <td>NaN</td>\n",
       "      <td>NaN</td>\n",
       "      <td>NaN</td>\n",
       "      <td>NaN</td>\n",
       "      <td>NaN</td>\n",
       "      <td>NaN</td>\n",
       "      <td>NaN</td>\n",
       "      <td>NaN</td>\n",
       "      <td>NaN</td>\n",
       "    </tr>\n",
       "    <tr>\n",
       "      <th>...</th>\n",
       "      <td>...</td>\n",
       "      <td>...</td>\n",
       "      <td>...</td>\n",
       "      <td>...</td>\n",
       "      <td>...</td>\n",
       "      <td>...</td>\n",
       "      <td>...</td>\n",
       "      <td>...</td>\n",
       "      <td>...</td>\n",
       "      <td>...</td>\n",
       "      <td>...</td>\n",
       "      <td>...</td>\n",
       "      <td>...</td>\n",
       "      <td>...</td>\n",
       "      <td>...</td>\n",
       "      <td>...</td>\n",
       "    </tr>\n",
       "    <tr>\n",
       "      <th>10739</th>\n",
       "      <td>2023-03-05T00:00:00</td>\n",
       "      <td>010012202-01</td>\n",
       "      <td>Rīgas psihiatrijas un narkoloģijas centrs</td>\n",
       "      <td>2.0</td>\n",
       "      <td>0.0</td>\n",
       "      <td>0.0</td>\n",
       "      <td>2.0</td>\n",
       "      <td>0.0</td>\n",
       "      <td>0.0</td>\n",
       "      <td>0.0</td>\n",
       "      <td>0.0</td>\n",
       "      <td>0.0</td>\n",
       "      <td>0.0</td>\n",
       "      <td>0.0</td>\n",
       "      <td>0.0</td>\n",
       "      <td>0.0</td>\n",
       "    </tr>\n",
       "    <tr>\n",
       "      <th>10740</th>\n",
       "      <td>2023-03-05T00:00:00</td>\n",
       "      <td>941800004-01</td>\n",
       "      <td>Strenču psihoneiroloģiskā slimnīca</td>\n",
       "      <td>10.0</td>\n",
       "      <td>NaN</td>\n",
       "      <td>NaN</td>\n",
       "      <td>10.0</td>\n",
       "      <td>NaN</td>\n",
       "      <td>NaN</td>\n",
       "      <td>NaN</td>\n",
       "      <td>NaN</td>\n",
       "      <td>NaN</td>\n",
       "      <td>NaN</td>\n",
       "      <td>NaN</td>\n",
       "      <td>NaN</td>\n",
       "      <td>NaN</td>\n",
       "    </tr>\n",
       "    <tr>\n",
       "      <th>10741</th>\n",
       "      <td>2023-03-05T00:00:00</td>\n",
       "      <td>010011401-01</td>\n",
       "      <td>Traumatoloģijas un ortopēdijas slimnīca</td>\n",
       "      <td>2.0</td>\n",
       "      <td>0.0</td>\n",
       "      <td>0.0</td>\n",
       "      <td>2.0</td>\n",
       "      <td>0.0</td>\n",
       "      <td>0.0</td>\n",
       "      <td>0.0</td>\n",
       "      <td>0.0</td>\n",
       "      <td>0.0</td>\n",
       "      <td>0.0</td>\n",
       "      <td>0.0</td>\n",
       "      <td>0.0</td>\n",
       "      <td>0.0</td>\n",
       "    </tr>\n",
       "    <tr>\n",
       "      <th>10742</th>\n",
       "      <td>2023-03-05T00:00:00</td>\n",
       "      <td>250000092-01</td>\n",
       "      <td>Vidzemes slimnīca</td>\n",
       "      <td>18.0</td>\n",
       "      <td>0.0</td>\n",
       "      <td>9.0</td>\n",
       "      <td>9.0</td>\n",
       "      <td>0.0</td>\n",
       "      <td>0.0</td>\n",
       "      <td>9.0</td>\n",
       "      <td>0.0</td>\n",
       "      <td>0.0</td>\n",
       "      <td>0.0</td>\n",
       "      <td>0.0</td>\n",
       "      <td>0.0</td>\n",
       "      <td>0.0</td>\n",
       "    </tr>\n",
       "    <tr>\n",
       "      <th>10743</th>\n",
       "      <td>2023-03-05T00:00:00</td>\n",
       "      <td>270020302-01</td>\n",
       "      <td>Ziemeļkurzemes reģionālā slimnīca, Ventspils</td>\n",
       "      <td>1.0</td>\n",
       "      <td>NaN</td>\n",
       "      <td>1.0</td>\n",
       "      <td>NaN</td>\n",
       "      <td>NaN</td>\n",
       "      <td>NaN</td>\n",
       "      <td>1.0</td>\n",
       "      <td>NaN</td>\n",
       "      <td>NaN</td>\n",
       "      <td>NaN</td>\n",
       "      <td>NaN</td>\n",
       "      <td>NaN</td>\n",
       "      <td>NaN</td>\n",
       "    </tr>\n",
       "  </tbody>\n",
       "</table>\n",
       "<p>100 rows × 16 columns</p>\n",
       "</div>"
      ],
      "text/plain": [
       "                    Datums       ĀI kods  \\\n",
       "10644  2023-03-01T00:00:00  210020301-01   \n",
       "10645  2023-03-01T00:00:00  010021301-01   \n",
       "10646  2023-03-01T00:00:00  010012202-01   \n",
       "10647  2023-03-01T00:00:00  801400002-01   \n",
       "10648  2023-03-01T00:00:00  090012101-01   \n",
       "...                    ...           ...   \n",
       "10739  2023-03-05T00:00:00  010012202-01   \n",
       "10740  2023-03-05T00:00:00  941800004-01   \n",
       "10741  2023-03-05T00:00:00  010011401-01   \n",
       "10742  2023-03-05T00:00:00  250000092-01   \n",
       "10743  2023-03-05T00:00:00  270020302-01   \n",
       "\n",
       "                                          ĀI nosaukums  Kopā  Jauni  \\\n",
       "10644                                Rēzeknes slimnīca   1.0    0.0   \n",
       "10645                              Rīgas Dzemdību nams   1.0    0.0   \n",
       "10646        Rīgas psihiatrijas un narkoloģijas centrs   3.0    0.0   \n",
       "10647  Saulkrastu veselības un sociālās aprūpes centrs   0.0    0.0   \n",
       "10648                           Slimnīca \"Ģintermuiža\"   7.0    NaN   \n",
       "...                                                ...   ...    ...   \n",
       "10739        Rīgas psihiatrijas un narkoloģijas centrs   2.0    0.0   \n",
       "10740               Strenču psihoneiroloģiskā slimnīca  10.0    NaN   \n",
       "10741          Traumatoloģijas un ortopēdijas slimnīca   2.0    0.0   \n",
       "10742                                Vidzemes slimnīca  18.0    0.0   \n",
       "10743     Ziemeļkurzemes reģionālā slimnīca, Ventspils   1.0    NaN   \n",
       "\n",
       "       Pamata diagnoze  Blakus diagnoze  Smaga slimības gaita  \\\n",
       "10644              1.0              0.0                   0.0   \n",
       "10645              NaN              1.0                   NaN   \n",
       "10646              2.0              1.0                   0.0   \n",
       "10647              0.0              0.0                   0.0   \n",
       "10648              NaN              7.0                   NaN   \n",
       "...                ...              ...                   ...   \n",
       "10739              0.0              2.0                   0.0   \n",
       "10740              NaN             10.0                   NaN   \n",
       "10741              0.0              2.0                   0.0   \n",
       "10742              9.0              9.0                   0.0   \n",
       "10743              1.0              NaN                   NaN   \n",
       "\n",
       "       t.sk. Invazīva MPV  Vidēja slimības gaita  Miruši  Izrakstīti  \\\n",
       "10644                 0.0                    1.0     0.0         1.0   \n",
       "10645                 NaN                    NaN     NaN         0.0   \n",
       "10646                 0.0                    2.0     0.0         0.0   \n",
       "10647                 0.0                    0.0     0.0         0.0   \n",
       "10648                 NaN                    NaN     NaN         NaN   \n",
       "...                   ...                    ...     ...         ...   \n",
       "10739                 0.0                    0.0     0.0         0.0   \n",
       "10740                 NaN                    NaN     NaN         NaN   \n",
       "10741                 0.0                    0.0     0.0         0.0   \n",
       "10742                 0.0                    9.0     0.0         0.0   \n",
       "10743                 NaN                    1.0     NaN         NaN   \n",
       "\n",
       "       Pārvesti  t.sk. uz augstāka līmeņa  t.sk. uz zemāka līmeņa  \\\n",
       "10644       0.0                       0.0                     0.0   \n",
       "10645       NaN                       NaN                     NaN   \n",
       "10646       0.0                       0.0                     0.0   \n",
       "10647       0.0                       0.0                     0.0   \n",
       "10648       NaN                       NaN                     NaN   \n",
       "...         ...                       ...                     ...   \n",
       "10739       0.0                       0.0                     0.0   \n",
       "10740       NaN                       NaN                     NaN   \n",
       "10741       0.0                       0.0                     0.0   \n",
       "10742       0.0                       0.0                     0.0   \n",
       "10743       NaN                       NaN                     NaN   \n",
       "\n",
       "       t.sk. uz tāda paša līmeņa  \n",
       "10644                        0.0  \n",
       "10645                        NaN  \n",
       "10646                        0.0  \n",
       "10647                        0.0  \n",
       "10648                        NaN  \n",
       "...                          ...  \n",
       "10739                        0.0  \n",
       "10740                        NaN  \n",
       "10741                        0.0  \n",
       "10742                        0.0  \n",
       "10743                        NaN  \n",
       "\n",
       "[100 rows x 16 columns]"
      ]
     },
     "execution_count": 52,
     "metadata": {},
     "output_type": "execute_result"
    }
   ],
   "source": [
    "data[-100:]"
   ]
  },
  {
   "cell_type": "code",
   "execution_count": 53,
   "id": "b52ecb61",
   "metadata": {},
   "outputs": [
    {
     "data": {
      "text/html": [
       "<div>\n",
       "<style scoped>\n",
       "    .dataframe tbody tr th:only-of-type {\n",
       "        vertical-align: middle;\n",
       "    }\n",
       "\n",
       "    .dataframe tbody tr th {\n",
       "        vertical-align: top;\n",
       "    }\n",
       "\n",
       "    .dataframe thead th {\n",
       "        text-align: right;\n",
       "    }\n",
       "</style>\n",
       "<table border=\"1\" class=\"dataframe\">\n",
       "  <thead>\n",
       "    <tr style=\"text-align: right;\">\n",
       "      <th></th>\n",
       "      <th>Kopā</th>\n",
       "      <th>Jauni</th>\n",
       "      <th>Pamata diagnoze</th>\n",
       "      <th>Blakus diagnoze</th>\n",
       "      <th>Smaga slimības gaita</th>\n",
       "      <th>t.sk. Invazīva MPV</th>\n",
       "      <th>Vidēja slimības gaita</th>\n",
       "      <th>Miruši</th>\n",
       "      <th>Izrakstīti</th>\n",
       "      <th>Pārvesti</th>\n",
       "      <th>t.sk. uz augstāka līmeņa</th>\n",
       "      <th>t.sk. uz zemāka līmeņa</th>\n",
       "      <th>t.sk. uz tāda paša līmeņa</th>\n",
       "    </tr>\n",
       "  </thead>\n",
       "  <tbody>\n",
       "    <tr>\n",
       "      <th>count</th>\n",
       "      <td>10644.000000</td>\n",
       "      <td>9304.000000</td>\n",
       "      <td>9098.000000</td>\n",
       "      <td>10178.000000</td>\n",
       "      <td>7690.000000</td>\n",
       "      <td>7350.000000</td>\n",
       "      <td>8909.000000</td>\n",
       "      <td>7528.000000</td>\n",
       "      <td>8880.000000</td>\n",
       "      <td>6768.000000</td>\n",
       "      <td>6177.000000</td>\n",
       "      <td>6127.000000</td>\n",
       "      <td>5971.000000</td>\n",
       "    </tr>\n",
       "    <tr>\n",
       "      <th>mean</th>\n",
       "      <td>13.423807</td>\n",
       "      <td>1.968078</td>\n",
       "      <td>6.579578</td>\n",
       "      <td>8.165258</td>\n",
       "      <td>0.734980</td>\n",
       "      <td>0.228707</td>\n",
       "      <td>6.122236</td>\n",
       "      <td>0.274309</td>\n",
       "      <td>1.747635</td>\n",
       "      <td>0.132388</td>\n",
       "      <td>0.092440</td>\n",
       "      <td>0.103640</td>\n",
       "      <td>0.035505</td>\n",
       "    </tr>\n",
       "    <tr>\n",
       "      <th>std</th>\n",
       "      <td>30.329072</td>\n",
       "      <td>4.084346</td>\n",
       "      <td>14.139651</td>\n",
       "      <td>19.620778</td>\n",
       "      <td>2.744978</td>\n",
       "      <td>0.977119</td>\n",
       "      <td>12.496708</td>\n",
       "      <td>0.758859</td>\n",
       "      <td>4.034951</td>\n",
       "      <td>0.530074</td>\n",
       "      <td>1.601095</td>\n",
       "      <td>0.438736</td>\n",
       "      <td>0.340576</td>\n",
       "    </tr>\n",
       "    <tr>\n",
       "      <th>min</th>\n",
       "      <td>0.000000</td>\n",
       "      <td>0.000000</td>\n",
       "      <td>0.000000</td>\n",
       "      <td>0.000000</td>\n",
       "      <td>0.000000</td>\n",
       "      <td>0.000000</td>\n",
       "      <td>0.000000</td>\n",
       "      <td>0.000000</td>\n",
       "      <td>0.000000</td>\n",
       "      <td>0.000000</td>\n",
       "      <td>0.000000</td>\n",
       "      <td>0.000000</td>\n",
       "      <td>0.000000</td>\n",
       "    </tr>\n",
       "    <tr>\n",
       "      <th>25%</th>\n",
       "      <td>0.000000</td>\n",
       "      <td>0.000000</td>\n",
       "      <td>0.000000</td>\n",
       "      <td>0.000000</td>\n",
       "      <td>0.000000</td>\n",
       "      <td>0.000000</td>\n",
       "      <td>0.000000</td>\n",
       "      <td>0.000000</td>\n",
       "      <td>0.000000</td>\n",
       "      <td>0.000000</td>\n",
       "      <td>0.000000</td>\n",
       "      <td>0.000000</td>\n",
       "      <td>0.000000</td>\n",
       "    </tr>\n",
       "    <tr>\n",
       "      <th>50%</th>\n",
       "      <td>4.000000</td>\n",
       "      <td>1.000000</td>\n",
       "      <td>1.000000</td>\n",
       "      <td>2.000000</td>\n",
       "      <td>0.000000</td>\n",
       "      <td>0.000000</td>\n",
       "      <td>1.000000</td>\n",
       "      <td>0.000000</td>\n",
       "      <td>0.000000</td>\n",
       "      <td>0.000000</td>\n",
       "      <td>0.000000</td>\n",
       "      <td>0.000000</td>\n",
       "      <td>0.000000</td>\n",
       "    </tr>\n",
       "    <tr>\n",
       "      <th>75%</th>\n",
       "      <td>14.000000</td>\n",
       "      <td>2.000000</td>\n",
       "      <td>8.000000</td>\n",
       "      <td>8.000000</td>\n",
       "      <td>0.000000</td>\n",
       "      <td>0.000000</td>\n",
       "      <td>7.000000</td>\n",
       "      <td>0.000000</td>\n",
       "      <td>2.000000</td>\n",
       "      <td>0.000000</td>\n",
       "      <td>0.000000</td>\n",
       "      <td>0.000000</td>\n",
       "      <td>0.000000</td>\n",
       "    </tr>\n",
       "    <tr>\n",
       "      <th>max</th>\n",
       "      <td>379.000000</td>\n",
       "      <td>52.000000</td>\n",
       "      <td>160.000000</td>\n",
       "      <td>242.000000</td>\n",
       "      <td>31.000000</td>\n",
       "      <td>14.000000</td>\n",
       "      <td>130.000000</td>\n",
       "      <td>10.000000</td>\n",
       "      <td>69.000000</td>\n",
       "      <td>12.000000</td>\n",
       "      <td>50.000000</td>\n",
       "      <td>6.000000</td>\n",
       "      <td>11.000000</td>\n",
       "    </tr>\n",
       "  </tbody>\n",
       "</table>\n",
       "</div>"
      ],
      "text/plain": [
       "               Kopā        Jauni  Pamata diagnoze  Blakus diagnoze  \\\n",
       "count  10644.000000  9304.000000      9098.000000     10178.000000   \n",
       "mean      13.423807     1.968078         6.579578         8.165258   \n",
       "std       30.329072     4.084346        14.139651        19.620778   \n",
       "min        0.000000     0.000000         0.000000         0.000000   \n",
       "25%        0.000000     0.000000         0.000000         0.000000   \n",
       "50%        4.000000     1.000000         1.000000         2.000000   \n",
       "75%       14.000000     2.000000         8.000000         8.000000   \n",
       "max      379.000000    52.000000       160.000000       242.000000   \n",
       "\n",
       "       Smaga slimības gaita  t.sk. Invazīva MPV  Vidēja slimības gaita  \\\n",
       "count           7690.000000         7350.000000            8909.000000   \n",
       "mean               0.734980            0.228707               6.122236   \n",
       "std                2.744978            0.977119              12.496708   \n",
       "min                0.000000            0.000000               0.000000   \n",
       "25%                0.000000            0.000000               0.000000   \n",
       "50%                0.000000            0.000000               1.000000   \n",
       "75%                0.000000            0.000000               7.000000   \n",
       "max               31.000000           14.000000             130.000000   \n",
       "\n",
       "            Miruši   Izrakstīti     Pārvesti  t.sk. uz augstāka līmeņa  \\\n",
       "count  7528.000000  8880.000000  6768.000000               6177.000000   \n",
       "mean      0.274309     1.747635     0.132388                  0.092440   \n",
       "std       0.758859     4.034951     0.530074                  1.601095   \n",
       "min       0.000000     0.000000     0.000000                  0.000000   \n",
       "25%       0.000000     0.000000     0.000000                  0.000000   \n",
       "50%       0.000000     0.000000     0.000000                  0.000000   \n",
       "75%       0.000000     2.000000     0.000000                  0.000000   \n",
       "max      10.000000    69.000000    12.000000                 50.000000   \n",
       "\n",
       "       t.sk. uz zemāka līmeņa  t.sk. uz tāda paša līmeņa  \n",
       "count             6127.000000                5971.000000  \n",
       "mean                 0.103640                   0.035505  \n",
       "std                  0.438736                   0.340576  \n",
       "min                  0.000000                   0.000000  \n",
       "25%                  0.000000                   0.000000  \n",
       "50%                  0.000000                   0.000000  \n",
       "75%                  0.000000                   0.000000  \n",
       "max                  6.000000                  11.000000  "
      ]
     },
     "execution_count": 53,
     "metadata": {},
     "output_type": "execute_result"
    }
   ],
   "source": [
    "data.describe()"
   ]
  },
  {
   "cell_type": "code",
   "execution_count": null,
   "id": "c6586bbf",
   "metadata": {},
   "outputs": [],
   "source": []
  },
  {
   "cell_type": "markdown",
   "id": "d73464f6",
   "metadata": {},
   "source": [
    "## Creating Python libraries\n",
    "\n",
    "You can create simple Python libraries / modules, too.\n",
    "\n",
    "https://www.w3schools.com/python/python_modules.asp\n"
   ]
  },
  {
   "cell_type": "code",
   "execution_count": 54,
   "id": "049962af",
   "metadata": {},
   "outputs": [
    {
     "name": "stdout",
     "output_type": "stream",
     "text": [
      "Overwriting my_library.py\n"
     ]
    }
   ],
   "source": [
    "%%writefile my_library.py\n",
    "\n",
    "def day_type(day):\n",
    "    \n",
    "    if 1 <= day <= 5:\n",
    "        return \"Working day\"\n",
    "    elif day in (6, 7):\n",
    "        return \"Weekend\"\n",
    "    else:\n",
    "        return \"Not a day number\""
   ]
  },
  {
   "cell_type": "code",
   "execution_count": 55,
   "id": "02d4a243",
   "metadata": {},
   "outputs": [
    {
     "name": "stdout",
     "output_type": "stream",
     "text": [
      "Working day\n"
     ]
    }
   ],
   "source": [
    "from my_library import day_type\n",
    "\n",
    "print(day_type(5))"
   ]
  },
  {
   "cell_type": "code",
   "execution_count": 56,
   "id": "dc80f876",
   "metadata": {},
   "outputs": [
    {
     "name": "stdout",
     "output_type": "stream",
     "text": [
      "Weekend\n"
     ]
    }
   ],
   "source": [
    "print(day_type(7))"
   ]
  },
  {
   "cell_type": "code",
   "execution_count": null,
   "id": "7428337b",
   "metadata": {},
   "outputs": [],
   "source": []
  },
  {
   "cell_type": "markdown",
   "id": "498fbeda",
   "metadata": {},
   "source": [
    "### Practical exercise - defining Python modules\n",
    "\n",
    "#### Task 1:\n",
    "\n",
    "Create a new Python module file (`.py`) that contains functions:\n",
    "- `print_list()` for printing contents of a list\n",
    "- `print_dict()` for printing contents of a dictionary\n",
    "\n",
    "Demonstrate an example of importing and using both functions.\n",
    "\n",
    "P.S. You should print each entry of a list / a dictionary on a separate line.\n",
    "\n",
    "#### Task 2:\n",
    "\n",
    "Add a parameter `limit` to both functions:\n",
    "- it should limit the number of entries printed\n",
    "- by default, if the limit parameter is not given, print all list / dictionary entries.\n",
    "\n",
    "Demonstrate the use of the `limit` parameter.\n"
   ]
  },
  {
   "cell_type": "code",
   "execution_count": null,
   "id": "46415f4c",
   "metadata": {},
   "outputs": [],
   "source": [
    "from my_module import print_list, print_dict"
   ]
  },
  {
   "cell_type": "code",
   "execution_count": null,
   "id": "e3eaa699",
   "metadata": {},
   "outputs": [],
   "source": [
    "my_list = [\"some\", \"list\", \"of\", \"text\"]\n",
    "my_dict = {\"key1\": \"value1\", \"key2\": \"value2\", \"key3\": 42}"
   ]
  },
  {
   "cell_type": "code",
   "execution_count": null,
   "id": "cc02c81a",
   "metadata": {},
   "outputs": [],
   "source": [
    "print_list(my_list)"
   ]
  },
  {
   "cell_type": "code",
   "execution_count": null,
   "id": "2b86b56c",
   "metadata": {},
   "outputs": [],
   "source": [
    "print_dict(my_dict)"
   ]
  },
  {
   "cell_type": "code",
   "execution_count": null,
   "id": "e4ec1764",
   "metadata": {},
   "outputs": [],
   "source": []
  },
  {
   "cell_type": "markdown",
   "id": "4ac001ff",
   "metadata": {},
   "source": [
    "### Practical exercise - Python libraries\n",
    "\n",
    "Choose a Python library to explore in more detail:\n",
    "- look at its webpage / documentation\n",
    "- try using this library in practice\n"
   ]
  },
  {
   "cell_type": "code",
   "execution_count": null,
   "id": "4bec682a",
   "metadata": {},
   "outputs": [],
   "source": []
  },
  {
   "cell_type": "code",
   "execution_count": null,
   "id": "bb1bfac6",
   "metadata": {},
   "outputs": [],
   "source": []
  },
  {
   "cell_type": "code",
   "execution_count": null,
   "id": "6b1a1014",
   "metadata": {},
   "outputs": [],
   "source": []
  }
 ],
 "metadata": {
  "kernelspec": {
   "display_name": "Python 3 (ipykernel)",
   "language": "python",
   "name": "python3"
  },
  "language_info": {
   "codemirror_mode": {
    "name": "ipython",
    "version": 3
   },
   "file_extension": ".py",
   "mimetype": "text/x-python",
   "name": "python",
   "nbconvert_exporter": "python",
   "pygments_lexer": "ipython3",
   "version": "3.9.16"
  }
 },
 "nbformat": 4,
 "nbformat_minor": 5
}
