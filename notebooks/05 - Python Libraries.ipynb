{
 "cells": [
  {
   "cell_type": "markdown",
   "id": "03d574cd",
   "metadata": {},
   "source": [
    "# Python Libraries"
   ]
  },
  {
   "cell_type": "markdown",
   "id": "ffd8fe9a",
   "metadata": {},
   "source": [
    "Python library is a \"bundle\" of code that can be used repeatedly to perform some related functionality.\n",
    "\n",
    "### Python standard library (\"Batteries included\") contains many built-in libraries\n",
    "\n",
    "https://docs.python.org/3/library/\n",
    "\n",
    "### External libraries\n",
    "\n",
    "[PyPI = Python package index](https://pypi.org/)\n",
    "- contains > 400 thousand projects\n",
    "\n",
    "[Awesome Python](https://github.com/vinta/awesome-python)\n",
    "- A curated list of awesome Python frameworks, libraries, software and resources.\n",
    "\n",
    "### Examples\n",
    "\n",
    "- [Random library](https://docs.python.org/3/library/random.html) = built-in\n",
    "- [Requests library](https://requests.readthedocs.io/en/latest/) = external"
   ]
  },
  {
   "cell_type": "markdown",
   "id": "5f93d220",
   "metadata": {},
   "source": [
    "---\n",
    "\n",
    "## Importing libraries, `import` command\n",
    "\n",
    "In order to use Python libraries you must `import` them.\n",
    "- `import library_name`\n",
    "\n",
    "External libraries need to be installed first (unless they are already included with your distribution of Python (such as Anaconda)).\n",
    "\n",
    "The way how to install external libraries depends on what Python distribution you are using.\n",
    "- for example, using `pip install library_name` "
   ]
  },
  {
   "cell_type": "code",
   "execution_count": null,
   "id": "ef0d9577",
   "metadata": {},
   "outputs": [],
   "source": [
    "import random"
   ]
  },
  {
   "cell_type": "markdown",
   "id": "8ad18a4f",
   "metadata": {},
   "source": [
    "### `import` library `as` new_name\n",
    "\n",
    "You may prefer to call a library in another, usually shorter, name. In order to do that you need to specify the new name using the `as` keyword:\n",
    "- `import pandas as pd`\n"
   ]
  },
  {
   "cell_type": "markdown",
   "id": "3bbd0fb9",
   "metadata": {},
   "source": [
    "### Example : random"
   ]
  },
  {
   "cell_type": "code",
   "execution_count": null,
   "id": "f8a00871",
   "metadata": {},
   "outputs": [],
   "source": [
    "import random as rnd"
   ]
  },
  {
   "cell_type": "code",
   "execution_count": null,
   "id": "e7dd65c7",
   "metadata": {},
   "outputs": [],
   "source": [
    "rnd.choice([\"apple\", \"strawberry\", \"mango\"])"
   ]
  },
  {
   "cell_type": "code",
   "execution_count": null,
   "id": "7af9fb91",
   "metadata": {},
   "outputs": [],
   "source": [
    "list_of_values = range(10)"
   ]
  },
  {
   "cell_type": "code",
   "execution_count": null,
   "id": "8e4b0eda",
   "metadata": {},
   "outputs": [],
   "source": [
    "value = rnd.choice(list_of_values)\n",
    "\n",
    "print(value)"
   ]
  },
  {
   "cell_type": "code",
   "execution_count": null,
   "id": "b25170df",
   "metadata": {},
   "outputs": [],
   "source": [
    "# libraries usually have help text:\n",
    "\n",
    "help(rnd.choice)"
   ]
  },
  {
   "cell_type": "markdown",
   "id": "7efb5b26",
   "metadata": {},
   "source": [
    "### `from` library `import` name\n",
    "\n",
    "If you only need some of the functionality of a library you can list the names of things you want to import:\n",
    "\n",
    "- `from name_of_library import list, of, names`\n",
    "\n",
    "Example:\n",
    "- `from random import choice`\n",
    "\n",
    "You may list many names to import:\n",
    "- `from random import choice, randint`\n"
   ]
  },
  {
   "cell_type": "code",
   "execution_count": null,
   "id": "daa6f67b",
   "metadata": {},
   "outputs": [],
   "source": [
    "from random import choice\n",
    "\n",
    "value = choice(list_of_values)\n",
    "print(value)"
   ]
  },
  {
   "cell_type": "code",
   "execution_count": null,
   "id": "723c5051",
   "metadata": {},
   "outputs": [],
   "source": []
  },
  {
   "cell_type": "markdown",
   "id": "d091b9e1",
   "metadata": {},
   "source": [
    "### Example : collections, Counter\n",
    "\n",
    "`Counter()` object lets us count things.\n",
    "\n",
    "https://docs.python.org/3/library/collections.html#collections.Counter\n",
    "\n",
    "https://realpython.com/python-counter/"
   ]
  },
  {
   "cell_type": "code",
   "execution_count": null,
   "id": "dcf3db92",
   "metadata": {},
   "outputs": [],
   "source": [
    "from collections import Counter"
   ]
  },
  {
   "cell_type": "code",
   "execution_count": null,
   "id": "a866aadc",
   "metadata": {},
   "outputs": [],
   "source": [
    "things_to_count = [1, 2, 11, 15, 2, 2, 18, 1]\n",
    "\n",
    "cnt = Counter(things_to_count)\n",
    "\n",
    "print(cnt)"
   ]
  },
  {
   "cell_type": "code",
   "execution_count": null,
   "id": "721dffd3",
   "metadata": {},
   "outputs": [],
   "source": [
    "# let's see what methods we can use with the Counter object\n",
    "\n",
    "names = dir(cnt)\n",
    "\n",
    "for name in names:\n",
    "    if not name.startswith(\"_\"):\n",
    "        print(name)"
   ]
  },
  {
   "cell_type": "code",
   "execution_count": null,
   "id": "422a928b",
   "metadata": {},
   "outputs": [],
   "source": [
    "help(cnt.most_common)"
   ]
  },
  {
   "cell_type": "code",
   "execution_count": null,
   "id": "a581cb29",
   "metadata": {},
   "outputs": [],
   "source": [
    "# print most common items\n",
    "cnt.most_common(2)"
   ]
  },
  {
   "cell_type": "code",
   "execution_count": null,
   "id": "dd79719e",
   "metadata": {},
   "outputs": [],
   "source": [
    "# a prettier way to display most common items:\n",
    "\n",
    "for thing, count in cnt.most_common(2):\n",
    "    print(f\"Item {thing} appeared {count} time(s).\")"
   ]
  },
  {
   "cell_type": "code",
   "execution_count": null,
   "id": "4915bcd9",
   "metadata": {},
   "outputs": [],
   "source": [
    "cnt2 = Counter(\"my text\")"
   ]
  },
  {
   "cell_type": "code",
   "execution_count": null,
   "id": "95b58781",
   "metadata": {},
   "outputs": [],
   "source": [
    "cnt2"
   ]
  },
  {
   "cell_type": "code",
   "execution_count": null,
   "id": "c524be18",
   "metadata": {},
   "outputs": [],
   "source": [
    "words = \"my text and some more text here and that's it\".split()\n",
    "cnt3 = Counter(words)"
   ]
  },
  {
   "cell_type": "code",
   "execution_count": null,
   "id": "9e0e09f7",
   "metadata": {},
   "outputs": [],
   "source": [
    "cnt3"
   ]
  },
  {
   "cell_type": "markdown",
   "id": "1741697f",
   "metadata": {},
   "source": [
    "---\n",
    "\n",
    "## External libraries\n",
    "\n",
    "[Awesome Python](https://github.com/vinta/awesome-python) resources list\n",
    "\n",
    "External libraries need to be installed before use.\n"
   ]
  },
  {
   "cell_type": "markdown",
   "id": "11bcfead",
   "metadata": {},
   "source": [
    "### Example : requests\n",
    "\n",
    "\"Requests is an elegant and simple HTTP library for Python, built for human beings.\"\n",
    "\n",
    "https://requests.readthedocs.io/en/latest/"
   ]
  },
  {
   "cell_type": "code",
   "execution_count": null,
   "id": "0a4b5ae1",
   "metadata": {},
   "outputs": [],
   "source": [
    "## Installation of the library depends on what Python distribution you use\n",
    "## Example of installing requests using the pip command:\n",
    "\n",
    "# !pip install requests"
   ]
  },
  {
   "cell_type": "code",
   "execution_count": null,
   "id": "d62864ef",
   "metadata": {},
   "outputs": [],
   "source": [
    "import requests"
   ]
  },
  {
   "cell_type": "code",
   "execution_count": null,
   "id": "0626dc29",
   "metadata": {},
   "outputs": [],
   "source": [
    "# raw text of Wikipedia article about Salaspils\n",
    "url = \"https://en.wikipedia.org/wiki/Semantic_Web?action=raw\""
   ]
  },
  {
   "cell_type": "code",
   "execution_count": null,
   "id": "2227512a",
   "metadata": {
    "scrolled": true
   },
   "outputs": [],
   "source": [
    "# let's get the contents of this webpage\n",
    "\n",
    "result = requests.get(url)\n",
    "\n",
    "# result code \"200\" means the page was retrieved OK\n",
    "print(result.status_code)\n",
    "print()\n",
    "\n",
    "# this is the \"text\" of the webpage\n",
    "print(result.text[:3000])"
   ]
  },
  {
   "cell_type": "markdown",
   "id": "f446b5be",
   "metadata": {},
   "source": [
    "### Exercise\n",
    "\n",
    "Count the number of words in the text of the webpage retrieved above and display a list of Top 10 words on this webpage.\n"
   ]
  },
  {
   "cell_type": "code",
   "execution_count": null,
   "id": "1bf41500",
   "metadata": {},
   "outputs": [],
   "source": [
    "data = result.text"
   ]
  },
  {
   "cell_type": "code",
   "execution_count": null,
   "id": "013a5dd9",
   "metadata": {},
   "outputs": [],
   "source": []
  },
  {
   "cell_type": "code",
   "execution_count": null,
   "id": "9c51d79c",
   "metadata": {},
   "outputs": [],
   "source": []
  },
  {
   "cell_type": "markdown",
   "id": "76cf04c4",
   "metadata": {},
   "source": []
  },
  {
   "cell_type": "markdown",
   "id": "fc89a1dd",
   "metadata": {},
   "source": [
    "## Other libraries\n",
    "\n",
    "- [Matplotlib](https://matplotlib.org/) - a data visualization library\n",
    "- [openpyxl](https://openpyxl.readthedocs.io/en/stable/) for working with Excel files\n",
    "- [Pandas](https://pandas.pydata.org/docs/getting_started/index.html#getting-started) - for working with tabular data (DataFrames)\n",
    "- [Pillow](https://pillow.readthedocs.io/en/stable/handbook/tutorial.html) - for working with images\n",
    "\n",
    "What other Python libraries do you need / are interested in?"
   ]
  },
  {
   "cell_type": "code",
   "execution_count": null,
   "id": "40a13db7",
   "metadata": {},
   "outputs": [],
   "source": []
  },
  {
   "cell_type": "code",
   "execution_count": null,
   "id": "cf4b3f22",
   "metadata": {},
   "outputs": [],
   "source": []
  },
  {
   "cell_type": "code",
   "execution_count": null,
   "id": "a6b9dadc",
   "metadata": {},
   "outputs": [],
   "source": []
  },
  {
   "cell_type": "markdown",
   "id": "d73464f6",
   "metadata": {},
   "source": [
    "## Creating Python libraries\n",
    "\n",
    "You can create simple Python libraries / modules, too.\n",
    "\n",
    "https://www.w3schools.com/python/python_modules.asp\n"
   ]
  },
  {
   "cell_type": "code",
   "execution_count": null,
   "id": "049962af",
   "metadata": {},
   "outputs": [],
   "source": [
    "%%writefile my_library.py\n",
    "\n",
    "def print_list(input_list):\n",
    "    # a function that prints a given list\n",
    "    # (called \"input_list\" inside the function)\n",
    "    \n",
    "    for num, value in enumerate(input_list):\n",
    "        print(f\"Element #{num} = {value}\")\n",
    "   "
   ]
  },
  {
   "cell_type": "code",
   "execution_count": null,
   "id": "02d4a243",
   "metadata": {},
   "outputs": [],
   "source": [
    "from my_library import print_list"
   ]
  },
  {
   "cell_type": "code",
   "execution_count": null,
   "id": "cfb12e68",
   "metadata": {},
   "outputs": [],
   "source": [
    "my_list = [\"some\", \"text\", \"here\", 123]"
   ]
  },
  {
   "cell_type": "code",
   "execution_count": null,
   "id": "6b19517f",
   "metadata": {},
   "outputs": [],
   "source": [
    "print_list(my_list)"
   ]
  },
  {
   "cell_type": "code",
   "execution_count": null,
   "id": "c84cb462",
   "metadata": {},
   "outputs": [],
   "source": []
  }
 ],
 "metadata": {
  "kernelspec": {
   "display_name": "Python 3 (ipykernel)",
   "language": "python",
   "name": "python3"
  },
  "language_info": {
   "codemirror_mode": {
    "name": "ipython",
    "version": 3
   },
   "file_extension": ".py",
   "mimetype": "text/x-python",
   "name": "python",
   "nbconvert_exporter": "python",
   "pygments_lexer": "ipython3",
   "version": "3.9.16"
  }
 },
 "nbformat": 4,
 "nbformat_minor": 5
}
