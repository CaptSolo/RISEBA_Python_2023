{
 "cells": [
  {
   "cell_type": "markdown",
   "id": "03d574cd",
   "metadata": {},
   "source": [
    "# Python Libraries"
   ]
  },
  {
   "cell_type": "markdown",
   "id": "ffd8fe9a",
   "metadata": {},
   "source": [
    "Python library is a \"bundle\" of code that can be used repeatedly to perform some related functionality.\n",
    "\n",
    "### Python standard library (\"Batteries included\") contains many built-in libraries\n",
    "\n",
    "https://docs.python.org/3/library/\n",
    "\n",
    "### External libraries\n",
    "\n",
    "[PyPI = Python package index](https://pypi.org/)\n",
    "- contains > 400 thousand projects\n",
    "\n",
    "[Awesome Python](https://github.com/vinta/awesome-python)\n",
    "- A curated list of awesome Python frameworks, libraries, software and resources.\n",
    "\n",
    "### Examples\n",
    "\n",
    "- [Random library](https://docs.python.org/3/library/random.html) = built-in\n",
    "- [Requests library](https://requests.readthedocs.io/en/latest/) = external\n"
   ]
  },
  {
   "cell_type": "markdown",
   "id": "5f93d220",
   "metadata": {},
   "source": [
    "---\n",
    "\n",
    "## Importing libraries, `import` command\n",
    "\n",
    "In order to use Python libraries you must `import` them.\n",
    "- `import library_name`\n",
    "\n",
    "External libraries need to be installed before you can import and use them. \n",
    "\n",
    "The way how to install external libraries depends on what Python distribution you are using."
   ]
  },
  {
   "cell_type": "code",
   "execution_count": 1,
   "id": "ef0d9577",
   "metadata": {},
   "outputs": [],
   "source": [
    "import random"
   ]
  },
  {
   "cell_type": "code",
   "execution_count": 2,
   "id": "30cd802f",
   "metadata": {},
   "outputs": [
    {
     "name": "stdout",
     "output_type": "stream",
     "text": [
      "Help on module random:\n",
      "\n",
      "NAME\n",
      "    random - Random variable generators.\n",
      "\n",
      "MODULE REFERENCE\n",
      "    https://docs.python.org/3.7/library/random\n",
      "    \n",
      "    The following documentation is automatically generated from the Python\n",
      "    source files.  It may be incomplete, incorrect or include features that\n",
      "    are considered implementation detail and may vary between Python\n",
      "    implementations.  When in doubt, consult the module reference at the\n",
      "    location listed above.\n",
      "\n",
      "DESCRIPTION\n",
      "        integers\n",
      "        --------\n",
      "               uniform within range\n",
      "    \n",
      "        sequences\n",
      "        ---------\n",
      "               pick random element\n",
      "               pick random sample\n",
      "               pick weighted random sample\n",
      "               generate random permutation\n",
      "    \n",
      "        distributions on the real line:\n",
      "        ------------------------------\n",
      "               uniform\n",
      "               triangular\n",
      "               normal (Gaussian)\n",
      "               lognormal\n",
      "               negative exponential\n",
      "               gamma\n",
      "               beta\n",
      "               pareto\n",
      "               Weibull\n",
      "    \n",
      "        distributions on the circle (angles 0 to 2pi)\n",
      "        ---------------------------------------------\n",
      "               circular uniform\n",
      "               von Mises\n",
      "    \n",
      "    General notes on the underlying Mersenne Twister core generator:\n",
      "    \n",
      "    * The period is 2**19937-1.\n",
      "    * It is one of the most extensively tested generators in existence.\n",
      "    * The random() method is implemented in C, executes in a single Python step,\n",
      "      and is, therefore, threadsafe.\n",
      "\n",
      "CLASSES\n",
      "    _random.Random(builtins.object)\n",
      "        Random\n",
      "            SystemRandom\n",
      "    \n",
      "    class Random(_random.Random)\n",
      "     |  Random(x=None)\n",
      "     |  \n",
      "     |  Random number generator base class used by bound module functions.\n",
      "     |  \n",
      "     |  Used to instantiate instances of Random to get generators that don't\n",
      "     |  share state.\n",
      "     |  \n",
      "     |  Class Random can also be subclassed if you want to use a different basic\n",
      "     |  generator of your own devising: in that case, override the following\n",
      "     |  methods:  random(), seed(), getstate(), and setstate().\n",
      "     |  Optionally, implement a getrandbits() method so that randrange()\n",
      "     |  can cover arbitrarily large ranges.\n",
      "     |  \n",
      "     |  Method resolution order:\n",
      "     |      Random\n",
      "     |      _random.Random\n",
      "     |      builtins.object\n",
      "     |  \n",
      "     |  Methods defined here:\n",
      "     |  \n",
      "     |  __getstate__(self)\n",
      "     |      # Issue 17489: Since __reduce__ was defined to fix #759889 this is no\n",
      "     |      # longer called; we leave it here because it has been here since random was\n",
      "     |      # rewritten back in 2001 and why risk breaking something.\n",
      "     |  \n",
      "     |  __init__(self, x=None)\n",
      "     |      Initialize an instance.\n",
      "     |      \n",
      "     |      Optional argument x controls seeding, as for Random.seed().\n",
      "     |  \n",
      "     |  __reduce__(self)\n",
      "     |      Helper for pickle.\n",
      "     |  \n",
      "     |  __setstate__(self, state)\n",
      "     |  \n",
      "     |  betavariate(self, alpha, beta)\n",
      "     |      Beta distribution.\n",
      "     |      \n",
      "     |      Conditions on the parameters are alpha > 0 and beta > 0.\n",
      "     |      Returned values range between 0 and 1.\n",
      "     |  \n",
      "     |  choice(self, seq)\n",
      "     |      Choose a random element from a non-empty sequence.\n",
      "     |  \n",
      "     |  choices(self, population, weights=None, *, cum_weights=None, k=1)\n",
      "     |      Return a k sized list of population elements chosen with replacement.\n",
      "     |      \n",
      "     |      If the relative weights or cumulative weights are not specified,\n",
      "     |      the selections are made with equal probability.\n",
      "     |  \n",
      "     |  expovariate(self, lambd)\n",
      "     |      Exponential distribution.\n",
      "     |      \n",
      "     |      lambd is 1.0 divided by the desired mean.  It should be\n",
      "     |      nonzero.  (The parameter would be called \"lambda\", but that is\n",
      "     |      a reserved word in Python.)  Returned values range from 0 to\n",
      "     |      positive infinity if lambd is positive, and from negative\n",
      "     |      infinity to 0 if lambd is negative.\n",
      "     |  \n",
      "     |  gammavariate(self, alpha, beta)\n",
      "     |      Gamma distribution.  Not the gamma function!\n",
      "     |      \n",
      "     |      Conditions on the parameters are alpha > 0 and beta > 0.\n",
      "     |      \n",
      "     |      The probability distribution function is:\n",
      "     |      \n",
      "     |                  x ** (alpha - 1) * math.exp(-x / beta)\n",
      "     |        pdf(x) =  --------------------------------------\n",
      "     |                    math.gamma(alpha) * beta ** alpha\n",
      "     |  \n",
      "     |  gauss(self, mu, sigma)\n",
      "     |      Gaussian distribution.\n",
      "     |      \n",
      "     |      mu is the mean, and sigma is the standard deviation.  This is\n",
      "     |      slightly faster than the normalvariate() function.\n",
      "     |      \n",
      "     |      Not thread-safe without a lock around calls.\n",
      "     |  \n",
      "     |  getstate(self)\n",
      "     |      Return internal state; can be passed to setstate() later.\n",
      "     |  \n",
      "     |  lognormvariate(self, mu, sigma)\n",
      "     |      Log normal distribution.\n",
      "     |      \n",
      "     |      If you take the natural logarithm of this distribution, you'll get a\n",
      "     |      normal distribution with mean mu and standard deviation sigma.\n",
      "     |      mu can have any value, and sigma must be greater than zero.\n",
      "     |  \n",
      "     |  normalvariate(self, mu, sigma)\n",
      "     |      Normal distribution.\n",
      "     |      \n",
      "     |      mu is the mean, and sigma is the standard deviation.\n",
      "     |  \n",
      "     |  paretovariate(self, alpha)\n",
      "     |      Pareto distribution.  alpha is the shape parameter.\n",
      "     |  \n",
      "     |  randint(self, a, b)\n",
      "     |      Return random integer in range [a, b], including both end points.\n",
      "     |  \n",
      "     |  randrange(self, start, stop=None, step=1, _int=<class 'int'>)\n",
      "     |      Choose a random item from range(start, stop[, step]).\n",
      "     |      \n",
      "     |      This fixes the problem with randint() which includes the\n",
      "     |      endpoint; in Python this is usually not what you want.\n",
      "     |  \n",
      "     |  sample(self, population, k)\n",
      "     |      Chooses k unique random elements from a population sequence or set.\n",
      "     |      \n",
      "     |      Returns a new list containing elements from the population while\n",
      "     |      leaving the original population unchanged.  The resulting list is\n",
      "     |      in selection order so that all sub-slices will also be valid random\n",
      "     |      samples.  This allows raffle winners (the sample) to be partitioned\n",
      "     |      into grand prize and second place winners (the subslices).\n",
      "     |      \n",
      "     |      Members of the population need not be hashable or unique.  If the\n",
      "     |      population contains repeats, then each occurrence is a possible\n",
      "     |      selection in the sample.\n",
      "     |      \n",
      "     |      To choose a sample in a range of integers, use range as an argument.\n",
      "     |      This is especially fast and space efficient for sampling from a\n",
      "     |      large population:   sample(range(10000000), 60)\n",
      "     |  \n",
      "     |  seed(self, a=None, version=2)\n",
      "     |      Initialize internal state from hashable object.\n",
      "     |      \n",
      "     |      None or no argument seeds from current time or from an operating\n",
      "     |      system specific randomness source if available.\n",
      "     |      \n",
      "     |      If *a* is an int, all bits are used.\n",
      "     |      \n",
      "     |      For version 2 (the default), all of the bits are used if *a* is a str,\n",
      "     |      bytes, or bytearray.  For version 1 (provided for reproducing random\n",
      "     |      sequences from older versions of Python), the algorithm for str and\n",
      "     |      bytes generates a narrower range of seeds.\n",
      "     |  \n",
      "     |  setstate(self, state)\n",
      "     |      Restore internal state from object returned by getstate().\n",
      "     |  \n",
      "     |  shuffle(self, x, random=None)\n",
      "     |      Shuffle list x in place, and return None.\n",
      "     |      \n",
      "     |      Optional argument random is a 0-argument function returning a\n",
      "     |      random float in [0.0, 1.0); if it is the default None, the\n",
      "     |      standard random.random will be used.\n",
      "     |  \n",
      "     |  triangular(self, low=0.0, high=1.0, mode=None)\n",
      "     |      Triangular distribution.\n",
      "     |      \n",
      "     |      Continuous distribution bounded by given lower and upper limits,\n",
      "     |      and having a given mode value in-between.\n",
      "     |      \n",
      "     |      http://en.wikipedia.org/wiki/Triangular_distribution\n",
      "     |  \n",
      "     |  uniform(self, a, b)\n",
      "     |      Get a random number in the range [a, b) or [a, b] depending on rounding.\n",
      "     |  \n",
      "     |  vonmisesvariate(self, mu, kappa)\n",
      "     |      Circular data distribution.\n",
      "     |      \n",
      "     |      mu is the mean angle, expressed in radians between 0 and 2*pi, and\n",
      "     |      kappa is the concentration parameter, which must be greater than or\n",
      "     |      equal to zero.  If kappa is equal to zero, this distribution reduces\n",
      "     |      to a uniform random angle over the range 0 to 2*pi.\n",
      "     |  \n",
      "     |  weibullvariate(self, alpha, beta)\n",
      "     |      Weibull distribution.\n",
      "     |      \n",
      "     |      alpha is the scale parameter and beta is the shape parameter.\n",
      "     |  \n",
      "     |  ----------------------------------------------------------------------\n",
      "     |  Data descriptors defined here:\n",
      "     |  \n",
      "     |  __dict__\n",
      "     |      dictionary for instance variables (if defined)\n",
      "     |  \n",
      "     |  __weakref__\n",
      "     |      list of weak references to the object (if defined)\n",
      "     |  \n",
      "     |  ----------------------------------------------------------------------\n",
      "     |  Data and other attributes defined here:\n",
      "     |  \n",
      "     |  VERSION = 3\n",
      "     |  \n",
      "     |  ----------------------------------------------------------------------\n",
      "     |  Methods inherited from _random.Random:\n",
      "     |  \n",
      "     |  __getattribute__(self, name, /)\n",
      "     |      Return getattr(self, name).\n",
      "     |  \n",
      "     |  getrandbits(...)\n",
      "     |      getrandbits(k) -> x.  Generates an int with k random bits.\n",
      "     |  \n",
      "     |  random(...)\n",
      "     |      random() -> x in the interval [0, 1).\n",
      "     |  \n",
      "     |  ----------------------------------------------------------------------\n",
      "     |  Static methods inherited from _random.Random:\n",
      "     |  \n",
      "     |  __new__(*args, **kwargs) from builtins.type\n",
      "     |      Create and return a new object.  See help(type) for accurate signature.\n",
      "    \n",
      "    class SystemRandom(Random)\n",
      "     |  SystemRandom(x=None)\n",
      "     |  \n",
      "     |  Alternate random number generator using sources provided\n",
      "     |  by the operating system (such as /dev/urandom on Unix or\n",
      "     |  CryptGenRandom on Windows).\n",
      "     |  \n",
      "     |   Not available on all systems (see os.urandom() for details).\n",
      "     |  \n",
      "     |  Method resolution order:\n",
      "     |      SystemRandom\n",
      "     |      Random\n",
      "     |      _random.Random\n",
      "     |      builtins.object\n",
      "     |  \n",
      "     |  Methods defined here:\n",
      "     |  \n",
      "     |  getrandbits(self, k)\n",
      "     |      getrandbits(k) -> x.  Generates an int with k random bits.\n",
      "     |  \n",
      "     |  getstate = _notimplemented(self, *args, **kwds)\n",
      "     |  \n",
      "     |  random(self)\n",
      "     |      Get the next random number in the range [0.0, 1.0).\n",
      "     |  \n",
      "     |  seed(self, *args, **kwds)\n",
      "     |      Stub method.  Not used for a system random number generator.\n",
      "     |  \n",
      "     |  setstate = _notimplemented(self, *args, **kwds)\n",
      "     |  \n",
      "     |  ----------------------------------------------------------------------\n",
      "     |  Methods inherited from Random:\n",
      "     |  \n",
      "     |  __getstate__(self)\n",
      "     |      # Issue 17489: Since __reduce__ was defined to fix #759889 this is no\n",
      "     |      # longer called; we leave it here because it has been here since random was\n",
      "     |      # rewritten back in 2001 and why risk breaking something.\n",
      "     |  \n",
      "     |  __init__(self, x=None)\n",
      "     |      Initialize an instance.\n",
      "     |      \n",
      "     |      Optional argument x controls seeding, as for Random.seed().\n",
      "     |  \n",
      "     |  __reduce__(self)\n",
      "     |      Helper for pickle.\n",
      "     |  \n",
      "     |  __setstate__(self, state)\n",
      "     |  \n",
      "     |  betavariate(self, alpha, beta)\n",
      "     |      Beta distribution.\n",
      "     |      \n",
      "     |      Conditions on the parameters are alpha > 0 and beta > 0.\n",
      "     |      Returned values range between 0 and 1.\n",
      "     |  \n",
      "     |  choice(self, seq)\n",
      "     |      Choose a random element from a non-empty sequence.\n",
      "     |  \n",
      "     |  choices(self, population, weights=None, *, cum_weights=None, k=1)\n",
      "     |      Return a k sized list of population elements chosen with replacement.\n",
      "     |      \n",
      "     |      If the relative weights or cumulative weights are not specified,\n",
      "     |      the selections are made with equal probability.\n",
      "     |  \n",
      "     |  expovariate(self, lambd)\n",
      "     |      Exponential distribution.\n",
      "     |      \n",
      "     |      lambd is 1.0 divided by the desired mean.  It should be\n",
      "     |      nonzero.  (The parameter would be called \"lambda\", but that is\n",
      "     |      a reserved word in Python.)  Returned values range from 0 to\n",
      "     |      positive infinity if lambd is positive, and from negative\n",
      "     |      infinity to 0 if lambd is negative.\n",
      "     |  \n",
      "     |  gammavariate(self, alpha, beta)\n",
      "     |      Gamma distribution.  Not the gamma function!\n",
      "     |      \n",
      "     |      Conditions on the parameters are alpha > 0 and beta > 0.\n",
      "     |      \n",
      "     |      The probability distribution function is:\n",
      "     |      \n",
      "     |                  x ** (alpha - 1) * math.exp(-x / beta)\n",
      "     |        pdf(x) =  --------------------------------------\n",
      "     |                    math.gamma(alpha) * beta ** alpha\n",
      "     |  \n",
      "     |  gauss(self, mu, sigma)\n",
      "     |      Gaussian distribution.\n",
      "     |      \n",
      "     |      mu is the mean, and sigma is the standard deviation.  This is\n",
      "     |      slightly faster than the normalvariate() function.\n",
      "     |      \n",
      "     |      Not thread-safe without a lock around calls.\n",
      "     |  \n",
      "     |  lognormvariate(self, mu, sigma)\n",
      "     |      Log normal distribution.\n",
      "     |      \n",
      "     |      If you take the natural logarithm of this distribution, you'll get a\n",
      "     |      normal distribution with mean mu and standard deviation sigma.\n",
      "     |      mu can have any value, and sigma must be greater than zero.\n",
      "     |  \n",
      "     |  normalvariate(self, mu, sigma)\n",
      "     |      Normal distribution.\n",
      "     |      \n",
      "     |      mu is the mean, and sigma is the standard deviation.\n",
      "     |  \n",
      "     |  paretovariate(self, alpha)\n",
      "     |      Pareto distribution.  alpha is the shape parameter.\n",
      "     |  \n",
      "     |  randint(self, a, b)\n",
      "     |      Return random integer in range [a, b], including both end points.\n",
      "     |  \n",
      "     |  randrange(self, start, stop=None, step=1, _int=<class 'int'>)\n",
      "     |      Choose a random item from range(start, stop[, step]).\n",
      "     |      \n",
      "     |      This fixes the problem with randint() which includes the\n",
      "     |      endpoint; in Python this is usually not what you want.\n",
      "     |  \n",
      "     |  sample(self, population, k)\n",
      "     |      Chooses k unique random elements from a population sequence or set.\n",
      "     |      \n",
      "     |      Returns a new list containing elements from the population while\n",
      "     |      leaving the original population unchanged.  The resulting list is\n",
      "     |      in selection order so that all sub-slices will also be valid random\n",
      "     |      samples.  This allows raffle winners (the sample) to be partitioned\n",
      "     |      into grand prize and second place winners (the subslices).\n",
      "     |      \n",
      "     |      Members of the population need not be hashable or unique.  If the\n",
      "     |      population contains repeats, then each occurrence is a possible\n",
      "     |      selection in the sample.\n",
      "     |      \n",
      "     |      To choose a sample in a range of integers, use range as an argument.\n",
      "     |      This is especially fast and space efficient for sampling from a\n",
      "     |      large population:   sample(range(10000000), 60)\n",
      "     |  \n",
      "     |  shuffle(self, x, random=None)\n",
      "     |      Shuffle list x in place, and return None.\n",
      "     |      \n",
      "     |      Optional argument random is a 0-argument function returning a\n",
      "     |      random float in [0.0, 1.0); if it is the default None, the\n",
      "     |      standard random.random will be used.\n",
      "     |  \n",
      "     |  triangular(self, low=0.0, high=1.0, mode=None)\n",
      "     |      Triangular distribution.\n",
      "     |      \n",
      "     |      Continuous distribution bounded by given lower and upper limits,\n",
      "     |      and having a given mode value in-between.\n",
      "     |      \n",
      "     |      http://en.wikipedia.org/wiki/Triangular_distribution\n",
      "     |  \n",
      "     |  uniform(self, a, b)\n",
      "     |      Get a random number in the range [a, b) or [a, b] depending on rounding.\n",
      "     |  \n",
      "     |  vonmisesvariate(self, mu, kappa)\n",
      "     |      Circular data distribution.\n",
      "     |      \n",
      "     |      mu is the mean angle, expressed in radians between 0 and 2*pi, and\n",
      "     |      kappa is the concentration parameter, which must be greater than or\n",
      "     |      equal to zero.  If kappa is equal to zero, this distribution reduces\n",
      "     |      to a uniform random angle over the range 0 to 2*pi.\n",
      "     |  \n",
      "     |  weibullvariate(self, alpha, beta)\n",
      "     |      Weibull distribution.\n",
      "     |      \n",
      "     |      alpha is the scale parameter and beta is the shape parameter.\n",
      "     |  \n",
      "     |  ----------------------------------------------------------------------\n",
      "     |  Data descriptors inherited from Random:\n",
      "     |  \n",
      "     |  __dict__\n",
      "     |      dictionary for instance variables (if defined)\n",
      "     |  \n",
      "     |  __weakref__\n",
      "     |      list of weak references to the object (if defined)\n",
      "     |  \n",
      "     |  ----------------------------------------------------------------------\n",
      "     |  Data and other attributes inherited from Random:\n",
      "     |  \n",
      "     |  VERSION = 3\n",
      "     |  \n",
      "     |  ----------------------------------------------------------------------\n",
      "     |  Methods inherited from _random.Random:\n",
      "     |  \n",
      "     |  __getattribute__(self, name, /)\n",
      "     |      Return getattr(self, name).\n",
      "     |  \n",
      "     |  ----------------------------------------------------------------------\n",
      "     |  Static methods inherited from _random.Random:\n",
      "     |  \n",
      "     |  __new__(*args, **kwargs) from builtins.type\n",
      "     |      Create and return a new object.  See help(type) for accurate signature.\n",
      "\n",
      "FUNCTIONS\n",
      "    betavariate(alpha, beta) method of Random instance\n",
      "        Beta distribution.\n",
      "        \n",
      "        Conditions on the parameters are alpha > 0 and beta > 0.\n",
      "        Returned values range between 0 and 1.\n",
      "    \n",
      "    choice(seq) method of Random instance\n",
      "        Choose a random element from a non-empty sequence.\n",
      "    \n",
      "    choices(population, weights=None, *, cum_weights=None, k=1) method of Random instance\n",
      "        Return a k sized list of population elements chosen with replacement.\n",
      "        \n",
      "        If the relative weights or cumulative weights are not specified,\n",
      "        the selections are made with equal probability.\n",
      "    \n",
      "    expovariate(lambd) method of Random instance\n",
      "        Exponential distribution.\n",
      "        \n",
      "        lambd is 1.0 divided by the desired mean.  It should be\n",
      "        nonzero.  (The parameter would be called \"lambda\", but that is\n",
      "        a reserved word in Python.)  Returned values range from 0 to\n",
      "        positive infinity if lambd is positive, and from negative\n",
      "        infinity to 0 if lambd is negative.\n",
      "    \n",
      "    gammavariate(alpha, beta) method of Random instance\n",
      "        Gamma distribution.  Not the gamma function!\n",
      "        \n",
      "        Conditions on the parameters are alpha > 0 and beta > 0.\n",
      "        \n",
      "        The probability distribution function is:\n",
      "        \n",
      "                    x ** (alpha - 1) * math.exp(-x / beta)\n",
      "          pdf(x) =  --------------------------------------\n",
      "                      math.gamma(alpha) * beta ** alpha\n",
      "    \n",
      "    gauss(mu, sigma) method of Random instance\n",
      "        Gaussian distribution.\n",
      "        \n",
      "        mu is the mean, and sigma is the standard deviation.  This is\n",
      "        slightly faster than the normalvariate() function.\n",
      "        \n",
      "        Not thread-safe without a lock around calls.\n",
      "    \n",
      "    getrandbits(...) method of Random instance\n",
      "        getrandbits(k) -> x.  Generates an int with k random bits.\n",
      "    \n",
      "    getstate() method of Random instance\n",
      "        Return internal state; can be passed to setstate() later.\n",
      "    \n",
      "    lognormvariate(mu, sigma) method of Random instance\n",
      "        Log normal distribution.\n",
      "        \n",
      "        If you take the natural logarithm of this distribution, you'll get a\n",
      "        normal distribution with mean mu and standard deviation sigma.\n",
      "        mu can have any value, and sigma must be greater than zero.\n",
      "    \n",
      "    normalvariate(mu, sigma) method of Random instance\n",
      "        Normal distribution.\n",
      "        \n",
      "        mu is the mean, and sigma is the standard deviation.\n",
      "    \n",
      "    paretovariate(alpha) method of Random instance\n",
      "        Pareto distribution.  alpha is the shape parameter.\n",
      "    \n",
      "    randint(a, b) method of Random instance\n",
      "        Return random integer in range [a, b], including both end points.\n",
      "    \n",
      "    random(...) method of Random instance\n",
      "        random() -> x in the interval [0, 1).\n",
      "    \n",
      "    randrange(start, stop=None, step=1, _int=<class 'int'>) method of Random instance\n",
      "        Choose a random item from range(start, stop[, step]).\n",
      "        \n",
      "        This fixes the problem with randint() which includes the\n",
      "        endpoint; in Python this is usually not what you want.\n",
      "    \n",
      "    sample(population, k) method of Random instance\n",
      "        Chooses k unique random elements from a population sequence or set.\n",
      "        \n",
      "        Returns a new list containing elements from the population while\n",
      "        leaving the original population unchanged.  The resulting list is\n",
      "        in selection order so that all sub-slices will also be valid random\n",
      "        samples.  This allows raffle winners (the sample) to be partitioned\n",
      "        into grand prize and second place winners (the subslices).\n",
      "        \n",
      "        Members of the population need not be hashable or unique.  If the\n",
      "        population contains repeats, then each occurrence is a possible\n",
      "        selection in the sample.\n",
      "        \n",
      "        To choose a sample in a range of integers, use range as an argument.\n",
      "        This is especially fast and space efficient for sampling from a\n",
      "        large population:   sample(range(10000000), 60)\n",
      "    \n",
      "    seed(a=None, version=2) method of Random instance\n",
      "        Initialize internal state from hashable object.\n",
      "        \n",
      "        None or no argument seeds from current time or from an operating\n",
      "        system specific randomness source if available.\n",
      "        \n",
      "        If *a* is an int, all bits are used.\n",
      "        \n",
      "        For version 2 (the default), all of the bits are used if *a* is a str,\n",
      "        bytes, or bytearray.  For version 1 (provided for reproducing random\n",
      "        sequences from older versions of Python), the algorithm for str and\n",
      "        bytes generates a narrower range of seeds.\n",
      "    \n",
      "    setstate(state) method of Random instance\n",
      "        Restore internal state from object returned by getstate().\n",
      "    \n",
      "    shuffle(x, random=None) method of Random instance\n",
      "        Shuffle list x in place, and return None.\n",
      "        \n",
      "        Optional argument random is a 0-argument function returning a\n",
      "        random float in [0.0, 1.0); if it is the default None, the\n",
      "        standard random.random will be used.\n",
      "    \n",
      "    triangular(low=0.0, high=1.0, mode=None) method of Random instance\n",
      "        Triangular distribution.\n",
      "        \n",
      "        Continuous distribution bounded by given lower and upper limits,\n",
      "        and having a given mode value in-between.\n",
      "        \n",
      "        http://en.wikipedia.org/wiki/Triangular_distribution\n",
      "    \n",
      "    uniform(a, b) method of Random instance\n",
      "        Get a random number in the range [a, b) or [a, b] depending on rounding.\n",
      "    \n",
      "    vonmisesvariate(mu, kappa) method of Random instance\n",
      "        Circular data distribution.\n",
      "        \n",
      "        mu is the mean angle, expressed in radians between 0 and 2*pi, and\n",
      "        kappa is the concentration parameter, which must be greater than or\n",
      "        equal to zero.  If kappa is equal to zero, this distribution reduces\n",
      "        to a uniform random angle over the range 0 to 2*pi.\n",
      "    \n",
      "    weibullvariate(alpha, beta) method of Random instance\n",
      "        Weibull distribution.\n",
      "        \n",
      "        alpha is the scale parameter and beta is the shape parameter.\n",
      "\n",
      "DATA\n",
      "    __all__ = ['Random', 'seed', 'random', 'uniform', 'randint', 'choice',...\n",
      "\n",
      "FILE\n",
      "    /opt/local/Library/Frameworks/Python.framework/Versions/3.7/lib/python3.7/random.py\n",
      "\n",
      "\n"
     ]
    }
   ],
   "source": [
    "help(random)"
   ]
  },
  {
   "cell_type": "markdown",
   "id": "8ad18a4f",
   "metadata": {},
   "source": [
    "### `import` library `as` new_name\n",
    "\n",
    "You may prefer to call a library in another, usually shorter, name. In order to do that you need to specify the new name using the `as` keyword:\n",
    "- `import pandas as pd`\n"
   ]
  },
  {
   "cell_type": "code",
   "execution_count": 3,
   "id": "f8a00871",
   "metadata": {},
   "outputs": [],
   "source": [
    "import random as rnd"
   ]
  },
  {
   "cell_type": "code",
   "execution_count": 4,
   "id": "e7dd65c7",
   "metadata": {},
   "outputs": [
    {
     "data": {
      "text/plain": [
       "'ābols'"
      ]
     },
     "execution_count": 4,
     "metadata": {},
     "output_type": "execute_result"
    }
   ],
   "source": [
    "rnd.choice([\"ābols\", \"zemene\", \"mango\"])"
   ]
  },
  {
   "cell_type": "markdown",
   "id": "3bbd0fb9",
   "metadata": {},
   "source": [
    "### Example : random"
   ]
  },
  {
   "cell_type": "code",
   "execution_count": 5,
   "id": "4940d5af",
   "metadata": {},
   "outputs": [
    {
     "name": "stdout",
     "output_type": "stream",
     "text": [
      "BPF\n",
      "LOG4\n",
      "NV_MAGICCONST\n",
      "RECIP_BPF\n",
      "Random\n",
      "SG_MAGICCONST\n",
      "SystemRandom\n",
      "TWOPI\n",
      "betavariate\n",
      "choice\n",
      "choices\n",
      "expovariate\n",
      "gammavariate\n",
      "gauss\n",
      "getrandbits\n",
      "getstate\n",
      "lognormvariate\n",
      "normalvariate\n",
      "paretovariate\n",
      "randint\n",
      "random\n",
      "randrange\n",
      "sample\n",
      "seed\n",
      "setstate\n",
      "shuffle\n",
      "triangular\n",
      "uniform\n",
      "vonmisesvariate\n",
      "weibullvariate\n"
     ]
    }
   ],
   "source": [
    "import random\n",
    "\n",
    "# a list of \"names\" (objects, methods, ...) provided by this library:\n",
    "\n",
    "for line in dir(random):\n",
    "    if not line.startswith(\"_\"):\n",
    "        print(line)"
   ]
  },
  {
   "cell_type": "code",
   "execution_count": 6,
   "id": "7af9fb91",
   "metadata": {},
   "outputs": [],
   "source": [
    "list_of_values = range(10)"
   ]
  },
  {
   "cell_type": "code",
   "execution_count": 7,
   "id": "8e4b0eda",
   "metadata": {},
   "outputs": [
    {
     "name": "stdout",
     "output_type": "stream",
     "text": [
      "5\n"
     ]
    }
   ],
   "source": [
    "value = random.choice(list_of_values)\n",
    "\n",
    "print(value)"
   ]
  },
  {
   "cell_type": "code",
   "execution_count": 8,
   "id": "b25170df",
   "metadata": {},
   "outputs": [
    {
     "name": "stdout",
     "output_type": "stream",
     "text": [
      "Help on method choice in module random:\n",
      "\n",
      "choice(seq) method of random.Random instance\n",
      "    Choose a random element from a non-empty sequence.\n",
      "\n"
     ]
    }
   ],
   "source": [
    "# libraries usually have help text:\n",
    "\n",
    "help(random.choice)"
   ]
  },
  {
   "cell_type": "markdown",
   "id": "7efb5b26",
   "metadata": {},
   "source": [
    "### `from` library `import` name\n",
    "\n",
    "If you only need to some of the functionality as a library you can list the names of things you want to import:\n",
    "\n",
    "- `from name_of_library import list, of, names`\n",
    "\n",
    "Example:\n",
    "- `from random import choice`\n",
    "\n",
    "You may list many names to import:\n",
    "- `from random import choice, randint`\n"
   ]
  },
  {
   "cell_type": "code",
   "execution_count": 9,
   "id": "daa6f67b",
   "metadata": {},
   "outputs": [
    {
     "name": "stdout",
     "output_type": "stream",
     "text": [
      "3\n"
     ]
    }
   ],
   "source": [
    "from random import choice\n",
    "\n",
    "value = choice(list_of_values)\n",
    "print(value)"
   ]
  },
  {
   "cell_type": "code",
   "execution_count": null,
   "id": "723c5051",
   "metadata": {},
   "outputs": [],
   "source": []
  },
  {
   "cell_type": "markdown",
   "id": "d091b9e1",
   "metadata": {},
   "source": [
    "### Example : collections, Counter\n",
    "\n",
    "`Counter()` object lets us count things.\n",
    "\n",
    "https://docs.python.org/3/library/collections.html#collections.Counter\n",
    "\n",
    "https://realpython.com/python-counter/"
   ]
  },
  {
   "cell_type": "code",
   "execution_count": 10,
   "id": "dcf3db92",
   "metadata": {},
   "outputs": [],
   "source": [
    "from collections import Counter"
   ]
  },
  {
   "cell_type": "code",
   "execution_count": 11,
   "id": "a866aadc",
   "metadata": {},
   "outputs": [
    {
     "name": "stdout",
     "output_type": "stream",
     "text": [
      "Counter({2: 3, 1: 2, 11: 1, 15: 1, 18: 1})\n"
     ]
    }
   ],
   "source": [
    "things_to_count = [1, 2, 11, 15, 2, 2, 18, 1]\n",
    "\n",
    "cnt = Counter(things_to_count)\n",
    "\n",
    "print(cnt)"
   ]
  },
  {
   "cell_type": "code",
   "execution_count": 12,
   "id": "721dffd3",
   "metadata": {},
   "outputs": [
    {
     "name": "stdout",
     "output_type": "stream",
     "text": [
      "clear\n",
      "copy\n",
      "elements\n",
      "fromkeys\n",
      "get\n",
      "items\n",
      "keys\n",
      "most_common\n",
      "pop\n",
      "popitem\n",
      "setdefault\n",
      "subtract\n",
      "update\n",
      "values\n"
     ]
    }
   ],
   "source": [
    "# let's see what methods we can use with the Counter object\n",
    "\n",
    "names = dir(cnt)\n",
    "\n",
    "for name in names:\n",
    "    if not name.startswith(\"_\"):\n",
    "        print(name)"
   ]
  },
  {
   "cell_type": "code",
   "execution_count": 13,
   "id": "422a928b",
   "metadata": {},
   "outputs": [
    {
     "name": "stdout",
     "output_type": "stream",
     "text": [
      "Help on method most_common in module collections:\n",
      "\n",
      "most_common(n=None) method of collections.Counter instance\n",
      "    List the n most common elements and their counts from the most\n",
      "    common to the least.  If n is None, then list all element counts.\n",
      "    \n",
      "    >>> Counter('abcdeabcdabcaba').most_common(3)\n",
      "    [('a', 5), ('b', 4), ('c', 3)]\n",
      "\n"
     ]
    }
   ],
   "source": [
    "help(cnt.most_common)"
   ]
  },
  {
   "cell_type": "code",
   "execution_count": 14,
   "id": "a581cb29",
   "metadata": {},
   "outputs": [
    {
     "data": {
      "text/plain": [
       "[(2, 3), (1, 2)]"
      ]
     },
     "execution_count": 14,
     "metadata": {},
     "output_type": "execute_result"
    }
   ],
   "source": [
    "# print most common items\n",
    "cnt.most_common(2)"
   ]
  },
  {
   "cell_type": "code",
   "execution_count": 15,
   "id": "dd79719e",
   "metadata": {},
   "outputs": [
    {
     "name": "stdout",
     "output_type": "stream",
     "text": [
      "Item 2 appeared 3 time(s).\n",
      "Item 1 appeared 2 time(s).\n"
     ]
    }
   ],
   "source": [
    "# a prettier way to display most common items:\n",
    "\n",
    "for thing, count in cnt.most_common(2):\n",
    "    print(f\"Item {thing} appeared {count} time(s).\")"
   ]
  },
  {
   "cell_type": "code",
   "execution_count": 16,
   "id": "4915bcd9",
   "metadata": {},
   "outputs": [],
   "source": [
    "cnt2 = Counter(\"mans teksts\")"
   ]
  },
  {
   "cell_type": "code",
   "execution_count": 17,
   "id": "95b58781",
   "metadata": {},
   "outputs": [
    {
     "data": {
      "text/plain": [
       "Counter({'m': 1, 'a': 1, 'n': 1, 's': 3, ' ': 1, 't': 2, 'e': 1, 'k': 1})"
      ]
     },
     "execution_count": 17,
     "metadata": {},
     "output_type": "execute_result"
    }
   ],
   "source": [
    "cnt2"
   ]
  },
  {
   "cell_type": "markdown",
   "id": "1741697f",
   "metadata": {},
   "source": [
    "---\n",
    "\n",
    "## External libraries\n",
    "\n",
    "[Awesome Python](https://github.com/vinta/awesome-python) resources list\n",
    "\n",
    "External libraries need to be installed before use.\n"
   ]
  },
  {
   "cell_type": "markdown",
   "id": "11bcfead",
   "metadata": {},
   "source": [
    "### Example : requests\n",
    "\n",
    "\"Requests is an elegant and simple HTTP library for Python, built for human beings.\"\n",
    "\n",
    "https://requests.readthedocs.io/en/latest/"
   ]
  },
  {
   "cell_type": "code",
   "execution_count": 18,
   "id": "0a4b5ae1",
   "metadata": {},
   "outputs": [],
   "source": [
    "## Installation of the library depends on what Python distribution you use\n",
    "## Example of installing requests using the pip command:\n",
    "\n",
    "# !pip install requests"
   ]
  },
  {
   "cell_type": "code",
   "execution_count": 19,
   "id": "d62864ef",
   "metadata": {},
   "outputs": [],
   "source": [
    "import requests"
   ]
  },
  {
   "cell_type": "code",
   "execution_count": 20,
   "id": "0626dc29",
   "metadata": {},
   "outputs": [],
   "source": [
    "# raw text of Wikipedia article about Salaspils\n",
    "url = \"https://lv.wikipedia.org/wiki/Salaspils?action=raw\""
   ]
  },
  {
   "cell_type": "code",
   "execution_count": 21,
   "id": "2227512a",
   "metadata": {},
   "outputs": [
    {
     "name": "stdout",
     "output_type": "stream",
     "text": [
      "200\n",
      "\n",
      "{{citas nozīmes|pilsētu|Salaspils (nozīmju atdalīšana)|Salaspils}}\n",
      "{{Apdzīvotas vietas infokaste\n",
      " | name                     = Salaspils\n",
      " | settlement_type          = pilsēta\n",
      " | image_skyline            = Salaspils (2).jpg\n",
      " | imagesize                = \n",
      " | image_caption            = Salaspils kultūras nams\n",
      " | image_shield             = Salaspils gerb.png\n",
      " | shield_link              = Salaspils ģerbonis\n",
      " | shield_size              = 70px\n",
      " | pushpin_map              = Latvija\n",
      " | pushpin_label_position   = <!-- left/right -->\n",
      " | latd  = 56 | latm  = 51 | lats  = 31 | latNS  = N\n",
      " | longd = 24 | longm = 20 | longs = 59 | longEW = E\n",
      " | subdivision_type         = [[Suverēno valstu uzskaitījums|Valsts]]\n",
      " | subdivision_name         = '''{{karogs|Latvija}}'''\n",
      " | subdivision_type1        = Novads\n",
      " | subdivision_name1        = [[Salaspils novads]]\n",
      " | subdivision_type2        = \n",
      " | subdivision_name2        = \n",
      " | subdivision_type3        = \n",
      " | subdivision_name3        = \n",
      " | established_title        = Pilsētas tiesības\n",
      " | established_date         = kopš 1993. gada\n",
      " | established_title2       = \n",
      " | established_date2        = \n",
      " | seat_type                = Vēsturiskie<br />nosaukumi\n",
      " | seat                     = {{val|de|Kirchholm}}\n",
      " | area_total_km2           = 12\n",
      " | population_footnotes     = <ref name=\"iedz skaits\">{{iedzsk|ats}}</ref>\n",
      " | population_total         = {{iedzsk|dati|Salaspils}}\n",
      " | population_as_of         = {{iedzsk|dat}}\n",
      " | population_rank          = \n",
      " | population_density_km2   = auto\n",
      " | timezone                 = [[Austrumeiropas laiks|EET]]\n",
      " | utc_offset               = +2\n",
      " | timezone_DST             = [[Austrumeiropas laiks|EEST]]\n",
      " | utc_offset_DST           = +3\n",
      " | postal_code_type         = Pasta indeksi\n",
      " | postal_code              = LV-2121, LV-2169\n",
      " | area_code                = \n",
      " | website                  = {{URL|www.salaspils.lv}}\n",
      " | footnotes                = \n",
      "}}\n",
      "[[Attēls:Salaspils Dome.jpg|thumb|Salaspils dome]]\n",
      "'''Salaspils''' ir [[pilsēta]] [[Latvija|Latvijā]], [[Salaspils novads|Salaspils novada]] administratīvais centrs. Tā ir [[Rīga]]s piepilsēta, atrodas tikai 18 km attālumā no galvaspilsētas centra un 16 km attālumā no [[Ogre]]s. Pilsēta tās mūsdienu veidolā veidojusies saistībā ar līdzās esošā [[Rīgas HES]] un vairāku rūpniecības uzņēmumu celtniecību, savukārt [[Salaspils vēsture|vēsturiskā Salaspils]] šobrīd ir appludināta zem [[Rīgas ūdenskrātuve|Rīgas HES ūdenskrātuves]]. Pilsētas tiesības kopš 1993. gada. Salaspils ir viena no jaunākajām Latvijas pilsētām un 11. lielākā pilsēta pēc iedzīvotāju skaita.<ref>{{Tīmekļa atsauce|url=https://stat.gov.lv/lv/statistikas-temas/iedzivotaji/iedzivotaju-skaits/247-iedzivotaju-skaits-un-ta-izmainas|title=Iedzīvotāju skaits un tā izmaiņas {{!}} Oficiālās statistikas portāls|website=stat.gov.lv|access-date=2021-06-27}}</ref>\n",
      "\n",
      "Pilsētas platība ir 12 km<sup>2</sup>, to aptver [[Salaspils pagasts]]. {{iedzsk|dat|dat_f=L}} Salaspilī bija {{iedzsk|dati|Salaspils|format=yes}} iedzīvotāji.<ref n\n"
     ]
    }
   ],
   "source": [
    "# let's get the contents of this webpage\n",
    "\n",
    "result = requests.get(url)\n",
    "\n",
    "# result code \"200\" means the page was retrieved OK\n",
    "print(result.status_code)\n",
    "print()\n",
    "\n",
    "# this is the \"text\" of the webpage\n",
    "print(result.text[:3000])"
   ]
  },
  {
   "cell_type": "markdown",
   "id": "f446b5be",
   "metadata": {},
   "source": [
    "### Exercise\n",
    "\n",
    "Count the number of words in the text of the webpage retrieved above and display a list of Top 10 words on this webpage.\n"
   ]
  },
  {
   "cell_type": "code",
   "execution_count": 22,
   "id": "1bf41500",
   "metadata": {},
   "outputs": [],
   "source": [
    "data = result.text\n",
    "\n",
    "data = data.replace(\"=\", \"\")"
   ]
  },
  {
   "cell_type": "code",
   "execution_count": 23,
   "id": "b5496899",
   "metadata": {},
   "outputs": [],
   "source": [
    "# Let's find out the start position of the real text\n",
    "pos = data.index(\"'''Salaspils'''\")"
   ]
  },
  {
   "cell_type": "code",
   "execution_count": 24,
   "id": "f3f0b4ab",
   "metadata": {},
   "outputs": [
    {
     "name": "stdout",
     "output_type": "stream",
     "text": [
      "Salaspils ir pilsēta Latvija Latvijā Salaspils novads Salaspils novada administratīvais centrs Tā ir Rīgas piepilsēta atrodas tikai 18 km attālumā no galvaspilsētas centra un 16 km attālumā no Ogres Pilsēta tās mūsdienu veidolā veidojusies saistībā ar līdzās esošā Rīgas HES un vairāku rūpniecības uzņēmumu celtniecību savukārt Salaspils vēsture vēsturiskā Salaspils šobrīd ir appludināta zem Rīgas ūdenskrātuve Rīgas HES ūdenskrātuves Pilsētas tiesības kopš 1993 gada Salaspils ir viena no jaunākajām Latvijas pilsētām un 11 lielākā pilsēta pēc iedzīvotāju skaita<ref>Tīmekļa atsauce urlhttps://statgovlv/lv/statistikas-temas/iedzivotaji/iedzivotaju-skaits/247-iedzivotaju-skaits-un-ta-izmainas titleIedzīvotāju skaits un tā izmaiņas ! Oficiālās statistikas portāls websitestatgovlv access-date2021-06-27</ref>\n",
      "\n",
      "Pilsētas platība ir 12 km<sup>2</sup> to aptver Salaspils pagasts iedzsk dat dat_fL Salaspilī bija iedzsk dati Salaspils formatyes iedzīvotāji<ref name\"iedz skaits\" />\n",
      "\n",
      "Salaspils teritoriju šķērso dzelzceļa līnija Rīga—Daugavpils (stacijas Salaspils (stacija) Salaspils un Dole (stacija) Dole) autoceļš Autoceļš A6 (Latvija) A6 līdzās pilsētai iet Rīgas apvedceļš Autoceļš A6 (Latvija) A4 un Autoceļš A5 (Latvija) A5 Brauciens no Salaspils līdz Rīgai neatkarīgi no izvēlētā transporta veida (autoceļš vai dzelzceļš) ilgst aptuveni 25 minūtes Nelielā attāluma un ērtās satiksmes dēļ raksturīga diennakts migrācija — liela daļa Salaspils iedzīvotāju katru dienu brauc strādāt vai mācīties uz Rīgu\n",
      "\n",
      " Daba \n",
      "Salaspils atrodas Daugavas (Rīgas ūdenskrātuve Rīgas HES ūdenskrātuves) labajā krast\n"
     ]
    }
   ],
   "source": [
    "data2 = data[pos:]\n",
    "\n",
    "data2 = data2.replace(\"[\", \"\")\n",
    "data2 = data2.replace(\"]\", \"\")\n",
    "data2 = data2.replace(\"{\", \"\")\n",
    "data2 = data2.replace(\"}\", \"\")\n",
    "data2 = data2.replace(\".\", \"\")\n",
    "data2 = data2.replace(\",\", \"\")\n",
    "data2 = data2.replace(\"'\", \"\")\n",
    "data2 = data2.replace(\"|\", \" \")\n",
    "\n",
    "print(data2[:1600])"
   ]
  },
  {
   "cell_type": "code",
   "execution_count": 25,
   "id": "e33d51f1",
   "metadata": {},
   "outputs": [
    {
     "name": "stdout",
     "output_type": "stream",
     "text": [
      "['salaspils', 'ir', 'pilsēta', 'latvija', 'latvijā', 'salaspils', 'novads', 'salaspils', 'novada', 'administratīvais', 'centrs', 'tā', 'ir', 'rīgas', 'piepilsēta', 'atrodas', 'tikai', '18', 'km', 'attālumā', 'no', 'galvaspilsētas', 'centra', 'un', '16', 'km', 'attālumā', 'no', 'ogres', 'pilsēta', 'tās', 'mūsdienu', 'veidolā', 'veidojusies', 'saistībā', 'ar', 'līdzās', 'esošā', 'rīgas', 'hes', 'un', 'vairāku', 'rūpniecības', 'uzņēmumu', 'celtniecību', 'savukārt', 'salaspils', 'vēsture', 'vēsturiskā', 'salaspils', 'šobrīd', 'ir', 'appludināta', 'zem', 'rīgas', 'ūdenskrātuve', 'rīgas', 'hes', 'ūdenskrātuves', 'pilsētas', 'tiesības', 'kopš', '1993', 'gada', 'salaspils', 'ir', 'viena', 'no', 'jaunākajām', 'latvijas', 'pilsētām', 'un', '11', 'lielākā', 'pilsēta', 'pēc', 'iedzīvotāju', 'skaita<ref>tīmekļa', 'atsauce', 'urlhttps://statgovlv/lv/statistikas-temas/iedzivotaji/iedzivotaju-skaits/247-iedzivotaju-skaits-un-ta-izmainas', 'titleiedzīvotāju', 'skaits', 'un', 'tā', 'izmaiņas', '!', 'oficiālās', 'statistikas', 'portāls', 'websitestatgovlv', 'access-date2021-06-27</ref>', 'pilsētas', 'platība', 'ir', '12', 'km<sup>2</sup>', 'to', 'aptver', 'salaspils', 'pagasts']\n"
     ]
    }
   ],
   "source": [
    "data2 = data2.lower()\n",
    "words = data2.split()\n",
    "\n",
    "print(words[:100])"
   ]
  },
  {
   "cell_type": "code",
   "execution_count": 26,
   "id": "bcd43b1b",
   "metadata": {},
   "outputs": [],
   "source": [
    "word_cnt = Counter(words)"
   ]
  },
  {
   "cell_type": "code",
   "execution_count": 27,
   "id": "f5dfee5b",
   "metadata": {},
   "outputs": [
    {
     "data": {
      "text/plain": [
       "[('salaspils', 34),\n",
       " ('un', 15),\n",
       " ('gadā', 11),\n",
       " ('rīgas', 10),\n",
       " ('no', 8),\n",
       " ('latvijas', 8),\n",
       " ('ir', 5),\n",
       " ('pilsētas', 5),\n",
       " ('daugavas', 5),\n",
       " ('tika', 5)]"
      ]
     },
     "execution_count": 27,
     "metadata": {},
     "output_type": "execute_result"
    }
   ],
   "source": [
    "word_cnt.most_common(10)"
   ]
  },
  {
   "cell_type": "code",
   "execution_count": 28,
   "id": "0b98efb1",
   "metadata": {},
   "outputs": [
    {
     "name": "stdout",
     "output_type": "stream",
     "text": [
      "Vārds 'salaspils': 34 reizes.\n",
      "Vārds 'un': 15 reizes.\n",
      "Vārds 'gadā': 11 reizes.\n",
      "Vārds 'rīgas': 10 reizes.\n",
      "Vārds 'no': 8 reizes.\n",
      "Vārds 'latvijas': 8 reizes.\n",
      "Vārds 'ir': 5 reizes.\n",
      "Vārds 'pilsētas': 5 reizes.\n",
      "Vārds 'daugavas': 5 reizes.\n",
      "Vārds 'tika': 5 reizes.\n"
     ]
    }
   ],
   "source": [
    "for thing, count in word_cnt.most_common(10):\n",
    "    print(f\"Vārds '{thing}': {count} reizes.\")"
   ]
  },
  {
   "cell_type": "markdown",
   "id": "fc89a1dd",
   "metadata": {},
   "source": [
    "## Other libraries\n",
    "\n",
    "What other Python libraries do you need / are interested in?"
   ]
  },
  {
   "cell_type": "code",
   "execution_count": null,
   "id": "40a13db7",
   "metadata": {},
   "outputs": [],
   "source": []
  },
  {
   "cell_type": "code",
   "execution_count": null,
   "id": "cf4b3f22",
   "metadata": {},
   "outputs": [],
   "source": []
  },
  {
   "cell_type": "code",
   "execution_count": null,
   "id": "a6b9dadc",
   "metadata": {},
   "outputs": [],
   "source": []
  }
 ],
 "metadata": {
  "kernelspec": {
   "display_name": "Python 3 (ipykernel)",
   "language": "python",
   "name": "python3"
  },
  "language_info": {
   "codemirror_mode": {
    "name": "ipython",
    "version": 3
   },
   "file_extension": ".py",
   "mimetype": "text/x-python",
   "name": "python",
   "nbconvert_exporter": "python",
   "pygments_lexer": "ipython3",
   "version": "3.7.15"
  }
 },
 "nbformat": 4,
 "nbformat_minor": 5
}
