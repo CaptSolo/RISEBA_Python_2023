{
 "cells": [
  {
   "cell_type": "markdown",
   "id": "b2800378",
   "metadata": {},
   "source": [
    "## List, Dictionary, Set comprehensions"
   ]
  },
  {
   "cell_type": "code",
   "execution_count": null,
   "id": "cfb3d00f",
   "metadata": {},
   "outputs": [],
   "source": [
    "a = [\"a\", \"list\"]"
   ]
  },
  {
   "cell_type": "code",
   "execution_count": null,
   "id": "cffd724a",
   "metadata": {
    "scrolled": true
   },
   "outputs": [],
   "source": [
    "# list comprehension \n",
    "\n",
    "[name for name in dir(a) if not name.startswith(\"__\")]"
   ]
  },
  {
   "cell_type": "code",
   "execution_count": null,
   "id": "d2b51bdc",
   "metadata": {},
   "outputs": [],
   "source": [
    "# the same result using a for cycle\n",
    "\n",
    "buf = []\n",
    "\n",
    "for name in dir(a):\n",
    "    if not name.startswith(\"__\"):\n",
    "        buf.append(name)\n",
    "        \n",
    "buf"
   ]
  },
  {
   "cell_type": "code",
   "execution_count": null,
   "id": "4843a584",
   "metadata": {},
   "outputs": [],
   "source": [
    "# dict comprehension\n",
    "\n",
    "names = [\"Adam\", \"Betty\"]\n",
    "\n",
    "res = {key: 1 for key in names }"
   ]
  },
  {
   "cell_type": "code",
   "execution_count": null,
   "id": "2ae3a0c7",
   "metadata": {},
   "outputs": [],
   "source": [
    "res"
   ]
  },
  {
   "cell_type": "code",
   "execution_count": null,
   "id": "f9d7d070",
   "metadata": {},
   "outputs": [],
   "source": [
    "# using a for cycle:\n",
    "\n",
    "res2 = {}\n",
    "\n",
    "for key in names:\n",
    "    res2[key] = 1\n",
    "    \n",
    "res2"
   ]
  },
  {
   "cell_type": "code",
   "execution_count": null,
   "id": "bc44b98b",
   "metadata": {},
   "outputs": [],
   "source": [
    "# set comprehension\n",
    "\n",
    "words = [\"a\", \"little\", \"bit\", \"about\", \"nothing\", \"a\", \"bit\"]\n",
    "\n",
    "set1 = {word for word in words}\n",
    "\n",
    "set1"
   ]
  },
  {
   "cell_type": "code",
   "execution_count": null,
   "id": "9eb558ea",
   "metadata": {},
   "outputs": [],
   "source": []
  },
  {
   "cell_type": "markdown",
   "id": "fc006b41",
   "metadata": {},
   "source": [
    "## File Operations (continued)"
   ]
  },
  {
   "cell_type": "code",
   "execution_count": null,
   "id": "b3e3041e",
   "metadata": {},
   "outputs": [],
   "source": [
    "%%writefile somefile.txt\n",
    "This is an example file\n",
    "that we can experiment\n",
    "with."
   ]
  },
  {
   "cell_type": "code",
   "execution_count": null,
   "id": "f1952b1f",
   "metadata": {},
   "outputs": [],
   "source": [
    "fname = \"somefile.txt\"\n",
    "\n",
    "file = open(fname, encoding=\"utf-8\")\n",
    "\n",
    "for line in file:\n",
    "    print(line.strip())\n",
    "    \n",
    "file.close()"
   ]
  },
  {
   "cell_type": "code",
   "execution_count": null,
   "id": "2cc6995e",
   "metadata": {},
   "outputs": [],
   "source": [
    "# we can avoid having to explicitly call close()\n",
    "\n",
    "with open(fname, encoding=\"utf-8\") as file:\n",
    "    for line in file:\n",
    "        print(line.strip())\n",
    "        \n",
    "# close() gets called automatically when with block ends"
   ]
  },
  {
   "cell_type": "code",
   "execution_count": null,
   "id": "9dff588a",
   "metadata": {},
   "outputs": [],
   "source": [
    "# we can use seek() to got back to the start of the file (in needed)\n",
    "\n",
    "with open(fname, encoding=\"utf-8\") as file:\n",
    "    for line in file:\n",
    "        print(line.strip())\n",
    "        \n",
    "    print()\n",
    "    \n",
    "    # go to beginning\n",
    "    file.seek(0)\n",
    "    \n",
    "    # print the file again\n",
    "    for line in file:\n",
    "        print(line.strip())        "
   ]
  },
  {
   "cell_type": "markdown",
   "id": "c34a06ba",
   "metadata": {},
   "source": [
    "### CSV - DictReader and DictWriter"
   ]
  },
  {
   "cell_type": "code",
   "execution_count": null,
   "id": "810ac53d",
   "metadata": {},
   "outputs": [],
   "source": [
    "# https://data.gov.lv/dati/lv/dataset/stacionaru-operativie-dati-par-covid19\n",
    "\n",
    "fname_csv = \"data/covidpatients.csv\""
   ]
  },
  {
   "cell_type": "code",
   "execution_count": null,
   "id": "2b3ead26",
   "metadata": {},
   "outputs": [],
   "source": [
    "import csv"
   ]
  },
  {
   "cell_type": "code",
   "execution_count": null,
   "id": "ec3ebec4",
   "metadata": {},
   "outputs": [],
   "source": [
    "from itertools import islice\n",
    "\n",
    "with open(fname_csv, encoding=\"utf-8\") as file_csv:\n",
    "    \n",
    "    rdr = csv.reader(file_csv, delimiter=\";\")\n",
    "    rdr_10_rows = islice(rdr, 10)\n",
    "    \n",
    "    data = [line for line in rdr_10_rows]\n",
    "\n",
    "data"
   ]
  },
  {
   "cell_type": "code",
   "execution_count": null,
   "id": "d78aaa06",
   "metadata": {},
   "outputs": [],
   "source": [
    "data[0][2]"
   ]
  },
  {
   "cell_type": "code",
   "execution_count": null,
   "id": "4ade152c",
   "metadata": {},
   "outputs": [],
   "source": [
    "data[1][2]"
   ]
  },
  {
   "cell_type": "code",
   "execution_count": null,
   "id": "2026a9e6",
   "metadata": {
    "scrolled": true
   },
   "outputs": [],
   "source": [
    "# how could we access columns by name?\n",
    "#  - DictReader to the rescue\n",
    "\n",
    "with open(fname_csv, encoding=\"utf-8\") as file_csv:\n",
    "    \n",
    "    rdr = csv.DictReader(file_csv, delimiter=\";\")\n",
    "    rdr_10_rows = islice(rdr, 10)\n",
    "    \n",
    "    data = [line for line in rdr_10_rows]\n",
    "\n",
    "data"
   ]
  },
  {
   "cell_type": "code",
   "execution_count": null,
   "id": "51b0ee77",
   "metadata": {},
   "outputs": [],
   "source": [
    "data[0][\"ĀI nosaukums\"]"
   ]
  },
  {
   "cell_type": "code",
   "execution_count": null,
   "id": "f56728bf",
   "metadata": {},
   "outputs": [],
   "source": [
    "rdr.fieldnames"
   ]
  },
  {
   "cell_type": "markdown",
   "id": "e7949931",
   "metadata": {},
   "source": [
    "#### DictWriter\n",
    "\n",
    "https://docs.python.org/3/library/csv.html#csv.DictWriter"
   ]
  },
  {
   "cell_type": "code",
   "execution_count": null,
   "id": "f0ab2a07",
   "metadata": {},
   "outputs": [],
   "source": [
    "with open('names.csv', 'w', newline='') as csvfile:\n",
    "    fieldnames = ['first_name', 'last_name']\n",
    "    writer = csv.DictWriter(csvfile, fieldnames=fieldnames)\n",
    "\n",
    "    writer.writeheader()\n",
    "    writer.writerow({'first_name': 'John', 'last_name': 'Smith'})\n",
    "    writer.writerow({'first_name': 'Adam', 'last_name': 'Strange'})\n",
    "    writer.writerow({'first_name': 'Alice', 'last_name': 'Wonder'})"
   ]
  },
  {
   "cell_type": "code",
   "execution_count": null,
   "id": "c4a520b7",
   "metadata": {},
   "outputs": [],
   "source": [
    "with open('names.csv') as csvfile:\n",
    "    for line in csvfile:\n",
    "        print(line.strip())"
   ]
  },
  {
   "cell_type": "markdown",
   "id": "785f0c36",
   "metadata": {},
   "source": [
    "### JSON input / output\n",
    "\n",
    "https://docs.python.org/3/library/json.html"
   ]
  },
  {
   "cell_type": "code",
   "execution_count": null,
   "id": "c55e20bf",
   "metadata": {},
   "outputs": [],
   "source": [
    "import json\n",
    "\n",
    "[name for name in dir(json) if not name.startswith(\"__\")]"
   ]
  },
  {
   "cell_type": "code",
   "execution_count": null,
   "id": "f37ddd05",
   "metadata": {},
   "outputs": [],
   "source": [
    "example = {\"key1\": \"value1\",\n",
    "           \"key2\": [\"list\", \"of\", \"values\"],\n",
    "           \"key3\": {\"another\": 1, \"dict\": 42}}"
   ]
  },
  {
   "cell_type": "code",
   "execution_count": null,
   "id": "7df06a74",
   "metadata": {},
   "outputs": [],
   "source": [
    "# saving data to a JSON file\n",
    "\n",
    "example_fname = \"example.json\"\n",
    "\n",
    "with open(example_fname, \"w\") as file:\n",
    "    json.dump(example, file)"
   ]
  },
  {
   "cell_type": "code",
   "execution_count": null,
   "id": "89f299f8",
   "metadata": {},
   "outputs": [],
   "source": [
    "# loading data from a JSON file\n",
    "\n",
    "with open(example_fname) as file:\n",
    "    data = json.load(file)"
   ]
  },
  {
   "cell_type": "code",
   "execution_count": null,
   "id": "22dfa3ba",
   "metadata": {},
   "outputs": [],
   "source": [
    "data"
   ]
  },
  {
   "cell_type": "markdown",
   "id": "cfb1ba4e",
   "metadata": {},
   "source": [
    "#### Loading JSON from a URL (using requests)\n",
    "\n",
    "Data source: https://jsonplaceholder.typicode.com/"
   ]
  },
  {
   "cell_type": "code",
   "execution_count": null,
   "id": "19d975ed",
   "metadata": {},
   "outputs": [],
   "source": [
    "json_url = \"https://jsonplaceholder.typicode.com/posts\""
   ]
  },
  {
   "cell_type": "code",
   "execution_count": null,
   "id": "aa50d536",
   "metadata": {},
   "outputs": [],
   "source": [
    "import requests"
   ]
  },
  {
   "cell_type": "code",
   "execution_count": null,
   "id": "f1043930",
   "metadata": {},
   "outputs": [],
   "source": [
    "req = requests.get(json_url)\n",
    "\n",
    "json_data = req.json()\n",
    "\n",
    "json_data[:3]"
   ]
  },
  {
   "cell_type": "code",
   "execution_count": null,
   "id": "2eb1e8d1",
   "metadata": {},
   "outputs": [],
   "source": [
    "# alternative approach (without requests)\n",
    "\n",
    "from urllib.request import urlopen\n",
    "\n",
    "with urlopen(json_url) as req:\n",
    "    body = req.read()\n",
    "\n",
    "body[:100]"
   ]
  },
  {
   "cell_type": "code",
   "execution_count": null,
   "id": "1cffd8a4",
   "metadata": {},
   "outputs": [],
   "source": [
    "# decode JSON data from string input\n",
    "\n",
    "json_data = json.loads(body)\n",
    "\n",
    "json_data[:2]"
   ]
  },
  {
   "cell_type": "code",
   "execution_count": null,
   "id": "6312bf88",
   "metadata": {},
   "outputs": [],
   "source": [
    "# you can also use dumps() to convert data to a JSON string\n",
    "\n",
    "example"
   ]
  },
  {
   "cell_type": "code",
   "execution_count": null,
   "id": "c8a380ef",
   "metadata": {},
   "outputs": [],
   "source": [
    "json.dumps(example)"
   ]
  },
  {
   "cell_type": "markdown",
   "id": "d75788fe",
   "metadata": {},
   "source": [
    "### Saving Python objects - pickle module\n",
    "\n",
    "https://docs.python.org/3/library/pickle.html"
   ]
  },
  {
   "cell_type": "code",
   "execution_count": null,
   "id": "4c1ae7d8",
   "metadata": {},
   "outputs": [],
   "source": [
    "# example class\n",
    "\n",
    "class Dog:\n",
    "    \"\"\"\n",
    "    I am a dog.\n",
    "    \"\"\"\n",
    "    def __init__(self, name, age):\n",
    "        self.name = name\n",
    "        self.age = age\n",
    "        \n",
    "    def say(self, text=\"Wow!\"):\n",
    "        print(self.name, \"says '\" + text + \"'\")\n",
    "        \n",
    "    def __str__(self):\n",
    "        # define how to convert this object to a string\n",
    "        return f\"Dog: name={self.name}, age={self.age}\"\n",
    "    \n",
    "rex = Dog(\"Rex\", 2)"
   ]
  },
  {
   "cell_type": "code",
   "execution_count": null,
   "id": "bf923081",
   "metadata": {},
   "outputs": [],
   "source": [
    "import pickle\n",
    "\n",
    "fname = \"data.pickle\"\n",
    "\n",
    "# we are opening file in a binary mode (\"wb\")\n",
    "with open(fname, \"wb\") as outf:\n",
    "    pickle.dump(rex, outf)\n"
   ]
  },
  {
   "cell_type": "code",
   "execution_count": null,
   "id": "e5b95a78",
   "metadata": {},
   "outputs": [],
   "source": [
    "with open(fname, \"rb\") as inf:\n",
    "    data = pickle.load(inf)\n",
    "    \n",
    "data"
   ]
  },
  {
   "cell_type": "code",
   "execution_count": null,
   "id": "548c9369",
   "metadata": {},
   "outputs": [],
   "source": [
    "str(data)"
   ]
  },
  {
   "cell_type": "code",
   "execution_count": null,
   "id": "25b22803",
   "metadata": {},
   "outputs": [],
   "source": []
  },
  {
   "cell_type": "markdown",
   "id": "8444fb23",
   "metadata": {},
   "source": [
    "### Other file-related operations\n",
    "\n",
    "- https://docs.python.org/3/library/filesys.html\n",
    "- https://realpython.com/working-with-files-in-python/\n",
    "\n",
    "#### Listing files in a directory"
   ]
  },
  {
   "cell_type": "code",
   "execution_count": null,
   "id": "2cf7897d",
   "metadata": {},
   "outputs": [],
   "source": [
    "import os\n",
    "\n",
    "# current directory\n",
    "cwd = os.getcwd()\n",
    "\n",
    "cwd"
   ]
  },
  {
   "cell_type": "code",
   "execution_count": null,
   "id": "69c0d525",
   "metadata": {
    "scrolled": true
   },
   "outputs": [],
   "source": [
    "main_dir = \".\"\n",
    "\n",
    "with os.scandir(main_dir) as lines:\n",
    "    for line in lines:\n",
    "        print(line.name)"
   ]
  },
  {
   "cell_type": "code",
   "execution_count": null,
   "id": "c20b3346",
   "metadata": {},
   "outputs": [],
   "source": []
  },
  {
   "cell_type": "code",
   "execution_count": null,
   "id": "6340112c",
   "metadata": {
    "scrolled": true
   },
   "outputs": [],
   "source": [
    "from pathlib import Path\n",
    "\n",
    "my_path = Path(\".\")\n",
    "\n",
    "entries_in_path = my_path.iterdir()\n",
    "\n",
    "for line in sorted(entries_in_path):\n",
    "    print(line.name)"
   ]
  },
  {
   "cell_type": "code",
   "execution_count": null,
   "id": "f4565b8c",
   "metadata": {},
   "outputs": [],
   "source": [
    "# listing only directories\n",
    "\n",
    "entries_in_path = my_path.iterdir()\n",
    "\n",
    "for line in sorted(entries_in_path):\n",
    "    if line.is_dir():\n",
    "        print(line.name)"
   ]
  },
  {
   "cell_type": "code",
   "execution_count": null,
   "id": "11451b8f",
   "metadata": {},
   "outputs": [],
   "source": [
    "# listing only files\n",
    "\n",
    "entries_in_path = my_path.iterdir()\n",
    "\n",
    "for line in sorted(entries_in_path):\n",
    "    if line.is_file():\n",
    "        print(line.name)"
   ]
  },
  {
   "cell_type": "markdown",
   "id": "744be69b",
   "metadata": {},
   "source": [
    "#### Searching for files"
   ]
  },
  {
   "cell_type": "code",
   "execution_count": null,
   "id": "3de4038b",
   "metadata": {},
   "outputs": [],
   "source": [
    "import glob\n",
    "\n",
    "# find all files ending with \".csv\" (in the current directory)\n",
    "glob.glob('*.csv')"
   ]
  },
  {
   "cell_type": "code",
   "execution_count": null,
   "id": "6ac666ba",
   "metadata": {},
   "outputs": [],
   "source": [
    "# look for files in sub-directories too\n",
    "glob.glob(\"**/*.csv\", recursive=True)"
   ]
  },
  {
   "cell_type": "markdown",
   "id": "07db0bd3",
   "metadata": {},
   "source": [
    "#### More information\n",
    "\n",
    "See the [Real Python article](https://realpython.com/working-with-files-in-python/) for info on how to:\n",
    "- Create directories and directory trees\n",
    "- Find patterns in filenames\n",
    "- Create temporary files and directories\n",
    "- Move, rename, copy, and delete files or directories\n",
    "- Read and extract data from different types of archives\n",
    "\n"
   ]
  },
  {
   "cell_type": "markdown",
   "id": "661aeb8b",
   "metadata": {},
   "source": [
    "### Exercises"
   ]
  },
  {
   "cell_type": "code",
   "execution_count": null,
   "id": "9d715849",
   "metadata": {},
   "outputs": [],
   "source": []
  },
  {
   "cell_type": "code",
   "execution_count": null,
   "id": "eddb5e7f",
   "metadata": {},
   "outputs": [],
   "source": []
  },
  {
   "cell_type": "code",
   "execution_count": null,
   "id": "ee953006",
   "metadata": {},
   "outputs": [],
   "source": []
  }
 ],
 "metadata": {
  "kernelspec": {
   "display_name": "Python 3 (ipykernel)",
   "language": "python",
   "name": "python3"
  },
  "language_info": {
   "codemirror_mode": {
    "name": "ipython",
    "version": 3
   },
   "file_extension": ".py",
   "mimetype": "text/x-python",
   "name": "python",
   "nbconvert_exporter": "python",
   "pygments_lexer": "ipython3",
   "version": "3.7.15"
  }
 },
 "nbformat": 4,
 "nbformat_minor": 5
}
