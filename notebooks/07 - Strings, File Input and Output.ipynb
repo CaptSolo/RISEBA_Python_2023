{
 "cells": [
  {
   "cell_type": "markdown",
   "id": "32ea7348",
   "metadata": {},
   "source": [
    "# File Input / Output\n",
    "\n",
    "- https://docs.python.org/3/tutorial/inputoutput.html#reading-and-writing-files\n",
    "- https://automatetheboringstuff.com/2e/chapter9/"
   ]
  },
  {
   "cell_type": "markdown",
   "id": "416a4f0b",
   "metadata": {},
   "source": [
    "We can use Jupyter `%%writefile` to create an example file to work with\n",
    "- first, check what is the current directory (where the file will be created)"
   ]
  },
  {
   "cell_type": "code",
   "execution_count": null,
   "id": "4c43e6c0",
   "metadata": {},
   "outputs": [],
   "source": [
    "pwd"
   ]
  },
  {
   "cell_type": "code",
   "execution_count": null,
   "id": "25e5910c",
   "metadata": {},
   "outputs": [],
   "source": [
    "%%writefile somefile.txt\n",
    "This is an example file\n",
    "that we can experiment\n",
    "with."
   ]
  },
  {
   "cell_type": "code",
   "execution_count": null,
   "id": "43466d4a",
   "metadata": {},
   "outputs": [],
   "source": [
    "## Linux and Mac\n",
    "#!ls\n",
    "\n",
    "## Windows\n",
    "#!dir"
   ]
  },
  {
   "cell_type": "markdown",
   "id": "550981d7",
   "metadata": {},
   "source": [
    "### Reading a file"
   ]
  },
  {
   "cell_type": "code",
   "execution_count": null,
   "id": "1df32653",
   "metadata": {},
   "outputs": [],
   "source": [
    "fname = \"somefile.txt\""
   ]
  },
  {
   "cell_type": "code",
   "execution_count": null,
   "id": "8eae44f2",
   "metadata": {},
   "outputs": [],
   "source": [
    "file = open(fname, encoding=\"utf-8\")"
   ]
  },
  {
   "cell_type": "code",
   "execution_count": null,
   "id": "5f3dc3b2",
   "metadata": {},
   "outputs": [],
   "source": [
    "help(file)"
   ]
  },
  {
   "cell_type": "code",
   "execution_count": null,
   "id": "49d67702",
   "metadata": {},
   "outputs": [],
   "source": [
    "data = file.read()\n",
    "\n",
    "print(data)"
   ]
  },
  {
   "cell_type": "code",
   "execution_count": null,
   "id": "071a758b",
   "metadata": {},
   "outputs": [],
   "source": [
    "# iterating through a file\n",
    "\n",
    "for line in file:\n",
    "    print(\"Line:\", line)\n",
    "    \n",
    "# does not work because `read()` already read the whole file\n",
    "# we will need to open the file again"
   ]
  },
  {
   "cell_type": "code",
   "execution_count": null,
   "id": "18cc4463",
   "metadata": {},
   "outputs": [],
   "source": [
    "# it is good practice to close a file when you're done with it\n",
    "file.close()"
   ]
  },
  {
   "cell_type": "markdown",
   "id": "58d50a97",
   "metadata": {},
   "source": [
    "---"
   ]
  },
  {
   "cell_type": "code",
   "execution_count": null,
   "id": "56b8e3d2",
   "metadata": {},
   "outputs": [],
   "source": [
    "file = open(fname, encoding=\"utf-8\")\n",
    "\n",
    "for line in file:\n",
    "    line = line.strip()   # removing new line character from the line end\n",
    "    print(\"Line:\", line)"
   ]
  },
  {
   "cell_type": "code",
   "execution_count": null,
   "id": "8896f3a2",
   "metadata": {},
   "outputs": [],
   "source": [
    "file.close()"
   ]
  },
  {
   "cell_type": "markdown",
   "id": "aa2648e9",
   "metadata": {},
   "source": [
    "### Automatically closing a file using `with`"
   ]
  },
  {
   "cell_type": "code",
   "execution_count": null,
   "id": "131a31b0",
   "metadata": {},
   "outputs": [],
   "source": [
    "with open(fname) as file:\n",
    "    data = file.read()\n",
    "\n",
    "# file is closed when the `with` block ends\n",
    "\n",
    "print(data)"
   ]
  },
  {
   "cell_type": "code",
   "execution_count": null,
   "id": "22e834d4",
   "metadata": {},
   "outputs": [],
   "source": [
    "# iterating through a file line by line\n",
    "\n",
    "with open(fname) as file:\n",
    "    \n",
    "    for line in file:\n",
    "        line = line.strip()\n",
    "        print(\">\", line)\n",
    "        "
   ]
  },
  {
   "cell_type": "markdown",
   "id": "62b72ef7",
   "metadata": {},
   "source": [
    "### Writing a file\n",
    "\n",
    "Note: it is **important** to **close a file** after writing is finished. The `with` command does it automatically."
   ]
  },
  {
   "cell_type": "code",
   "execution_count": null,
   "id": "0790474f",
   "metadata": {},
   "outputs": [],
   "source": [
    "fname_out = \"test123.txt\"\n",
    "\n",
    "text = \"\"\"\n",
    "This is an example text string.\n",
    "\n",
    "f.write(string) writes the contents of string to the file, returning the number of characters written.\n",
    "\"\"\"\n",
    "\n",
    "with open(fname_out, \"w\", encoding=\"utf-8\") as file_out:\n",
    "    \n",
    "    file_out.write(text)\n",
    "    \n",
    "    file_out.write(str(123) + \"\\n\")\n",
    "    file_out.write(str(456) + \"\\n\")    "
   ]
  },
  {
   "cell_type": "code",
   "execution_count": null,
   "id": "152d4f2b",
   "metadata": {},
   "outputs": [],
   "source": []
  },
  {
   "cell_type": "code",
   "execution_count": null,
   "id": "008acffd",
   "metadata": {},
   "outputs": [],
   "source": [
    "# Read a file to see what was written to it\n",
    "\n",
    "def read_file(fname):\n",
    "\n",
    "    with open(fname) as file:\n",
    "        data = file.read()\n",
    "        print(data)\n",
    "        \n",
    "read_file(fname_out)"
   ]
  },
  {
   "cell_type": "code",
   "execution_count": null,
   "id": "0278bc2c",
   "metadata": {},
   "outputs": [],
   "source": [
    "# You can also use print() to write to a file\n",
    "\n",
    "with open(fname_out, \"w\", encoding=\"utf-8\") as file_out:\n",
    "\n",
    "    print(text, file=file_out)\n",
    "    print(str(123), file=file_out)\n",
    "    print(str(789), file=file_out)"
   ]
  },
  {
   "cell_type": "code",
   "execution_count": null,
   "id": "b1fb53cf",
   "metadata": {},
   "outputs": [],
   "source": [
    "read_file(fname_out)"
   ]
  },
  {
   "cell_type": "markdown",
   "id": "a62722e9",
   "metadata": {},
   "source": [
    "### CSV files\n",
    "\n",
    "- https://docs.python.org/3/library/csv.html\n",
    "- https://realpython.com/python-csv/\n",
    "\n",
    "Comma-Separated Values\n",
    "- rows of values (table cells) separated using a \",\" character (or using another separator)\n",
    "- ar komatu (vai citu atdalītāju) atdalītas vērtības\n"
   ]
  },
  {
   "cell_type": "code",
   "execution_count": null,
   "id": "824b28c1",
   "metadata": {},
   "outputs": [],
   "source": [
    "# https://data.gov.lv/dati/lv/dataset/stacionaru-operativie-dati-par-covid19\n",
    "\n",
    "# data/covidpatients.csv on Linux and Mac\n",
    "# data\\covidpatients.csv on Windows\n",
    "\n",
    "fname_csv = \"data/covidpatients.csv\""
   ]
  },
  {
   "cell_type": "code",
   "execution_count": null,
   "id": "4232b2bd",
   "metadata": {},
   "outputs": [],
   "source": [
    "from itertools import islice"
   ]
  },
  {
   "cell_type": "code",
   "execution_count": null,
   "id": "78b8477d",
   "metadata": {
    "scrolled": true
   },
   "outputs": [],
   "source": [
    "with open(fname_csv, encoding=\"utf-8\") as file_csv:\n",
    "    \n",
    "    first_10_rows = islice(file_csv, 10)\n",
    "    \n",
    "    for line in first_10_rows:\n",
    "        print(line)"
   ]
  },
  {
   "cell_type": "code",
   "execution_count": null,
   "id": "2b05f444",
   "metadata": {},
   "outputs": [],
   "source": [
    "# A-ha! This time \";\" is the separator character"
   ]
  },
  {
   "cell_type": "code",
   "execution_count": null,
   "id": "59f40212",
   "metadata": {},
   "outputs": [],
   "source": [
    "# Let's read it as a CSV file\n",
    "\n",
    "import csv\n",
    "\n",
    "with open(fname_csv, encoding=\"utf-8\") as file_csv:\n",
    "    \n",
    "    rdr = csv.reader(file_csv)\n",
    "    \n",
    "    rdr_10_rows = islice(rdr, 10)\n",
    "    \n",
    "    for row in rdr_10_rows:\n",
    "        print(row)\n",
    "        "
   ]
  },
  {
   "cell_type": "code",
   "execution_count": null,
   "id": "f0046e16",
   "metadata": {
    "scrolled": true
   },
   "outputs": [],
   "source": [
    "# Separator is \";\"\n",
    "\n",
    "data = []\n",
    "\n",
    "with open(fname_csv, encoding=\"utf-8\") as file_csv:\n",
    "    \n",
    "    rdr = csv.reader(file_csv, delimiter=\";\")\n",
    "    \n",
    "    rdr_10_rows = islice(rdr, 10)\n",
    "    \n",
    "    for row in rdr_10_rows:\n",
    "        print(row)\n",
    "        data.append(row)\n",
    "    "
   ]
  },
  {
   "cell_type": "code",
   "execution_count": null,
   "id": "a3eb9fc9",
   "metadata": {},
   "outputs": [],
   "source": [
    "data[0][2]"
   ]
  },
  {
   "cell_type": "code",
   "execution_count": null,
   "id": "8314feea",
   "metadata": {},
   "outputs": [],
   "source": [
    "data[1][2]"
   ]
  },
  {
   "cell_type": "code",
   "execution_count": null,
   "id": "fa233f53",
   "metadata": {},
   "outputs": [],
   "source": [
    "from pprint import pprint\n",
    "\n",
    "pprint(data)"
   ]
  },
  {
   "cell_type": "code",
   "execution_count": null,
   "id": "66f667ec",
   "metadata": {},
   "outputs": [],
   "source": [
    "# Writing a CSV file\n",
    "\n",
    "fname_out = \"test_data.csv\"\n",
    "\n",
    "with open(fname_out, \"w\") as file_out:\n",
    "    \n",
    "    writer = csv.writer(file_out)\n",
    "    \n",
    "    for row in data:\n",
    "        writer.writerow(row)\n",
    "        "
   ]
  },
  {
   "cell_type": "code",
   "execution_count": null,
   "id": "c872b26c",
   "metadata": {},
   "outputs": [],
   "source": [
    "# CSV library uses \",\" as a separator (by default)\n",
    "read_file(fname_out)"
   ]
  },
  {
   "cell_type": "markdown",
   "id": "7312f5d8",
   "metadata": {},
   "source": [
    "### Reading files using Pandas\n",
    "\n",
    "- https://realpython.com/python-csv/#parsing-csv-files-with-the-pandas-library\n",
    "\n",
    "- https://pandas.pydata.org/docs/reference/api/pandas.read_csv.html\n",
    "- https://pandas.pydata.org/docs/reference/api/pandas.DataFrame.to_csv.html#pandas.DataFrame.to_csv"
   ]
  },
  {
   "cell_type": "code",
   "execution_count": null,
   "id": "d7a66a70",
   "metadata": {},
   "outputs": [],
   "source": [
    "import pandas as pd"
   ]
  },
  {
   "cell_type": "code",
   "execution_count": null,
   "id": "a281ac25",
   "metadata": {},
   "outputs": [],
   "source": [
    "print(fname_csv)"
   ]
  },
  {
   "cell_type": "code",
   "execution_count": null,
   "id": "274ec9f8",
   "metadata": {},
   "outputs": [],
   "source": [
    "dataframe = pd.read_csv(fname_csv, delimiter=\";\")\n",
    "\n",
    "dataframe[:10]"
   ]
  },
  {
   "cell_type": "code",
   "execution_count": null,
   "id": "ed7c9cf6",
   "metadata": {},
   "outputs": [],
   "source": [
    "dataframe.info()"
   ]
  },
  {
   "cell_type": "code",
   "execution_count": null,
   "id": "73371b09",
   "metadata": {},
   "outputs": [],
   "source": [
    "dataframe.head()"
   ]
  },
  {
   "cell_type": "code",
   "execution_count": null,
   "id": "2a166103",
   "metadata": {},
   "outputs": [],
   "source": [
    "dataframe[2:4]"
   ]
  },
  {
   "cell_type": "code",
   "execution_count": null,
   "id": "a9adbfe4",
   "metadata": {},
   "outputs": [],
   "source": [
    "df2 = dataframe[[\"ĀI nosaukums\", \"Kopā\"]]\n",
    "\n",
    "df2[:10]"
   ]
  },
  {
   "cell_type": "code",
   "execution_count": null,
   "id": "78af64e9",
   "metadata": {},
   "outputs": [],
   "source": [
    "dataframe[\"Kopā\"].sum()"
   ]
  },
  {
   "cell_type": "code",
   "execution_count": null,
   "id": "c81540cf",
   "metadata": {},
   "outputs": [],
   "source": [
    "# Writing to a CSV file\n",
    "\n",
    "fname_out_pandas = \"test_pandas.csv\"\n",
    "df2.to_csv(fname_out_pandas)"
   ]
  },
  {
   "cell_type": "code",
   "execution_count": null,
   "id": "55b3e27c",
   "metadata": {},
   "outputs": [],
   "source": [
    "# Print contents of the CSV file\n",
    "\n",
    "with open(fname_out_pandas, encoding=\"utf-8\") as in_file:\n",
    "    \n",
    "    data = islice(in_file, 10)\n",
    "    \n",
    "    for line in data:\n",
    "        print(line, end=\"\")"
   ]
  },
  {
   "cell_type": "code",
   "execution_count": null,
   "id": "a1b3b9da",
   "metadata": {},
   "outputs": [],
   "source": []
  },
  {
   "cell_type": "markdown",
   "id": "22c68d9e",
   "metadata": {},
   "source": [
    "### Path operations\n",
    "\n",
    "- https://realpython.com/python-pathlib/\n",
    "- https://automatetheboringstuff.com/2e/chapter9/"
   ]
  },
  {
   "cell_type": "code",
   "execution_count": null,
   "id": "006e2a4a",
   "metadata": {},
   "outputs": [],
   "source": []
  },
  {
   "cell_type": "markdown",
   "id": "eb2efde8",
   "metadata": {},
   "source": [
    "# Exceptions, Error Hadling\n",
    "\n",
    "- https://docs.python.org/3/tutorial/errors.html\n",
    "- https://realpython.com/python-exceptions/"
   ]
  },
  {
   "cell_type": "code",
   "execution_count": null,
   "id": "72c45856",
   "metadata": {},
   "outputs": [],
   "source": [
    "# Syntax errors (found before a program is run)\n",
    "\n",
    "print(\"Missing end bracket\""
   ]
  },
  {
   "cell_type": "code",
   "execution_count": null,
   "id": "84134ba2",
   "metadata": {},
   "outputs": [],
   "source": [
    "text = \" Uldis \""
   ]
  },
  {
   "cell_type": "code",
   "execution_count": null,
   "id": "7c8dc717",
   "metadata": {},
   "outputs": [],
   "source": [
    "# Exceptions (raised when program is run)\n",
    "\n",
    "print(int(text))"
   ]
  },
  {
   "cell_type": "code",
   "execution_count": null,
   "id": "14c72913",
   "metadata": {},
   "outputs": [],
   "source": [
    "print(int(\"123\"))"
   ]
  },
  {
   "cell_type": "code",
   "execution_count": null,
   "id": "338cc135",
   "metadata": {},
   "outputs": [],
   "source": [
    "int(\"123.45\")"
   ]
  },
  {
   "cell_type": "code",
   "execution_count": null,
   "id": "d45e2d99",
   "metadata": {},
   "outputs": [],
   "source": [
    "# Division by 0 error\n",
    "\n",
    "print(100/0)"
   ]
  },
  {
   "cell_type": "code",
   "execution_count": null,
   "id": "35bf8d5d",
   "metadata": {},
   "outputs": [],
   "source": [
    "# We can catch exceptions and do something with them\n",
    "\n",
    "try:\n",
    "    result = 100/0\n",
    "    print(result)\n",
    "    \n",
    "except ZeroDivisionError as error:\n",
    "    print(\"Can not divide by 0\")\n",
    "    \n",
    "print(\"Continue executing the program\")"
   ]
  },
  {
   "cell_type": "code",
   "execution_count": null,
   "id": "8b815aca",
   "metadata": {},
   "outputs": [],
   "source": [
    "# \"else\" block is executed if there was no exception\n",
    "\n",
    "try:\n",
    "    result = 100/2\n",
    "    \n",
    "except ZeroDivisionError as error:\n",
    "    print(\"Can not divide by 0\")\n",
    "    \n",
    "else:\n",
    "    print(\"In 'else' block.\")\n",
    "    print(\"Result is\", result)\n",
    "    "
   ]
  },
  {
   "cell_type": "code",
   "execution_count": null,
   "id": "7fd4dcac",
   "metadata": {},
   "outputs": [],
   "source": [
    "a = input(\"Enter an integer value: \")\n",
    "\n",
    "try:\n",
    "    b = int(a)\n",
    "    \n",
    "except ValueError:\n",
    "    print(\"Text must be an integer value\")\n"
   ]
  },
  {
   "cell_type": "code",
   "execution_count": null,
   "id": "b34a3d5e",
   "metadata": {},
   "outputs": [],
   "source": [
    "b"
   ]
  },
  {
   "cell_type": "markdown",
   "id": "6d50cada",
   "metadata": {},
   "source": [
    "### Raising exceptions"
   ]
  },
  {
   "cell_type": "code",
   "execution_count": null,
   "id": "26456221",
   "metadata": {},
   "outputs": [],
   "source": [
    "# Your code may raise exceptions\n",
    "\n",
    "i = -5\n",
    "\n",
    "if i < 1:\n",
    "    raise Exception(\"Must be a positive number\")"
   ]
  },
  {
   "cell_type": "code",
   "execution_count": null,
   "id": "74d1f9a2",
   "metadata": {},
   "outputs": [],
   "source": [
    "def test_pos_num(arg):\n",
    "    \n",
    "    if arg < 1:\n",
    "        raise Exception(\"Must be a positive number\")"
   ]
  },
  {
   "cell_type": "code",
   "execution_count": null,
   "id": "b4c4a63e",
   "metadata": {},
   "outputs": [],
   "source": [
    "test_pos_num(-1)"
   ]
  },
  {
   "cell_type": "code",
   "execution_count": null,
   "id": "cd1061c0",
   "metadata": {},
   "outputs": [],
   "source": [
    "# Let's catch this exception\n",
    "\n",
    "try:\n",
    "    test_pos_num(i)\n",
    "    \n",
    "except Exception as error:\n",
    "    print(error)\n",
    "    \n",
    "print(\"Program continues running.\")"
   ]
  },
  {
   "cell_type": "code",
   "execution_count": null,
   "id": "317f567c",
   "metadata": {},
   "outputs": [],
   "source": []
  },
  {
   "cell_type": "markdown",
   "id": "508f7d75",
   "metadata": {},
   "source": [
    "### Exercise\n",
    "\n",
    "Write a program that asks a user to input an integer value.\n",
    "- if the value is an integer, print this value\n",
    "- if it is not an integer, print an error message and ask the user to input an integer number again (until they input a valid integer value)"
   ]
  },
  {
   "cell_type": "code",
   "execution_count": null,
   "id": "7633a184",
   "metadata": {},
   "outputs": [],
   "source": []
  },
  {
   "cell_type": "code",
   "execution_count": null,
   "id": "7a02031d",
   "metadata": {},
   "outputs": [],
   "source": []
  },
  {
   "cell_type": "code",
   "execution_count": null,
   "id": "8d9259b7",
   "metadata": {},
   "outputs": [],
   "source": []
  }
 ],
 "metadata": {
  "kernelspec": {
   "display_name": "Python 3 (ipykernel)",
   "language": "python",
   "name": "python3"
  },
  "language_info": {
   "codemirror_mode": {
    "name": "ipython",
    "version": 3
   },
   "file_extension": ".py",
   "mimetype": "text/x-python",
   "name": "python",
   "nbconvert_exporter": "python",
   "pygments_lexer": "ipython3",
   "version": "3.9.16"
  }
 },
 "nbformat": 4,
 "nbformat_minor": 5
}
