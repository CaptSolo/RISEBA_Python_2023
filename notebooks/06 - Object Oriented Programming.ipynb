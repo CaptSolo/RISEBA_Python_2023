{
 "cells": [
  {
   "cell_type": "markdown",
   "metadata": {},
   "source": [
    "## Programming Paradigms\n",
    "\n",
    "* Imperative\n",
    "  * Software that uses statements that change a program's state\n",
    "  * Substyles:\n",
    "    * Procedural\n",
    "    * Object-Oriented\n",
    "\n",
    "* Declarative\n",
    "  * We declare desired results without explicitly listing the steps that must be performed to get the result\n",
    "\n",
    "## Object-oriented programming\n",
    "\n",
    "* Based on the concept of \"objects\" that combine together data and actions related to this data\n",
    "* \"Classes\" as blueprints for objects\n",
    "\n",
    "https://realpython.com/python3-object-oriented-programming/\n",
    "\n",
    "---\n",
    "\n",
    "#### Data Hiding (Abstraction) - Private and Public\n",
    "#### Inheritance (Classes can inherit other Classes)\n"
   ]
  },
  {
   "cell_type": "code",
   "execution_count": null,
   "metadata": {},
   "outputs": [],
   "source": [
    "# a simple class (which does nothing)\n",
    "\n",
    "class Dog:\n",
    "    \"\"\"\n",
    "    This class does nothing.\n",
    "    \"\"\"\n",
    "    pass"
   ]
  },
  {
   "cell_type": "code",
   "execution_count": null,
   "metadata": {},
   "outputs": [],
   "source": [
    "help(Dog)"
   ]
  },
  {
   "cell_type": "code",
   "execution_count": null,
   "metadata": {},
   "outputs": [],
   "source": [
    "# let's create objects (class instances)\n",
    "\n",
    "dog1 = Dog()\n",
    "\n",
    "print(dog1)"
   ]
  },
  {
   "cell_type": "code",
   "execution_count": null,
   "metadata": {},
   "outputs": [],
   "source": [
    "type(dog1)"
   ]
  },
  {
   "cell_type": "code",
   "execution_count": null,
   "metadata": {},
   "outputs": [],
   "source": [
    "# let's create another object\n",
    "dog2 = Dog()\n",
    "\n",
    "dog2"
   ]
  },
  {
   "cell_type": "code",
   "execution_count": null,
   "metadata": {},
   "outputs": [],
   "source": [
    "# these are different objects that may have different properties\n",
    "dog1 == dog2"
   ]
  },
  {
   "cell_type": "code",
   "execution_count": null,
   "metadata": {},
   "outputs": [],
   "source": []
  },
  {
   "cell_type": "code",
   "execution_count": null,
   "metadata": {},
   "outputs": [],
   "source": [
    "# we can add some data (object properties)\n",
    "\n",
    "dog1.name = \"Tobby\"\n",
    "dog1.age = 3\n",
    "\n",
    "print(dog1.name)\n",
    "print(dog1.age)"
   ]
  },
  {
   "cell_type": "code",
   "execution_count": null,
   "metadata": {},
   "outputs": [],
   "source": [
    "# Typically we use __init__() method for assigning data \n",
    "# to an object (initializing the object)\n",
    "\n",
    "# Think of class definition as a template for what the object should \"look\" like\n",
    "class Dog:\n",
    "    def __init__(self, name, age):    # self points to the object itself\n",
    "        self.name = name\n",
    "        self.age = age\n",
    "        \n",
    "dog1 = Dog(\"Terry\", 4)"
   ]
  },
  {
   "cell_type": "markdown",
   "metadata": {},
   "source": [
    "Note that every class method (e.g., `__init__()`) has a first argument called `self`:\n",
    "* This argument points to the object on which this method has been called. \n",
    "* You do not have to explicitly provide this argument when calling a method, Python does it automatically.\n",
    "\n",
    "---"
   ]
  },
  {
   "cell_type": "code",
   "execution_count": null,
   "metadata": {},
   "outputs": [],
   "source": [
    "dog1.name"
   ]
  },
  {
   "cell_type": "code",
   "execution_count": null,
   "metadata": {},
   "outputs": [],
   "source": [
    "# let's add some actions (methods)\n",
    "\n",
    "class Dog:\n",
    "    def __init__(self, name, age):\n",
    "        self.name = name\n",
    "        self.age = age\n",
    "        \n",
    "    def say(self, text=\"Wow!\"):\n",
    "        print(self.name, \"says '\" + text + \"'\")"
   ]
  },
  {
   "cell_type": "code",
   "execution_count": null,
   "metadata": {},
   "outputs": [],
   "source": [
    "dog1 = Dog(\"Terry\", 4)\n",
    "\n",
    "dog1.say()"
   ]
  },
  {
   "cell_type": "code",
   "execution_count": null,
   "metadata": {},
   "outputs": [],
   "source": [
    "dog1.say(\"Woof!\")"
   ]
  },
  {
   "cell_type": "code",
   "execution_count": null,
   "metadata": {},
   "outputs": [],
   "source": [
    "dog1"
   ]
  },
  {
   "cell_type": "code",
   "execution_count": null,
   "metadata": {},
   "outputs": [],
   "source": [
    "print(dog1)"
   ]
  },
  {
   "cell_type": "markdown",
   "metadata": {},
   "source": [
    "---\n",
    "### Magic methods\n",
    "\n",
    "Can we make the `print` function print something more informative?\n",
    "- `__str__` and `__repr__` methods"
   ]
  },
  {
   "cell_type": "code",
   "execution_count": null,
   "metadata": {},
   "outputs": [],
   "source": [
    "class Dog:\n",
    "    \"\"\"\n",
    "    I am a dog.\n",
    "    \"\"\"\n",
    "    def __init__(self, name, age):\n",
    "        self.name = name\n",
    "        self.age = age\n",
    "        \n",
    "    def say(self, text=\"Wow!\"):\n",
    "        print(self.name, \"says '\" + text + \"'\")\n",
    "        \n",
    "    def __str__(self):\n",
    "        # define how to convert this object to a string\n",
    "        return f\"Dog: name={self.name}, age={self.age}\""
   ]
  },
  {
   "cell_type": "code",
   "execution_count": null,
   "metadata": {},
   "outputs": [],
   "source": [
    "dog1 = Dog(\"Terry\", 4)"
   ]
  },
  {
   "cell_type": "code",
   "execution_count": null,
   "metadata": {},
   "outputs": [],
   "source": [
    "help(dog1)"
   ]
  },
  {
   "cell_type": "code",
   "execution_count": null,
   "metadata": {},
   "outputs": [],
   "source": [
    "str(dog1)"
   ]
  },
  {
   "cell_type": "code",
   "execution_count": null,
   "metadata": {},
   "outputs": [],
   "source": [
    "print(dog1)"
   ]
  },
  {
   "cell_type": "code",
   "execution_count": null,
   "metadata": {},
   "outputs": [],
   "source": [
    "dog1"
   ]
  },
  {
   "cell_type": "code",
   "execution_count": null,
   "metadata": {},
   "outputs": [],
   "source": [
    "dog1.__dict__"
   ]
  },
  {
   "cell_type": "code",
   "execution_count": null,
   "metadata": {},
   "outputs": [],
   "source": [
    "# everything in Python is an object\n",
    "\"123\".replace(\"23\", \"45\")"
   ]
  },
  {
   "cell_type": "code",
   "execution_count": null,
   "metadata": {},
   "outputs": [],
   "source": [
    "dir(dog1)"
   ]
  },
  {
   "cell_type": "code",
   "execution_count": null,
   "metadata": {},
   "outputs": [],
   "source": [
    "from collections import Counter\n",
    "\n",
    "c = Counter(\"some text here\".split())\n",
    "\n",
    "c"
   ]
  },
  {
   "cell_type": "markdown",
   "metadata": {},
   "source": [
    "---\n",
    "### Class and Instance Variables\n",
    "\n",
    "- instance variables are for data unique to each instance\n",
    "- class variables are for attributes and methods shared by all instances of the class"
   ]
  },
  {
   "cell_type": "code",
   "execution_count": null,
   "metadata": {},
   "outputs": [],
   "source": [
    "class MyClass:\n",
    "    \"\"\"\n",
    "    A simple example class\n",
    "    \"\"\"\n",
    "    \n",
    "    i = 12345\n",
    "\n",
    "    def __init__(self, data=6789):\n",
    "        self.i = data\n",
    "        \n",
    "    def prettyprint(self):\n",
    "        print(f\"Pretty printing my instance variable {self.i}\")\n",
    "        \n",
    "    def printi(self):\n",
    "        print(f\"Pretty printing my class variable {MyClass.i}\")"
   ]
  },
  {
   "cell_type": "code",
   "execution_count": null,
   "metadata": {},
   "outputs": [],
   "source": [
    "# instance of MyClass\n",
    "m1 = MyClass()\n",
    "\n",
    "m1.i"
   ]
  },
  {
   "cell_type": "code",
   "execution_count": null,
   "metadata": {},
   "outputs": [],
   "source": [
    "m1.printi()        # print class variable\n",
    "m1.prettyprint()   # print instance variable"
   ]
  },
  {
   "cell_type": "code",
   "execution_count": null,
   "metadata": {},
   "outputs": [],
   "source": [
    "# another instance / object\n",
    "m2 = MyClass(1000000)\n",
    "\n",
    "m2.i"
   ]
  },
  {
   "cell_type": "code",
   "execution_count": null,
   "metadata": {},
   "outputs": [],
   "source": [
    "# we can access the class variable, too\n",
    "m2.__class__.i"
   ]
  },
  {
   "cell_type": "code",
   "execution_count": null,
   "metadata": {},
   "outputs": [],
   "source": [
    "m2.printi()        # print class variable\n",
    "m2.prettyprint()   # print instance variable"
   ]
  },
  {
   "cell_type": "code",
   "execution_count": null,
   "metadata": {},
   "outputs": [],
   "source": [
    "m2.__class__.__dict__"
   ]
  },
  {
   "cell_type": "code",
   "execution_count": null,
   "metadata": {},
   "outputs": [],
   "source": [
    "help(m2)"
   ]
  },
  {
   "cell_type": "code",
   "execution_count": null,
   "metadata": {},
   "outputs": [],
   "source": [
    "# let's teach dogs some tricks\n",
    "#  - don't use class variables for that\n",
    "\n",
    "class Dog:\n",
    "    \"\"\"\n",
    "    I am a dog.\n",
    "    \"\"\"\n",
    "    def __init__(self, name, age):\n",
    "        self.name = name\n",
    "        self.age = age\n",
    "        self.tricks = []      # a variable for keeping a list of tricks\n",
    "        \n",
    "    def say(self, text=\"Wow!\"):\n",
    "        print(self.name, \"says '\" + text + \"'\")\n",
    "        \n",
    "    def __str__(self):\n",
    "        # define how to convert this object to a string\n",
    "        return f\"Dog: {self.__dict__}\"\n",
    "    \n",
    "    def add_trick(self, trick):\n",
    "        self.tricks.append(trick)"
   ]
  },
  {
   "cell_type": "code",
   "execution_count": null,
   "metadata": {},
   "outputs": [],
   "source": [
    "help(Dog)"
   ]
  },
  {
   "cell_type": "code",
   "execution_count": null,
   "metadata": {},
   "outputs": [],
   "source": [
    "d1 = Dog(\"Rexx\", 2)\n",
    "\n",
    "print(d1)"
   ]
  },
  {
   "cell_type": "code",
   "execution_count": null,
   "metadata": {},
   "outputs": [],
   "source": [
    "d1.add_trick(\"roll over\")\n",
    "d1.add_trick(\"sit\")"
   ]
  },
  {
   "cell_type": "code",
   "execution_count": null,
   "metadata": {},
   "outputs": [],
   "source": [
    "print(d1)"
   ]
  },
  {
   "cell_type": "markdown",
   "metadata": {},
   "source": [
    "---\n",
    "\n",
    "### Continued..."
   ]
  },
  {
   "cell_type": "code",
   "execution_count": null,
   "metadata": {},
   "outputs": [],
   "source": [
    "class Email:\n",
    "    def __init__(self, email_to, email_from, subject):\n",
    "        self.email_to = email_to\n",
    "        self.email_from = email_from\n",
    "        self.subject = subject\n",
    "        \n",
    "    def __repr__(self):     # like __str__ but more \"basic\"\n",
    "        return f\"Email: {self.__dict__}\"\n",
    "    \n",
    "    # the Email object \"knows\" how to send itself\n",
    "    def send(self, message=None):\n",
    "        print(\"Imagine we are sending an e-mail here:\")\n",
    "        \n",
    "        print(f\"\"\"\n",
    "To: {self.email_to}\n",
    "From: {self.email_from}\n",
    "Subject: {self.subject}\n",
    "\"\"\")\n",
    "        if message is not None:\n",
    "            print(message)\n",
    "\n",
    "        else:\n",
    "            print(\"<Empty message>\")"
   ]
  },
  {
   "cell_type": "code",
   "execution_count": null,
   "metadata": {},
   "outputs": [],
   "source": [
    "em1 = Email(\"emily.jones@gmail.com\", \"john.doe@gmail.com\", \"Our services\")\n",
    "\n",
    "em1"
   ]
  },
  {
   "cell_type": "code",
   "execution_count": null,
   "metadata": {},
   "outputs": [],
   "source": [
    "em1.send()"
   ]
  },
  {
   "cell_type": "code",
   "execution_count": null,
   "metadata": {},
   "outputs": [],
   "source": [
    "em1.send(\"Hello!\\n\\nHere is the information you were asking about.\\n\")"
   ]
  },
  {
   "cell_type": "code",
   "execution_count": null,
   "metadata": {},
   "outputs": [],
   "source": []
  },
  {
   "cell_type": "markdown",
   "metadata": {},
   "source": [
    "### Data Hiding (Abstraction) - Private and Public\n",
    "\n",
    "#### From http://www.faqs.org/docs/diveintopython/fileinfo_private.html\n",
    "\n",
    "\n",
    "* If the name of a Python function, class method, or attribute starts with (but doesn’t end with) two underscores, it’s private; everything else is public.\n",
    "\n",
    "* In Python, all special methods (like `__setitem__`) and built-in attributes (like `__doc__`) follow a standard naming convention: they both start with and end with two underscores. Don’t name your own methods and attributes this way; it will only confuse you (and others) later.\n",
    "\n",
    "* Python has no concept of protected class methods (accessible only in their own class and descendant classes). Class methods are either private (accessible only in their own class) or public (accessible from anywhere).\n",
    "\n",
    "Strictly speaking, private methods are accessible outside their class, just not easily accessible. Nothing in Python is truly private; internally, the names of private methods and attributes are mangled and unmangled on the fly to make them seem inaccessible by their given names. You can access the `__parse` method of the MP3FileInfo class by the name `_MP3FileInfo__parse`. Acknowledge that this is interesting, **then promise to never, ever do it in real code**. \n",
    "\n",
    "Private methods are private for a reason, but like many other things in Python, their privateness is ultimately a matter of convention, not force."
   ]
  },
  {
   "cell_type": "markdown",
   "metadata": {},
   "source": [
    "### Inheritance"
   ]
  },
  {
   "cell_type": "code",
   "execution_count": null,
   "metadata": {},
   "outputs": [],
   "source": [
    "class Pet:\n",
    "\n",
    "    def __init__(self, name=\"Generic Animal\", species=\"Alien\"):\n",
    "        self.name = name\n",
    "        self.species = species\n",
    "\n",
    "    def getName(self):\n",
    "        return self.name\n",
    "\n",
    "    def getSpecies(self):\n",
    "        return self.species\n",
    "    \n",
    "    def setSpecies(self, newspecies):\n",
    "        self.species = newspecies\n",
    "\n",
    "    def __str__(self):\n",
    "        return f\"{self.name} is a {self.species}\"\n",
    "    "
   ]
  },
  {
   "cell_type": "code",
   "execution_count": null,
   "metadata": {},
   "outputs": [],
   "source": [
    "tom=Pet(\"Tom\", \"cat\")\n",
    "\n",
    "print(tom)"
   ]
  },
  {
   "cell_type": "code",
   "execution_count": null,
   "metadata": {},
   "outputs": [],
   "source": [
    "tom.setSpecies('tiger')\n",
    "print(tom)"
   ]
  },
  {
   "cell_type": "markdown",
   "metadata": {},
   "source": [
    "As mentioned before, we don’t actually have to pass in the self parameter because Python automatically figures it out. To make it a little bit clearer as to what is going on, we can look at two different ways of calling getName. The first way is the standard way of doing it: polly.getName(). The second, while not conventional, is equivalent: Pet.getName(polly)\n"
   ]
  },
  {
   "cell_type": "code",
   "execution_count": null,
   "metadata": {},
   "outputs": [],
   "source": [
    "jerry=Pet(\"Jerry\", \"mouse\")\n",
    "jerry.getSpecies()"
   ]
  },
  {
   "cell_type": "code",
   "execution_count": null,
   "metadata": {},
   "outputs": [],
   "source": [
    "Pet.getSpecies(jerry)"
   ]
  },
  {
   "cell_type": "code",
   "execution_count": null,
   "metadata": {},
   "outputs": [],
   "source": [
    "# press the Tab key to get a list of methods and attributes\n",
    "jerry."
   ]
  },
  {
   "cell_type": "markdown",
   "metadata": {},
   "source": [
    "### Let's inherit from `Pet`\n",
    "\n",
    "Class(es) to inherit from is listed inside `(brackets)`"
   ]
  },
  {
   "cell_type": "code",
   "execution_count": null,
   "metadata": {},
   "outputs": [],
   "source": [
    "class Cat(Pet):\n",
    "\n",
    "    def __init__(self, name, hates_dogs):\n",
    "        \n",
    "        # Here we call the __init__() method of the parent class (Pet)\n",
    "        Pet.__init__(self, name, \"Cat\")\n",
    "        \n",
    "        self.hates_dogs = hates_dogs\n",
    "\n",
    "    def hatesDogs(self):\n",
    "        return self.hates_dogs\n"
   ]
  },
  {
   "cell_type": "code",
   "execution_count": null,
   "metadata": {},
   "outputs": [],
   "source": [
    "tom = Cat(\"Tom\", True)\n",
    "\n",
    "print(tom) # uses __str__ from Pet!\n",
    "print(tom.hatesDogs())\n",
    "\n",
    "dir(tom)"
   ]
  },
  {
   "cell_type": "code",
   "execution_count": null,
   "metadata": {},
   "outputs": [],
   "source": [
    "class Cat(Pet):\n",
    "\n",
    "    def __init__(self, name, hates_dogs):\n",
    "        \n",
    "        # Here we call the __init__() method of the parent class (Pet)\n",
    "        Pet.__init__(self, name, \"Cat\")\n",
    "        \n",
    "        # Let's \"hide\" this attribute (with __)\n",
    "        self.__hates_dogs = hates_dogs\n",
    "\n",
    "    def hatesDogs(self):\n",
    "        return self.__hates_dogs\n"
   ]
  },
  {
   "cell_type": "code",
   "execution_count": null,
   "metadata": {},
   "outputs": [],
   "source": [
    "tom = Cat(\"Tom\", True)"
   ]
  },
  {
   "cell_type": "code",
   "execution_count": null,
   "metadata": {},
   "outputs": [],
   "source": [
    "tom.hatesDogs()"
   ]
  },
  {
   "cell_type": "markdown",
   "metadata": {},
   "source": [
    "### Checking if an object is Instance of particular class"
   ]
  },
  {
   "cell_type": "code",
   "execution_count": null,
   "metadata": {},
   "outputs": [],
   "source": [
    "isinstance(tom, Cat)"
   ]
  },
  {
   "cell_type": "code",
   "execution_count": null,
   "metadata": {},
   "outputs": [],
   "source": [
    "isinstance(tom, Pet)"
   ]
  },
  {
   "cell_type": "code",
   "execution_count": null,
   "metadata": {},
   "outputs": [],
   "source": [
    "isinstance(tom, Dog)"
   ]
  },
  {
   "cell_type": "markdown",
   "metadata": {},
   "source": [
    "### Another example"
   ]
  },
  {
   "cell_type": "code",
   "execution_count": null,
   "metadata": {},
   "outputs": [],
   "source": [
    "class Shape:\n",
    "\n",
    "    def __init__(self, x, y, description=\"No description\", author=\"Nobody\"):\n",
    "        self.x = x\n",
    "        self.y = y\n",
    "        self.description = description\n",
    "        self.author = author\n",
    "\n",
    "    def area(self):\n",
    "        return self.x * self.y\n",
    "\n",
    "    def perimeter(self):\n",
    "        return 2 * self.x + 2 * self.y\n",
    "\n",
    "    def describe(self, text):\n",
    "        self.description = text\n",
    "\n",
    "    def authorName(self, text):\n",
    "        self.author = text\n",
    "\n",
    "    def scaleSize(self, scale):\n",
    "        self.x = self.x * scale\n",
    "        self.y = self.y * scale"
   ]
  },
  {
   "cell_type": "code",
   "execution_count": null,
   "metadata": {},
   "outputs": [],
   "source": [
    "class Rectangle(Shape):\n",
    "    \n",
    "    def __init__(self, x, y, color=\"Red\"):\n",
    "        Shape.__init__(self, x, y, \"Rectangle\")\n",
    "        self.color=color\n",
    "    \n",
    "    def __str__(self):\n",
    "        return (f\"Shape color: {self.color}; type: {self.description}; made by {self.author}; x:{self.x} y:{self.y}\")"
   ]
  },
  {
   "cell_type": "code",
   "execution_count": null,
   "metadata": {},
   "outputs": [],
   "source": [
    "rect = Rectangle(5,6)\n",
    "\n",
    "print(rect)\n",
    "print(rect.area())\n",
    "print(rect.perimeter())"
   ]
  },
  {
   "cell_type": "code",
   "execution_count": null,
   "metadata": {},
   "outputs": [],
   "source": [
    "rectangle = rect\n",
    "\n",
    "#finding the area of your rectangle:\n",
    "print(rectangle.area())\n",
    "\n",
    "#finding the perimeter of your rectangle:\n",
    "print(rectangle.perimeter())\n",
    "\n",
    "#describing the rectangle\n",
    "rectangle.describe(\"A wide rectangle, more than twice\\\n",
    " as wide as it is tall\")\n",
    "\n",
    "#making the rectangle 50% smaller\n",
    "rectangle.scaleSize(0.5)\n",
    "\n",
    "#re-printing the new area of the rectangle\n",
    "print(rectangle.area())"
   ]
  },
  {
   "cell_type": "code",
   "execution_count": null,
   "metadata": {},
   "outputs": [],
   "source": [
    "str(rectangle)"
   ]
  },
  {
   "cell_type": "code",
   "execution_count": null,
   "metadata": {},
   "outputs": [],
   "source": []
  },
  {
   "cell_type": "code",
   "execution_count": null,
   "metadata": {},
   "outputs": [],
   "source": [
    "class Customer(object):\n",
    "    \"\"\"A customer of ABC Bank with a checking account. Customers have the\n",
    "    following properties:\n",
    "\n",
    "    Attributes:\n",
    "        name: A string representing the customer's name.\n",
    "        balance: A float tracking the current balance of the customer's account.\n",
    "    \"\"\"\n",
    "\n",
    "    def __init__(self, name, balance=0.0):\n",
    "        \"\"\"Return a Customer object whose name is *name* and starting\n",
    "        balance is *balance*.\"\"\"\n",
    "        self.name = name\n",
    "        self.balance = balance\n",
    "\n",
    "    def withdraw(self, amount):\n",
    "        \"\"\"Return the balance remaining after withdrawing *amount*\n",
    "        dollars.\"\"\"\n",
    "        if amount > self.balance:\n",
    "            raise RuntimeError('Amount greater than available balance.')\n",
    "        self.balance -= amount\n",
    "        return self.balance\n",
    "\n",
    "    def deposit(self, amount):\n",
    "        \"\"\"Return the balance remaining after depositing *amount*\n",
    "        dollars.\"\"\"\n",
    "        self.balance += amount\n",
    "        return self.balance"
   ]
  },
  {
   "cell_type": "code",
   "execution_count": null,
   "metadata": {},
   "outputs": [],
   "source": [
    "vs = Customer(\"Uldis\", balance=333)\n",
    "\n",
    "print(vs.balance)\n",
    "\n",
    "vs.withdraw(300)\n",
    "print(vs.balance)\n",
    "\n",
    "vs.withdraw(40)\n",
    "print(vs.balance)"
   ]
  },
  {
   "cell_type": "code",
   "execution_count": null,
   "metadata": {},
   "outputs": [],
   "source": []
  },
  {
   "cell_type": "code",
   "execution_count": null,
   "metadata": {},
   "outputs": [],
   "source": [
    "# objects can be used in other objects:\n",
    "\n",
    "class Location:\n",
    "    def __init__(self, location=\"Riga\"):\n",
    "        self.name = location\n",
    "        \n",
    "class Car:\n",
    "    def __init__(self, make=\"Audi\", model=\"A4\", year=2016, color=\"Silver\", location=None):\n",
    "        self.make = make\n",
    "        self.model = model\n",
    "        self.year = year\n",
    "        self.color = color\n",
    "        \n",
    "        if location is not None:\n",
    "            self.location = location\n",
    "        else:\n",
    "            self.location = Location(\"Riga\")\n",
    "        \n",
    "loc1 = Location(\"Barcelona\")\n",
    "my_car = Car(make=\"VW\", model=\"Golf\", year=2019, color=\"Black\", location=loc1)"
   ]
  },
  {
   "cell_type": "code",
   "execution_count": null,
   "metadata": {},
   "outputs": [],
   "source": [
    "my_car.location"
   ]
  },
  {
   "cell_type": "code",
   "execution_count": null,
   "metadata": {},
   "outputs": [],
   "source": [
    "my_car.location.name"
   ]
  },
  {
   "cell_type": "code",
   "execution_count": null,
   "metadata": {},
   "outputs": [],
   "source": []
  },
  {
   "cell_type": "markdown",
   "metadata": {},
   "source": [
    "### Simple \"data\" classes\n",
    "\n",
    "Sometimes it is useful to have a data type similar to the Pascal “record” or C “struct”, bundling together a few named data items. An empty class definition will do nicely:"
   ]
  },
  {
   "cell_type": "code",
   "execution_count": null,
   "metadata": {},
   "outputs": [],
   "source": [
    "class Employee:\n",
    "    \n",
    "    def __str__(self):\n",
    "        return f'{self.__dict__}'\n",
    "\n",
    "john = Employee()\n",
    "print(john)\n",
    "\n",
    "# Fill the fields of the record\n",
    "john.name = 'John Doe'\n",
    "john.dept = 'computer lab'\n",
    "john.salary = 1000\n",
    "print(john)"
   ]
  },
  {
   "cell_type": "markdown",
   "metadata": {},
   "source": [
    "... or you can define an `Employee` class with a proper `__init__` method\n",
    "and other related attributes and methods."
   ]
  },
  {
   "cell_type": "code",
   "execution_count": null,
   "metadata": {},
   "outputs": [],
   "source": [
    "class Employee:\n",
    "    \n",
    "    def __init__(self, name, dept, salary):\n",
    "        self.name = name\n",
    "        self.dept = dept\n",
    "        self.salary = salary\n",
    "        \n",
    "    def __str__(self):\n",
    "        return f'{self.__dict__}'"
   ]
  },
  {
   "cell_type": "code",
   "execution_count": null,
   "metadata": {},
   "outputs": [],
   "source": [
    "john2 = Employee('John Doe', 'computer lab', 1000)\n",
    "print(john2)"
   ]
  },
  {
   "cell_type": "markdown",
   "metadata": {},
   "source": [
    "Starting from Python 3.7 you can define that your class is a @dataclass. Python will add the specified attributes to the dataclass and will create `__init__` and other required methods itself.\n",
    "\n",
    "https://realpython.com/python-data-classes/\n"
   ]
  },
  {
   "cell_type": "code",
   "execution_count": null,
   "metadata": {},
   "outputs": [],
   "source": [
    "from dataclasses import dataclass"
   ]
  },
  {
   "cell_type": "code",
   "execution_count": null,
   "metadata": {},
   "outputs": [],
   "source": [
    "@dataclass\n",
    "class Employee:\n",
    "    name: str\n",
    "    dept: str\n",
    "    salary: float\n"
   ]
  },
  {
   "cell_type": "code",
   "execution_count": null,
   "metadata": {},
   "outputs": [],
   "source": [
    "john3 = Employee('John Doe', 'computer lab', 1000)\n",
    "print(john3)"
   ]
  },
  {
   "cell_type": "markdown",
   "metadata": {},
   "source": [
    "### Decimal arithmetic module\n",
    "\n",
    "Some nuances of how floating point numbers work may be non-intuitive and may seem wrong:\n",
    "- e.g. the result of `1.1 + 2.2` is `3.3000000000000003`\n",
    "- these nuances appear due to the way floating point numbers are represented in computer memory\n",
    "\n",
    "To avoid these nuances you can use the `decimal` library for fixed point arithmetics:\n",
    "- https://docs.python.org/3/library/decimal.html"
   ]
  },
  {
   "cell_type": "code",
   "execution_count": null,
   "metadata": {},
   "outputs": [],
   "source": [
    "1.1 + 2.2"
   ]
  },
  {
   "cell_type": "code",
   "execution_count": null,
   "metadata": {},
   "outputs": [],
   "source": [
    "import decimal as dec\n",
    "dec.getcontext()"
   ]
  },
  {
   "cell_type": "code",
   "execution_count": null,
   "metadata": {},
   "outputs": [],
   "source": [
    "pi = dec.Decimal(\"3.14159\")\n",
    "print(pi)"
   ]
  },
  {
   "cell_type": "code",
   "execution_count": null,
   "metadata": {},
   "outputs": [],
   "source": [
    "dec.Decimal(\"1.1\") + dec.Decimal(\"2.2\")"
   ]
  },
  {
   "cell_type": "code",
   "execution_count": null,
   "metadata": {},
   "outputs": [],
   "source": [
    "pi = dec.Decimal(\"3.14159\")\n",
    "num = dec.Decimal(\"1.1\")\n",
    "\n",
    "# the result gets rounded here (to the precision specified)\n",
    "pi + num"
   ]
  },
  {
   "cell_type": "code",
   "execution_count": null,
   "metadata": {},
   "outputs": [],
   "source": [
    "# You can specify the number of spaces after decimal point \n",
    "# (which is taken into account by arithmetic operations)\n",
    "dec.getcontext().prec = 2\n",
    "\n",
    "# the result gets rounded here (to the precision specified)\n",
    "pi + num"
   ]
  },
  {
   "cell_type": "markdown",
   "metadata": {},
   "source": [
    "### Bonus: adding Iterators to your classes\n",
    "\n",
    "https://docs.python.org/3/tutorial/classes.html#iterators\n",
    "\n",
    "You can loop through the objects of your classes using `Iterators`."
   ]
  },
  {
   "cell_type": "markdown",
   "metadata": {},
   "source": [
    "#### Iterator in action"
   ]
  },
  {
   "cell_type": "code",
   "execution_count": null,
   "metadata": {},
   "outputs": [],
   "source": [
    "s = ['alpha', 'beta']"
   ]
  },
  {
   "cell_type": "code",
   "execution_count": null,
   "metadata": {},
   "outputs": [],
   "source": [
    "it = iter(s)\n",
    "\n",
    "it"
   ]
  },
  {
   "cell_type": "code",
   "execution_count": null,
   "metadata": {},
   "outputs": [],
   "source": [
    "next(it)"
   ]
  },
  {
   "cell_type": "code",
   "execution_count": null,
   "metadata": {},
   "outputs": [],
   "source": [
    "next(it)"
   ]
  },
  {
   "cell_type": "code",
   "execution_count": null,
   "metadata": {},
   "outputs": [],
   "source": [
    "next(it)"
   ]
  },
  {
   "cell_type": "markdown",
   "metadata": {},
   "source": [
    "Iterators allow us to loop (iterate) through contents of an object:"
   ]
  },
  {
   "cell_type": "code",
   "execution_count": null,
   "metadata": {},
   "outputs": [],
   "source": [
    "for item in s:\n",
    "    print(item)"
   ]
  },
  {
   "cell_type": "markdown",
   "metadata": {},
   "source": [
    "Having seen the mechanics behind the `iterator` protocol, you can add iterator behavior to your classes. \n",
    "\n",
    "- Define an `__iter__()` method which returns an object that has a `__next__()` method. \n",
    "- If the class itself defines `__next__()`, then `__iter__()` can just return `self`:\n",
    "\n"
   ]
  },
  {
   "cell_type": "code",
   "execution_count": null,
   "metadata": {},
   "outputs": [],
   "source": [
    "class Dog:\n",
    "    \"\"\"\n",
    "    I am a dog.\n",
    "    \"\"\"\n",
    "    def __init__(self, name, age):\n",
    "        self.name = name\n",
    "        self.age = age\n",
    "        self.tricks = []      # a variable for keeping a list of tricks\n",
    "        self.index = 0        # current index in the list of tricks\n",
    "        \n",
    "    def say(self, text=\"Wow!\"):\n",
    "        print(self.name, \"says '\" + text + \"'\")\n",
    "        \n",
    "    def __str__(self):\n",
    "        # define how to convert this object to a string\n",
    "        return f\"Dog: {self.__dict__}\"\n",
    "    \n",
    "    def add_trick(self, trick):\n",
    "        self.tricks.append(trick)\n",
    "        \n",
    "    # methods for iterating through class objects\n",
    "    \n",
    "    def __iter__(self):\n",
    "        return self\n",
    "    \n",
    "    def __next__(self):\n",
    "        if self.index == len(self.tricks):\n",
    "            self.index = 0\n",
    "            raise StopIteration\n",
    "            \n",
    "        self.index += 1\n",
    "        return self.tricks[self.index-1]"
   ]
  },
  {
   "cell_type": "code",
   "execution_count": null,
   "metadata": {},
   "outputs": [],
   "source": [
    "d1 = Dog(\"Rexx\", 2)\n",
    "\n",
    "d1.add_trick(\"roll over\")\n",
    "d1.add_trick(\"sit\")"
   ]
  },
  {
   "cell_type": "code",
   "execution_count": null,
   "metadata": {},
   "outputs": [],
   "source": [
    "print(d1)"
   ]
  },
  {
   "cell_type": "code",
   "execution_count": null,
   "metadata": {},
   "outputs": [],
   "source": [
    "for trick in d1:\n",
    "    print(trick)"
   ]
  },
  {
   "cell_type": "code",
   "execution_count": null,
   "metadata": {},
   "outputs": [],
   "source": [
    "# note that in this case you can loop through the `Dog()` iterator only once\n",
    "# because `self.index` has reached the end of the list\n",
    "\n",
    "for trick in d1:\n",
    "    print(trick)"
   ]
  },
  {
   "cell_type": "code",
   "execution_count": null,
   "metadata": {},
   "outputs": [],
   "source": []
  },
  {
   "cell_type": "markdown",
   "metadata": {},
   "source": [
    "---\n",
    "### List comprehensions (introduction)\n",
    "\n",
    "https://docs.python.org/3/tutorial/datastructures.html#list-comprehensions"
   ]
  },
  {
   "cell_type": "code",
   "execution_count": null,
   "metadata": {},
   "outputs": [],
   "source": [
    "# a common pattern - constructing a list of things (matching some criteria)\n",
    "\n",
    "buf = []\n",
    "\n",
    "# let's find all \"non-magic\" attributes of Dog()\n",
    "\n",
    "for item in dir(d1):\n",
    "    if not item.startswith(\"__\"):\n",
    "        buf.append(item)\n",
    "        \n",
    "buf"
   ]
  },
  {
   "cell_type": "code",
   "execution_count": null,
   "metadata": {},
   "outputs": [],
   "source": [
    "# there's a shorter way – using list comprehension\n",
    "\n",
    "list2 = [item for item in dir(d1) if not item.startswith(\"__\")]\n",
    "\n",
    "list2"
   ]
  },
  {
   "cell_type": "code",
   "execution_count": null,
   "metadata": {},
   "outputs": [],
   "source": [
    "# we can write a list comprehension over multiple lines\n",
    "\n",
    "list2 = [\n",
    "    item \n",
    "    for item \n",
    "    in dir(d1) \n",
    "    if not item.startswith(\"__\")\n",
    "]\n",
    "\n",
    "list"
   ]
  },
  {
   "cell_type": "code",
   "execution_count": null,
   "metadata": {},
   "outputs": [],
   "source": [
    "numbers = [-1, -5, 29, 8.5, -11.5]"
   ]
  },
  {
   "cell_type": "code",
   "execution_count": null,
   "metadata": {},
   "outputs": [],
   "source": [
    "num_positive = [num for num in numbers if num > 0]"
   ]
  },
  {
   "cell_type": "code",
   "execution_count": null,
   "metadata": {},
   "outputs": [],
   "source": [
    "num_positive"
   ]
  },
  {
   "cell_type": "markdown",
   "metadata": {},
   "source": [
    "---\n",
    "### Exercises\n",
    "\n",
    "Define the class `Point` that represents a point in a 2D space:\n",
    "- a point can be created by calling `Point(x, y)`\n",
    "- define a `__str__` method to print the coordinates of this object, e.g., `Point(1, 2)`\n",
    "\n",
    "---\n",
    "\n",
    "- define a `distance_to_0()` method that calculates the distance of the point from the point at `(0, 0)`\n",
    "- define a `distance(other_point)` method that calculates the distance between this point and another point (`other_point`)\n",
    "\n",
    "---\n",
    "\n",
    "- define a special (`__`) method that allows us to \"subtract\" one point from another (calculating the distance between these points)"
   ]
  },
  {
   "cell_type": "code",
   "execution_count": null,
   "metadata": {},
   "outputs": [],
   "source": []
  },
  {
   "cell_type": "code",
   "execution_count": null,
   "metadata": {},
   "outputs": [],
   "source": []
  },
  {
   "cell_type": "code",
   "execution_count": null,
   "metadata": {},
   "outputs": [],
   "source": []
  }
 ],
 "metadata": {
  "kernelspec": {
   "display_name": "Python 3 (ipykernel)",
   "language": "python",
   "name": "python3"
  },
  "language_info": {
   "codemirror_mode": {
    "name": "ipython",
    "version": 3
   },
   "file_extension": ".py",
   "mimetype": "text/x-python",
   "name": "python",
   "nbconvert_exporter": "python",
   "pygments_lexer": "ipython3",
   "version": "3.9.16"
  }
 },
 "nbformat": 4,
 "nbformat_minor": 2
}
