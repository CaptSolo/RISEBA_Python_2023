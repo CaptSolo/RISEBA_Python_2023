{
 "cells": [
  {
   "cell_type": "markdown",
   "id": "48c03df3",
   "metadata": {},
   "source": [
    "---\n",
    "\n",
    "# Python Functions"
   ]
  },
  {
   "cell_type": "markdown",
   "id": "db92351c",
   "metadata": {},
   "source": [
    "* short intro:\n",
    "  * functions\n",
    "  * classes and objects\n",
    "  * methods\n",
    "\n",
    "## What is a function?\n",
    "\n",
    "* A function is a block of organized, reusable code\n",
    "  * used to perform a single, related action\n",
    "  \n",
    "---\n",
    "\n",
    "* Functions:\n",
    "  * [usually] have a name (by which they can be called)\n",
    "    * `func_name(arguments)`\n",
    "  * may have arguments (values passed into the function)\n",
    "  * may perform some operations / calculations / ...\n",
    "    * for example: print something\n",
    "  * may have a return value (that we can get back from the function)\n",
    "    * for example: a dictionary with word frequency\n",
    "\n",
    "---\n",
    "\n",
    "```\n",
    "def func_name(arguments):\n",
    "    # function's code\n",
    "    # do something here\n",
    "    \n",
    "    # returning a value (1 in this case)\n",
    "    return 1\n",
    "```\n",
    "\n",
    "---\n",
    "\n",
    "### DRY - Do not Repeat Yourself principle\n",
    "\n",
    "* *Every piece of knowledge must have a single, unambiguous, authoritative representation within a system.*\n",
    "http://wiki.c2.com/?DontRepeatYourself\n",
    "* Do not write something multiple times if it can be written just once.\n",
    "\n",
    "![Python function declaration](img/function.png)\n",
    "\n",
    "* Functions are like mini-programs = they can do something and you can call them again and again\n",
    "* Code in the function \"body\" starts with an indentation (similar how we used indentation in `if` statements)\n"
   ]
  },
  {
   "cell_type": "markdown",
   "id": "51ff5c32",
   "metadata": {},
   "source": [
    "---\n",
    "\n",
    "### Example\n",
    "\n",
    "* Defining a function (to print elements of a list) in order to avoid duplicate work\n",
    " "
   ]
  },
  {
   "cell_type": "code",
   "execution_count": null,
   "id": "fea613b3",
   "metadata": {},
   "outputs": [],
   "source": [
    "my_list = [\"apple\", \"pear\", \"carrot\", \"pineapple\"]"
   ]
  },
  {
   "cell_type": "code",
   "execution_count": null,
   "id": "3bf5a134",
   "metadata": {
    "scrolled": true
   },
   "outputs": [],
   "source": [
    "# print a line per element with its number and value: \"Element #1 = apple\", ...\n",
    "for num, value in enumerate(my_list):\n",
    "    print(f\"Element #{num} = {value}\")"
   ]
  },
  {
   "cell_type": "code",
   "execution_count": null,
   "id": "2695d9e1",
   "metadata": {},
   "outputs": [],
   "source": [
    "# defining a function to avoid duplicate work\n",
    "\n",
    "def my_function(input_list):\n",
    "    # a function that prints a given list\n",
    "    # (called \"input_list\" inside the function)\n",
    "    \n",
    "    for num, value in enumerate(input_list):\n",
    "        print(f\"Element #{num} = {value}\")\n",
    "    "
   ]
  },
  {
   "cell_type": "code",
   "execution_count": null,
   "id": "60e1d9b5",
   "metadata": {},
   "outputs": [],
   "source": [
    "# demo: using the defined function\n",
    "\n",
    "my_function(my_list)"
   ]
  },
  {
   "cell_type": "markdown",
   "id": "3124e1bb",
   "metadata": {},
   "source": [
    "---\n",
    "\n",
    "### Additional examples"
   ]
  },
  {
   "cell_type": "code",
   "execution_count": null,
   "id": "ac385f0b",
   "metadata": {},
   "outputs": [],
   "source": [
    "text = \"Some text here\"\n",
    "print(text)\n",
    "print(text)\n",
    "print(text)"
   ]
  },
  {
   "cell_type": "code",
   "execution_count": null,
   "id": "8d4649b1",
   "metadata": {},
   "outputs": [],
   "source": [
    "def print_3x(argument):\n",
    "    print(argument)\n",
    "    print(argument)\n",
    "    print(argument)\n",
    "    \n",
    "# This function prints its argument 3 times. It does not return any value."
   ]
  },
  {
   "cell_type": "code",
   "execution_count": null,
   "id": "ef93dc61",
   "metadata": {},
   "outputs": [],
   "source": [
    "# After a function is defined, we can use (call) it:\n",
    "\n",
    "print_3x(text)"
   ]
  },
  {
   "cell_type": "code",
   "execution_count": null,
   "id": "39e96b0a",
   "metadata": {},
   "outputs": [],
   "source": [
    "print_3x(text)\n",
    "print()   # print is also a function (just it is a built-in Python function) \n",
    "print_3x(text + \" #2\")"
   ]
  },
  {
   "cell_type": "code",
   "execution_count": null,
   "id": "0700d4c2",
   "metadata": {},
   "outputs": [],
   "source": [
    "# It is a good idea to write down what a function does. We will use \"\"\"docstrings\"\"\" for that.\n",
    "# Let's re-define our function (this time with a docstring):\n",
    "\n",
    "def print_3x(argument):\n",
    "    \"\"\"\n",
    "    Print the argument 3 times.\n",
    "    \n",
    "    It's good to have documentation.\n",
    "    \"\"\"\n",
    "    \n",
    "    print(argument)\n",
    "    print(argument)\n",
    "    print(argument)\n"
   ]
  },
  {
   "cell_type": "code",
   "execution_count": null,
   "id": "ad8bf5db",
   "metadata": {},
   "outputs": [],
   "source": [
    "help(print_3x)"
   ]
  },
  {
   "cell_type": "code",
   "execution_count": null,
   "id": "0a0b83c3",
   "metadata": {},
   "outputs": [],
   "source": [
    "# Functions may have many arguments\n",
    "#  - let's define a function that prints its 1st argument a given number of times:\n",
    "\n",
    "def print_n_times(argument1, n_times):\n",
    "    for i in range(n_times):\n",
    "        print(argument1)\n",
    "        "
   ]
  },
  {
   "cell_type": "code",
   "execution_count": null,
   "id": "421ad210",
   "metadata": {},
   "outputs": [],
   "source": [
    "print_n_times(text, 5)"
   ]
  },
  {
   "cell_type": "code",
   "execution_count": null,
   "id": "f17800ae",
   "metadata": {},
   "outputs": [],
   "source": [
    "print_n_times(\"Ping pong\", 2)"
   ]
  },
  {
   "cell_type": "code",
   "execution_count": null,
   "id": "a0bc8f02",
   "metadata": {},
   "outputs": [],
   "source": [
    "# We can use the \"return\" statement to return a value from a function.\n",
    "# The return statement stops (finishes) function execution.\n",
    "\n",
    "# This function does not have arguments and it does not do much \n",
    "# but it returns a value (= it has a return value)\n",
    "\n",
    "def get_the_answer():\n",
    "    \"\"\"\n",
    "    Return the Answer to the Ultimate Question of Life, the Universe, and Everything.    \n",
    "    \n",
    "    https://en.wikipedia.org/wiki/42_(number)#The_Hitchhiker's_Guide_to_the_Galaxy\n",
    "    \"\"\"\n",
    "\n",
    "    return 42"
   ]
  },
  {
   "cell_type": "code",
   "execution_count": null,
   "id": "14760079",
   "metadata": {},
   "outputs": [],
   "source": [
    "res = get_the_answer()\n",
    "\n",
    "print(res)"
   ]
  },
  {
   "cell_type": "markdown",
   "id": "2934f766",
   "metadata": {},
   "source": [
    "---\n",
    "\n",
    "## Practical Exercises\n",
    "\n",
    "* Define a function that converts its argument from degrees Fahrenheit to degrees Celsuis \n",
    "  * ... and returns the calculated value\n",
    "* Call this function 2-3 times with different argument values and print the result values\n"
   ]
  },
  {
   "cell_type": "code",
   "execution_count": null,
   "id": "adc70bae",
   "metadata": {},
   "outputs": [],
   "source": [
    "def fahr_to_celsius(argument):\n",
    "    \n",
    "    return # write your calculations here"
   ]
  },
  {
   "cell_type": "code",
   "execution_count": null,
   "id": "84ad5e31",
   "metadata": {},
   "outputs": [],
   "source": []
  },
  {
   "cell_type": "code",
   "execution_count": null,
   "id": "dcf96a6a",
   "metadata": {},
   "outputs": [],
   "source": []
  },
  {
   "cell_type": "code",
   "execution_count": null,
   "id": "4830190c",
   "metadata": {},
   "outputs": [],
   "source": []
  },
  {
   "cell_type": "markdown",
   "id": "76998804",
   "metadata": {},
   "source": [
    "---\n",
    "\n",
    "## Functions (continued)\n",
    "\n",
    "Functions can call other functions:"
   ]
  },
  {
   "cell_type": "code",
   "execution_count": null,
   "id": "50b45b12",
   "metadata": {},
   "outputs": [],
   "source": [
    "def eat():\n",
    "    print(\"  Cooking food.\")\n",
    "    print(\"  Eating food.\")"
   ]
  },
  {
   "cell_type": "code",
   "execution_count": null,
   "id": "efc94295",
   "metadata": {},
   "outputs": [],
   "source": [
    "eat()"
   ]
  },
  {
   "cell_type": "code",
   "execution_count": null,
   "id": "5146c5e5",
   "metadata": {},
   "outputs": [],
   "source": [
    "def eating_time():\n",
    "    print(\"Breakfast:\")\n",
    "    eat()\n",
    "    \n",
    "    print(\"\")\n",
    "    print(\"Lunch:\")\n",
    "    eat()\n",
    "    \n",
    "    print(\"\")\n",
    "    print(\"Dinner:\")\n",
    "    eat()"
   ]
  },
  {
   "cell_type": "code",
   "execution_count": null,
   "id": "1006b245",
   "metadata": {},
   "outputs": [],
   "source": [
    "eating_time()"
   ]
  },
  {
   "cell_type": "code",
   "execution_count": null,
   "id": "3f2f1a86",
   "metadata": {},
   "outputs": [],
   "source": [
    "# We can move printing to the function eat():\n",
    "\n",
    "def eat(meal_name):\n",
    "    \n",
    "    print(meal_name + \":\")\n",
    "    print(\"  Cooking food.\")\n",
    "    print(\"  Eating food.\")\n",
    "    \n",
    "def eating_time():\n",
    "    \n",
    "    eat(\"Breakfast\")\n",
    "    print()\n",
    "    \n",
    "    eat(\"Lunch\")\n",
    "    print()\n",
    "    \n",
    "    eat(\"Dinner:\")\n",
    "\n",
    "# call our function:\n",
    "\n",
    "eating_time()"
   ]
  },
  {
   "cell_type": "markdown",
   "id": "b76c9d44",
   "metadata": {},
   "source": [
    "Functions can even call themselves (that's called [recursion](https://en.wikipedia.org/wiki/Recursion_(computer_science))):\n",
    "* but be careful with it (or you may end up with an infinite loop)"
   ]
  },
  {
   "cell_type": "code",
   "execution_count": null,
   "id": "9f155b90",
   "metadata": {},
   "outputs": [],
   "source": [
    "def count_to_zero(number):\n",
    "\n",
    "    if number < 0:\n",
    "        print(\"Negative values are not allowed!\")\n",
    "        return\n",
    "\n",
    "    if number == 0:\n",
    "        print(\"That's it!\")\n",
    "        return    # we use return here to end function execution\n",
    "        \n",
    "    print(number)\n",
    "    \n",
    "    # recursive function call\n",
    "    count_to_zero(number-1)"
   ]
  },
  {
   "cell_type": "code",
   "execution_count": null,
   "id": "e697dcc6",
   "metadata": {
    "scrolled": true
   },
   "outputs": [],
   "source": [
    "count_to_zero(5)"
   ]
  },
  {
   "cell_type": "code",
   "execution_count": null,
   "id": "2cc90751",
   "metadata": {},
   "outputs": [],
   "source": [
    "count_to_zero(-5)"
   ]
  },
  {
   "cell_type": "markdown",
   "id": "a991b9d4",
   "metadata": {},
   "source": [
    "---"
   ]
  },
  {
   "cell_type": "code",
   "execution_count": null,
   "id": "688f5067",
   "metadata": {},
   "outputs": [],
   "source": [
    "# Functions may have an arbitraty number of arguments\n",
    "\n",
    "def my_function2(a, b, c, d, e, f):    \n",
    "    # Let's print some of the arguments\n",
    "    print(a)\n",
    "    print(f)"
   ]
  },
  {
   "cell_type": "code",
   "execution_count": null,
   "id": "5b9f307a",
   "metadata": {},
   "outputs": [],
   "source": [
    "my_function2(5, 1, 8, 3, 6, \"times\")"
   ]
  },
  {
   "cell_type": "markdown",
   "id": "f12dded1",
   "metadata": {},
   "source": [
    "---"
   ]
  },
  {
   "cell_type": "code",
   "execution_count": null,
   "id": "d8cb241c",
   "metadata": {},
   "outputs": [],
   "source": [
    "# Functions may also have keyword arguments:\n",
    "#  - print function has a \"sep\" keyword argument (also: \"end\", ...)\n",
    "\n",
    "help(print)"
   ]
  },
  {
   "cell_type": "code",
   "execution_count": null,
   "id": "3a6d0011",
   "metadata": {},
   "outputs": [],
   "source": [
    "print(1, 2, 3)\n",
    "print(4, 5, 6)"
   ]
  },
  {
   "cell_type": "code",
   "execution_count": null,
   "id": "f870a86b",
   "metadata": {},
   "outputs": [],
   "source": [
    "print(1, 2, 3, end=\"; \")   # not jumping to a new line here\n",
    "print(4, 5, 6)"
   ]
  },
  {
   "cell_type": "code",
   "execution_count": null,
   "id": "7b70b072",
   "metadata": {},
   "outputs": [],
   "source": [
    "print(1, 2, 3)\n",
    "print()\n",
    "print(4, 5, 6, sep=\", \")   # using a different separator string here"
   ]
  },
  {
   "cell_type": "markdown",
   "id": "526ef973",
   "metadata": {},
   "source": [
    "### Calling return multiple times"
   ]
  },
  {
   "cell_type": "code",
   "execution_count": null,
   "id": "1ea73b93",
   "metadata": {},
   "outputs": [],
   "source": [
    "def multi_return():\n",
    "    return \"One\"\n",
    "\n",
    "    return \"Two\"\n",
    "\n",
    "    return \"Three\""
   ]
  },
  {
   "cell_type": "code",
   "execution_count": null,
   "id": "7197347e",
   "metadata": {},
   "outputs": [],
   "source": [
    "# what will the function return?"
   ]
  },
  {
   "cell_type": "code",
   "execution_count": null,
   "id": "34daec5b",
   "metadata": {},
   "outputs": [],
   "source": []
  },
  {
   "cell_type": "markdown",
   "id": "507a3244",
   "metadata": {},
   "source": [
    "### Returning multiple values\n",
    "\n",
    "* multiple values may be returned as a tuple"
   ]
  },
  {
   "cell_type": "code",
   "execution_count": null,
   "id": "a6491c0f",
   "metadata": {},
   "outputs": [],
   "source": [
    "def return_multiple(a, b):\n",
    "    \n",
    "    return (a+b, a-b)\n",
    "\n",
    "print(return_multiple(12, 4))"
   ]
  },
  {
   "cell_type": "code",
   "execution_count": null,
   "id": "a8209001",
   "metadata": {},
   "outputs": [],
   "source": [
    "result = return_multiple(12, 4)"
   ]
  },
  {
   "cell_type": "code",
   "execution_count": null,
   "id": "d30e5a66",
   "metadata": {},
   "outputs": [],
   "source": [
    "print(result)\n",
    "print(type(result))"
   ]
  },
  {
   "cell_type": "code",
   "execution_count": null,
   "id": "03ebcdf0",
   "metadata": {},
   "outputs": [],
   "source": [
    "first_val = result[0]\n",
    "print(first_val)\n",
    "\n",
    "second_val = result[1]\n",
    "print(second_val)\n"
   ]
  },
  {
   "cell_type": "markdown",
   "id": "f091c2d2",
   "metadata": {},
   "source": [
    "---\n",
    "\n",
    "### Local and global variables (scope)"
   ]
  },
  {
   "cell_type": "code",
   "execution_count": null,
   "id": "3bfbe7d0",
   "metadata": {},
   "outputs": [],
   "source": [
    "global_var = \"Global variable\"\n",
    "\n",
    "# the variables defined in the function are local to the function (and not \"visible\" globally)\n",
    "#  - function arguments are also local \n",
    "\n",
    "def some_function(argument_1):\n",
    "    \n",
    "    local_var = \"Local variable\"\n",
    "    \n",
    "    print(f\"Variable: {local_var}\")\n",
    "    print(f\"Argument: {argument_1}\")\n",
    "    \n",
    "    # we can also use global variable inside a function\n",
    "    #  - but better don't - pass it as an argument instead\n",
    "    print()\n",
    "    print(f\"Global var (inside a function): {global_var}\")\n",
    "\n",
    "some_function(111)\n"
   ]
  },
  {
   "cell_type": "code",
   "execution_count": null,
   "id": "35f4a4e4",
   "metadata": {},
   "outputs": [],
   "source": [
    "# Outside of the function (in the global scope or \n",
    "# in the scope of another function) we can not \n",
    "# access local variables and arguments:\n",
    "\n",
    "print(f\"Global var: {global_var}\")\n",
    "\n",
    "print(f\"Variable: {local_var}\")"
   ]
  },
  {
   "cell_type": "code",
   "execution_count": null,
   "id": "74cf8ec4",
   "metadata": {},
   "outputs": [],
   "source": [
    "print(f\"Argument: {argument_1}\")"
   ]
  },
  {
   "cell_type": "code",
   "execution_count": null,
   "id": "e9eb5b8f",
   "metadata": {},
   "outputs": [],
   "source": [
    "# Changing a global variable in a function is not that simple\n",
    "# (and you should avoid doing it)\n",
    "\n",
    "global_var = \"Global variable\"\n",
    "\n",
    "def change_global():\n",
    "    \n",
    "    global_var = 111\n",
    "    print(\"...\", global_var)\n",
    "    \n",
    "print(global_var)\n",
    "change_global()\n",
    "print(global_var)"
   ]
  },
  {
   "cell_type": "code",
   "execution_count": null,
   "id": "86e7ea67",
   "metadata": {},
   "outputs": [],
   "source": [
    "global_var = \"Global variable\"\n",
    "\n",
    "def change_global_2():\n",
    "    global global_var\n",
    "    \n",
    "    global_var =  111\n",
    "    print(\"...\", global_var)\n",
    "    \n",
    "print(global_var)\n",
    "change_global_2()\n",
    "print(global_var)"
   ]
  },
  {
   "cell_type": "markdown",
   "id": "7a9d5306",
   "metadata": {},
   "source": [
    "---\n",
    "\n",
    "### Functions (cont.)"
   ]
  },
  {
   "cell_type": "code",
   "execution_count": null,
   "id": "c7d14c84",
   "metadata": {},
   "outputs": [],
   "source": [
    "# A function may have multiple arguments.\n",
    "\n",
    "def add(a, b):\n",
    "    return a + b    # returns the sum of arguments"
   ]
  },
  {
   "cell_type": "code",
   "execution_count": null,
   "id": "a31a67d4",
   "metadata": {},
   "outputs": [],
   "source": [
    "# The arguments passed to the function may be of different types.\n",
    "\n",
    "print(add(1, 2))\n",
    "\n",
    "print(add(3.14, 2.1))\n",
    "\n",
    "print(add(\"text\", \" here\"))\n",
    "\n",
    "print(add([1, 2, 3], [4, 5]))\n"
   ]
  },
  {
   "cell_type": "code",
   "execution_count": null,
   "id": "5e5b82d0",
   "metadata": {},
   "outputs": [],
   "source": [
    "add(add(1, 2), add(45, 5))"
   ]
  },
  {
   "cell_type": "code",
   "execution_count": null,
   "id": "fbc8ea29",
   "metadata": {},
   "outputs": [],
   "source": [
    "# What if we do not return a value but just print the result?\n",
    "\n",
    "def another_add(a, b):\n",
    "    c = a + b    # c is local to the function\n",
    "    print(c)\n",
    "    \n",
    "print(another_add(1, 2))    # the function returns a special value None"
   ]
  },
  {
   "cell_type": "code",
   "execution_count": null,
   "id": "7ba9c275",
   "metadata": {},
   "outputs": [],
   "source": [
    "# this will not work like it did for the \"add\" function:\n",
    "# (because the function does not return a value)\n",
    "\n",
    "another_add(another_add(1, 2), another_add(45, 5))"
   ]
  },
  {
   "cell_type": "markdown",
   "id": "b973a90c",
   "metadata": {},
   "source": [
    "---\n",
    "\n",
    "### Modifying function argument values"
   ]
  },
  {
   "cell_type": "code",
   "execution_count": null,
   "id": "efeca855",
   "metadata": {},
   "outputs": [],
   "source": [
    "# Functions may modify values of mutable \"things\" passed to it\n",
    "# (for example, lists)\n",
    "\n",
    "my_list = [\"Meat\", \"Potatoes\", \"Cake\"]\n",
    "\n",
    "def add_element(some_list, element):\n",
    "    some_list.append(element)\n",
    "    "
   ]
  },
  {
   "cell_type": "code",
   "execution_count": null,
   "id": "705fdcf9",
   "metadata": {},
   "outputs": [],
   "source": [
    "print(my_list)"
   ]
  },
  {
   "cell_type": "code",
   "execution_count": null,
   "id": "569c2e46",
   "metadata": {},
   "outputs": [],
   "source": [
    "add_element(my_list, \"Milk\")\n",
    "\n",
    "print(my_list)"
   ]
  },
  {
   "cell_type": "markdown",
   "id": "80c6f76c",
   "metadata": {},
   "source": [
    "---"
   ]
  },
  {
   "cell_type": "code",
   "execution_count": null,
   "id": "b9a2e924",
   "metadata": {},
   "outputs": [],
   "source": [
    "# Let's make a function to search for sub-elements in a list:\n",
    "\n",
    "my_list = [\"Mashed potatoes\", \"Crispy chicken\", \"Tasty cake\"]\n",
    "\n",
    "def search_for(some_list, sub_element):\n",
    "        \n",
    "    for list_element in some_list:\n",
    "        \n",
    "        if sub_element in list_element:\n",
    "            print(f\"Found [{sub_element}] in [{list_element}]\")\n",
    "            return list_element\n",
    "            \n",
    "    print(f\"Sorry, [{sub_element}] not found in the list {some_list}.\")\n",
    "\n",
    "search_for(my_list, \"cake\")"
   ]
  },
  {
   "cell_type": "code",
   "execution_count": null,
   "id": "e0fa5f17",
   "metadata": {},
   "outputs": [],
   "source": [
    "search_for(my_list, \"vegetables\")"
   ]
  },
  {
   "cell_type": "code",
   "execution_count": null,
   "id": "7b10fb78",
   "metadata": {},
   "outputs": [],
   "source": [
    "search_for(my_list, \"Cake\")   # comparison is \"case sensitive\"!"
   ]
  },
  {
   "cell_type": "markdown",
   "id": "d311187d",
   "metadata": {},
   "source": [
    "Question:\n",
    "* how would you modify this function to find elements independent of lowercase / uppercase?\n",
    "\n",
    "---\n",
    "\n",
    "### Default values\n"
   ]
  },
  {
   "cell_type": "code",
   "execution_count": null,
   "id": "896b79ce",
   "metadata": {},
   "outputs": [],
   "source": [
    "# Function arguments may have default values:\n",
    "\n",
    "def mix_drinks(juice=\"Apple juice\", alcohol=\"rum\"):\n",
    "    \"\"\"\n",
    "    Mixes drinks for you.\n",
    "    \n",
    "    Specify the components to mix using the \"juice\" and \"alcohol\" parameters.\n",
    "    \"\"\"\n",
    "    \n",
    "    print(f\"Have a drink: {juice} with {alcohol}\")"
   ]
  },
  {
   "cell_type": "code",
   "execution_count": null,
   "id": "4fbab134",
   "metadata": {},
   "outputs": [],
   "source": [
    "mix_drinks(\"Tomato juice\", \"vodka\")"
   ]
  },
  {
   "cell_type": "code",
   "execution_count": null,
   "id": "f8ae3318",
   "metadata": {},
   "outputs": [],
   "source": [
    "mix_drinks(\"Cola\")"
   ]
  },
  {
   "cell_type": "code",
   "execution_count": null,
   "id": "9ec3d86d",
   "metadata": {},
   "outputs": [],
   "source": [
    "mix_drinks()"
   ]
  },
  {
   "cell_type": "markdown",
   "id": "1bb10749",
   "metadata": {},
   "source": [
    "Question:\n",
    "* can you specify just the second argument?\n",
    "* how can you get help about this function (in Jupyter and in \"plain\" Python)?\n",
    "---"
   ]
  },
  {
   "cell_type": "code",
   "execution_count": null,
   "id": "81549142",
   "metadata": {},
   "outputs": [],
   "source": []
  },
  {
   "cell_type": "markdown",
   "id": "12eb35f0",
   "metadata": {},
   "source": [
    "---\n",
    "\n",
    "### Pyton built-in functions\n",
    "\n",
    "* [Built-in functions](https://docs.python.org/3/library/functions.html)\n",
    "\n",
    "We already looked at some of them:\n",
    "* `dir()`\n",
    "* `help()`\n",
    "* `len()`\n",
    "* `print()`\n"
   ]
  },
  {
   "cell_type": "markdown",
   "id": "500fdb7c",
   "metadata": {},
   "source": [
    "---\n",
    "\n",
    "### Practical exercises\n",
    "\n",
    "* Write a function that checks if a string argument is a palindrome:\n",
    "  * A palindrome is a word, number, phrase, or other sequence of characters which reads the same backward as forward.\n",
    "  * Examples: \"madam\", \"racecar\"."
   ]
  },
  {
   "cell_type": "code",
   "execution_count": null,
   "id": "a4474812",
   "metadata": {},
   "outputs": [],
   "source": []
  },
  {
   "cell_type": "code",
   "execution_count": null,
   "id": "4e3d0fc7",
   "metadata": {},
   "outputs": [],
   "source": []
  },
  {
   "cell_type": "code",
   "execution_count": null,
   "id": "ebd743f5",
   "metadata": {},
   "outputs": [],
   "source": []
  },
  {
   "cell_type": "code",
   "execution_count": null,
   "id": "769ca7b6",
   "metadata": {},
   "outputs": [],
   "source": []
  },
  {
   "cell_type": "markdown",
   "id": "460bd8c5",
   "metadata": {},
   "source": [
    "---\n",
    "\n",
    "### More information:\n",
    "\n",
    "* [\"Automate the boring stuff\" chapter about functions](https://automatetheboringstuff.com/2e/chapter3/)\n",
    "* [Python functions exercises](https://www.w3resource.com/python-exercises/python-functions-exercises.php)\n"
   ]
  }
 ],
 "metadata": {
  "kernelspec": {
   "display_name": "Python 3 (ipykernel)",
   "language": "python",
   "name": "python3"
  },
  "language_info": {
   "codemirror_mode": {
    "name": "ipython",
    "version": 3
   },
   "file_extension": ".py",
   "mimetype": "text/x-python",
   "name": "python",
   "nbconvert_exporter": "python",
   "pygments_lexer": "ipython3",
   "version": "3.9.16"
  }
 },
 "nbformat": 4,
 "nbformat_minor": 5
}
