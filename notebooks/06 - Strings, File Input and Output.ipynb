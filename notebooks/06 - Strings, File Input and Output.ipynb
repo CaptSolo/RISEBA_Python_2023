{
 "cells": [
  {
   "cell_type": "markdown",
   "id": "e55fc460",
   "metadata": {},
   "source": [
    "# Python Strings (continued)\n",
    "\n",
    "https://automatetheboringstuff.com/2e/chapter6/"
   ]
  },
  {
   "cell_type": "code",
   "execution_count": 1,
   "id": "e3fea878",
   "metadata": {},
   "outputs": [
    {
     "name": "stdout",
     "output_type": "stream",
     "text": [
      "Help on class str in module builtins:\n",
      "\n",
      "class str(object)\n",
      " |  str(object='') -> str\n",
      " |  str(bytes_or_buffer[, encoding[, errors]]) -> str\n",
      " |  \n",
      " |  Create a new string object from the given object. If encoding or\n",
      " |  errors is specified, then the object must expose a data buffer\n",
      " |  that will be decoded using the given encoding and error handler.\n",
      " |  Otherwise, returns the result of object.__str__() (if defined)\n",
      " |  or repr(object).\n",
      " |  encoding defaults to sys.getdefaultencoding().\n",
      " |  errors defaults to 'strict'.\n",
      " |  \n",
      " |  Methods defined here:\n",
      " |  \n",
      " |  __add__(self, value, /)\n",
      " |      Return self+value.\n",
      " |  \n",
      " |  __contains__(self, key, /)\n",
      " |      Return key in self.\n",
      " |  \n",
      " |  __eq__(self, value, /)\n",
      " |      Return self==value.\n",
      " |  \n",
      " |  __format__(self, format_spec, /)\n",
      " |      Return a formatted version of the string as described by format_spec.\n",
      " |  \n",
      " |  __ge__(self, value, /)\n",
      " |      Return self>=value.\n",
      " |  \n",
      " |  __getattribute__(self, name, /)\n",
      " |      Return getattr(self, name).\n",
      " |  \n",
      " |  __getitem__(self, key, /)\n",
      " |      Return self[key].\n",
      " |  \n",
      " |  __getnewargs__(...)\n",
      " |  \n",
      " |  __gt__(self, value, /)\n",
      " |      Return self>value.\n",
      " |  \n",
      " |  __hash__(self, /)\n",
      " |      Return hash(self).\n",
      " |  \n",
      " |  __iter__(self, /)\n",
      " |      Implement iter(self).\n",
      " |  \n",
      " |  __le__(self, value, /)\n",
      " |      Return self<=value.\n",
      " |  \n",
      " |  __len__(self, /)\n",
      " |      Return len(self).\n",
      " |  \n",
      " |  __lt__(self, value, /)\n",
      " |      Return self<value.\n",
      " |  \n",
      " |  __mod__(self, value, /)\n",
      " |      Return self%value.\n",
      " |  \n",
      " |  __mul__(self, value, /)\n",
      " |      Return self*value.\n",
      " |  \n",
      " |  __ne__(self, value, /)\n",
      " |      Return self!=value.\n",
      " |  \n",
      " |  __repr__(self, /)\n",
      " |      Return repr(self).\n",
      " |  \n",
      " |  __rmod__(self, value, /)\n",
      " |      Return value%self.\n",
      " |  \n",
      " |  __rmul__(self, value, /)\n",
      " |      Return value*self.\n",
      " |  \n",
      " |  __sizeof__(self, /)\n",
      " |      Return the size of the string in memory, in bytes.\n",
      " |  \n",
      " |  __str__(self, /)\n",
      " |      Return str(self).\n",
      " |  \n",
      " |  capitalize(self, /)\n",
      " |      Return a capitalized version of the string.\n",
      " |      \n",
      " |      More specifically, make the first character have upper case and the rest lower\n",
      " |      case.\n",
      " |  \n",
      " |  casefold(self, /)\n",
      " |      Return a version of the string suitable for caseless comparisons.\n",
      " |  \n",
      " |  center(self, width, fillchar=' ', /)\n",
      " |      Return a centered string of length width.\n",
      " |      \n",
      " |      Padding is done using the specified fill character (default is a space).\n",
      " |  \n",
      " |  count(...)\n",
      " |      S.count(sub[, start[, end]]) -> int\n",
      " |      \n",
      " |      Return the number of non-overlapping occurrences of substring sub in\n",
      " |      string S[start:end].  Optional arguments start and end are\n",
      " |      interpreted as in slice notation.\n",
      " |  \n",
      " |  encode(self, /, encoding='utf-8', errors='strict')\n",
      " |      Encode the string using the codec registered for encoding.\n",
      " |      \n",
      " |      encoding\n",
      " |        The encoding in which to encode the string.\n",
      " |      errors\n",
      " |        The error handling scheme to use for encoding errors.\n",
      " |        The default is 'strict' meaning that encoding errors raise a\n",
      " |        UnicodeEncodeError.  Other possible values are 'ignore', 'replace' and\n",
      " |        'xmlcharrefreplace' as well as any other name registered with\n",
      " |        codecs.register_error that can handle UnicodeEncodeErrors.\n",
      " |  \n",
      " |  endswith(...)\n",
      " |      S.endswith(suffix[, start[, end]]) -> bool\n",
      " |      \n",
      " |      Return True if S ends with the specified suffix, False otherwise.\n",
      " |      With optional start, test S beginning at that position.\n",
      " |      With optional end, stop comparing S at that position.\n",
      " |      suffix can also be a tuple of strings to try.\n",
      " |  \n",
      " |  expandtabs(self, /, tabsize=8)\n",
      " |      Return a copy where all tab characters are expanded using spaces.\n",
      " |      \n",
      " |      If tabsize is not given, a tab size of 8 characters is assumed.\n",
      " |  \n",
      " |  find(...)\n",
      " |      S.find(sub[, start[, end]]) -> int\n",
      " |      \n",
      " |      Return the lowest index in S where substring sub is found,\n",
      " |      such that sub is contained within S[start:end].  Optional\n",
      " |      arguments start and end are interpreted as in slice notation.\n",
      " |      \n",
      " |      Return -1 on failure.\n",
      " |  \n",
      " |  format(...)\n",
      " |      S.format(*args, **kwargs) -> str\n",
      " |      \n",
      " |      Return a formatted version of S, using substitutions from args and kwargs.\n",
      " |      The substitutions are identified by braces ('{' and '}').\n",
      " |  \n",
      " |  format_map(...)\n",
      " |      S.format_map(mapping) -> str\n",
      " |      \n",
      " |      Return a formatted version of S, using substitutions from mapping.\n",
      " |      The substitutions are identified by braces ('{' and '}').\n",
      " |  \n",
      " |  index(...)\n",
      " |      S.index(sub[, start[, end]]) -> int\n",
      " |      \n",
      " |      Return the lowest index in S where substring sub is found,\n",
      " |      such that sub is contained within S[start:end].  Optional\n",
      " |      arguments start and end are interpreted as in slice notation.\n",
      " |      \n",
      " |      Raises ValueError when the substring is not found.\n",
      " |  \n",
      " |  isalnum(self, /)\n",
      " |      Return True if the string is an alpha-numeric string, False otherwise.\n",
      " |      \n",
      " |      A string is alpha-numeric if all characters in the string are alpha-numeric and\n",
      " |      there is at least one character in the string.\n",
      " |  \n",
      " |  isalpha(self, /)\n",
      " |      Return True if the string is an alphabetic string, False otherwise.\n",
      " |      \n",
      " |      A string is alphabetic if all characters in the string are alphabetic and there\n",
      " |      is at least one character in the string.\n",
      " |  \n",
      " |  isascii(self, /)\n",
      " |      Return True if all characters in the string are ASCII, False otherwise.\n",
      " |      \n",
      " |      ASCII characters have code points in the range U+0000-U+007F.\n",
      " |      Empty string is ASCII too.\n",
      " |  \n",
      " |  isdecimal(self, /)\n",
      " |      Return True if the string is a decimal string, False otherwise.\n",
      " |      \n",
      " |      A string is a decimal string if all characters in the string are decimal and\n",
      " |      there is at least one character in the string.\n",
      " |  \n",
      " |  isdigit(self, /)\n",
      " |      Return True if the string is a digit string, False otherwise.\n",
      " |      \n",
      " |      A string is a digit string if all characters in the string are digits and there\n",
      " |      is at least one character in the string.\n",
      " |  \n",
      " |  isidentifier(self, /)\n",
      " |      Return True if the string is a valid Python identifier, False otherwise.\n",
      " |      \n",
      " |      Call keyword.iskeyword(s) to test whether string s is a reserved identifier,\n",
      " |      such as \"def\" or \"class\".\n",
      " |  \n",
      " |  islower(self, /)\n",
      " |      Return True if the string is a lowercase string, False otherwise.\n",
      " |      \n",
      " |      A string is lowercase if all cased characters in the string are lowercase and\n",
      " |      there is at least one cased character in the string.\n",
      " |  \n",
      " |  isnumeric(self, /)\n",
      " |      Return True if the string is a numeric string, False otherwise.\n",
      " |      \n",
      " |      A string is numeric if all characters in the string are numeric and there is at\n",
      " |      least one character in the string.\n",
      " |  \n",
      " |  isprintable(self, /)\n",
      " |      Return True if the string is printable, False otherwise.\n",
      " |      \n",
      " |      A string is printable if all of its characters are considered printable in\n",
      " |      repr() or if it is empty.\n",
      " |  \n",
      " |  isspace(self, /)\n",
      " |      Return True if the string is a whitespace string, False otherwise.\n",
      " |      \n",
      " |      A string is whitespace if all characters in the string are whitespace and there\n",
      " |      is at least one character in the string.\n",
      " |  \n",
      " |  istitle(self, /)\n",
      " |      Return True if the string is a title-cased string, False otherwise.\n",
      " |      \n",
      " |      In a title-cased string, upper- and title-case characters may only\n",
      " |      follow uncased characters and lowercase characters only cased ones.\n",
      " |  \n",
      " |  isupper(self, /)\n",
      " |      Return True if the string is an uppercase string, False otherwise.\n",
      " |      \n",
      " |      A string is uppercase if all cased characters in the string are uppercase and\n",
      " |      there is at least one cased character in the string.\n",
      " |  \n",
      " |  join(self, iterable, /)\n",
      " |      Concatenate any number of strings.\n",
      " |      \n",
      " |      The string whose method is called is inserted in between each given string.\n",
      " |      The result is returned as a new string.\n",
      " |      \n",
      " |      Example: '.'.join(['ab', 'pq', 'rs']) -> 'ab.pq.rs'\n",
      " |  \n",
      " |  ljust(self, width, fillchar=' ', /)\n",
      " |      Return a left-justified string of length width.\n",
      " |      \n",
      " |      Padding is done using the specified fill character (default is a space).\n",
      " |  \n",
      " |  lower(self, /)\n",
      " |      Return a copy of the string converted to lowercase.\n",
      " |  \n",
      " |  lstrip(self, chars=None, /)\n",
      " |      Return a copy of the string with leading whitespace removed.\n",
      " |      \n",
      " |      If chars is given and not None, remove characters in chars instead.\n",
      " |  \n",
      " |  partition(self, sep, /)\n",
      " |      Partition the string into three parts using the given separator.\n",
      " |      \n",
      " |      This will search for the separator in the string.  If the separator is found,\n",
      " |      returns a 3-tuple containing the part before the separator, the separator\n",
      " |      itself, and the part after it.\n",
      " |      \n",
      " |      If the separator is not found, returns a 3-tuple containing the original string\n",
      " |      and two empty strings.\n",
      " |  \n",
      " |  removeprefix(self, prefix, /)\n",
      " |      Return a str with the given prefix string removed if present.\n",
      " |      \n",
      " |      If the string starts with the prefix string, return string[len(prefix):].\n",
      " |      Otherwise, return a copy of the original string.\n",
      " |  \n",
      " |  removesuffix(self, suffix, /)\n",
      " |      Return a str with the given suffix string removed if present.\n",
      " |      \n",
      " |      If the string ends with the suffix string and that suffix is not empty,\n",
      " |      return string[:-len(suffix)]. Otherwise, return a copy of the original\n",
      " |      string.\n",
      " |  \n",
      " |  replace(self, old, new, count=-1, /)\n",
      " |      Return a copy with all occurrences of substring old replaced by new.\n",
      " |      \n",
      " |        count\n",
      " |          Maximum number of occurrences to replace.\n",
      " |          -1 (the default value) means replace all occurrences.\n",
      " |      \n",
      " |      If the optional argument count is given, only the first count occurrences are\n",
      " |      replaced.\n",
      " |  \n",
      " |  rfind(...)\n",
      " |      S.rfind(sub[, start[, end]]) -> int\n",
      " |      \n",
      " |      Return the highest index in S where substring sub is found,\n",
      " |      such that sub is contained within S[start:end].  Optional\n",
      " |      arguments start and end are interpreted as in slice notation.\n",
      " |      \n",
      " |      Return -1 on failure.\n",
      " |  \n",
      " |  rindex(...)\n",
      " |      S.rindex(sub[, start[, end]]) -> int\n",
      " |      \n",
      " |      Return the highest index in S where substring sub is found,\n",
      " |      such that sub is contained within S[start:end].  Optional\n",
      " |      arguments start and end are interpreted as in slice notation.\n",
      " |      \n",
      " |      Raises ValueError when the substring is not found.\n",
      " |  \n",
      " |  rjust(self, width, fillchar=' ', /)\n",
      " |      Return a right-justified string of length width.\n",
      " |      \n",
      " |      Padding is done using the specified fill character (default is a space).\n",
      " |  \n",
      " |  rpartition(self, sep, /)\n",
      " |      Partition the string into three parts using the given separator.\n",
      " |      \n",
      " |      This will search for the separator in the string, starting at the end. If\n",
      " |      the separator is found, returns a 3-tuple containing the part before the\n",
      " |      separator, the separator itself, and the part after it.\n",
      " |      \n",
      " |      If the separator is not found, returns a 3-tuple containing two empty strings\n",
      " |      and the original string.\n",
      " |  \n",
      " |  rsplit(self, /, sep=None, maxsplit=-1)\n",
      " |      Return a list of the substrings in the string, using sep as the separator string.\n",
      " |      \n",
      " |        sep\n",
      " |          The separator used to split the string.\n",
      " |      \n",
      " |          When set to None (the default value), will split on any whitespace\n",
      " |          character (including \\\\n \\\\r \\\\t \\\\f and spaces) and will discard\n",
      " |          empty strings from the result.\n",
      " |        maxsplit\n",
      " |          Maximum number of splits (starting from the left).\n",
      " |          -1 (the default value) means no limit.\n",
      " |      \n",
      " |      Splitting starts at the end of the string and works to the front.\n",
      " |  \n",
      " |  rstrip(self, chars=None, /)\n",
      " |      Return a copy of the string with trailing whitespace removed.\n",
      " |      \n",
      " |      If chars is given and not None, remove characters in chars instead.\n",
      " |  \n",
      " |  split(self, /, sep=None, maxsplit=-1)\n",
      " |      Return a list of the substrings in the string, using sep as the separator string.\n",
      " |      \n",
      " |        sep\n",
      " |          The separator used to split the string.\n",
      " |      \n",
      " |          When set to None (the default value), will split on any whitespace\n",
      " |          character (including \\\\n \\\\r \\\\t \\\\f and spaces) and will discard\n",
      " |          empty strings from the result.\n",
      " |        maxsplit\n",
      " |          Maximum number of splits (starting from the left).\n",
      " |          -1 (the default value) means no limit.\n",
      " |      \n",
      " |      Note, str.split() is mainly useful for data that has been intentionally\n",
      " |      delimited.  With natural text that includes punctuation, consider using\n",
      " |      the regular expression module.\n",
      " |  \n",
      " |  splitlines(self, /, keepends=False)\n",
      " |      Return a list of the lines in the string, breaking at line boundaries.\n",
      " |      \n",
      " |      Line breaks are not included in the resulting list unless keepends is given and\n",
      " |      true.\n",
      " |  \n",
      " |  startswith(...)\n",
      " |      S.startswith(prefix[, start[, end]]) -> bool\n",
      " |      \n",
      " |      Return True if S starts with the specified prefix, False otherwise.\n",
      " |      With optional start, test S beginning at that position.\n",
      " |      With optional end, stop comparing S at that position.\n",
      " |      prefix can also be a tuple of strings to try.\n",
      " |  \n",
      " |  strip(self, chars=None, /)\n",
      " |      Return a copy of the string with leading and trailing whitespace removed.\n",
      " |      \n",
      " |      If chars is given and not None, remove characters in chars instead.\n",
      " |  \n",
      " |  swapcase(self, /)\n",
      " |      Convert uppercase characters to lowercase and lowercase characters to uppercase.\n",
      " |  \n",
      " |  title(self, /)\n",
      " |      Return a version of the string where each word is titlecased.\n",
      " |      \n",
      " |      More specifically, words start with uppercased characters and all remaining\n",
      " |      cased characters have lower case.\n",
      " |  \n",
      " |  translate(self, table, /)\n",
      " |      Replace each character in the string using the given translation table.\n",
      " |      \n",
      " |        table\n",
      " |          Translation table, which must be a mapping of Unicode ordinals to\n",
      " |          Unicode ordinals, strings, or None.\n",
      " |      \n",
      " |      The table must implement lookup/indexing via __getitem__, for instance a\n",
      " |      dictionary or list.  If this operation raises LookupError, the character is\n",
      " |      left untouched.  Characters mapped to None are deleted.\n",
      " |  \n",
      " |  upper(self, /)\n",
      " |      Return a copy of the string converted to uppercase.\n",
      " |  \n",
      " |  zfill(self, width, /)\n",
      " |      Pad a numeric string with zeros on the left, to fill a field of the given width.\n",
      " |      \n",
      " |      The string is never truncated.\n",
      " |  \n",
      " |  ----------------------------------------------------------------------\n",
      " |  Static methods defined here:\n",
      " |  \n",
      " |  __new__(*args, **kwargs) from builtins.type\n",
      " |      Create and return a new object.  See help(type) for accurate signature.\n",
      " |  \n",
      " |  maketrans(...)\n",
      " |      Return a translation table usable for str.translate().\n",
      " |      \n",
      " |      If there is only one argument, it must be a dictionary mapping Unicode\n",
      " |      ordinals (integers) or characters to Unicode ordinals, strings or None.\n",
      " |      Character keys will be then converted to ordinals.\n",
      " |      If there are two arguments, they must be strings of equal length, and\n",
      " |      in the resulting dictionary, each character in x will be mapped to the\n",
      " |      character at the same position in y. If there is a third argument, it\n",
      " |      must be a string, whose characters will be mapped to None in the result.\n",
      "\n"
     ]
    }
   ],
   "source": [
    "help(str)"
   ]
  },
  {
   "cell_type": "code",
   "execution_count": 2,
   "id": "6ba00250",
   "metadata": {},
   "outputs": [],
   "source": [
    "text = \"   Uldis   \""
   ]
  },
  {
   "cell_type": "code",
   "execution_count": 3,
   "id": "6dbb58e2",
   "metadata": {},
   "outputs": [
    {
     "data": {
      "text/plain": [
       "'Uldis'"
      ]
     },
     "execution_count": 3,
     "metadata": {},
     "output_type": "execute_result"
    }
   ],
   "source": [
    "# strip removes whitespace from start and end of the string\n",
    "text.strip()"
   ]
  },
  {
   "cell_type": "code",
   "execution_count": 4,
   "id": "e352bf08",
   "metadata": {},
   "outputs": [
    {
     "data": {
      "text/plain": [
       "'Uldis   '"
      ]
     },
     "execution_count": 4,
     "metadata": {},
     "output_type": "execute_result"
    }
   ],
   "source": [
    "text.lstrip()"
   ]
  },
  {
   "cell_type": "code",
   "execution_count": 5,
   "id": "39f242b3",
   "metadata": {},
   "outputs": [
    {
     "data": {
      "text/plain": [
       "'   Uldis'"
      ]
     },
     "execution_count": 5,
     "metadata": {},
     "output_type": "execute_result"
    }
   ],
   "source": [
    "text.rstrip()"
   ]
  },
  {
   "cell_type": "markdown",
   "id": "98b3cdb3",
   "metadata": {},
   "source": [
    "### Checking if string contains a substring\n"
   ]
  },
  {
   "cell_type": "code",
   "execution_count": 6,
   "id": "808ae19e",
   "metadata": {},
   "outputs": [],
   "source": [
    "text2 = \"This is an example\""
   ]
  },
  {
   "cell_type": "code",
   "execution_count": 7,
   "id": "2e932f24",
   "metadata": {},
   "outputs": [
    {
     "data": {
      "text/plain": [
       "True"
      ]
     },
     "execution_count": 7,
     "metadata": {},
     "output_type": "execute_result"
    }
   ],
   "source": [
    "text2.startswith(\"This\")"
   ]
  },
  {
   "cell_type": "code",
   "execution_count": 8,
   "id": "9e48bee0",
   "metadata": {},
   "outputs": [
    {
     "data": {
      "text/plain": [
       "False"
      ]
     },
     "execution_count": 8,
     "metadata": {},
     "output_type": "execute_result"
    }
   ],
   "source": [
    "text2.startswith(\"example\")"
   ]
  },
  {
   "cell_type": "code",
   "execution_count": 9,
   "id": "1415e726",
   "metadata": {},
   "outputs": [
    {
     "data": {
      "text/plain": [
       "True"
      ]
     },
     "execution_count": 9,
     "metadata": {},
     "output_type": "execute_result"
    }
   ],
   "source": [
    "text2.endswith(\"example\")"
   ]
  },
  {
   "cell_type": "code",
   "execution_count": 10,
   "id": "a2b03bcc",
   "metadata": {},
   "outputs": [
    {
     "name": "stdout",
     "output_type": "stream",
     "text": [
      "Substring found!\n"
     ]
    }
   ],
   "source": [
    "# checking for substring\n",
    "\n",
    "if \"is an\" in text2:\n",
    "    print(\"Substring found!\")"
   ]
  },
  {
   "cell_type": "code",
   "execution_count": 12,
   "id": "3e23e782",
   "metadata": {},
   "outputs": [
    {
     "data": {
      "text/plain": [
       "4"
      ]
     },
     "execution_count": 12,
     "metadata": {},
     "output_type": "execute_result"
    }
   ],
   "source": [
    "# position of the 1st match\n",
    "\n",
    "text2.index(\" is \")"
   ]
  },
  {
   "cell_type": "code",
   "execution_count": 13,
   "id": "a0bb9441",
   "metadata": {},
   "outputs": [
    {
     "data": {
      "text/plain": [
       "' is an example'"
      ]
     },
     "execution_count": 13,
     "metadata": {},
     "output_type": "execute_result"
    }
   ],
   "source": [
    "text2[4:]"
   ]
  },
  {
   "cell_type": "code",
   "execution_count": 14,
   "id": "3fe72a9e",
   "metadata": {},
   "outputs": [
    {
     "ename": "ValueError",
     "evalue": "substring not found",
     "output_type": "error",
     "traceback": [
      "\u001b[1;31m---------------------------------------------------------------------------\u001b[0m",
      "\u001b[1;31mValueError\u001b[0m                                Traceback (most recent call last)",
      "\u001b[1;32mD:\\Users\\bojars\\AppData\\Local\\Temp\\ipykernel_10288\\357609111.py\u001b[0m in \u001b[0;36m<cell line: 1>\u001b[1;34m()\u001b[0m\n\u001b[1;32m----> 1\u001b[1;33m \u001b[0mtext2\u001b[0m\u001b[1;33m.\u001b[0m\u001b[0mindex\u001b[0m\u001b[1;33m(\u001b[0m\u001b[1;34m\"not found\"\u001b[0m\u001b[1;33m)\u001b[0m\u001b[1;33m\u001b[0m\u001b[1;33m\u001b[0m\u001b[0m\n\u001b[0m",
      "\u001b[1;31mValueError\u001b[0m: substring not found"
     ]
    }
   ],
   "source": [
    "text2.index(\"not found\")"
   ]
  },
  {
   "cell_type": "code",
   "execution_count": 15,
   "id": "f487bcef",
   "metadata": {},
   "outputs": [
    {
     "data": {
      "text/plain": [
       "-1"
      ]
     },
     "execution_count": 15,
     "metadata": {},
     "output_type": "execute_result"
    }
   ],
   "source": [
    "text2.find(\"not found\")"
   ]
  },
  {
   "cell_type": "code",
   "execution_count": 16,
   "id": "803e7acf",
   "metadata": {},
   "outputs": [
    {
     "data": {
      "text/plain": [
       "4"
      ]
     },
     "execution_count": 16,
     "metadata": {},
     "output_type": "execute_result"
    }
   ],
   "source": [
    "text2.find(\" is \")"
   ]
  },
  {
   "cell_type": "code",
   "execution_count": 17,
   "id": "b9de6922",
   "metadata": {},
   "outputs": [
    {
     "data": {
      "text/plain": [
       "2"
      ]
     },
     "execution_count": 17,
     "metadata": {},
     "output_type": "execute_result"
    }
   ],
   "source": [
    "# how many times does a substring occur in text2?\n",
    "\n",
    "text2.count(\"is\")"
   ]
  },
  {
   "cell_type": "code",
   "execution_count": null,
   "id": "a45099cb",
   "metadata": {},
   "outputs": [],
   "source": []
  },
  {
   "cell_type": "markdown",
   "id": "37e58a0d",
   "metadata": {},
   "source": [
    "### Different types of text content\n"
   ]
  },
  {
   "cell_type": "code",
   "execution_count": 19,
   "id": "cd15d35d",
   "metadata": {},
   "outputs": [],
   "source": [
    "text_str = \"Just a string\"\n",
    "text_alpha = \"Nospaceshere\"\n",
    "text_num = \"123456\"\n",
    "text_alnum = \"Password123\"\n",
    "text_upper = \"THIS IS IMPORTANT\"\n",
    "text_lower = \"nothing to see here\"\n",
    "text_whitespace = \"   \\t \""
   ]
  },
  {
   "cell_type": "code",
   "execution_count": 20,
   "id": "9b50ef35",
   "metadata": {},
   "outputs": [
    {
     "data": {
      "text/plain": [
       "True"
      ]
     },
     "execution_count": 20,
     "metadata": {},
     "output_type": "execute_result"
    }
   ],
   "source": [
    "text_alpha.isalpha()"
   ]
  },
  {
   "cell_type": "code",
   "execution_count": 21,
   "id": "2f9ee5d0",
   "metadata": {},
   "outputs": [
    {
     "data": {
      "text/plain": [
       "False"
      ]
     },
     "execution_count": 21,
     "metadata": {},
     "output_type": "execute_result"
    }
   ],
   "source": [
    "# False, because of whitespace characters\n",
    "text_str.isalpha()"
   ]
  },
  {
   "cell_type": "code",
   "execution_count": 22,
   "id": "b79498a1",
   "metadata": {},
   "outputs": [
    {
     "data": {
      "text/plain": [
       "True"
      ]
     },
     "execution_count": 22,
     "metadata": {},
     "output_type": "execute_result"
    }
   ],
   "source": [
    "text_num.isnumeric()"
   ]
  },
  {
   "cell_type": "code",
   "execution_count": 23,
   "id": "c5fd92cc",
   "metadata": {},
   "outputs": [
    {
     "data": {
      "text/plain": [
       "False"
      ]
     },
     "execution_count": 23,
     "metadata": {},
     "output_type": "execute_result"
    }
   ],
   "source": [
    "\"123.45\".isnumeric()"
   ]
  },
  {
   "cell_type": "code",
   "execution_count": 24,
   "id": "b89c494d",
   "metadata": {},
   "outputs": [
    {
     "data": {
      "text/plain": [
       "True"
      ]
     },
     "execution_count": 24,
     "metadata": {},
     "output_type": "execute_result"
    }
   ],
   "source": [
    "text_alnum.isalnum()"
   ]
  },
  {
   "cell_type": "code",
   "execution_count": 25,
   "id": "4d5e6f96",
   "metadata": {},
   "outputs": [
    {
     "data": {
      "text/plain": [
       "True"
      ]
     },
     "execution_count": 25,
     "metadata": {},
     "output_type": "execute_result"
    }
   ],
   "source": [
    "text_upper.isupper()"
   ]
  },
  {
   "cell_type": "code",
   "execution_count": 26,
   "id": "4d1000a1",
   "metadata": {},
   "outputs": [
    {
     "data": {
      "text/plain": [
       "True"
      ]
     },
     "execution_count": 26,
     "metadata": {},
     "output_type": "execute_result"
    }
   ],
   "source": [
    "text_lower.islower()"
   ]
  },
  {
   "cell_type": "code",
   "execution_count": 27,
   "id": "831aaa94",
   "metadata": {},
   "outputs": [
    {
     "data": {
      "text/plain": [
       "True"
      ]
     },
     "execution_count": 27,
     "metadata": {},
     "output_type": "execute_result"
    }
   ],
   "source": [
    "text_whitespace.isspace()"
   ]
  },
  {
   "cell_type": "code",
   "execution_count": null,
   "id": "11f8b259",
   "metadata": {},
   "outputs": [],
   "source": []
  },
  {
   "cell_type": "markdown",
   "id": "923f02d8",
   "metadata": {},
   "source": [
    "### Justifying strings"
   ]
  },
  {
   "cell_type": "code",
   "execution_count": 28,
   "id": "59f7da39",
   "metadata": {},
   "outputs": [
    {
     "data": {
      "text/plain": [
       "'123'"
      ]
     },
     "execution_count": 28,
     "metadata": {},
     "output_type": "execute_result"
    }
   ],
   "source": [
    "text3 = \"123\"\n",
    "text3"
   ]
  },
  {
   "cell_type": "code",
   "execution_count": 29,
   "id": "b64e26bf",
   "metadata": {},
   "outputs": [],
   "source": [
    "text4 = \"567890\""
   ]
  },
  {
   "cell_type": "code",
   "execution_count": 30,
   "id": "2cdd1e81",
   "metadata": {},
   "outputs": [
    {
     "data": {
      "text/plain": [
       "'123       '"
      ]
     },
     "execution_count": 30,
     "metadata": {},
     "output_type": "execute_result"
    }
   ],
   "source": [
    "text3.ljust(10)"
   ]
  },
  {
   "cell_type": "code",
   "execution_count": 31,
   "id": "aa5e479e",
   "metadata": {},
   "outputs": [
    {
     "data": {
      "text/plain": [
       "'   123    '"
      ]
     },
     "execution_count": 31,
     "metadata": {},
     "output_type": "execute_result"
    }
   ],
   "source": [
    "text3.center(10)"
   ]
  },
  {
   "cell_type": "code",
   "execution_count": 32,
   "id": "434a997e",
   "metadata": {},
   "outputs": [
    {
     "name": "stdout",
     "output_type": "stream",
     "text": [
      "       123\n",
      "    567890\n"
     ]
    }
   ],
   "source": [
    "print(text3.rjust(10))\n",
    "print(text4.rjust(10))"
   ]
  },
  {
   "cell_type": "code",
   "execution_count": null,
   "id": "6555babc",
   "metadata": {},
   "outputs": [],
   "source": []
  },
  {
   "cell_type": "markdown",
   "id": "eb2efde8",
   "metadata": {},
   "source": [
    "# Exceptions, Error Hadling\n",
    "\n",
    "- https://docs.python.org/3/tutorial/errors.html\n",
    "- https://realpython.com/python-exceptions/"
   ]
  },
  {
   "cell_type": "code",
   "execution_count": 33,
   "id": "72c45856",
   "metadata": {},
   "outputs": [
    {
     "ename": "SyntaxError",
     "evalue": "incomplete input (2057294690.py, line 3)",
     "output_type": "error",
     "traceback": [
      "\u001b[1;36m  File \u001b[1;32m\"D:\\Users\\bojars\\AppData\\Local\\Temp\\ipykernel_10288\\2057294690.py\"\u001b[1;36m, line \u001b[1;32m3\u001b[0m\n\u001b[1;33m    print(\"Missing end bracket\"\u001b[0m\n\u001b[1;37m                               ^\u001b[0m\n\u001b[1;31mSyntaxError\u001b[0m\u001b[1;31m:\u001b[0m incomplete input\n"
     ]
    }
   ],
   "source": [
    "# Syntax errors (found before a program is run)\n",
    "\n",
    "print(\"Missing end bracket\""
   ]
  },
  {
   "cell_type": "code",
   "execution_count": 35,
   "id": "84134ba2",
   "metadata": {},
   "outputs": [
    {
     "data": {
      "text/plain": [
       "'   Uldis   '"
      ]
     },
     "execution_count": 35,
     "metadata": {},
     "output_type": "execute_result"
    }
   ],
   "source": [
    "text"
   ]
  },
  {
   "cell_type": "code",
   "execution_count": 34,
   "id": "7c8dc717",
   "metadata": {},
   "outputs": [
    {
     "ename": "ValueError",
     "evalue": "invalid literal for int() with base 10: '   Uldis   '",
     "output_type": "error",
     "traceback": [
      "\u001b[1;31m---------------------------------------------------------------------------\u001b[0m",
      "\u001b[1;31mValueError\u001b[0m                                Traceback (most recent call last)",
      "\u001b[1;32mD:\\Users\\bojars\\AppData\\Local\\Temp\\ipykernel_10288\\2879119075.py\u001b[0m in \u001b[0;36m<cell line: 3>\u001b[1;34m()\u001b[0m\n\u001b[0;32m      1\u001b[0m \u001b[1;31m# Exceptions (raised when program is run)\u001b[0m\u001b[1;33m\u001b[0m\u001b[1;33m\u001b[0m\u001b[0m\n\u001b[0;32m      2\u001b[0m \u001b[1;33m\u001b[0m\u001b[0m\n\u001b[1;32m----> 3\u001b[1;33m \u001b[0mprint\u001b[0m\u001b[1;33m(\u001b[0m\u001b[0mint\u001b[0m\u001b[1;33m(\u001b[0m\u001b[0mtext\u001b[0m\u001b[1;33m)\u001b[0m\u001b[1;33m)\u001b[0m\u001b[1;33m\u001b[0m\u001b[1;33m\u001b[0m\u001b[0m\n\u001b[0m",
      "\u001b[1;31mValueError\u001b[0m: invalid literal for int() with base 10: '   Uldis   '"
     ]
    }
   ],
   "source": [
    "# Exceptions (raised when program is run)\n",
    "\n",
    "print(int(text))"
   ]
  },
  {
   "cell_type": "code",
   "execution_count": 36,
   "id": "14c72913",
   "metadata": {},
   "outputs": [
    {
     "name": "stdout",
     "output_type": "stream",
     "text": [
      "123\n"
     ]
    }
   ],
   "source": [
    "print(int(\"123\"))"
   ]
  },
  {
   "cell_type": "code",
   "execution_count": 37,
   "id": "338cc135",
   "metadata": {},
   "outputs": [
    {
     "ename": "ValueError",
     "evalue": "invalid literal for int() with base 10: '123.45'",
     "output_type": "error",
     "traceback": [
      "\u001b[1;31m---------------------------------------------------------------------------\u001b[0m",
      "\u001b[1;31mValueError\u001b[0m                                Traceback (most recent call last)",
      "\u001b[1;32mD:\\Users\\bojars\\AppData\\Local\\Temp\\ipykernel_10288\\357039431.py\u001b[0m in \u001b[0;36m<cell line: 1>\u001b[1;34m()\u001b[0m\n\u001b[1;32m----> 1\u001b[1;33m \u001b[0mint\u001b[0m\u001b[1;33m(\u001b[0m\u001b[1;34m\"123.45\"\u001b[0m\u001b[1;33m)\u001b[0m\u001b[1;33m\u001b[0m\u001b[1;33m\u001b[0m\u001b[0m\n\u001b[0m",
      "\u001b[1;31mValueError\u001b[0m: invalid literal for int() with base 10: '123.45'"
     ]
    }
   ],
   "source": [
    "int(\"123.45\")"
   ]
  },
  {
   "cell_type": "code",
   "execution_count": 38,
   "id": "d45e2d99",
   "metadata": {},
   "outputs": [
    {
     "ename": "ZeroDivisionError",
     "evalue": "division by zero",
     "output_type": "error",
     "traceback": [
      "\u001b[1;31m---------------------------------------------------------------------------\u001b[0m",
      "\u001b[1;31mZeroDivisionError\u001b[0m                         Traceback (most recent call last)",
      "\u001b[1;32mD:\\Users\\bojars\\AppData\\Local\\Temp\\ipykernel_10288\\290328625.py\u001b[0m in \u001b[0;36m<cell line: 3>\u001b[1;34m()\u001b[0m\n\u001b[0;32m      1\u001b[0m \u001b[1;31m# Division by 0 error\u001b[0m\u001b[1;33m\u001b[0m\u001b[1;33m\u001b[0m\u001b[0m\n\u001b[0;32m      2\u001b[0m \u001b[1;33m\u001b[0m\u001b[0m\n\u001b[1;32m----> 3\u001b[1;33m \u001b[0mprint\u001b[0m\u001b[1;33m(\u001b[0m\u001b[1;36m100\u001b[0m\u001b[1;33m/\u001b[0m\u001b[1;36m0\u001b[0m\u001b[1;33m)\u001b[0m\u001b[1;33m\u001b[0m\u001b[1;33m\u001b[0m\u001b[0m\n\u001b[0m",
      "\u001b[1;31mZeroDivisionError\u001b[0m: division by zero"
     ]
    }
   ],
   "source": [
    "# Division by 0 error\n",
    "\n",
    "print(100/0)"
   ]
  },
  {
   "cell_type": "code",
   "execution_count": 39,
   "id": "35bf8d5d",
   "metadata": {},
   "outputs": [
    {
     "name": "stdout",
     "output_type": "stream",
     "text": [
      "Can not divide by 0\n",
      "Continue executing the program\n"
     ]
    }
   ],
   "source": [
    "# We can catch exceptions and do something with them\n",
    "\n",
    "try:\n",
    "    result = 100/0\n",
    "    print(result)\n",
    "    \n",
    "except ZeroDivisionError as error:\n",
    "    print(\"Can not divide by 0\")\n",
    "    \n",
    "print(\"Continue executing the program\")"
   ]
  },
  {
   "cell_type": "code",
   "execution_count": 41,
   "id": "8b815aca",
   "metadata": {},
   "outputs": [
    {
     "name": "stdout",
     "output_type": "stream",
     "text": [
      "In 'else' block.\n",
      "Result is 50.0\n"
     ]
    }
   ],
   "source": [
    "# \"else\" block is executed if there was no exception\n",
    "\n",
    "try:\n",
    "    result = 100/2\n",
    "    \n",
    "except ZeroDivisionError as error:\n",
    "    print(\"Can not divide by 0\")\n",
    "    \n",
    "else:\n",
    "    print(\"In 'else' block.\")\n",
    "    print(\"Result is\", result)\n",
    "    "
   ]
  },
  {
   "cell_type": "code",
   "execution_count": 54,
   "id": "7fd4dcac",
   "metadata": {},
   "outputs": [
    {
     "name": "stdout",
     "output_type": "stream",
     "text": [
      "Enter an integer value: 123\n"
     ]
    }
   ],
   "source": [
    "a = input(\"Enter an integer value: \")\n",
    "\n",
    "try:\n",
    "    b = int(a)\n",
    "    \n",
    "except ValueError:\n",
    "    print(\"Text must be an integer value\")\n"
   ]
  },
  {
   "cell_type": "code",
   "execution_count": 55,
   "id": "b34a3d5e",
   "metadata": {},
   "outputs": [
    {
     "data": {
      "text/plain": [
       "123"
      ]
     },
     "execution_count": 55,
     "metadata": {},
     "output_type": "execute_result"
    }
   ],
   "source": [
    "b"
   ]
  },
  {
   "cell_type": "markdown",
   "id": "6d50cada",
   "metadata": {},
   "source": [
    "### Raising exceptions"
   ]
  },
  {
   "cell_type": "code",
   "execution_count": 52,
   "id": "26456221",
   "metadata": {},
   "outputs": [
    {
     "ename": "Exception",
     "evalue": "Must be a positive number",
     "output_type": "error",
     "traceback": [
      "\u001b[1;31m---------------------------------------------------------------------------\u001b[0m",
      "\u001b[1;31mException\u001b[0m                                 Traceback (most recent call last)",
      "\u001b[1;32mD:\\Users\\bojars\\AppData\\Local\\Temp\\ipykernel_10288\\3582244201.py\u001b[0m in \u001b[0;36m<cell line: 5>\u001b[1;34m()\u001b[0m\n\u001b[0;32m      4\u001b[0m \u001b[1;33m\u001b[0m\u001b[0m\n\u001b[0;32m      5\u001b[0m \u001b[1;32mif\u001b[0m \u001b[0mi\u001b[0m \u001b[1;33m<\u001b[0m \u001b[1;36m1\u001b[0m\u001b[1;33m:\u001b[0m\u001b[1;33m\u001b[0m\u001b[1;33m\u001b[0m\u001b[0m\n\u001b[1;32m----> 6\u001b[1;33m     \u001b[1;32mraise\u001b[0m \u001b[0mException\u001b[0m\u001b[1;33m(\u001b[0m\u001b[1;34m\"Must be a positive number\"\u001b[0m\u001b[1;33m)\u001b[0m\u001b[1;33m\u001b[0m\u001b[1;33m\u001b[0m\u001b[0m\n\u001b[0m",
      "\u001b[1;31mException\u001b[0m: Must be a positive number"
     ]
    }
   ],
   "source": [
    "# Your code may raise exceptions\n",
    "\n",
    "i = -5\n",
    "\n",
    "if i < 1:\n",
    "    raise Exception(\"Must be a positive number\")"
   ]
  },
  {
   "cell_type": "code",
   "execution_count": 56,
   "id": "74d1f9a2",
   "metadata": {},
   "outputs": [],
   "source": [
    "def test_pos_num(arg):\n",
    "    \n",
    "    if arg < 1:\n",
    "        raise Exception(\"Must be a positive number\")"
   ]
  },
  {
   "cell_type": "code",
   "execution_count": 57,
   "id": "b4c4a63e",
   "metadata": {},
   "outputs": [
    {
     "ename": "Exception",
     "evalue": "Must be a positive number",
     "output_type": "error",
     "traceback": [
      "\u001b[1;31m---------------------------------------------------------------------------\u001b[0m",
      "\u001b[1;31mException\u001b[0m                                 Traceback (most recent call last)",
      "\u001b[1;32mD:\\Users\\bojars\\AppData\\Local\\Temp\\ipykernel_10288\\2360963526.py\u001b[0m in \u001b[0;36m<cell line: 1>\u001b[1;34m()\u001b[0m\n\u001b[1;32m----> 1\u001b[1;33m \u001b[0mtest_pos_num\u001b[0m\u001b[1;33m(\u001b[0m\u001b[1;33m-\u001b[0m\u001b[1;36m1\u001b[0m\u001b[1;33m)\u001b[0m\u001b[1;33m\u001b[0m\u001b[1;33m\u001b[0m\u001b[0m\n\u001b[0m",
      "\u001b[1;32mD:\\Users\\bojars\\AppData\\Local\\Temp\\ipykernel_10288\\543669954.py\u001b[0m in \u001b[0;36mtest_pos_num\u001b[1;34m(arg)\u001b[0m\n\u001b[0;32m      2\u001b[0m \u001b[1;33m\u001b[0m\u001b[0m\n\u001b[0;32m      3\u001b[0m     \u001b[1;32mif\u001b[0m \u001b[0marg\u001b[0m \u001b[1;33m<\u001b[0m \u001b[1;36m1\u001b[0m\u001b[1;33m:\u001b[0m\u001b[1;33m\u001b[0m\u001b[1;33m\u001b[0m\u001b[0m\n\u001b[1;32m----> 4\u001b[1;33m         \u001b[1;32mraise\u001b[0m \u001b[0mException\u001b[0m\u001b[1;33m(\u001b[0m\u001b[1;34m\"Must be a positive number\"\u001b[0m\u001b[1;33m)\u001b[0m\u001b[1;33m\u001b[0m\u001b[1;33m\u001b[0m\u001b[0m\n\u001b[0m",
      "\u001b[1;31mException\u001b[0m: Must be a positive number"
     ]
    }
   ],
   "source": [
    "test_pos_num(-1)"
   ]
  },
  {
   "cell_type": "code",
   "execution_count": 59,
   "id": "cd1061c0",
   "metadata": {},
   "outputs": [
    {
     "name": "stdout",
     "output_type": "stream",
     "text": [
      "Must be a positive number\n",
      "Program continues running.\n"
     ]
    }
   ],
   "source": [
    "# Let's catch this exception\n",
    "\n",
    "try:\n",
    "    test_pos_num(i)\n",
    "    \n",
    "except Exception as error:\n",
    "    print(error)\n",
    "    \n",
    "print(\"Program continues running.\")"
   ]
  },
  {
   "cell_type": "code",
   "execution_count": null,
   "id": "317f567c",
   "metadata": {},
   "outputs": [],
   "source": []
  },
  {
   "cell_type": "markdown",
   "id": "508f7d75",
   "metadata": {},
   "source": [
    "### Exercise\n",
    "\n",
    "Write a program that asks a user to input an integer value.\n",
    "- if the value is an integer, print this value\n",
    "- if it is not an integer, print an error message and ask the user to input an integer number again (until they input a valid integer value)"
   ]
  },
  {
   "cell_type": "code",
   "execution_count": 64,
   "id": "c42e57cc",
   "metadata": {},
   "outputs": [],
   "source": [
    "def enter_int():\n",
    "    \n",
    "    x = input(\"Ievadi skaitli: \")\n",
    "    \n",
    "    try:\n",
    "        res = int(x)\n",
    "        print(res)\n",
    "    except ValueError as error:\n",
    "        print(\"Šis nav vesels skaitlis\")\n",
    "        return False\n",
    "    \n",
    "    return True"
   ]
  },
  {
   "cell_type": "code",
   "execution_count": 68,
   "id": "0993f496",
   "metadata": {},
   "outputs": [
    {
     "name": "stdout",
     "output_type": "stream",
     "text": [
      "Ievadi skaitli: 123\n",
      "123\n"
     ]
    }
   ],
   "source": [
    "while enter_int() is False:\n",
    "    pass"
   ]
  },
  {
   "cell_type": "code",
   "execution_count": 69,
   "id": "4dadf58c",
   "metadata": {},
   "outputs": [
    {
     "name": "stdout",
     "output_type": "stream",
     "text": [
      "Ievadi skaitli: rrr\n",
      "Šis nav vesels skaitlis\n",
      "Ievadi skaitli: 123\n",
      "123\n"
     ]
    }
   ],
   "source": [
    "while True:\n",
    "    \n",
    "    x = input(\"Ievadi skaitli: \")\n",
    "    \n",
    "    try:\n",
    "        res = int(x)\n",
    "        print(res)\n",
    "    except ValueError as error:\n",
    "        print(\"Šis nav vesels skaitlis\")\n",
    "        continue\n",
    "    else:   # ja ir vesels skaitlis\n",
    "        break"
   ]
  },
  {
   "cell_type": "markdown",
   "id": "32ea7348",
   "metadata": {},
   "source": [
    "# File Input / Output\n",
    "\n",
    "- https://docs.python.org/3/tutorial/inputoutput.html#reading-and-writing-files"
   ]
  },
  {
   "cell_type": "markdown",
   "id": "416a4f0b",
   "metadata": {},
   "source": [
    "We can use Jupyter `%%writefile` to create an example file to work with\n",
    "- first, check what is the current directory (where the file will be created)"
   ]
  },
  {
   "cell_type": "code",
   "execution_count": 70,
   "id": "4c43e6c0",
   "metadata": {},
   "outputs": [
    {
     "data": {
      "text/plain": [
       "'D:\\\\Users\\\\bojars\\\\Documents'"
      ]
     },
     "execution_count": 70,
     "metadata": {},
     "output_type": "execute_result"
    }
   ],
   "source": [
    "pwd"
   ]
  },
  {
   "cell_type": "code",
   "execution_count": 71,
   "id": "25e5910c",
   "metadata": {},
   "outputs": [
    {
     "name": "stdout",
     "output_type": "stream",
     "text": [
      "Writing somefile.txt\n"
     ]
    }
   ],
   "source": [
    "%%writefile somefile.txt\n",
    "This is an example file\n",
    "that we can experiment\n",
    "with."
   ]
  },
  {
   "cell_type": "code",
   "execution_count": 72,
   "id": "43466d4a",
   "metadata": {},
   "outputs": [
    {
     "name": "stdout",
     "output_type": "stream",
     "text": [
      " Volume in drive D is Datiem\n",
      " Volume Serial Number is BC4E-92C0\n",
      "\n",
      " Directory of D:\\Users\\bojars\\Documents\n",
      "\n",
      "02.11.2022  12:02    <DIR>          .\n",
      "02.11.2022  12:02    <DIR>          ..\n",
      "02.11.2022  10:38    <DIR>          .ipynb_checkpoints\n",
      "02.11.2022  12:02            56˙443 06 - Strings, File Input and Output.ipynb\n",
      "02.11.2022  11:17           657˙785 covidpatients.csv\n",
      "02.11.2022  12:02                56 somefile.txt\n",
      "               3 File(s)        714˙284 bytes\n",
      "               3 Dir(s)  201˙492˙987˙904 bytes free\n"
     ]
    }
   ],
   "source": [
    "## Linux and Mac\n",
    "#!ls\n",
    "\n",
    "## Windows\n",
    "!dir"
   ]
  },
  {
   "cell_type": "markdown",
   "id": "550981d7",
   "metadata": {},
   "source": [
    "### Reading a file"
   ]
  },
  {
   "cell_type": "code",
   "execution_count": 73,
   "id": "1df32653",
   "metadata": {},
   "outputs": [],
   "source": [
    "fname = \"somefile.txt\""
   ]
  },
  {
   "cell_type": "code",
   "execution_count": 74,
   "id": "8eae44f2",
   "metadata": {},
   "outputs": [],
   "source": [
    "file = open(fname, encoding=\"utf-8\")"
   ]
  },
  {
   "cell_type": "code",
   "execution_count": 75,
   "id": "5f3dc3b2",
   "metadata": {},
   "outputs": [
    {
     "name": "stdout",
     "output_type": "stream",
     "text": [
      "Help on TextIOWrapper object:\n",
      "\n",
      "class TextIOWrapper(_TextIOBase)\n",
      " |  TextIOWrapper(buffer, encoding=None, errors=None, newline=None, line_buffering=False, write_through=False)\n",
      " |  \n",
      " |  Character and line based layer over a BufferedIOBase object, buffer.\n",
      " |  \n",
      " |  encoding gives the name of the encoding that the stream will be\n",
      " |  decoded or encoded with. It defaults to locale.getpreferredencoding(False).\n",
      " |  \n",
      " |  errors determines the strictness of encoding and decoding (see\n",
      " |  help(codecs.Codec) or the documentation for codecs.register) and\n",
      " |  defaults to \"strict\".\n",
      " |  \n",
      " |  newline controls how line endings are handled. It can be None, '',\n",
      " |  '\\n', '\\r', and '\\r\\n'.  It works as follows:\n",
      " |  \n",
      " |  * On input, if newline is None, universal newlines mode is\n",
      " |    enabled. Lines in the input can end in '\\n', '\\r', or '\\r\\n', and\n",
      " |    these are translated into '\\n' before being returned to the\n",
      " |    caller. If it is '', universal newline mode is enabled, but line\n",
      " |    endings are returned to the caller untranslated. If it has any of\n",
      " |    the other legal values, input lines are only terminated by the given\n",
      " |    string, and the line ending is returned to the caller untranslated.\n",
      " |  \n",
      " |  * On output, if newline is None, any '\\n' characters written are\n",
      " |    translated to the system default line separator, os.linesep. If\n",
      " |    newline is '' or '\\n', no translation takes place. If newline is any\n",
      " |    of the other legal values, any '\\n' characters written are translated\n",
      " |    to the given string.\n",
      " |  \n",
      " |  If line_buffering is True, a call to flush is implied when a call to\n",
      " |  write contains a newline character.\n",
      " |  \n",
      " |  Method resolution order:\n",
      " |      TextIOWrapper\n",
      " |      _TextIOBase\n",
      " |      _IOBase\n",
      " |      builtins.object\n",
      " |  \n",
      " |  Methods defined here:\n",
      " |  \n",
      " |  __init__(self, /, *args, **kwargs)\n",
      " |      Initialize self.  See help(type(self)) for accurate signature.\n",
      " |  \n",
      " |  __next__(self, /)\n",
      " |      Implement next(self).\n",
      " |  \n",
      " |  __repr__(self, /)\n",
      " |      Return repr(self).\n",
      " |  \n",
      " |  close(self, /)\n",
      " |      Flush and close the IO object.\n",
      " |      \n",
      " |      This method has no effect if the file is already closed.\n",
      " |  \n",
      " |  detach(self, /)\n",
      " |      Separate the underlying buffer from the TextIOBase and return it.\n",
      " |      \n",
      " |      After the underlying buffer has been detached, the TextIO is in an\n",
      " |      unusable state.\n",
      " |  \n",
      " |  fileno(self, /)\n",
      " |      Returns underlying file descriptor if one exists.\n",
      " |      \n",
      " |      OSError is raised if the IO object does not use a file descriptor.\n",
      " |  \n",
      " |  flush(self, /)\n",
      " |      Flush write buffers, if applicable.\n",
      " |      \n",
      " |      This is not implemented for read-only and non-blocking streams.\n",
      " |  \n",
      " |  isatty(self, /)\n",
      " |      Return whether this is an 'interactive' stream.\n",
      " |      \n",
      " |      Return False if it can't be determined.\n",
      " |  \n",
      " |  read(self, size=-1, /)\n",
      " |      Read at most n characters from stream.\n",
      " |      \n",
      " |      Read from underlying buffer until we have n characters or we hit EOF.\n",
      " |      If n is negative or omitted, read until EOF.\n",
      " |  \n",
      " |  readable(self, /)\n",
      " |      Return whether object was opened for reading.\n",
      " |      \n",
      " |      If False, read() will raise OSError.\n",
      " |  \n",
      " |  readline(self, size=-1, /)\n",
      " |      Read until newline or EOF.\n",
      " |      \n",
      " |      Returns an empty string if EOF is hit immediately.\n",
      " |  \n",
      " |  reconfigure(self, /, *, encoding=None, errors=None, newline=None, line_buffering=None, write_through=None)\n",
      " |      Reconfigure the text stream with new parameters.\n",
      " |      \n",
      " |      This also does an implicit stream flush.\n",
      " |  \n",
      " |  seek(self, cookie, whence=0, /)\n",
      " |      Change stream position.\n",
      " |      \n",
      " |      Change the stream position to the given byte offset. The offset is\n",
      " |      interpreted relative to the position indicated by whence.  Values\n",
      " |      for whence are:\n",
      " |      \n",
      " |      * 0 -- start of stream (the default); offset should be zero or positive\n",
      " |      * 1 -- current stream position; offset may be negative\n",
      " |      * 2 -- end of stream; offset is usually negative\n",
      " |      \n",
      " |      Return the new absolute position.\n",
      " |  \n",
      " |  seekable(self, /)\n",
      " |      Return whether object supports random access.\n",
      " |      \n",
      " |      If False, seek(), tell() and truncate() will raise OSError.\n",
      " |      This method may need to do a test seek().\n",
      " |  \n",
      " |  tell(self, /)\n",
      " |      Return current stream position.\n",
      " |  \n",
      " |  truncate(self, pos=None, /)\n",
      " |      Truncate file to size bytes.\n",
      " |      \n",
      " |      File pointer is left unchanged.  Size defaults to the current IO\n",
      " |      position as reported by tell().  Returns the new size.\n",
      " |  \n",
      " |  writable(self, /)\n",
      " |      Return whether object was opened for writing.\n",
      " |      \n",
      " |      If False, write() will raise OSError.\n",
      " |  \n",
      " |  write(self, text, /)\n",
      " |      Write string to stream.\n",
      " |      Returns the number of characters written (which is always equal to\n",
      " |      the length of the string).\n",
      " |  \n",
      " |  ----------------------------------------------------------------------\n",
      " |  Static methods defined here:\n",
      " |  \n",
      " |  __new__(*args, **kwargs) from builtins.type\n",
      " |      Create and return a new object.  See help(type) for accurate signature.\n",
      " |  \n",
      " |  ----------------------------------------------------------------------\n",
      " |  Data descriptors defined here:\n",
      " |  \n",
      " |  buffer\n",
      " |  \n",
      " |  closed\n",
      " |  \n",
      " |  encoding\n",
      " |      Encoding of the text stream.\n",
      " |      \n",
      " |      Subclasses should override.\n",
      " |  \n",
      " |  errors\n",
      " |      The error setting of the decoder or encoder.\n",
      " |      \n",
      " |      Subclasses should override.\n",
      " |  \n",
      " |  line_buffering\n",
      " |  \n",
      " |  name\n",
      " |  \n",
      " |  newlines\n",
      " |      Line endings translated so far.\n",
      " |      \n",
      " |      Only line endings translated during reading are considered.\n",
      " |      \n",
      " |      Subclasses should override.\n",
      " |  \n",
      " |  write_through\n",
      " |  \n",
      " |  ----------------------------------------------------------------------\n",
      " |  Methods inherited from _IOBase:\n",
      " |  \n",
      " |  __del__(...)\n",
      " |  \n",
      " |  __enter__(...)\n",
      " |  \n",
      " |  __exit__(...)\n",
      " |  \n",
      " |  __iter__(self, /)\n",
      " |      Implement iter(self).\n",
      " |  \n",
      " |  readlines(self, hint=-1, /)\n",
      " |      Return a list of lines from the stream.\n",
      " |      \n",
      " |      hint can be specified to control the number of lines read: no more\n",
      " |      lines will be read if the total size (in bytes/characters) of all\n",
      " |      lines so far exceeds hint.\n",
      " |  \n",
      " |  writelines(self, lines, /)\n",
      " |      Write a list of lines to stream.\n",
      " |      \n",
      " |      Line separators are not added, so it is usual for each of the\n",
      " |      lines provided to have a line separator at the end.\n",
      " |  \n",
      " |  ----------------------------------------------------------------------\n",
      " |  Data descriptors inherited from _IOBase:\n",
      " |  \n",
      " |  __dict__\n",
      "\n"
     ]
    }
   ],
   "source": [
    "help(file)"
   ]
  },
  {
   "cell_type": "code",
   "execution_count": 76,
   "id": "49d67702",
   "metadata": {},
   "outputs": [
    {
     "name": "stdout",
     "output_type": "stream",
     "text": [
      "This is an example file\n",
      "that we can experiment\n",
      "with.\n",
      "\n"
     ]
    }
   ],
   "source": [
    "data = file.read()\n",
    "\n",
    "print(data)"
   ]
  },
  {
   "cell_type": "code",
   "execution_count": null,
   "id": "18cc4463",
   "metadata": {},
   "outputs": [],
   "source": [
    "# it is good practice to close a file when you're done with it\n",
    "file.close()"
   ]
  },
  {
   "cell_type": "markdown",
   "id": "aa2648e9",
   "metadata": {},
   "source": [
    "### Automatically closing a file using `with`"
   ]
  },
  {
   "cell_type": "code",
   "execution_count": 77,
   "id": "131a31b0",
   "metadata": {},
   "outputs": [
    {
     "name": "stdout",
     "output_type": "stream",
     "text": [
      "This is an example file\n",
      "that we can experiment\n",
      "with.\n",
      "\n"
     ]
    }
   ],
   "source": [
    "with open(fname) as file:\n",
    "    data = file.read()\n",
    "\n",
    "# file is closed when the `with` block ends\n",
    "\n",
    "print(data)"
   ]
  },
  {
   "cell_type": "code",
   "execution_count": 79,
   "id": "22e834d4",
   "metadata": {},
   "outputs": [
    {
     "name": "stdout",
     "output_type": "stream",
     "text": [
      "> This is an example file\n",
      "> that we can experiment\n",
      "> with.\n"
     ]
    }
   ],
   "source": [
    "# We can iterate a file line by line\n",
    "\n",
    "with open(fname) as file:\n",
    "    \n",
    "    for line in file:\n",
    "        line = line.strip()\n",
    "        print(\">\", line)\n",
    "        "
   ]
  },
  {
   "cell_type": "markdown",
   "id": "62b72ef7",
   "metadata": {},
   "source": [
    "### Writing a file\n",
    "\n",
    "Note: it is **important** to **close a file** after writing is finished. The `with` command does it automatically."
   ]
  },
  {
   "cell_type": "code",
   "execution_count": 83,
   "id": "0790474f",
   "metadata": {},
   "outputs": [],
   "source": [
    "fname_out = \"test123.txt\"\n",
    "\n",
    "text = \"\"\"\n",
    "This is an example text string.\n",
    "\n",
    "f.write(string) writes the contents of string to the file, returning the number of characters written.\n",
    "\"\"\"\n",
    "\n",
    "with open(fname_out, \"w\", encoding=\"utf-8\") as file_out:\n",
    "    \n",
    "    file_out.write(text)\n",
    "    \n",
    "    file_out.write(str(123) + \"\\n\")\n",
    "    file_out.write(str(456) + \"\\n\")    "
   ]
  },
  {
   "cell_type": "code",
   "execution_count": null,
   "id": "152d4f2b",
   "metadata": {},
   "outputs": [],
   "source": []
  },
  {
   "cell_type": "code",
   "execution_count": 84,
   "id": "008acffd",
   "metadata": {},
   "outputs": [
    {
     "name": "stdout",
     "output_type": "stream",
     "text": [
      "\n",
      "This is an example text string.\n",
      "\n",
      "f.write(string) writes the contents of string to the file, returning the number of characters written.\n",
      "123\n",
      "456\n",
      "\n"
     ]
    }
   ],
   "source": [
    "# Read a file to see what was written to it\n",
    "\n",
    "def read_file(fname):\n",
    "\n",
    "    with open(fname) as file:\n",
    "        data = file.read()\n",
    "        print(data)\n",
    "        \n",
    "read_file(fname_out)"
   ]
  },
  {
   "cell_type": "code",
   "execution_count": 85,
   "id": "0278bc2c",
   "metadata": {},
   "outputs": [],
   "source": [
    "# You can also use print() to write to a file\n",
    "\n",
    "with open(fname_out, \"w\", encoding=\"utf-8\") as file_out:\n",
    "\n",
    "    print(text, file=file_out)\n",
    "    print(str(123), file=file_out)\n",
    "    print(str(789), file=file_out)"
   ]
  },
  {
   "cell_type": "code",
   "execution_count": 86,
   "id": "b1fb53cf",
   "metadata": {},
   "outputs": [
    {
     "name": "stdout",
     "output_type": "stream",
     "text": [
      "\n",
      "This is an example text string.\n",
      "\n",
      "f.write(string) writes the contents of string to the file, returning the number of characters written.\n",
      "\n",
      "123\n",
      "789\n",
      "\n"
     ]
    }
   ],
   "source": [
    "read_file(fname_out)"
   ]
  },
  {
   "cell_type": "markdown",
   "id": "a62722e9",
   "metadata": {},
   "source": [
    "### CSV files\n",
    "\n",
    "- https://docs.python.org/3/library/csv.html\n",
    "- https://realpython.com/python-csv/\n",
    "\n",
    "Comma-Separated Values\n",
    "- rows of values (table cells) separated using a \",\" character (or using another separator)\n",
    "- ar komatu (vai citu atdalītāju) atdalītas vērtības\n"
   ]
  },
  {
   "cell_type": "code",
   "execution_count": 88,
   "id": "824b28c1",
   "metadata": {},
   "outputs": [],
   "source": [
    "# https://data.gov.lv/dati/lv/dataset/stacionaru-operativie-dati-par-covid19\n",
    "\n",
    "fname_csv = \"covidpatients.csv\""
   ]
  },
  {
   "cell_type": "code",
   "execution_count": 89,
   "id": "4232b2bd",
   "metadata": {},
   "outputs": [],
   "source": [
    "from itertools import islice"
   ]
  },
  {
   "cell_type": "code",
   "execution_count": 91,
   "id": "78b8477d",
   "metadata": {
    "scrolled": true
   },
   "outputs": [
    {
     "name": "stdout",
     "output_type": "stream",
     "text": [
      "Datums;ĀI kods;ĀI nosaukums;Kopā;Jauni;Pamata diagnoze;Blakus diagnoze;Smaga slimības gaita;t.sk. Invazīva MPV;Vidēja slimības gaita;Miruši;Izrakstīti;Pārvesti;t.sk. uz augstāka līmeņa;t.sk. uz zemāka līmeņa;t.sk. uz tāda paša līmeņa\n",
      "\n",
      "2022-02-01T00:00:00;320200001-01;Aizkraukles slimnīca;1;1;0;1;0;0;0;0;0;0;0;0;0\n",
      "\n",
      "2022-02-01T00:00:00;360200027-01;Alūksnes slimnīca;0;0;0;6;0;0;0;0;1;0;0;0;0\n",
      "\n",
      "2022-02-01T00:00:00;500200052-02;Balvu un Gulbenes slimnīcu apvienība;18;;12;6;2;0;16;1;1;0;0;0;0\n",
      "\n",
      "2022-02-01T00:00:00;400200024-01;Bauskas slimnīca;2;0;4;0;0;0;4;0;1;0;0;0;0\n",
      "\n",
      "2022-02-01T00:00:00;010011804-01;Bērnu klīniskā universitātes slimnīca;9;5;6;3;;;9;;9;;;;2\n",
      "\n",
      "2022-02-01T00:00:00;661400011-01;Bērnu psihoneiroloģiskā slimnīca \"Ainaži\";2;1;0;1;0;0;0;0;0;0;0;0;0\n",
      "\n",
      "2022-02-01T00:00:00;420200052-01;Cēsu klīnika;11;2;11;0;1;1;8;0;0;0;0;;0\n",
      "\n",
      "2022-02-01T00:00:00;050012101-01;Daugavpils psihoneiroloģiskā slimnīca;6;1;3;3;0;0;1;0;0;1;0;0;1\n",
      "\n",
      "2022-02-01T00:00:00;050012101-02;Daugavpils psihoneiroloģiskās slimnīcas Aknīstes slimnīca;1;0;;1;;;1;;;;;;\n",
      "\n"
     ]
    }
   ],
   "source": [
    "with open(fname_csv, encoding=\"utf-8\") as file_csv:\n",
    "    \n",
    "    first_10_rows = islice(file_csv, 10)\n",
    "    \n",
    "    for line in first_10_rows:\n",
    "        print(line)"
   ]
  },
  {
   "cell_type": "code",
   "execution_count": null,
   "id": "2b05f444",
   "metadata": {},
   "outputs": [],
   "source": [
    "# A-ha! This time \";\" is the separator character"
   ]
  },
  {
   "cell_type": "code",
   "execution_count": 93,
   "id": "59f40212",
   "metadata": {},
   "outputs": [
    {
     "name": "stdout",
     "output_type": "stream",
     "text": [
      "['Datums;ĀI kods;ĀI nosaukums;Kopā;Jauni;Pamata diagnoze;Blakus diagnoze;Smaga slimības gaita;t.sk. Invazīva MPV;Vidēja slimības gaita;Miruši;Izrakstīti;Pārvesti;t.sk. uz augstāka līmeņa;t.sk. uz zemāka līmeņa;t.sk. uz tāda paša līmeņa']\n",
      "['2022-02-01T00:00:00;320200001-01;Aizkraukles slimnīca;1;1;0;1;0;0;0;0;0;0;0;0;0']\n",
      "['2022-02-01T00:00:00;360200027-01;Alūksnes slimnīca;0;0;0;6;0;0;0;0;1;0;0;0;0']\n",
      "['2022-02-01T00:00:00;500200052-02;Balvu un Gulbenes slimnīcu apvienība;18;;12;6;2;0;16;1;1;0;0;0;0']\n",
      "['2022-02-01T00:00:00;400200024-01;Bauskas slimnīca;2;0;4;0;0;0;4;0;1;0;0;0;0']\n",
      "['2022-02-01T00:00:00;010011804-01;Bērnu klīniskā universitātes slimnīca;9;5;6;3;;;9;;9;;;;2']\n",
      "['2022-02-01T00:00:00;661400011-01;Bērnu psihoneiroloģiskā slimnīca \"Ainaži\";2;1;0;1;0;0;0;0;0;0;0;0;0']\n",
      "['2022-02-01T00:00:00;420200052-01;Cēsu klīnika;11;2;11;0;1;1;8;0;0;0;0;;0']\n",
      "['2022-02-01T00:00:00;050012101-01;Daugavpils psihoneiroloģiskā slimnīca;6;1;3;3;0;0;1;0;0;1;0;0;1']\n",
      "['2022-02-01T00:00:00;050012101-02;Daugavpils psihoneiroloģiskās slimnīcas Aknīstes slimnīca;1;0;;1;;;1;;;;;;']\n"
     ]
    }
   ],
   "source": [
    "# Let's read it as a CSV file\n",
    "\n",
    "import csv\n",
    "\n",
    "with open(fname_csv, encoding=\"utf-8\") as file_csv:\n",
    "    \n",
    "    rdr = csv.reader(file_csv)\n",
    "    \n",
    "    rdr_10_rows = islice(rdr, 10)\n",
    "    \n",
    "    for row in rdr_10_rows:\n",
    "        print(row)\n",
    "        "
   ]
  },
  {
   "cell_type": "code",
   "execution_count": 94,
   "id": "f0046e16",
   "metadata": {
    "scrolled": true
   },
   "outputs": [
    {
     "name": "stdout",
     "output_type": "stream",
     "text": [
      "['Datums', 'ĀI kods', 'ĀI nosaukums', 'Kopā', 'Jauni', 'Pamata diagnoze', 'Blakus diagnoze', 'Smaga slimības gaita', 't.sk. Invazīva MPV', 'Vidēja slimības gaita', 'Miruši', 'Izrakstīti', 'Pārvesti', 't.sk. uz augstāka līmeņa', 't.sk. uz zemāka līmeņa', 't.sk. uz tāda paša līmeņa']\n",
      "['2022-02-01T00:00:00', '320200001-01', 'Aizkraukles slimnīca', '1', '1', '0', '1', '0', '0', '0', '0', '0', '0', '0', '0', '0']\n",
      "['2022-02-01T00:00:00', '360200027-01', 'Alūksnes slimnīca', '0', '0', '0', '6', '0', '0', '0', '0', '1', '0', '0', '0', '0']\n",
      "['2022-02-01T00:00:00', '500200052-02', 'Balvu un Gulbenes slimnīcu apvienība', '18', '', '12', '6', '2', '0', '16', '1', '1', '0', '0', '0', '0']\n",
      "['2022-02-01T00:00:00', '400200024-01', 'Bauskas slimnīca', '2', '0', '4', '0', '0', '0', '4', '0', '1', '0', '0', '0', '0']\n",
      "['2022-02-01T00:00:00', '010011804-01', 'Bērnu klīniskā universitātes slimnīca', '9', '5', '6', '3', '', '', '9', '', '9', '', '', '', '2']\n",
      "['2022-02-01T00:00:00', '661400011-01', 'Bērnu psihoneiroloģiskā slimnīca \"Ainaži\"', '2', '1', '0', '1', '0', '0', '0', '0', '0', '0', '0', '0', '0']\n",
      "['2022-02-01T00:00:00', '420200052-01', 'Cēsu klīnika', '11', '2', '11', '0', '1', '1', '8', '0', '0', '0', '0', '', '0']\n",
      "['2022-02-01T00:00:00', '050012101-01', 'Daugavpils psihoneiroloģiskā slimnīca', '6', '1', '3', '3', '0', '0', '1', '0', '0', '1', '0', '0', '1']\n",
      "['2022-02-01T00:00:00', '050012101-02', 'Daugavpils psihoneiroloģiskās slimnīcas Aknīstes slimnīca', '1', '0', '', '1', '', '', '1', '', '', '', '', '', '']\n"
     ]
    }
   ],
   "source": [
    "# Separator is \";\"\n",
    "\n",
    "data = []\n",
    "\n",
    "with open(fname_csv, encoding=\"utf-8\") as file_csv:\n",
    "    \n",
    "    rdr = csv.reader(file_csv, delimiter=\";\")\n",
    "    \n",
    "    rdr_10_rows = islice(rdr, 10)\n",
    "    \n",
    "    for row in rdr_10_rows:\n",
    "        print(row)\n",
    "        data.append(row)\n",
    "    "
   ]
  },
  {
   "cell_type": "code",
   "execution_count": 96,
   "id": "a3eb9fc9",
   "metadata": {},
   "outputs": [
    {
     "data": {
      "text/plain": [
       "'ĀI nosaukums'"
      ]
     },
     "execution_count": 96,
     "metadata": {},
     "output_type": "execute_result"
    }
   ],
   "source": [
    "data[0][2]"
   ]
  },
  {
   "cell_type": "code",
   "execution_count": 97,
   "id": "8314feea",
   "metadata": {},
   "outputs": [
    {
     "data": {
      "text/plain": [
       "'Aizkraukles slimnīca'"
      ]
     },
     "execution_count": 97,
     "metadata": {},
     "output_type": "execute_result"
    }
   ],
   "source": [
    "data[1][2]"
   ]
  },
  {
   "cell_type": "code",
   "execution_count": 98,
   "id": "fa233f53",
   "metadata": {},
   "outputs": [
    {
     "name": "stdout",
     "output_type": "stream",
     "text": [
      "[['Datums',\n",
      "  'ĀI kods',\n",
      "  'ĀI nosaukums',\n",
      "  'Kopā',\n",
      "  'Jauni',\n",
      "  'Pamata diagnoze',\n",
      "  'Blakus diagnoze',\n",
      "  'Smaga slimības gaita',\n",
      "  't.sk. Invazīva MPV',\n",
      "  'Vidēja slimības gaita',\n",
      "  'Miruši',\n",
      "  'Izrakstīti',\n",
      "  'Pārvesti',\n",
      "  't.sk. uz augstāka līmeņa',\n",
      "  't.sk. uz zemāka līmeņa',\n",
      "  't.sk. uz tāda paša līmeņa'],\n",
      " ['2022-02-01T00:00:00',\n",
      "  '320200001-01',\n",
      "  'Aizkraukles slimnīca',\n",
      "  '1',\n",
      "  '1',\n",
      "  '0',\n",
      "  '1',\n",
      "  '0',\n",
      "  '0',\n",
      "  '0',\n",
      "  '0',\n",
      "  '0',\n",
      "  '0',\n",
      "  '0',\n",
      "  '0',\n",
      "  '0'],\n",
      " ['2022-02-01T00:00:00',\n",
      "  '360200027-01',\n",
      "  'Alūksnes slimnīca',\n",
      "  '0',\n",
      "  '0',\n",
      "  '0',\n",
      "  '6',\n",
      "  '0',\n",
      "  '0',\n",
      "  '0',\n",
      "  '0',\n",
      "  '1',\n",
      "  '0',\n",
      "  '0',\n",
      "  '0',\n",
      "  '0'],\n",
      " ['2022-02-01T00:00:00',\n",
      "  '500200052-02',\n",
      "  'Balvu un Gulbenes slimnīcu apvienība',\n",
      "  '18',\n",
      "  '',\n",
      "  '12',\n",
      "  '6',\n",
      "  '2',\n",
      "  '0',\n",
      "  '16',\n",
      "  '1',\n",
      "  '1',\n",
      "  '0',\n",
      "  '0',\n",
      "  '0',\n",
      "  '0'],\n",
      " ['2022-02-01T00:00:00',\n",
      "  '400200024-01',\n",
      "  'Bauskas slimnīca',\n",
      "  '2',\n",
      "  '0',\n",
      "  '4',\n",
      "  '0',\n",
      "  '0',\n",
      "  '0',\n",
      "  '4',\n",
      "  '0',\n",
      "  '1',\n",
      "  '0',\n",
      "  '0',\n",
      "  '0',\n",
      "  '0'],\n",
      " ['2022-02-01T00:00:00',\n",
      "  '010011804-01',\n",
      "  'Bērnu klīniskā universitātes slimnīca',\n",
      "  '9',\n",
      "  '5',\n",
      "  '6',\n",
      "  '3',\n",
      "  '',\n",
      "  '',\n",
      "  '9',\n",
      "  '',\n",
      "  '9',\n",
      "  '',\n",
      "  '',\n",
      "  '',\n",
      "  '2'],\n",
      " ['2022-02-01T00:00:00',\n",
      "  '661400011-01',\n",
      "  'Bērnu psihoneiroloģiskā slimnīca \"Ainaži\"',\n",
      "  '2',\n",
      "  '1',\n",
      "  '0',\n",
      "  '1',\n",
      "  '0',\n",
      "  '0',\n",
      "  '0',\n",
      "  '0',\n",
      "  '0',\n",
      "  '0',\n",
      "  '0',\n",
      "  '0',\n",
      "  '0'],\n",
      " ['2022-02-01T00:00:00',\n",
      "  '420200052-01',\n",
      "  'Cēsu klīnika',\n",
      "  '11',\n",
      "  '2',\n",
      "  '11',\n",
      "  '0',\n",
      "  '1',\n",
      "  '1',\n",
      "  '8',\n",
      "  '0',\n",
      "  '0',\n",
      "  '0',\n",
      "  '0',\n",
      "  '',\n",
      "  '0'],\n",
      " ['2022-02-01T00:00:00',\n",
      "  '050012101-01',\n",
      "  'Daugavpils psihoneiroloģiskā slimnīca',\n",
      "  '6',\n",
      "  '1',\n",
      "  '3',\n",
      "  '3',\n",
      "  '0',\n",
      "  '0',\n",
      "  '1',\n",
      "  '0',\n",
      "  '0',\n",
      "  '1',\n",
      "  '0',\n",
      "  '0',\n",
      "  '1'],\n",
      " ['2022-02-01T00:00:00',\n",
      "  '050012101-02',\n",
      "  'Daugavpils psihoneiroloģiskās slimnīcas Aknīstes slimnīca',\n",
      "  '1',\n",
      "  '0',\n",
      "  '',\n",
      "  '1',\n",
      "  '',\n",
      "  '',\n",
      "  '1',\n",
      "  '',\n",
      "  '',\n",
      "  '',\n",
      "  '',\n",
      "  '',\n",
      "  '']]\n"
     ]
    }
   ],
   "source": [
    "from pprint import pprint\n",
    "\n",
    "pprint(data)"
   ]
  },
  {
   "cell_type": "code",
   "execution_count": 101,
   "id": "66f667ec",
   "metadata": {},
   "outputs": [],
   "source": [
    "# Writing a CSV file\n",
    "\n",
    "fname_out = \"test_data.csv\"\n",
    "\n",
    "with open(fname_out, \"w\") as file_out:\n",
    "    \n",
    "    writer = csv.writer(file_out)\n",
    "    \n",
    "    for row in data:\n",
    "        writer.writerow(row)\n",
    "        "
   ]
  },
  {
   "cell_type": "code",
   "execution_count": 102,
   "id": "c872b26c",
   "metadata": {},
   "outputs": [
    {
     "name": "stdout",
     "output_type": "stream",
     "text": [
      "Datums,ĀI kods,ĀI nosaukums,Kopā,Jauni,Pamata diagnoze,Blakus diagnoze,Smaga slimības gaita,t.sk. Invazīva MPV,Vidēja slimības gaita,Miruši,Izrakstīti,Pārvesti,t.sk. uz augstāka līmeņa,t.sk. uz zemāka līmeņa,t.sk. uz tāda paša līmeņa\n",
      "\n",
      "2022-02-01T00:00:00,320200001-01,Aizkraukles slimnīca,1,1,0,1,0,0,0,0,0,0,0,0,0\n",
      "\n",
      "2022-02-01T00:00:00,360200027-01,Alūksnes slimnīca,0,0,0,6,0,0,0,0,1,0,0,0,0\n",
      "\n",
      "2022-02-01T00:00:00,500200052-02,Balvu un Gulbenes slimnīcu apvienība,18,,12,6,2,0,16,1,1,0,0,0,0\n",
      "\n",
      "2022-02-01T00:00:00,400200024-01,Bauskas slimnīca,2,0,4,0,0,0,4,0,1,0,0,0,0\n",
      "\n",
      "2022-02-01T00:00:00,010011804-01,Bērnu klīniskā universitātes slimnīca,9,5,6,3,,,9,,9,,,,2\n",
      "\n",
      "2022-02-01T00:00:00,661400011-01,\"Bērnu psihoneiroloģiskā slimnīca \"\"Ainaži\"\"\",2,1,0,1,0,0,0,0,0,0,0,0,0\n",
      "\n",
      "2022-02-01T00:00:00,420200052-01,Cēsu klīnika,11,2,11,0,1,1,8,0,0,0,0,,0\n",
      "\n",
      "2022-02-01T00:00:00,050012101-01,Daugavpils psihoneiroloģiskā slimnīca,6,1,3,3,0,0,1,0,0,1,0,0,1\n",
      "\n",
      "2022-02-01T00:00:00,050012101-02,Daugavpils psihoneiroloģiskās slimnīcas Aknīstes slimnīca,1,0,,1,,,1,,,,,,\n",
      "\n",
      "\n"
     ]
    }
   ],
   "source": [
    "read_file(fname_out)"
   ]
  },
  {
   "cell_type": "markdown",
   "id": "7312f5d8",
   "metadata": {},
   "source": [
    "### Reading files using Pandas\n",
    "\n",
    "- https://realpython.com/python-csv/#parsing-csv-files-with-the-pandas-library\n",
    "\n",
    "- https://pandas.pydata.org/docs/reference/api/pandas.read_csv.html\n",
    "- https://pandas.pydata.org/docs/reference/api/pandas.DataFrame.to_csv.html#pandas.DataFrame.to_csv"
   ]
  },
  {
   "cell_type": "code",
   "execution_count": 103,
   "id": "d7a66a70",
   "metadata": {},
   "outputs": [],
   "source": [
    "import pandas as pd"
   ]
  },
  {
   "cell_type": "code",
   "execution_count": 104,
   "id": "a281ac25",
   "metadata": {},
   "outputs": [
    {
     "name": "stdout",
     "output_type": "stream",
     "text": [
      "data/covidpatients.csv\n"
     ]
    }
   ],
   "source": [
    "print(fname_csv)"
   ]
  },
  {
   "cell_type": "code",
   "execution_count": 105,
   "id": "274ec9f8",
   "metadata": {},
   "outputs": [
    {
     "data": {
      "text/html": [
       "<div>\n",
       "<style scoped>\n",
       "    .dataframe tbody tr th:only-of-type {\n",
       "        vertical-align: middle;\n",
       "    }\n",
       "\n",
       "    .dataframe tbody tr th {\n",
       "        vertical-align: top;\n",
       "    }\n",
       "\n",
       "    .dataframe thead th {\n",
       "        text-align: right;\n",
       "    }\n",
       "</style>\n",
       "<table border=\"1\" class=\"dataframe\">\n",
       "  <thead>\n",
       "    <tr style=\"text-align: right;\">\n",
       "      <th></th>\n",
       "      <th>Datums</th>\n",
       "      <th>ĀI kods</th>\n",
       "      <th>ĀI nosaukums</th>\n",
       "      <th>Kopā</th>\n",
       "      <th>Jauni</th>\n",
       "      <th>Pamata diagnoze</th>\n",
       "      <th>Blakus diagnoze</th>\n",
       "      <th>Smaga slimības gaita</th>\n",
       "      <th>t.sk. Invazīva MPV</th>\n",
       "      <th>Vidēja slimības gaita</th>\n",
       "      <th>Miruši</th>\n",
       "      <th>Izrakstīti</th>\n",
       "      <th>Pārvesti</th>\n",
       "      <th>t.sk. uz augstāka līmeņa</th>\n",
       "      <th>t.sk. uz zemāka līmeņa</th>\n",
       "      <th>t.sk. uz tāda paša līmeņa</th>\n",
       "    </tr>\n",
       "  </thead>\n",
       "  <tbody>\n",
       "    <tr>\n",
       "      <th>0</th>\n",
       "      <td>2022-02-01T00:00:00</td>\n",
       "      <td>320200001-01</td>\n",
       "      <td>Aizkraukles slimnīca</td>\n",
       "      <td>1.0</td>\n",
       "      <td>1.0</td>\n",
       "      <td>0.0</td>\n",
       "      <td>1.0</td>\n",
       "      <td>0.0</td>\n",
       "      <td>0.0</td>\n",
       "      <td>0.0</td>\n",
       "      <td>0.0</td>\n",
       "      <td>0.0</td>\n",
       "      <td>0.0</td>\n",
       "      <td>0.0</td>\n",
       "      <td>0.0</td>\n",
       "      <td>0.0</td>\n",
       "    </tr>\n",
       "    <tr>\n",
       "      <th>1</th>\n",
       "      <td>2022-02-01T00:00:00</td>\n",
       "      <td>360200027-01</td>\n",
       "      <td>Alūksnes slimnīca</td>\n",
       "      <td>0.0</td>\n",
       "      <td>0.0</td>\n",
       "      <td>0.0</td>\n",
       "      <td>6.0</td>\n",
       "      <td>0.0</td>\n",
       "      <td>0.0</td>\n",
       "      <td>0.0</td>\n",
       "      <td>0.0</td>\n",
       "      <td>1.0</td>\n",
       "      <td>0.0</td>\n",
       "      <td>0.0</td>\n",
       "      <td>0.0</td>\n",
       "      <td>0.0</td>\n",
       "    </tr>\n",
       "    <tr>\n",
       "      <th>2</th>\n",
       "      <td>2022-02-01T00:00:00</td>\n",
       "      <td>500200052-02</td>\n",
       "      <td>Balvu un Gulbenes slimnīcu apvienība</td>\n",
       "      <td>18.0</td>\n",
       "      <td>NaN</td>\n",
       "      <td>12.0</td>\n",
       "      <td>6.0</td>\n",
       "      <td>2.0</td>\n",
       "      <td>0.0</td>\n",
       "      <td>16.0</td>\n",
       "      <td>1.0</td>\n",
       "      <td>1.0</td>\n",
       "      <td>0.0</td>\n",
       "      <td>0.0</td>\n",
       "      <td>0.0</td>\n",
       "      <td>0.0</td>\n",
       "    </tr>\n",
       "    <tr>\n",
       "      <th>3</th>\n",
       "      <td>2022-02-01T00:00:00</td>\n",
       "      <td>400200024-01</td>\n",
       "      <td>Bauskas slimnīca</td>\n",
       "      <td>2.0</td>\n",
       "      <td>0.0</td>\n",
       "      <td>4.0</td>\n",
       "      <td>0.0</td>\n",
       "      <td>0.0</td>\n",
       "      <td>0.0</td>\n",
       "      <td>4.0</td>\n",
       "      <td>0.0</td>\n",
       "      <td>1.0</td>\n",
       "      <td>0.0</td>\n",
       "      <td>0.0</td>\n",
       "      <td>0.0</td>\n",
       "      <td>0.0</td>\n",
       "    </tr>\n",
       "    <tr>\n",
       "      <th>4</th>\n",
       "      <td>2022-02-01T00:00:00</td>\n",
       "      <td>010011804-01</td>\n",
       "      <td>Bērnu klīniskā universitātes slimnīca</td>\n",
       "      <td>9.0</td>\n",
       "      <td>5.0</td>\n",
       "      <td>6.0</td>\n",
       "      <td>3.0</td>\n",
       "      <td>NaN</td>\n",
       "      <td>NaN</td>\n",
       "      <td>9.0</td>\n",
       "      <td>NaN</td>\n",
       "      <td>9.0</td>\n",
       "      <td>NaN</td>\n",
       "      <td>NaN</td>\n",
       "      <td>NaN</td>\n",
       "      <td>2.0</td>\n",
       "    </tr>\n",
       "    <tr>\n",
       "      <th>5</th>\n",
       "      <td>2022-02-01T00:00:00</td>\n",
       "      <td>661400011-01</td>\n",
       "      <td>Bērnu psihoneiroloģiskā slimnīca \"Ainaži\"</td>\n",
       "      <td>2.0</td>\n",
       "      <td>1.0</td>\n",
       "      <td>0.0</td>\n",
       "      <td>1.0</td>\n",
       "      <td>0.0</td>\n",
       "      <td>0.0</td>\n",
       "      <td>0.0</td>\n",
       "      <td>0.0</td>\n",
       "      <td>0.0</td>\n",
       "      <td>0.0</td>\n",
       "      <td>0.0</td>\n",
       "      <td>0.0</td>\n",
       "      <td>0.0</td>\n",
       "    </tr>\n",
       "    <tr>\n",
       "      <th>6</th>\n",
       "      <td>2022-02-01T00:00:00</td>\n",
       "      <td>420200052-01</td>\n",
       "      <td>Cēsu klīnika</td>\n",
       "      <td>11.0</td>\n",
       "      <td>2.0</td>\n",
       "      <td>11.0</td>\n",
       "      <td>0.0</td>\n",
       "      <td>1.0</td>\n",
       "      <td>1.0</td>\n",
       "      <td>8.0</td>\n",
       "      <td>0.0</td>\n",
       "      <td>0.0</td>\n",
       "      <td>0.0</td>\n",
       "      <td>0.0</td>\n",
       "      <td>NaN</td>\n",
       "      <td>0.0</td>\n",
       "    </tr>\n",
       "    <tr>\n",
       "      <th>7</th>\n",
       "      <td>2022-02-01T00:00:00</td>\n",
       "      <td>050012101-01</td>\n",
       "      <td>Daugavpils psihoneiroloģiskā slimnīca</td>\n",
       "      <td>6.0</td>\n",
       "      <td>1.0</td>\n",
       "      <td>3.0</td>\n",
       "      <td>3.0</td>\n",
       "      <td>0.0</td>\n",
       "      <td>0.0</td>\n",
       "      <td>1.0</td>\n",
       "      <td>0.0</td>\n",
       "      <td>0.0</td>\n",
       "      <td>1.0</td>\n",
       "      <td>0.0</td>\n",
       "      <td>0.0</td>\n",
       "      <td>1.0</td>\n",
       "    </tr>\n",
       "    <tr>\n",
       "      <th>8</th>\n",
       "      <td>2022-02-01T00:00:00</td>\n",
       "      <td>050012101-02</td>\n",
       "      <td>Daugavpils psihoneiroloģiskās slimnīcas Aknīst...</td>\n",
       "      <td>1.0</td>\n",
       "      <td>0.0</td>\n",
       "      <td>NaN</td>\n",
       "      <td>1.0</td>\n",
       "      <td>NaN</td>\n",
       "      <td>NaN</td>\n",
       "      <td>1.0</td>\n",
       "      <td>NaN</td>\n",
       "      <td>NaN</td>\n",
       "      <td>NaN</td>\n",
       "      <td>NaN</td>\n",
       "      <td>NaN</td>\n",
       "      <td>NaN</td>\n",
       "    </tr>\n",
       "    <tr>\n",
       "      <th>9</th>\n",
       "      <td>2022-02-01T00:00:00</td>\n",
       "      <td>050020401-01</td>\n",
       "      <td>Daugavpils reģionālā slimnīca</td>\n",
       "      <td>81.0</td>\n",
       "      <td>10.0</td>\n",
       "      <td>59.0</td>\n",
       "      <td>22.0</td>\n",
       "      <td>4.0</td>\n",
       "      <td>1.0</td>\n",
       "      <td>55.0</td>\n",
       "      <td>1.0</td>\n",
       "      <td>10.0</td>\n",
       "      <td>NaN</td>\n",
       "      <td>NaN</td>\n",
       "      <td>NaN</td>\n",
       "      <td>NaN</td>\n",
       "    </tr>\n",
       "  </tbody>\n",
       "</table>\n",
       "</div>"
      ],
      "text/plain": [
       "                Datums       ĀI kods  \\\n",
       "0  2022-02-01T00:00:00  320200001-01   \n",
       "1  2022-02-01T00:00:00  360200027-01   \n",
       "2  2022-02-01T00:00:00  500200052-02   \n",
       "3  2022-02-01T00:00:00  400200024-01   \n",
       "4  2022-02-01T00:00:00  010011804-01   \n",
       "5  2022-02-01T00:00:00  661400011-01   \n",
       "6  2022-02-01T00:00:00  420200052-01   \n",
       "7  2022-02-01T00:00:00  050012101-01   \n",
       "8  2022-02-01T00:00:00  050012101-02   \n",
       "9  2022-02-01T00:00:00  050020401-01   \n",
       "\n",
       "                                        ĀI nosaukums  Kopā  Jauni  \\\n",
       "0                               Aizkraukles slimnīca   1.0    1.0   \n",
       "1                                  Alūksnes slimnīca   0.0    0.0   \n",
       "2               Balvu un Gulbenes slimnīcu apvienība  18.0    NaN   \n",
       "3                                   Bauskas slimnīca   2.0    0.0   \n",
       "4              Bērnu klīniskā universitātes slimnīca   9.0    5.0   \n",
       "5          Bērnu psihoneiroloģiskā slimnīca \"Ainaži\"   2.0    1.0   \n",
       "6                                       Cēsu klīnika  11.0    2.0   \n",
       "7              Daugavpils psihoneiroloģiskā slimnīca   6.0    1.0   \n",
       "8  Daugavpils psihoneiroloģiskās slimnīcas Aknīst...   1.0    0.0   \n",
       "9                      Daugavpils reģionālā slimnīca  81.0   10.0   \n",
       "\n",
       "   Pamata diagnoze  Blakus diagnoze  Smaga slimības gaita  t.sk. Invazīva MPV  \\\n",
       "0              0.0              1.0                   0.0                 0.0   \n",
       "1              0.0              6.0                   0.0                 0.0   \n",
       "2             12.0              6.0                   2.0                 0.0   \n",
       "3              4.0              0.0                   0.0                 0.0   \n",
       "4              6.0              3.0                   NaN                 NaN   \n",
       "5              0.0              1.0                   0.0                 0.0   \n",
       "6             11.0              0.0                   1.0                 1.0   \n",
       "7              3.0              3.0                   0.0                 0.0   \n",
       "8              NaN              1.0                   NaN                 NaN   \n",
       "9             59.0             22.0                   4.0                 1.0   \n",
       "\n",
       "   Vidēja slimības gaita  Miruši  Izrakstīti  Pārvesti  \\\n",
       "0                    0.0     0.0         0.0       0.0   \n",
       "1                    0.0     0.0         1.0       0.0   \n",
       "2                   16.0     1.0         1.0       0.0   \n",
       "3                    4.0     0.0         1.0       0.0   \n",
       "4                    9.0     NaN         9.0       NaN   \n",
       "5                    0.0     0.0         0.0       0.0   \n",
       "6                    8.0     0.0         0.0       0.0   \n",
       "7                    1.0     0.0         0.0       1.0   \n",
       "8                    1.0     NaN         NaN       NaN   \n",
       "9                   55.0     1.0        10.0       NaN   \n",
       "\n",
       "   t.sk. uz augstāka līmeņa  t.sk. uz zemāka līmeņa  t.sk. uz tāda paša līmeņa  \n",
       "0                       0.0                     0.0                        0.0  \n",
       "1                       0.0                     0.0                        0.0  \n",
       "2                       0.0                     0.0                        0.0  \n",
       "3                       0.0                     0.0                        0.0  \n",
       "4                       NaN                     NaN                        2.0  \n",
       "5                       0.0                     0.0                        0.0  \n",
       "6                       0.0                     NaN                        0.0  \n",
       "7                       0.0                     0.0                        1.0  \n",
       "8                       NaN                     NaN                        NaN  \n",
       "9                       NaN                     NaN                        NaN  "
      ]
     },
     "execution_count": 105,
     "metadata": {},
     "output_type": "execute_result"
    }
   ],
   "source": [
    "dataframe = pd.read_csv(fname_csv, delimiter=\";\")\n",
    "\n",
    "dataframe[:10]"
   ]
  },
  {
   "cell_type": "code",
   "execution_count": 106,
   "id": "ed7c9cf6",
   "metadata": {},
   "outputs": [
    {
     "name": "stdout",
     "output_type": "stream",
     "text": [
      "<class 'pandas.core.frame.DataFrame'>\n",
      "RangeIndex: 7680 entries, 0 to 7679\n",
      "Data columns (total 16 columns):\n",
      " #   Column                     Non-Null Count  Dtype  \n",
      "---  ------                     --------------  -----  \n",
      " 0   Datums                     7680 non-null   object \n",
      " 1   ĀI kods                    7680 non-null   object \n",
      " 2   ĀI nosaukums               7680 non-null   object \n",
      " 3   Kopā                       7611 non-null   float64\n",
      " 4   Jauni                      6777 non-null   float64\n",
      " 5   Pamata diagnoze            6803 non-null   float64\n",
      " 6   Blakus diagnoze            7279 non-null   float64\n",
      " 7   Smaga slimības gaita       5747 non-null   float64\n",
      " 8   t.sk. Invazīva MPV         5626 non-null   float64\n",
      " 9   Vidēja slimības gaita      6592 non-null   float64\n",
      " 10  Miruši                     5624 non-null   float64\n",
      " 11  Izrakstīti                 6513 non-null   float64\n",
      " 12  Pārvesti                   5097 non-null   float64\n",
      " 13  t.sk. uz augstāka līmeņa   4591 non-null   float64\n",
      " 14  t.sk. uz zemāka līmeņa     4531 non-null   float64\n",
      " 15  t.sk. uz tāda paša līmeņa  4384 non-null   float64\n",
      "dtypes: float64(13), object(3)\n",
      "memory usage: 960.1+ KB\n"
     ]
    }
   ],
   "source": [
    "dataframe.info()"
   ]
  },
  {
   "cell_type": "code",
   "execution_count": 107,
   "id": "73371b09",
   "metadata": {},
   "outputs": [
    {
     "data": {
      "text/html": [
       "<div>\n",
       "<style scoped>\n",
       "    .dataframe tbody tr th:only-of-type {\n",
       "        vertical-align: middle;\n",
       "    }\n",
       "\n",
       "    .dataframe tbody tr th {\n",
       "        vertical-align: top;\n",
       "    }\n",
       "\n",
       "    .dataframe thead th {\n",
       "        text-align: right;\n",
       "    }\n",
       "</style>\n",
       "<table border=\"1\" class=\"dataframe\">\n",
       "  <thead>\n",
       "    <tr style=\"text-align: right;\">\n",
       "      <th></th>\n",
       "      <th>Datums</th>\n",
       "      <th>ĀI kods</th>\n",
       "      <th>ĀI nosaukums</th>\n",
       "      <th>Kopā</th>\n",
       "      <th>Jauni</th>\n",
       "      <th>Pamata diagnoze</th>\n",
       "      <th>Blakus diagnoze</th>\n",
       "      <th>Smaga slimības gaita</th>\n",
       "      <th>t.sk. Invazīva MPV</th>\n",
       "      <th>Vidēja slimības gaita</th>\n",
       "      <th>Miruši</th>\n",
       "      <th>Izrakstīti</th>\n",
       "      <th>Pārvesti</th>\n",
       "      <th>t.sk. uz augstāka līmeņa</th>\n",
       "      <th>t.sk. uz zemāka līmeņa</th>\n",
       "      <th>t.sk. uz tāda paša līmeņa</th>\n",
       "    </tr>\n",
       "  </thead>\n",
       "  <tbody>\n",
       "    <tr>\n",
       "      <th>0</th>\n",
       "      <td>2022-02-01T00:00:00</td>\n",
       "      <td>320200001-01</td>\n",
       "      <td>Aizkraukles slimnīca</td>\n",
       "      <td>1.0</td>\n",
       "      <td>1.0</td>\n",
       "      <td>0.0</td>\n",
       "      <td>1.0</td>\n",
       "      <td>0.0</td>\n",
       "      <td>0.0</td>\n",
       "      <td>0.0</td>\n",
       "      <td>0.0</td>\n",
       "      <td>0.0</td>\n",
       "      <td>0.0</td>\n",
       "      <td>0.0</td>\n",
       "      <td>0.0</td>\n",
       "      <td>0.0</td>\n",
       "    </tr>\n",
       "    <tr>\n",
       "      <th>1</th>\n",
       "      <td>2022-02-01T00:00:00</td>\n",
       "      <td>360200027-01</td>\n",
       "      <td>Alūksnes slimnīca</td>\n",
       "      <td>0.0</td>\n",
       "      <td>0.0</td>\n",
       "      <td>0.0</td>\n",
       "      <td>6.0</td>\n",
       "      <td>0.0</td>\n",
       "      <td>0.0</td>\n",
       "      <td>0.0</td>\n",
       "      <td>0.0</td>\n",
       "      <td>1.0</td>\n",
       "      <td>0.0</td>\n",
       "      <td>0.0</td>\n",
       "      <td>0.0</td>\n",
       "      <td>0.0</td>\n",
       "    </tr>\n",
       "    <tr>\n",
       "      <th>2</th>\n",
       "      <td>2022-02-01T00:00:00</td>\n",
       "      <td>500200052-02</td>\n",
       "      <td>Balvu un Gulbenes slimnīcu apvienība</td>\n",
       "      <td>18.0</td>\n",
       "      <td>NaN</td>\n",
       "      <td>12.0</td>\n",
       "      <td>6.0</td>\n",
       "      <td>2.0</td>\n",
       "      <td>0.0</td>\n",
       "      <td>16.0</td>\n",
       "      <td>1.0</td>\n",
       "      <td>1.0</td>\n",
       "      <td>0.0</td>\n",
       "      <td>0.0</td>\n",
       "      <td>0.0</td>\n",
       "      <td>0.0</td>\n",
       "    </tr>\n",
       "    <tr>\n",
       "      <th>3</th>\n",
       "      <td>2022-02-01T00:00:00</td>\n",
       "      <td>400200024-01</td>\n",
       "      <td>Bauskas slimnīca</td>\n",
       "      <td>2.0</td>\n",
       "      <td>0.0</td>\n",
       "      <td>4.0</td>\n",
       "      <td>0.0</td>\n",
       "      <td>0.0</td>\n",
       "      <td>0.0</td>\n",
       "      <td>4.0</td>\n",
       "      <td>0.0</td>\n",
       "      <td>1.0</td>\n",
       "      <td>0.0</td>\n",
       "      <td>0.0</td>\n",
       "      <td>0.0</td>\n",
       "      <td>0.0</td>\n",
       "    </tr>\n",
       "    <tr>\n",
       "      <th>4</th>\n",
       "      <td>2022-02-01T00:00:00</td>\n",
       "      <td>010011804-01</td>\n",
       "      <td>Bērnu klīniskā universitātes slimnīca</td>\n",
       "      <td>9.0</td>\n",
       "      <td>5.0</td>\n",
       "      <td>6.0</td>\n",
       "      <td>3.0</td>\n",
       "      <td>NaN</td>\n",
       "      <td>NaN</td>\n",
       "      <td>9.0</td>\n",
       "      <td>NaN</td>\n",
       "      <td>9.0</td>\n",
       "      <td>NaN</td>\n",
       "      <td>NaN</td>\n",
       "      <td>NaN</td>\n",
       "      <td>2.0</td>\n",
       "    </tr>\n",
       "  </tbody>\n",
       "</table>\n",
       "</div>"
      ],
      "text/plain": [
       "                Datums       ĀI kods                           ĀI nosaukums  \\\n",
       "0  2022-02-01T00:00:00  320200001-01                   Aizkraukles slimnīca   \n",
       "1  2022-02-01T00:00:00  360200027-01                      Alūksnes slimnīca   \n",
       "2  2022-02-01T00:00:00  500200052-02   Balvu un Gulbenes slimnīcu apvienība   \n",
       "3  2022-02-01T00:00:00  400200024-01                       Bauskas slimnīca   \n",
       "4  2022-02-01T00:00:00  010011804-01  Bērnu klīniskā universitātes slimnīca   \n",
       "\n",
       "   Kopā  Jauni  Pamata diagnoze  Blakus diagnoze  Smaga slimības gaita  \\\n",
       "0   1.0    1.0              0.0              1.0                   0.0   \n",
       "1   0.0    0.0              0.0              6.0                   0.0   \n",
       "2  18.0    NaN             12.0              6.0                   2.0   \n",
       "3   2.0    0.0              4.0              0.0                   0.0   \n",
       "4   9.0    5.0              6.0              3.0                   NaN   \n",
       "\n",
       "   t.sk. Invazīva MPV  Vidēja slimības gaita  Miruši  Izrakstīti  Pārvesti  \\\n",
       "0                 0.0                    0.0     0.0         0.0       0.0   \n",
       "1                 0.0                    0.0     0.0         1.0       0.0   \n",
       "2                 0.0                   16.0     1.0         1.0       0.0   \n",
       "3                 0.0                    4.0     0.0         1.0       0.0   \n",
       "4                 NaN                    9.0     NaN         9.0       NaN   \n",
       "\n",
       "   t.sk. uz augstāka līmeņa  t.sk. uz zemāka līmeņa  t.sk. uz tāda paša līmeņa  \n",
       "0                       0.0                     0.0                        0.0  \n",
       "1                       0.0                     0.0                        0.0  \n",
       "2                       0.0                     0.0                        0.0  \n",
       "3                       0.0                     0.0                        0.0  \n",
       "4                       NaN                     NaN                        2.0  "
      ]
     },
     "execution_count": 107,
     "metadata": {},
     "output_type": "execute_result"
    }
   ],
   "source": [
    "dataframe.head()"
   ]
  },
  {
   "cell_type": "code",
   "execution_count": 109,
   "id": "2a166103",
   "metadata": {},
   "outputs": [
    {
     "data": {
      "text/html": [
       "<div>\n",
       "<style scoped>\n",
       "    .dataframe tbody tr th:only-of-type {\n",
       "        vertical-align: middle;\n",
       "    }\n",
       "\n",
       "    .dataframe tbody tr th {\n",
       "        vertical-align: top;\n",
       "    }\n",
       "\n",
       "    .dataframe thead th {\n",
       "        text-align: right;\n",
       "    }\n",
       "</style>\n",
       "<table border=\"1\" class=\"dataframe\">\n",
       "  <thead>\n",
       "    <tr style=\"text-align: right;\">\n",
       "      <th></th>\n",
       "      <th>Datums</th>\n",
       "      <th>ĀI kods</th>\n",
       "      <th>ĀI nosaukums</th>\n",
       "      <th>Kopā</th>\n",
       "      <th>Jauni</th>\n",
       "      <th>Pamata diagnoze</th>\n",
       "      <th>Blakus diagnoze</th>\n",
       "      <th>Smaga slimības gaita</th>\n",
       "      <th>t.sk. Invazīva MPV</th>\n",
       "      <th>Vidēja slimības gaita</th>\n",
       "      <th>Miruši</th>\n",
       "      <th>Izrakstīti</th>\n",
       "      <th>Pārvesti</th>\n",
       "      <th>t.sk. uz augstāka līmeņa</th>\n",
       "      <th>t.sk. uz zemāka līmeņa</th>\n",
       "      <th>t.sk. uz tāda paša līmeņa</th>\n",
       "    </tr>\n",
       "  </thead>\n",
       "  <tbody>\n",
       "    <tr>\n",
       "      <th>2</th>\n",
       "      <td>2022-02-01T00:00:00</td>\n",
       "      <td>500200052-02</td>\n",
       "      <td>Balvu un Gulbenes slimnīcu apvienība</td>\n",
       "      <td>18.0</td>\n",
       "      <td>NaN</td>\n",
       "      <td>12.0</td>\n",
       "      <td>6.0</td>\n",
       "      <td>2.0</td>\n",
       "      <td>0.0</td>\n",
       "      <td>16.0</td>\n",
       "      <td>1.0</td>\n",
       "      <td>1.0</td>\n",
       "      <td>0.0</td>\n",
       "      <td>0.0</td>\n",
       "      <td>0.0</td>\n",
       "      <td>0.0</td>\n",
       "    </tr>\n",
       "    <tr>\n",
       "      <th>3</th>\n",
       "      <td>2022-02-01T00:00:00</td>\n",
       "      <td>400200024-01</td>\n",
       "      <td>Bauskas slimnīca</td>\n",
       "      <td>2.0</td>\n",
       "      <td>0.0</td>\n",
       "      <td>4.0</td>\n",
       "      <td>0.0</td>\n",
       "      <td>0.0</td>\n",
       "      <td>0.0</td>\n",
       "      <td>4.0</td>\n",
       "      <td>0.0</td>\n",
       "      <td>1.0</td>\n",
       "      <td>0.0</td>\n",
       "      <td>0.0</td>\n",
       "      <td>0.0</td>\n",
       "      <td>0.0</td>\n",
       "    </tr>\n",
       "  </tbody>\n",
       "</table>\n",
       "</div>"
      ],
      "text/plain": [
       "                Datums       ĀI kods                          ĀI nosaukums  \\\n",
       "2  2022-02-01T00:00:00  500200052-02  Balvu un Gulbenes slimnīcu apvienība   \n",
       "3  2022-02-01T00:00:00  400200024-01                      Bauskas slimnīca   \n",
       "\n",
       "   Kopā  Jauni  Pamata diagnoze  Blakus diagnoze  Smaga slimības gaita  \\\n",
       "2  18.0    NaN             12.0              6.0                   2.0   \n",
       "3   2.0    0.0              4.0              0.0                   0.0   \n",
       "\n",
       "   t.sk. Invazīva MPV  Vidēja slimības gaita  Miruši  Izrakstīti  Pārvesti  \\\n",
       "2                 0.0                   16.0     1.0         1.0       0.0   \n",
       "3                 0.0                    4.0     0.0         1.0       0.0   \n",
       "\n",
       "   t.sk. uz augstāka līmeņa  t.sk. uz zemāka līmeņa  t.sk. uz tāda paša līmeņa  \n",
       "2                       0.0                     0.0                        0.0  \n",
       "3                       0.0                     0.0                        0.0  "
      ]
     },
     "execution_count": 109,
     "metadata": {},
     "output_type": "execute_result"
    }
   ],
   "source": [
    "dataframe[2:4]"
   ]
  },
  {
   "cell_type": "code",
   "execution_count": 110,
   "id": "a9adbfe4",
   "metadata": {},
   "outputs": [
    {
     "data": {
      "text/html": [
       "<div>\n",
       "<style scoped>\n",
       "    .dataframe tbody tr th:only-of-type {\n",
       "        vertical-align: middle;\n",
       "    }\n",
       "\n",
       "    .dataframe tbody tr th {\n",
       "        vertical-align: top;\n",
       "    }\n",
       "\n",
       "    .dataframe thead th {\n",
       "        text-align: right;\n",
       "    }\n",
       "</style>\n",
       "<table border=\"1\" class=\"dataframe\">\n",
       "  <thead>\n",
       "    <tr style=\"text-align: right;\">\n",
       "      <th></th>\n",
       "      <th>ĀI nosaukums</th>\n",
       "      <th>Kopā</th>\n",
       "    </tr>\n",
       "  </thead>\n",
       "  <tbody>\n",
       "    <tr>\n",
       "      <th>0</th>\n",
       "      <td>Aizkraukles slimnīca</td>\n",
       "      <td>1.0</td>\n",
       "    </tr>\n",
       "    <tr>\n",
       "      <th>1</th>\n",
       "      <td>Alūksnes slimnīca</td>\n",
       "      <td>0.0</td>\n",
       "    </tr>\n",
       "    <tr>\n",
       "      <th>2</th>\n",
       "      <td>Balvu un Gulbenes slimnīcu apvienība</td>\n",
       "      <td>18.0</td>\n",
       "    </tr>\n",
       "    <tr>\n",
       "      <th>3</th>\n",
       "      <td>Bauskas slimnīca</td>\n",
       "      <td>2.0</td>\n",
       "    </tr>\n",
       "    <tr>\n",
       "      <th>4</th>\n",
       "      <td>Bērnu klīniskā universitātes slimnīca</td>\n",
       "      <td>9.0</td>\n",
       "    </tr>\n",
       "    <tr>\n",
       "      <th>5</th>\n",
       "      <td>Bērnu psihoneiroloģiskā slimnīca \"Ainaži\"</td>\n",
       "      <td>2.0</td>\n",
       "    </tr>\n",
       "    <tr>\n",
       "      <th>6</th>\n",
       "      <td>Cēsu klīnika</td>\n",
       "      <td>11.0</td>\n",
       "    </tr>\n",
       "    <tr>\n",
       "      <th>7</th>\n",
       "      <td>Daugavpils psihoneiroloģiskā slimnīca</td>\n",
       "      <td>6.0</td>\n",
       "    </tr>\n",
       "    <tr>\n",
       "      <th>8</th>\n",
       "      <td>Daugavpils psihoneiroloģiskās slimnīcas Aknīst...</td>\n",
       "      <td>1.0</td>\n",
       "    </tr>\n",
       "    <tr>\n",
       "      <th>9</th>\n",
       "      <td>Daugavpils reģionālā slimnīca</td>\n",
       "      <td>81.0</td>\n",
       "    </tr>\n",
       "  </tbody>\n",
       "</table>\n",
       "</div>"
      ],
      "text/plain": [
       "                                        ĀI nosaukums  Kopā\n",
       "0                               Aizkraukles slimnīca   1.0\n",
       "1                                  Alūksnes slimnīca   0.0\n",
       "2               Balvu un Gulbenes slimnīcu apvienība  18.0\n",
       "3                                   Bauskas slimnīca   2.0\n",
       "4              Bērnu klīniskā universitātes slimnīca   9.0\n",
       "5          Bērnu psihoneiroloģiskā slimnīca \"Ainaži\"   2.0\n",
       "6                                       Cēsu klīnika  11.0\n",
       "7              Daugavpils psihoneiroloģiskā slimnīca   6.0\n",
       "8  Daugavpils psihoneiroloģiskās slimnīcas Aknīst...   1.0\n",
       "9                      Daugavpils reģionālā slimnīca  81.0"
      ]
     },
     "execution_count": 110,
     "metadata": {},
     "output_type": "execute_result"
    }
   ],
   "source": [
    "df2 = dataframe[[\"ĀI nosaukums\", \"Kopā\"]]\n",
    "\n",
    "df2[:10]"
   ]
  },
  {
   "cell_type": "code",
   "execution_count": 111,
   "id": "78af64e9",
   "metadata": {},
   "outputs": [
    {
     "data": {
      "text/plain": [
       "115262.0"
      ]
     },
     "execution_count": 111,
     "metadata": {},
     "output_type": "execute_result"
    }
   ],
   "source": [
    "dataframe[\"Kopā\"].sum()"
   ]
  },
  {
   "cell_type": "code",
   "execution_count": 112,
   "id": "c81540cf",
   "metadata": {},
   "outputs": [],
   "source": [
    "# Writing to a CSV file\n",
    "\n",
    "fname_out_pandas = \"test_pandas.csv\"\n",
    "df2.to_csv(fname_out_pandas)"
   ]
  },
  {
   "cell_type": "code",
   "execution_count": 114,
   "id": "55b3e27c",
   "metadata": {},
   "outputs": [
    {
     "name": "stdout",
     "output_type": "stream",
     "text": [
      ",ĀI nosaukums,Kopā\n",
      "0,Aizkraukles slimnīca,1.0\n",
      "1,Alūksnes slimnīca,0.0\n",
      "2,Balvu un Gulbenes slimnīcu apvienība,18.0\n",
      "3,Bauskas slimnīca,2.0\n",
      "4,Bērnu klīniskā universitātes slimnīca,9.0\n",
      "5,\"Bērnu psihoneiroloģiskā slimnīca \"\"Ainaži\"\"\",2.0\n",
      "6,Cēsu klīnika,11.0\n",
      "7,Daugavpils psihoneiroloģiskā slimnīca,6.0\n",
      "8,Daugavpils psihoneiroloģiskās slimnīcas Aknīstes slimnīca,1.0\n"
     ]
    }
   ],
   "source": [
    "# Print contents of the CSV file\n",
    "\n",
    "with open(fname_out_pandas, encoding=\"utf-8\") as in_file:\n",
    "    \n",
    "    data = islice(in_file, 10)\n",
    "    \n",
    "    for line in data:\n",
    "        print(line, end=\"\")"
   ]
  },
  {
   "cell_type": "code",
   "execution_count": null,
   "id": "a1b3b9da",
   "metadata": {},
   "outputs": [],
   "source": []
  },
  {
   "cell_type": "markdown",
   "id": "22c68d9e",
   "metadata": {},
   "source": [
    "### Path operations\n",
    "\n",
    "- https://realpython.com/python-pathlib/\n",
    "- https://automatetheboringstuff.com/2e/chapter9/"
   ]
  },
  {
   "cell_type": "code",
   "execution_count": null,
   "id": "006e2a4a",
   "metadata": {},
   "outputs": [],
   "source": []
  }
 ],
 "metadata": {
  "kernelspec": {
   "display_name": "Python 3 (ipykernel)",
   "language": "python",
   "name": "python3"
  },
  "language_info": {
   "codemirror_mode": {
    "name": "ipython",
    "version": 3
   },
   "file_extension": ".py",
   "mimetype": "text/x-python",
   "name": "python",
   "nbconvert_exporter": "python",
   "pygments_lexer": "ipython3",
   "version": "3.7.15"
  }
 },
 "nbformat": 4,
 "nbformat_minor": 5
}
